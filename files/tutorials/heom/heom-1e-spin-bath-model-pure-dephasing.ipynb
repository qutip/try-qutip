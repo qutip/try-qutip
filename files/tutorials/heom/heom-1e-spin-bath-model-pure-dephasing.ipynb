{
 "cells": [
  {
   "cell_type": "markdown",
   "id": "3577e78a",
   "metadata": {},
   "source": [
    "# HEOM 1e: Spin-Bath model (pure dephasing)"
   ]
  },
  {
   "cell_type": "markdown",
   "id": "4cef3bb8",
   "metadata": {},
   "source": [
    "## Introduction\n",
    "\n",
    "The HEOM method solves the dynamics and steady state of a system and its environment, the latter of which is encoded in a set of auxiliary density matrices.\n",
    "\n",
    "In this example we show the evolution of a single two-level system in contact with a single Bosonic environment.  The properties of the system are encoded in Hamiltonian, and a coupling operator which describes how it is coupled to the environment.\n",
    "\n",
    "The Bosonic environment is implicitly assumed to obey a particular Hamiltonian (see paper), the parameters of which are encoded in the spectral density, and subsequently the free-bath correlation functions.\n",
    "\n",
    "In the example below we show how to model the overdamped Drude-Lorentz Spectral Density, commonly used with the HEOM. We show how to do the Matsubara and Pade analytical decompositions, as well as how to fit the latter with a finite set of approximate exponentials.  This differs from examble 1a in that we assume that the system and coupling parts of the Hamiltonian commute, hence giving an analytically solvable ''pure dephasing'' model. This is a useful example to look at when introducing other approximations  (e.g., fitting of correlation functions) to check for validity/convergence against the analytical results.  (Note that, generally, for the fitting examples, the pure dephasing model is the 'worst possible case'.  \n",
    "\n",
    "### Drude-Lorentz spectral density\n",
    "\n",
    "The Drude-Lorentz spectral density is:\n",
    "\n",
    "$$J(\\omega)=\\omega \\frac{2\\lambda\\gamma}{{\\gamma}^2 + \\omega^2}$$\n",
    "\n",
    "where $\\lambda$ scales the coupling strength, and $\\gamma$ is the cut-off frequency.\n",
    "We use the convention,\n",
    "\\begin{equation*}\n",
    "C(t) = \\int_0^{\\infty} d\\omega \\frac{J_D(\\omega)}{\\pi}[\\coth(\\beta\\omega) \\cos(\\omega \\tau) - i \\sin(\\omega \\tau)]\n",
    "\\end{equation*}\n",
    "\n",
    "With the HEOM we must use an exponential decomposition:\n",
    "\n",
    "\\begin{equation*}\n",
    "C(t)=\\sum_{k=0}^{k=\\infty} c_k e^{-\\nu_k t}\n",
    "\\end{equation*}\n",
    "\n",
    "The Matsubara decomposition of the Drude-Lorentz spectral density is given by:\n",
    "\n",
    "\\begin{equation*}\n",
    "    \\nu_k = \\begin{cases}\n",
    "               \\gamma               & k = 0\\\\\n",
    "               {2 \\pi k} / {\\beta \\hbar}  & k \\geq 1\\\\\n",
    "           \\end{cases}\n",
    "\\end{equation*}\n",
    "\n",
    "\\begin{equation*}\n",
    "    c_k = \\begin{cases}\n",
    "               \\lambda \\gamma (\\cot(\\beta \\gamma / 2) - i) / \\hbar               & k = 0\\\\\n",
    "               4 \\lambda \\gamma \\nu_k / \\{(nu_k^2 - \\gamma^2)\\beta \\hbar^2 \\}    & k \\geq 1\\\\\n",
    "           \\end{cases}\n",
    "\\end{equation*}\n",
    "\n",
    "Note that in the above, and the following, we set $\\hbar = k_\\mathrm{B} = 1$."
   ]
  },
  {
   "cell_type": "markdown",
   "id": "88cba3f1",
   "metadata": {},
   "source": [
    "## Setup"
   ]
  },
  {
   "cell_type": "code",
   "execution_count": null,
   "id": "0c9ba48e",
   "metadata": {},
   "outputs": [],
   "source": [
    "import contextlib\n",
    "import time\n",
    "\n",
    "import numpy as np\n",
    "from matplotlib import pyplot as plt\n",
    "import scipy\n",
    "from scipy.optimize import curve_fit\n",
    "\n",
    "import qutip\n",
    "from qutip import (\n",
    "    basis,\n",
    "    expect,\n",
    "    liouvillian,\n",
    "    sigmax,\n",
    "    sigmaz,\n",
    ")\n",
    "from qutip.solver.heom import (\n",
    "    HEOMSolver,\n",
    "    BosonicBath,\n",
    "    DrudeLorentzBath,\n",
    "    DrudeLorentzPadeBath,\n",
    ")\n",
    "\n",
    "%matplotlib inline"
   ]
  },
  {
   "cell_type": "markdown",
   "id": "1b02002d",
   "metadata": {},
   "source": [
    "## Helper functions\n",
    "\n",
    "Let's define some helper functions for calculating correlation function expansions, plotting results and timing how long operations take:"
   ]
  },
  {
   "cell_type": "code",
   "execution_count": null,
   "id": "2bfcd3d2",
   "metadata": {},
   "outputs": [],
   "source": [
    "def cot(x):\n",
    "    \"\"\" Vectorized cotangent of x. \"\"\"\n",
    "    return 1. / np.tan(x)\n",
    "\n",
    "\n",
    "def coth(x):\n",
    "    \"\"\" Vectorized hyperbolic cotangent of x. \"\"\"\n",
    "    return 1. / np.tanh(x)"
   ]
  },
  {
   "cell_type": "code",
   "execution_count": null,
   "id": "0496b618",
   "metadata": {},
   "outputs": [],
   "source": [
    "def plot_result_expectations(plots, axes=None):\n",
    "    \"\"\" Plot the expectation values of operators as functions of time.\n",
    "\n",
    "        Each plot in plots consists of (solver_result, measurement_operation,\n",
    "        color, label).\n",
    "    \"\"\"\n",
    "    if axes is None:\n",
    "        fig, axes = plt.subplots(1, 1, sharex=True, figsize=(8, 8))\n",
    "        fig_created = True\n",
    "    else:\n",
    "        fig = None\n",
    "        fig_created = False\n",
    "\n",
    "    # add kw arguments to each plot if missing\n",
    "    plots = [p if len(p) == 5 else p + ({},) for p in plots]\n",
    "    for result, m_op, color, label, kw in plots:\n",
    "        if m_op is None:\n",
    "            t, exp = result\n",
    "        else:\n",
    "            t = result.times\n",
    "            exp = np.real(expect(result.states, m_op))\n",
    "        kw.setdefault(\"linewidth\", 2)\n",
    "        axes.plot(t, exp, color, label=label, **kw)\n",
    "\n",
    "    if fig_created:\n",
    "        axes.legend(loc=0, fontsize=12)\n",
    "        axes.set_xlabel(\"t\", fontsize=28)\n",
    "\n",
    "    return fig"
   ]
  },
  {
   "cell_type": "code",
   "execution_count": null,
   "id": "d6b480e8",
   "metadata": {},
   "outputs": [],
   "source": [
    "@contextlib.contextmanager\n",
    "def timer(label):\n",
    "    \"\"\" Simple utility for timing functions:\n",
    "\n",
    "        with timer(\"name\"):\n",
    "            ... code to time ...\n",
    "    \"\"\"\n",
    "    start = time.time()\n",
    "    yield\n",
    "    end = time.time()\n",
    "    print(f\"{label}: {end - start}\")"
   ]
  },
  {
   "cell_type": "code",
   "execution_count": null,
   "id": "f5e12351",
   "metadata": {},
   "outputs": [],
   "source": [
    "# Solver options:\n",
    "\n",
    "options = {\n",
    "    \"nsteps\": 15000,\n",
    "    \"store_states\": True,\n",
    "    \"rtol\": 1e-14,\n",
    "    \"atol\": 1e-14,\n",
    "    \"method\": \"vern9\",\n",
    "    \"progress_bar\": \"enhanced\",\n",
    "}"
   ]
  },
  {
   "cell_type": "markdown",
   "id": "113b1864",
   "metadata": {},
   "source": [
    "## System and bath definition\n",
    "\n",
    "And let us set up the system Hamiltonian, bath and system measurement operators:"
   ]
  },
  {
   "cell_type": "markdown",
   "id": "a8227a2a",
   "metadata": {},
   "source": [
    "Here we set $H_{sys}=0$, which means the interaction Hamiltonian and the system Hamiltonian commute, and we can compare the numerical results to a known analytical one.  We could in principle keep $\\epsilon \\neq 0$, but it just introduces fast system oscillations, so it is more convenient to set it to zero."
   ]
  },
  {
   "cell_type": "code",
   "execution_count": null,
   "id": "03331b57",
   "metadata": {},
   "outputs": [],
   "source": [
    "# Defining the system Hamiltonian\n",
    "eps = 0.0  # Energy of the 2-level system.\n",
    "Del = 0.0  # Tunnelling term\n",
    "Hsys = 0.5 * eps * sigmaz() + 0.5 * Del * sigmax()"
   ]
  },
  {
   "cell_type": "code",
   "execution_count": null,
   "id": "baf0d96a",
   "metadata": {},
   "outputs": [],
   "source": [
    "# System-bath coupling (Drude-Lorentz spectral density)\n",
    "Q = sigmaz()  # coupling operator\n",
    "\n",
    "# Bath properties:\n",
    "gamma = 0.5  # cut off frequency\n",
    "lam = 0.1  # coupling strength\n",
    "T = 0.5\n",
    "beta = 1. / T\n",
    "\n",
    "# HEOM parameters:\n",
    "# cut off parameter for the bath:\n",
    "NC = 6\n",
    "# number of exponents to retain in the Matsubara expansion\n",
    "# of the correlation function:\n",
    "Nk = 3\n",
    "\n",
    "# Times to solve for\n",
    "tlist = np.linspace(0, 50, 1000)"
   ]
  },
  {
   "cell_type": "code",
   "execution_count": null,
   "id": "530a97ea",
   "metadata": {},
   "outputs": [],
   "source": [
    "# Define some operators with which we will measure the system\n",
    "# 1,1 element of density matrix - corresonding to groundstate\n",
    "P11p = basis(2, 0) * basis(2, 0).dag()\n",
    "P22p = basis(2, 1) * basis(2, 1).dag()\n",
    "# 1,2 element of density matrix  - corresonding to coherence\n",
    "P12p = basis(2, 0) * basis(2, 1).dag()"
   ]
  },
  {
   "cell_type": "markdown",
   "id": "8c5035c8",
   "metadata": {},
   "source": [
    "To get a non-trivial result we prepare the initial state in a superposition, and see how the bath destroys the coherence."
   ]
  },
  {
   "cell_type": "code",
   "execution_count": null,
   "id": "88a37195",
   "metadata": {},
   "outputs": [],
   "source": [
    "# Initial state of the system.\n",
    "psi = (basis(2, 0) + basis(2, 1)).unit()\n",
    "rho0 = psi * psi.dag()"
   ]
  },
  {
   "cell_type": "markdown",
   "id": "595b2ca7",
   "metadata": {},
   "source": [
    "## Simulation 1: Matsubara decomposition, not using Ishizaki-Tanimura terminator"
   ]
  },
  {
   "cell_type": "code",
   "execution_count": null,
   "id": "99d99fe8",
   "metadata": {},
   "outputs": [],
   "source": [
    "with timer(\"RHS construction time\"):\n",
    "    bath = DrudeLorentzBath(Q, lam=lam, gamma=gamma, T=T, Nk=Nk)\n",
    "    HEOMMats = HEOMSolver(Hsys, bath, NC, options=options)\n",
    "\n",
    "with timer(\"ODE solver time\"):\n",
    "    resultMats = HEOMMats.run(rho0, tlist)"
   ]
  },
  {
   "cell_type": "code",
   "execution_count": null,
   "id": "68261155",
   "metadata": {},
   "outputs": [],
   "source": [
    "# Plot the results so far\n",
    "plot_result_expectations([\n",
    "    (resultMats, P11p, 'b', \"P11 Matsubara\"),\n",
    "    (resultMats, P12p, 'r', \"P12 Matsubara\"),\n",
    "]);"
   ]
  },
  {
   "cell_type": "markdown",
   "id": "ecc9bc45",
   "metadata": {},
   "source": [
    "## Simulation 2: Matsubara decomposition (including terminator)"
   ]
  },
  {
   "cell_type": "code",
   "execution_count": null,
   "id": "4311b5a2",
   "metadata": {},
   "outputs": [],
   "source": [
    "with timer(\"RHS construction time\"):\n",
    "    bath = DrudeLorentzBath(Q, lam=lam, gamma=gamma, T=T, Nk=Nk)\n",
    "    _, terminator = bath.terminator()\n",
    "    Ltot = liouvillian(Hsys) + terminator\n",
    "    HEOMMatsT = HEOMSolver(Ltot, bath, NC, options=options)\n",
    "\n",
    "with timer(\"ODE solver time\"):\n",
    "    resultMatsT = HEOMMatsT.run(rho0, tlist)"
   ]
  },
  {
   "cell_type": "code",
   "execution_count": null,
   "id": "c22740aa",
   "metadata": {},
   "outputs": [],
   "source": [
    "# Plot the results\n",
    "plot_result_expectations([\n",
    "    (resultMats, P11p, 'b', \"P11 Matsubara\"),\n",
    "    (resultMats, P12p, 'r', \"P12 Matsubara\"),\n",
    "    (resultMatsT, P11p, 'b--', \"P11 Matsubara and terminator\"),\n",
    "    (resultMatsT, P12p, 'r--', \"P12 Matsubara and terminator\"),\n",
    "]);"
   ]
  },
  {
   "cell_type": "markdown",
   "id": "ff6aca3f",
   "metadata": {},
   "source": [
    "## Simulation 3: Pade decomposition\n",
    "\n",
    "As in example 1a, we can compare to Pade and Fitting approaches."
   ]
  },
  {
   "cell_type": "code",
   "execution_count": null,
   "id": "fb7f9114",
   "metadata": {},
   "outputs": [],
   "source": [
    "with timer(\"RHS construction time\"):\n",
    "    bath = DrudeLorentzPadeBath(Q, lam=lam, gamma=gamma, T=T, Nk=Nk)\n",
    "    HEOMPade = HEOMSolver(Hsys, bath, NC, options=options)\n",
    "\n",
    "with timer(\"ODE solver time\"):\n",
    "    resultPade = HEOMPade.run(rho0, tlist)"
   ]
  },
  {
   "cell_type": "code",
   "execution_count": null,
   "id": "1831b95f",
   "metadata": {},
   "outputs": [],
   "source": [
    "# Plot the results\n",
    "plot_result_expectations([\n",
    "    (resultMatsT, P11p, 'b', \"P11 Matsubara (+term)\"),\n",
    "    (resultMatsT, P12p, 'r', \"P12 Matsubara (+term)\"),\n",
    "    (resultPade, P11p, 'b--', \"P11 Pade\"),\n",
    "    (resultPade, P12p, 'r--', \"P12 Pade\"),\n",
    "]);"
   ]
  },
  {
   "cell_type": "markdown",
   "id": "6dbea732",
   "metadata": {},
   "source": [
    "## Simulation 4: Fitting approach"
   ]
  },
  {
   "cell_type": "code",
   "execution_count": null,
   "id": "ac191341",
   "metadata": {},
   "outputs": [],
   "source": [
    "def c(t, Nk):\n",
    "    \"\"\" Calculates real and imag. parts of the correlation function\n",
    "        using Nk Matsubara terms.\n",
    "    \"\"\"\n",
    "    vk = 2 * np.pi * T * np.arange(1, Nk)\n",
    "\n",
    "    result = (\n",
    "        lam * gamma * (-1.0j + cot(gamma * beta / 2.)) *\n",
    "        np.exp(-gamma * t[None, :])\n",
    "    )\n",
    "    result += np.sum(\n",
    "        (4 * lam * gamma * T * vk[:, None] / (vk[:, None]**2 - gamma**2)) *\n",
    "        np.exp(-vk[:, None] * t[None, :]),\n",
    "        axis=0,\n",
    "    )\n",
    "    result = result.squeeze(axis=0)\n",
    "\n",
    "    return result\n",
    "\n",
    "\n",
    "tlist_fit = np.linspace(0, 2, 10000)\n",
    "lmaxmats = 15000\n",
    "\n",
    "corr_ana = c(tlist_fit, lmaxmats)\n",
    "corrRana, corrIana = np.real(corr_ana), np.imag(corr_ana)"
   ]
  },
  {
   "cell_type": "code",
   "execution_count": null,
   "id": "64fb12ee",
   "metadata": {},
   "outputs": [],
   "source": [
    "def wrapper_fit_func(x, N, *args):\n",
    "    \"\"\" Wrapper for fitting function. \"\"\"\n",
    "    a, b = args[0][:N], args[0][N:2*N]\n",
    "    return fit_func(x, a, b)\n",
    "\n",
    "\n",
    "def fit_func(x, a, b):\n",
    "    \"\"\" Fitting function. \"\"\"\n",
    "    a = np.array(a)\n",
    "    b = np.array(b)\n",
    "    x = np.atleast_1d(np.array(x))\n",
    "    return np.sum(\n",
    "        a[:, None] * np.exp(b[:, None] * x[None, :]),\n",
    "        axis=0,\n",
    "    )\n",
    "\n",
    "\n",
    "def fitter(ans, tlist, i):\n",
    "    \"\"\" Compute the fit. \"\"\"\n",
    "    upper_a = abs(max(ans, key=np.abs)) * 10\n",
    "    # set initial guess:\n",
    "    guess = [upper_a] * i + [0] * i\n",
    "    # set bounds: a's = anything, b's = negative\n",
    "    # sets lower bound\n",
    "    b_lower = [-upper_a] * i + [-np.inf] * i\n",
    "    # sets higher bound\n",
    "    b_higher = [upper_a] * i + [0] * i\n",
    "    param_bounds = (b_lower, b_higher)\n",
    "    p1, p2 = curve_fit(\n",
    "        lambda x, *params: wrapper_fit_func(x, i, params),\n",
    "        tlist,\n",
    "        ans,\n",
    "        p0=guess,\n",
    "        sigma=[0.01] * len(tlist),\n",
    "        bounds=param_bounds,\n",
    "        maxfev=1e8,\n",
    "    )\n",
    "    return p1[:i], p1[i:]\n",
    "\n",
    "\n",
    "# Fits of the real part with up to 4 exponents\n",
    "popt1 = []\n",
    "for i in range(4):\n",
    "    a, b = fitter(corrRana, tlist_fit, i + 1)\n",
    "    popt1.append((a, b))\n",
    "    y = fit_func(tlist_fit, a, b)\n",
    "    plt.plot(tlist_fit, corrRana, label=\"C_R(t)\")\n",
    "    plt.plot(tlist_fit, y, label=f\"Fit with k={i + 1}\")\n",
    "    plt.xlabel(\"t\")\n",
    "    plt.ylabel(\"C_R(t)\")\n",
    "    plt.legend()\n",
    "    plt.show()\n",
    "\n",
    "# Fit of the imaginary part with 1 exponent\n",
    "popt2 = []\n",
    "for i in range(1):\n",
    "    a, b = fitter(corrIana, tlist_fit, i + 1)\n",
    "    popt2.append((a, b))\n",
    "    y = fit_func(tlist_fit, a, b)\n",
    "    plt.plot(tlist_fit, corrIana, label=\"C_I(t)\")\n",
    "    plt.plot(tlist_fit, y, label=f\"Fit with k={i + 1}\")\n",
    "    plt.xlabel(\"t\")\n",
    "    plt.ylabel(\"C_I(t)\")\n",
    "    plt.legend()\n",
    "    plt.show()"
   ]
  },
  {
   "cell_type": "code",
   "execution_count": null,
   "id": "2a831ee0",
   "metadata": {},
   "outputs": [],
   "source": [
    "# Set the exponential coefficients from the fit parameters\n",
    "\n",
    "ckAR = popt1[-1][0]\n",
    "vkAR = -1 * popt1[-1][1]\n",
    "\n",
    "ckAI = popt2[-1][0]\n",
    "vkAI = -1 * popt2[-1][1]\n",
    "\n",
    "# The imaginary fit can also be determined analytically and is\n",
    "# a single term:\n",
    "#\n",
    "# ckAI = [complex(lam * gamma * (-1.0))]\n",
    "# vkAI = [complex(gamma)]"
   ]
  },
  {
   "cell_type": "code",
   "execution_count": null,
   "id": "dc7462a2",
   "metadata": {},
   "outputs": [],
   "source": [
    "with timer(\"RHS construction time\"):\n",
    "    bath = BosonicBath(Q, ckAR, vkAR, ckAI, vkAI)\n",
    "    HEOMFit = HEOMSolver(Hsys, bath, NC, options=options)\n",
    "\n",
    "with timer(\"ODE solver time\"):\n",
    "    resultFit = HEOMFit.run(rho0, tlist)"
   ]
  },
  {
   "cell_type": "markdown",
   "id": "5305ffab",
   "metadata": {},
   "source": [
    "## Analytic calculations"
   ]
  },
  {
   "cell_type": "code",
   "execution_count": null,
   "id": "4110ab1d",
   "metadata": {},
   "outputs": [],
   "source": [
    "def pure_dephasing_evolution_analytical(tlist, wq, ck, vk):\n",
    "    \"\"\"\n",
    "    Computes the propagating function appearing in the pure dephasing model.\n",
    "\n",
    "    Parameters\n",
    "    ----------\n",
    "    t: float\n",
    "        A float specifying the time at which to calculate the integral.\n",
    "\n",
    "    wq: float\n",
    "        The qubit frequency in the Hamiltonian.\n",
    "\n",
    "    ck: ndarray\n",
    "        The list of coefficients in the correlation function.\n",
    "\n",
    "    vk: ndarray\n",
    "        The list of frequencies in the correlation function.\n",
    "\n",
    "    Returns\n",
    "    -------\n",
    "    integral: float\n",
    "        The value of the integral function at time t.\n",
    "    \"\"\"\n",
    "    evolution = np.array([\n",
    "        np.exp(-1j * wq * t - correlation_integral(t, ck, vk))\n",
    "        for t in tlist\n",
    "    ])\n",
    "    return evolution\n",
    "\n",
    "\n",
    "def correlation_integral(t, ck, vk):\n",
    "    r\"\"\"\n",
    "    Computes the integral sum function appearing in the pure dephasing model.\n",
    "\n",
    "    If the correlation function is a sum of exponentials then this sum\n",
    "    is given by:\n",
    "\n",
    "    .. math:\n",
    "\n",
    "        \\int_0^{t}d\\tau D(\\tau) = \\sum_k\\frac{c_k}{\\mu_k^2}e^{\\mu_k t}\n",
    "        + \\frac{\\bar c_k}{\\bar \\mu_k^2}e^{\\bar \\mu_k t}\n",
    "        - \\frac{\\bar \\mu_k c_k + \\mu_k \\bar c_k}{\\mu_k \\bar \\mu_k} t\n",
    "        + \\frac{\\bar \\mu_k^2 c_k + \\mu_k^2 \\bar c_k}{\\mu_k^2 \\bar \\mu_k^2}\n",
    "\n",
    "    Parameters\n",
    "    ----------\n",
    "    t: float\n",
    "        A float specifying the time at which to calculate the integral.\n",
    "\n",
    "    ck: ndarray\n",
    "        The list of coefficients in the correlation function.\n",
    "\n",
    "    vk: ndarray\n",
    "        The list of frequencies in the correlation function.\n",
    "\n",
    "    Returns\n",
    "    -------\n",
    "    integral: float\n",
    "        The value of the integral function at time t.\n",
    "    \"\"\"\n",
    "    t1 = np.sum(\n",
    "        (ck / vk**2) *\n",
    "        (np.exp(vk * t) - 1)\n",
    "    )\n",
    "    t2 = np.sum(\n",
    "        (ck.conj() / vk.conj()**2) *\n",
    "        (np.exp(vk.conj() * t) - 1)\n",
    "    )\n",
    "    t3 = np.sum(\n",
    "        (ck / vk + ck.conj() / vk.conj()) * t\n",
    "    )\n",
    "    return 2 * (t1 + t2 - t3)"
   ]
  },
  {
   "cell_type": "markdown",
   "id": "0a36f016",
   "metadata": {},
   "source": [
    "For the pure dephasing analytics, we just sum up as many matsubara terms as we can:"
   ]
  },
  {
   "cell_type": "code",
   "execution_count": null,
   "id": "ed3cf57a",
   "metadata": {},
   "outputs": [],
   "source": [
    "lmaxmats2 = 15000\n",
    "\n",
    "vk = [complex(-gamma)]\n",
    "vk.extend([\n",
    "    complex(-2. * np.pi * k * T)\n",
    "    for k in range(1, lmaxmats2)\n",
    "])\n",
    "\n",
    "ck = [complex(lam * gamma * (-1.0j + cot(gamma * beta / 2.)))]\n",
    "ck.extend([\n",
    "    complex(4 * lam * gamma * T * (-v) / (v**2 - gamma**2))\n",
    "    for v in vk[1:]\n",
    "])\n",
    "\n",
    "P12_ana = 0.5 * pure_dephasing_evolution_analytical(\n",
    "    tlist, 0, np.asarray(ck), np.asarray(vk)\n",
    ")"
   ]
  },
  {
   "cell_type": "markdown",
   "id": "de9a3040",
   "metadata": {},
   "source": [
    "Alternatively, we can just do the integral of the propagator directly, without using the correlation functions at all"
   ]
  },
  {
   "cell_type": "code",
   "execution_count": null,
   "id": "f0655200",
   "metadata": {},
   "outputs": [],
   "source": [
    "def JDL(omega, lamc, omega_c):\n",
    "    return 2. * lamc * omega * omega_c / (omega_c**2 + omega**2)\n",
    "\n",
    "\n",
    "def integrand(omega, lamc, omega_c, Temp, t):\n",
    "    return (\n",
    "        (-4. * JDL(omega, lamc, omega_c) / omega**2) *\n",
    "        (1. - np.cos(omega*t)) * (coth(omega/(2.*Temp)))\n",
    "        / np.pi\n",
    "    )\n",
    "\n",
    "\n",
    "P12_ana2 = [\n",
    "    0.5 * np.exp(\n",
    "        scipy.integrate.quad(integrand, 0, np.inf, args=(lam, gamma, T, t))[0]\n",
    "    )\n",
    "    for t in tlist\n",
    "]"
   ]
  },
  {
   "cell_type": "markdown",
   "id": "c3d66ea2",
   "metadata": {},
   "source": [
    "## Compare results"
   ]
  },
  {
   "cell_type": "code",
   "execution_count": null,
   "id": "53612ac7",
   "metadata": {},
   "outputs": [],
   "source": [
    "plot_result_expectations([\n",
    "    (resultMats, P12p, 'r', \"P12 Mats\"),\n",
    "    (resultMatsT, P12p, 'r--', \"P12 Mats + Term\"),\n",
    "    (resultPade, P12p, 'b--', \"P12 Pade\"),\n",
    "    (resultFit, P12p, 'g', \"P12 Fit\"),\n",
    "    ((tlist, np.real(P12_ana)), None, 'b', \"Analytic 1\"),\n",
    "    ((tlist, np.real(P12_ana2)), None, 'y--', \"Analytic 2\"),\n",
    "]);"
   ]
  },
  {
   "cell_type": "markdown",
   "id": "3bebc289",
   "metadata": {},
   "source": [
    "We can't see much difference in the plot above, so let's do a log plot instead:"
   ]
  },
  {
   "cell_type": "code",
   "execution_count": null,
   "id": "0823a632",
   "metadata": {},
   "outputs": [],
   "source": [
    "fig, axes = plt.subplots(1, 1, sharex=True, figsize=(8, 8))\n",
    "\n",
    "plot_result_expectations([\n",
    "    (resultMats, P12p, 'r', \"P12 Mats\"),\n",
    "    (resultMatsT, P12p, 'r--', \"P12 Mats + Term\"),\n",
    "    (resultPade, P12p, 'b-.', \"P12 Pade\"),\n",
    "    (resultFit, P12p, 'g', \"P12 Fit\"),\n",
    "    ((tlist, np.real(P12_ana)), None, 'b', \"Analytic 1\"),\n",
    "    ((tlist, np.real(P12_ana2)), None, 'y--', \"Analytic 2\"),\n",
    "], axes)\n",
    "\n",
    "axes.set_yscale('log')\n",
    "axes.legend(loc=0, fontsize=12);"
   ]
  },
  {
   "cell_type": "markdown",
   "id": "7d3e61e9",
   "metadata": {},
   "source": [
    "## About"
   ]
  },
  {
   "cell_type": "code",
   "execution_count": null,
   "id": "b172f629",
   "metadata": {},
   "outputs": [],
   "source": [
    "qutip.about()"
   ]
  },
  {
   "cell_type": "markdown",
   "id": "88b8cade",
   "metadata": {},
   "source": [
    "## Testing\n",
    "\n",
    "This section can include some tests to verify that the expected outputs are generated within the notebook. We put this section at the end of the notebook, so it's not interfering with the user experience. Please, define the tests using assert, so that the cell execution fails if a wrong output is generated."
   ]
  },
  {
   "cell_type": "code",
   "execution_count": null,
   "id": "3e7c66eb",
   "metadata": {},
   "outputs": [],
   "source": [
    "assert np.allclose(\n",
    "    expect(P12p, resultMats.states[:15]), np.real(P12_ana)[:15],\n",
    "    rtol=1e-2,\n",
    ")\n",
    "assert np.allclose(\n",
    "    expect(P12p, resultMatsT.states[:100]), np.real(P12_ana)[:100],\n",
    "    rtol=1e-3,\n",
    ")\n",
    "assert np.allclose(\n",
    "    expect(P12p, resultPade.states[:100]), np.real(P12_ana)[:100],\n",
    "    rtol=1e-3,\n",
    ")\n",
    "assert np.allclose(\n",
    "    expect(P12p, resultFit.states[:50]), np.real(P12_ana)[:50],\n",
    "    rtol=1e-3,\n",
    ")\n",
    "assert np.allclose(P12_ana, P12_ana2, rtol=1e-3)"
   ]
  }
 ],
 "metadata": {
  "jupytext": {
   "formats": "ipynb,md:myst"
  },
  "kernelspec": {
   "display_name": "Python 3 (ipykernel)",
   "language": "python",
   "name": "python3"
  }
 },
 "nbformat": 4,
 "nbformat_minor": 5
}
