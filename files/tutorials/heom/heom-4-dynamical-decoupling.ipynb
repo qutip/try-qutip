{
 "cells": [
  {
   "cell_type": "markdown",
   "id": "bb01c5bb",
   "metadata": {},
   "source": [
    "# HEOM 4: Dynamical decoupling of a non-Markovian environment"
   ]
  },
  {
   "cell_type": "markdown",
   "id": "569cb2dc",
   "metadata": {},
   "source": [
    "## Introduction\n",
    "\n",
    "Following [Lorenza Viola and Seth Lloyd](https://arxiv.org/abs/quant-ph/9803057) we consider an example of dynamical decoupling.\n",
    "We choose a drive which performs pi rotations, interspersed with short periods where the bath causes dephasing.\n",
    "\n",
    "We first show the standard example of equally spaced pulses, and then consider the 'optimal' Uhrig spacing ([Götz S. Uhrig Phys. Rev. Lett. 98, 100504 (2007)](https://arxiv.org/abs/quant-ph/0609203))."
   ]
  },
  {
   "cell_type": "markdown",
   "id": "7875caf0",
   "metadata": {},
   "source": [
    "## Setup"
   ]
  },
  {
   "cell_type": "code",
   "execution_count": null,
   "id": "3d078dd1",
   "metadata": {},
   "outputs": [],
   "source": [
    "import numpy as np\n",
    "import matplotlib.pyplot as plt\n",
    "\n",
    "import qutip\n",
    "from qutip import (\n",
    "    QobjEvo,\n",
    "    basis,\n",
    "    expect,\n",
    "    ket2dm,\n",
    "    sigmax,\n",
    "    sigmaz,\n",
    ")\n",
    "from qutip.solver.heom import (\n",
    "    HEOMSolver,\n",
    "    DrudeLorentzPadeBath,\n",
    ")\n",
    "\n",
    "from ipywidgets import IntProgress\n",
    "from IPython.display import display\n",
    "\n",
    "%matplotlib inline"
   ]
  },
  {
   "cell_type": "markdown",
   "id": "47fe3a59",
   "metadata": {},
   "source": [
    "## Helper functions\n",
    "\n",
    "Let's define some helper functions for calculating the spectral density:"
   ]
  },
  {
   "cell_type": "code",
   "execution_count": null,
   "id": "4cf4fee0",
   "metadata": {},
   "outputs": [],
   "source": [
    "def dl_spectrum(w, lam, gamma):\n",
    "    \"\"\" Return the Drude-Lorentz spectral density. \"\"\"\n",
    "    J = w * 2 * lam * gamma / (gamma**2 + w**2)\n",
    "    return J"
   ]
  },
  {
   "cell_type": "code",
   "execution_count": null,
   "id": "a95d1358",
   "metadata": {},
   "outputs": [],
   "source": [
    "# Solver options:\n",
    "\n",
    "# The max_step must be set to a short time than the\n",
    "# length of the shortest pulse, otherwise the solver\n",
    "# might skip over a pulse.\n",
    "\n",
    "options = {\n",
    "    \"nsteps\": 1500,\n",
    "    \"store_states\": True,\n",
    "    \"rtol\": 1e-12,\n",
    "    \"atol\": 1e-12,\n",
    "    \"max_step\": 1 / 20.0,\n",
    "    \"method\": \"vern9\",\n",
    "    \"progress_bar\": \"enhanced\",\n",
    "}"
   ]
  },
  {
   "cell_type": "markdown",
   "id": "5e7aa7e5",
   "metadata": {},
   "source": [
    "## System and bath definition\n",
    "\n",
    "Now we define the system and bath properties and the HEOM parameters. The system is a single stationary qubit with $H = 0$ and the bath is a bosonic bath with a Drude-Lorentz spectrum."
   ]
  },
  {
   "cell_type": "code",
   "execution_count": null,
   "id": "ad8298ee",
   "metadata": {},
   "outputs": [],
   "source": [
    "# Define the system Hamlitonian.\n",
    "#\n",
    "# The system isn't evolving by itself, so the Hamiltonian is 0 (with the\n",
    "# correct dimensions):\n",
    "\n",
    "H_sys = 0 * sigmaz()"
   ]
  },
  {
   "cell_type": "code",
   "execution_count": null,
   "id": "67390aa9",
   "metadata": {},
   "outputs": [],
   "source": [
    "# Define some operators with which we will measure the system\n",
    "# 1,1 element of density matrix - corresonding to groundstate\n",
    "P11p = basis(2, 0) * basis(2, 0).dag()\n",
    "P22p = basis(2, 1) * basis(2, 1).dag()\n",
    "# 1,2 element of density matrix  - corresonding to coherence\n",
    "P12p = basis(2, 0) * basis(2, 1).dag()"
   ]
  },
  {
   "cell_type": "code",
   "execution_count": null,
   "id": "d92f3ba5",
   "metadata": {},
   "outputs": [],
   "source": [
    "# Properties for the Drude-Lorentz bath\n",
    "\n",
    "lam = 0.0005\n",
    "gamma = 0.005\n",
    "T = 0.05\n",
    "\n",
    "# bath-system coupling operator:\n",
    "Q = sigmaz()\n",
    "\n",
    "# number of terms to keep in the expansion of the bath correlation function:\n",
    "Nk = 3\n",
    "\n",
    "bath = DrudeLorentzPadeBath(Q, lam=lam, gamma=gamma, T=T, Nk=Nk)"
   ]
  },
  {
   "cell_type": "code",
   "execution_count": null,
   "id": "ab5771dc",
   "metadata": {},
   "outputs": [],
   "source": [
    "# HEOM parameters\n",
    "\n",
    "# number of layers to keep in the hierarchy:\n",
    "NC = 6"
   ]
  },
  {
   "cell_type": "markdown",
   "id": "8a522fce",
   "metadata": {},
   "source": [
    "To perform the dynamic decoupling from the environment, we will drive the system with a time-dependent pulse that couples to the system via the $\\sigma_x$ operator. The area under the pulse will usual be set to $\\pi / 2$ so that the pulse flips the qubit state.\n",
    "\n",
    "Below we define a function that returns the pulse (which is itself a function):"
   ]
  },
  {
   "cell_type": "code",
   "execution_count": null,
   "id": "3c0564f6",
   "metadata": {},
   "outputs": [],
   "source": [
    "def drive(amplitude, delay, integral):\n",
    "    \"\"\" Coefficient of the drive as a function of time.\n",
    "\n",
    "        The drive consists of a series of constant pulses with\n",
    "        a fixed delay between them.\n",
    "\n",
    "        Parameters\n",
    "        ----------\n",
    "        amplitude : float\n",
    "            The amplitude of the drive during the pulse.\n",
    "        delay : float\n",
    "            The time delay between successive pulses.\n",
    "        integral : float\n",
    "            The integral of the pulse. This determines\n",
    "            the duration of each pulse with the duration\n",
    "            equal to the integral divided by the amplitude.\n",
    "    \"\"\"\n",
    "    duration = integral / amplitude\n",
    "    period = duration + delay\n",
    "\n",
    "    def pulse(t):\n",
    "        t = t % period\n",
    "        if t < duration:\n",
    "            return amplitude\n",
    "        return 0\n",
    "\n",
    "    return pulse\n",
    "\n",
    "\n",
    "H_drive = sigmax()"
   ]
  },
  {
   "cell_type": "markdown",
   "id": "f399ad3a",
   "metadata": {},
   "source": [
    "## Plot the spectral density\n",
    "\n",
    "Let's start by plotting the spectral density of our Drude-Lorentz bath:"
   ]
  },
  {
   "cell_type": "code",
   "execution_count": null,
   "id": "5ba9abbe",
   "metadata": {},
   "outputs": [],
   "source": [
    "wlist = np.linspace(0, 0.5, 1000)\n",
    "J = dl_spectrum(wlist, lam, gamma)\n",
    "\n",
    "fig, axes = plt.subplots(1, 1, figsize=(8, 8))\n",
    "axes.plot(wlist, J, 'r', linewidth=2)\n",
    "axes.set_xlabel(r'$\\omega$', fontsize=28)\n",
    "axes.set_ylabel(r'J', fontsize=28);"
   ]
  },
  {
   "cell_type": "markdown",
   "id": "df1d2bdd",
   "metadata": {},
   "source": [
    "## Dynamic decoupling with fast and slow pulses\n",
    "\n",
    "Now we are ready to explore dynamic decoupling from the environment.\n",
    "\n",
    "First we will drive the system with fast, large amplitude pulses. Then we will drive the system with slower, smaller amplitude pulses. The faster pulses decoupling the system more effectively and retain the coherence longer, but the slower pulses help too.\n",
    "\n",
    "Let's start by simulating the fast pulses:"
   ]
  },
  {
   "cell_type": "code",
   "execution_count": null,
   "id": "c3baa3f0",
   "metadata": {},
   "outputs": [],
   "source": [
    "# Fast driving (quick, large amplitude pulses)\n",
    "\n",
    "tlist = np.linspace(0, 400, 1000)\n",
    "\n",
    "# start with a superposition so there is something to dephase!\n",
    "rho0 = (basis(2, 1) + basis(2, 0)).unit()\n",
    "rho0 = ket2dm(rho0)\n",
    "\n",
    "# without pulses\n",
    "hsolver = HEOMSolver(H_sys, bath, NC, options=options)\n",
    "outputnoDD = hsolver.run(rho0, tlist)\n",
    "\n",
    "# with pulses\n",
    "drive_fast = drive(amplitude=0.5, delay=20, integral=np.pi / 2)\n",
    "H_d = qutip.QobjEvo([H_sys, [H_drive, drive_fast]])\n",
    "\n",
    "hsolver = HEOMSolver(H_d, bath, NC, options=options)\n",
    "outputDD = hsolver.run(rho0, tlist)"
   ]
  },
  {
   "cell_type": "markdown",
   "id": "cd625120",
   "metadata": {},
   "source": [
    "And now the longer slower pulses:"
   ]
  },
  {
   "cell_type": "code",
   "execution_count": null,
   "id": "d26adfe1",
   "metadata": {},
   "outputs": [],
   "source": [
    "# Slow driving (longer, small amplitude pulses)\n",
    "\n",
    "# without pulses\n",
    "hsolver = HEOMSolver(H_sys, bath, NC, options=options)\n",
    "outputnoDDslow = hsolver.run(rho0, tlist)\n",
    "\n",
    "# with pulses\n",
    "drive_slow = drive(amplitude=0.01, delay=20, integral=np.pi/2)\n",
    "H_d = QobjEvo([H_sys, [H_drive, drive_slow]])\n",
    "\n",
    "hsolver = HEOMSolver(H_d, bath, NC, options=options)\n",
    "outputDDslow = hsolver.run(rho0, tlist)"
   ]
  },
  {
   "cell_type": "markdown",
   "id": "8775e5b4",
   "metadata": {},
   "source": [
    "Now let's plot all of the results and the shapes of the pulses:"
   ]
  },
  {
   "cell_type": "code",
   "execution_count": null,
   "id": "e81a5d26",
   "metadata": {},
   "outputs": [],
   "source": [
    "def plot_dd_results(outputnoDD, outputDD, outputDDslow):\n",
    "    fig, axes = plt.subplots(2, 1, sharex=False, figsize=(12, 12))\n",
    "\n",
    "    # Plot the dynamic decoupling results:\n",
    "\n",
    "    tlist = outputDD.times\n",
    "\n",
    "    P12 = basis(2, 1) * basis(2, 0).dag()\n",
    "    P12DD = qutip.expect(outputDD.states, P12)\n",
    "    P12noDD = qutip.expect(outputnoDD.states, P12)\n",
    "    P12DDslow = qutip.expect(outputDDslow.states, P12)\n",
    "\n",
    "    plt.sca(axes[0])\n",
    "    plt.yticks([0, 0.25, 0.5], [0, 0.25, 0.5])\n",
    "\n",
    "    axes[0].plot(\n",
    "        tlist, np.real(P12DD),\n",
    "        'green', linestyle='-', linewidth=2, label=\"HEOM with fast DD\",\n",
    "    )\n",
    "    axes[0].plot(\n",
    "        tlist, np.real(P12DDslow),\n",
    "        'blue', linestyle='-', linewidth=2, label=\"HEOM with slow DD\",\n",
    "    )\n",
    "    axes[0].plot(\n",
    "        tlist, np.real(P12noDD),\n",
    "        'orange', linestyle='--', linewidth=2, label=\"HEOM no DD\",\n",
    "    )\n",
    "\n",
    "    axes[0].locator_params(axis='y', nbins=3)\n",
    "    axes[0].locator_params(axis='x', nbins=3)\n",
    "\n",
    "    axes[0].set_ylabel(r\"$\\rho_{01}$\", fontsize=30)\n",
    "\n",
    "    axes[0].legend(loc=4)\n",
    "    axes[0].text(0, 0.4, \"(a)\", fontsize=28)\n",
    "\n",
    "    # Plot the drive pulses:\n",
    "\n",
    "    pulse = [drive_fast(t) for t in tlist]\n",
    "    pulseslow = [drive_slow(t) for t in tlist]\n",
    "\n",
    "    plt.sca(axes[1])\n",
    "    plt.yticks([0., 0.25, 0.5], [0, 0.25, 0.5])\n",
    "\n",
    "    axes[1].plot(\n",
    "        tlist, pulse,\n",
    "        'green', linestyle='-', linewidth=2, label=\"Drive fast\",\n",
    "    )\n",
    "    axes[1].plot(\n",
    "        tlist, pulseslow,\n",
    "        'blue', linestyle='--', linewidth=2, label=\"Drive slow\",\n",
    "    )\n",
    "\n",
    "    axes[1].locator_params(axis='y', nbins=3)\n",
    "    axes[1].locator_params(axis='x', nbins=3)\n",
    "\n",
    "    axes[1].set_xlabel(r'$t\\bar{V}_{\\mathrm{f}}$', fontsize=30)\n",
    "    axes[1].set_ylabel(r'Drive amplitude/$\\bar{V}_{\\mathrm{f}}$', fontsize=30)\n",
    "\n",
    "    axes[1].legend(loc=1)\n",
    "    axes[1].text(0, 0.4, \"(b)\", fontsize=28)\n",
    "\n",
    "    fig.tight_layout()"
   ]
  },
  {
   "cell_type": "code",
   "execution_count": null,
   "id": "bf924b5c",
   "metadata": {},
   "outputs": [],
   "source": [
    "plot_dd_results(outputnoDD, outputDD, outputDDslow)"
   ]
  },
  {
   "cell_type": "markdown",
   "id": "59b2cac4",
   "metadata": {},
   "source": [
    "## Non-equally spaced pulses"
   ]
  },
  {
   "cell_type": "markdown",
   "id": "93e08c19",
   "metadata": {},
   "source": [
    "Next we consider non-equally spaced pulses.\n",
    "\n",
    "Rather than plot as a function of time we just consider the final coherence after time $T$ and 100 pulses.  We change the width of the environment to demonstate that the Uhrig sequence (i.e. the evenly spaced pulses) can be sub-optimal when the bath is very broad.\n",
    "\n",
    "Instead of evenly spaced pulses, we will use pulses where the cummulative delay after $j$ pulses is given by:\n",
    "\n",
    "$$\n",
    "    \\sin^2(\\frac{\\pi}{2} \\frac{j}{N + 1})\n",
    "$$\n",
    "\n",
    "This is just a convenient way to describe the varying delay. We could have chosen another monotonically increasing function to represent the cummulative delay (although it might not be as effective)."
   ]
  },
  {
   "cell_type": "code",
   "execution_count": null,
   "id": "9a85c8aa",
   "metadata": {},
   "outputs": [],
   "source": [
    "def cummulative_delay_fractions(N):\n",
    "    \"\"\" Return an array of N + 1 cummulative delay\n",
    "        fractions.\n",
    "\n",
    "        The j'th entry in the array should be the sum of\n",
    "        all delays before the j'th pulse. The last entry\n",
    "        should be 1 (i.e. the entire cummulative delay\n",
    "        should have been used once the sequence of pulses\n",
    "        is complete).\n",
    "\n",
    "        The function should be monotonically increasing,\n",
    "        strictly greater than zero and the last value\n",
    "        should be 1.\n",
    "\n",
    "        This implementation returns:\n",
    "\n",
    "            sin((pi / 2) * (j / (N + 1)))**2\n",
    "\n",
    "        as the cummulative delay after the j'th pulse.\n",
    "    \"\"\"\n",
    "    return np.array([\n",
    "        np.sin((np.pi / 2) * (j / (N + 1)))**2\n",
    "        for j in range(0, N + 1)\n",
    "    ])\n",
    "\n",
    "\n",
    "def drive_opt(amplitude, avg_delay, integral, N):\n",
    "    \"\"\" Return an optimized distance pulse function.\n",
    "\n",
    "        Our previous pulses were evenly spaced. Here we\n",
    "        instead use a varying delay after the j'th pulse.\n",
    "\n",
    "        The cummulative delay is described by the function\n",
    "        ``cummulative_delay_fractions`` above.\n",
    "    \"\"\"\n",
    "    duration = integral / amplitude\n",
    "    cummulative_delays = N * avg_delay * cummulative_delay_fractions(N)\n",
    "\n",
    "    t_start = cummulative_delays + duration * np.arange(0, N + 1)\n",
    "    t_end = cummulative_delays + duration * np.arange(1, N + 2)\n",
    "\n",
    "    def pulse(t):\n",
    "        if any((t_start <= t) & (t <= t_end)):\n",
    "            return amplitude\n",
    "        return 0.0\n",
    "\n",
    "    return pulse"
   ]
  },
  {
   "cell_type": "markdown",
   "id": "5443df82",
   "metadata": {},
   "source": [
    "Let's plot the cummulative delays and see what they look like. Note that the cummulative delay starts at $0$, ends at $1$ and is monotonically increasing, as required.\n",
    "\n",
    "On the same axes we plot the individual $j^{th}$ delays as a fraction of the average delay."
   ]
  },
  {
   "cell_type": "code",
   "execution_count": null,
   "id": "3bd5467c",
   "metadata": {},
   "outputs": [],
   "source": [
    "def plot_cummulative_delay_fractions(N):\n",
    "    cummulative = cummulative_delay_fractions(N)\n",
    "    individual = (cummulative[1:] - cummulative[:-1]) * N\n",
    "    plt.plot(np.arange(0, N + 1), cummulative, label=\"Cummulative delay\")\n",
    "    plt.plot(np.arange(0, N), individual, label=\"j'th delay\")\n",
    "    plt.xlabel(\"j\")\n",
    "    plt.ylabel(\"Fraction of delay\")\n",
    "    plt.legend()\n",
    "\n",
    "\n",
    "plot_cummulative_delay_fractions(100)"
   ]
  },
  {
   "cell_type": "markdown",
   "id": "982d1b5b",
   "metadata": {},
   "source": [
    "And now let us plot the first ten even and optimally spaced pulses together to compare them:"
   ]
  },
  {
   "cell_type": "code",
   "execution_count": null,
   "id": "84017a4d",
   "metadata": {},
   "outputs": [],
   "source": [
    "def plot_even_and_optimally_spaced_pulses():\n",
    "    amplitude = 10.0\n",
    "    integral = np.pi / 2\n",
    "    duration = integral / amplitude\n",
    "    delay = 1.0 - duration\n",
    "\n",
    "    tlist = np.linspace(0, 10, 1000)\n",
    "\n",
    "    pulse_opt = drive_opt(amplitude, delay, integral, 100)\n",
    "    pulse_eq = drive(amplitude, delay, integral)\n",
    "\n",
    "    plt.plot(\n",
    "        tlist, [pulse_opt(t) for t in tlist], label=\"opt\",\n",
    "    )\n",
    "    plt.plot(\n",
    "        tlist, [pulse_eq(t) for t in tlist], label=\"eq\",\n",
    "    )\n",
    "    plt.legend(loc=4)\n",
    "\n",
    "\n",
    "plot_even_and_optimally_spaced_pulses()"
   ]
  },
  {
   "cell_type": "markdown",
   "id": "95a1d133",
   "metadata": {},
   "source": [
    "Now let's simulate the effectiveness of the two sets of delays by comparing how well they maintain coherence after a hundred pulses.\n",
    "\n",
    "We'll perform the simulation over a range of lambdas and gammas to show how the non-evenly spaced delays become optimal as the width of the bath spectral function increases."
   ]
  },
  {
   "cell_type": "code",
   "execution_count": null,
   "id": "631513a3",
   "metadata": {},
   "outputs": [],
   "source": [
    "# Bath parameters to simulate over:\n",
    "\n",
    "# We use only two lambdas and two gammas so that the notebook executes\n",
    "# quickly:\n",
    "\n",
    "lams = [0.005, 0.0005]\n",
    "gammas = np.linspace(0.005, 0.05, 2)\n",
    "\n",
    "# But one can also extend the lists to larger ones:\n",
    "#\n",
    "# lams = [0.01, 0.005, 0.0005]\n",
    "# gammas = np.linspace(0.005, 0.05, 10)\n",
    "\n",
    "# Setup a progress bar:\n",
    "\n",
    "progress = IntProgress(min=0, max=(2 * len(lams) * len(gammas)))\n",
    "display(progress)\n",
    "\n",
    "\n",
    "def simulate_100_pulses(lam, gamma, T, NC, Nk):\n",
    "    \"\"\" Simulate the evolution of 100 evenly and optimally spaced pulses.\n",
    "\n",
    "        Returns the expectation value of P12p from the final state of\n",
    "        each evolution.\n",
    "    \"\"\"\n",
    "    rho0 = (basis(2, 1) + basis(2, 0)).unit()\n",
    "    rho0 = ket2dm(rho0)\n",
    "\n",
    "    N = 100  # number of pulses to simulate\n",
    "    avg_cycle_time = 1.0  # average time from one pulse to the next\n",
    "    t_max = N * avg_cycle_time\n",
    "\n",
    "    tlist = np.linspace(0, t_max, 100)\n",
    "\n",
    "    amplitude = 10.0\n",
    "    integral = np.pi / 2\n",
    "    duration = integral / amplitude\n",
    "    delay = avg_cycle_time - duration\n",
    "\n",
    "    bath = DrudeLorentzPadeBath(Q, lam=lam, gamma=gamma, T=T, Nk=Nk)\n",
    "\n",
    "    # Equally spaced pulses:\n",
    "\n",
    "    pulse_eq = drive(amplitude, delay, integral)\n",
    "    H_d = QobjEvo([H_sys, [H_drive, pulse_eq]])\n",
    "\n",
    "    hsolver = HEOMSolver(H_d, bath, NC, options=options)\n",
    "    result = hsolver.run(rho0, tlist)\n",
    "\n",
    "    P12_eq = expect(result.states[-1], P12p)\n",
    "    progress.value += 1\n",
    "\n",
    "    # Non-equally spaced pulses:\n",
    "\n",
    "    pulse_opt = drive_opt(amplitude, delay, integral, N)\n",
    "    H_d = QobjEvo([H_sys, [H_drive, pulse_opt]])\n",
    "\n",
    "    hsolver = HEOMSolver(H_d, bath, NC, options=options)\n",
    "    result = hsolver.run(rho0, tlist)\n",
    "\n",
    "    P12_opt = expect(result.states[-1], P12p)\n",
    "    progress.value += 1\n",
    "\n",
    "    return P12_opt, P12_eq\n",
    "\n",
    "\n",
    "# We use NC=2 and Nk=2 to speed up the simulation:\n",
    "\n",
    "P12_results = [\n",
    "    list(zip(*(\n",
    "        simulate_100_pulses(lam=lam_, gamma=gamma_, T=0.5, NC=2, Nk=2)\n",
    "        for gamma_ in gammas\n",
    "    )))\n",
    "    for lam_ in lams\n",
    "]"
   ]
  },
  {
   "cell_type": "markdown",
   "id": "0de5d0fc",
   "metadata": {},
   "source": [
    "Now that we have the expectation values of $\\rho_{01}$ let's plot them as a function of gamma for each lambda. Note how in each case the non-evenly spaced pulses become optimal once gamma is sufficiently small:"
   ]
  },
  {
   "cell_type": "code",
   "execution_count": null,
   "id": "0bdcab44",
   "metadata": {},
   "outputs": [],
   "source": [
    "fig, axes = plt.subplots(1, 1, sharex=False, figsize=(10, 7))\n",
    "colors = [\"green\", \"red\", \"blue\"]\n",
    "\n",
    "for i in range(len(lams)):\n",
    "    color = colors[i % len(colors)]\n",
    "    axes.plot(\n",
    "        gammas, np.real(P12_results[i][0]),\n",
    "        color, linestyle='-', linewidth=2,\n",
    "        label=f\"Optimal DD [$\\\\lambda={lams[i]}$]\",\n",
    "    )\n",
    "    axes.plot(\n",
    "        gammas, np.real(P12_results[i][1]),\n",
    "        color, linestyle='-.', linewidth=2,\n",
    "        label=f\"Even DD [$\\\\lambda={lams[i]}$]\",\n",
    "    )\n",
    "\n",
    "axes.set_ylabel(r\"$\\rho_{01}$\")\n",
    "axes.set_xlabel(r\"$\\gamma$\")\n",
    "axes.legend(fontsize=16)\n",
    "\n",
    "fig.tight_layout();"
   ]
  },
  {
   "cell_type": "markdown",
   "id": "1f47448f",
   "metadata": {},
   "source": [
    "And now you know about dynamically decoupling a qubit from its environment!"
   ]
  },
  {
   "cell_type": "markdown",
   "id": "97bd5b99",
   "metadata": {},
   "source": [
    "## About"
   ]
  },
  {
   "cell_type": "code",
   "execution_count": null,
   "id": "05840893",
   "metadata": {},
   "outputs": [],
   "source": [
    "qutip.about()"
   ]
  },
  {
   "cell_type": "markdown",
   "id": "9462bbd6",
   "metadata": {},
   "source": [
    "## Testing\n",
    "\n",
    "This section can include some tests to verify that the expected outputs are generated within the notebook. We put this section at the end of the notebook, so it's not interfering with the user experience. Please, define the tests using assert, so that the cell execution fails if a wrong output is generated."
   ]
  },
  {
   "cell_type": "code",
   "execution_count": null,
   "id": "7ecc8d83",
   "metadata": {},
   "outputs": [],
   "source": [
    "assert 1 == 1"
   ]
  }
 ],
 "metadata": {
  "jupytext": {
   "formats": "ipynb,md:myst"
  },
  "kernelspec": {
   "display_name": "Python 3 (ipykernel)",
   "language": "python",
   "name": "python3"
  }
 },
 "nbformat": 4,
 "nbformat_minor": 5
}
