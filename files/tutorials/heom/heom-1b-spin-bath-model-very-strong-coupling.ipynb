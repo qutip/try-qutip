{
 "cells": [
  {
   "cell_type": "markdown",
   "id": "6abcba4f",
   "metadata": {},
   "source": [
    "# HEOM 1b: Spin-Bath model (very strong coupling)"
   ]
  },
  {
   "cell_type": "markdown",
   "id": "08823e94",
   "metadata": {},
   "source": [
    "## Introduction\n",
    "\n",
    "The HEOM method solves the dynamics and steady state of a system and its environment, the latter of which is encoded in a set of auxiliary density matrices.\n",
    "\n",
    "In this example we show the evolution of a single two-level system in contact with a single Bosonic environment.  The properties of the system are encoded in Hamiltonian, and a coupling operator which describes how it is coupled to the environment.\n",
    "\n",
    "The Bosonic environment is implicitly assumed to obey a particular Hamiltonian, the parameters of which are encoded in the spectral density, and subsequently the free-bath correlation functions.\n",
    "\n",
    "In the example below we show how to model the overdamped Drude-Lorentz Spectral Density, commonly used with the HEOM. We show how to do this using the Matsubara, Pade and fitting decompositions, and compare their convergence.\n",
    "\n",
    "This notebook shows a similar example to notebook 1a, but with much stronger coupling as discussed in [Shi *et al.*, J. Chem. Phys **130**, 084105 (2009)](https://doi.org/10.1063/1.3077918). Please refer to notebook HEOM 1a for a more detailed explanation.\n",
    "\n",
    "As in notebook 1a, we present a variety of simulations using different techniques to showcase the effect of different approximations of the correlation function on the results:\n",
    "\n",
    "- Simulation 1: Matsubara decomposition, not using Ishizaki-Tanimura terminator\n",
    "- Simulation 2: Matsubara decomposition (including terminator)\n",
    "- Simulation 3: Pade decomposition\n",
    "- Simulation 4: Fitting approach\n",
    "\n",
    "Lastly we compare the results to using the Bloch-Redfield approach:\n",
    "\n",
    "- Simulation 5: Bloch-Redfield\n",
    "\n",
    "which does not give the correct evolution in this case.\n",
    "\n",
    "\n",
    "### Drude-Lorentz (overdamped) spectral density\n",
    "\n",
    "The Drude-Lorentz spectral density is:\n",
    "\n",
    "$$J_D(\\omega)= \\frac{2\\omega\\lambda\\gamma}{{\\gamma}^2 + \\omega^2}$$\n",
    "\n",
    "where $\\lambda$ scales the coupling strength, and $\\gamma$ is the cut-off frequency.  We use the convention,\n",
    "\\begin{equation*}\n",
    "C(t) = \\int_0^{\\infty} d\\omega \\frac{J_D(\\omega)}{\\pi}[\\coth(\\beta\\omega) \\cos(\\omega \\tau) - i \\sin(\\omega \\tau)]\n",
    "\\end{equation*}\n",
    "\n",
    "With the HEOM we must use an exponential decomposition:\n",
    "\n",
    "\\begin{equation*}\n",
    "C(t)=\\sum_{k=0}^{k=\\infty} c_k e^{-\\nu_k t}\n",
    "\\end{equation*}\n",
    "\n",
    "As an example, the Matsubara decomposition of the Drude-Lorentz spectral density is given by:\n",
    "\n",
    "\\begin{equation*}\n",
    "    \\nu_k = \\begin{cases}\n",
    "               \\gamma               & k = 0\\\\\n",
    "               {2 \\pi k} / {\\beta }  & k \\geq 1\\\\\n",
    "           \\end{cases}\n",
    "\\end{equation*}\n",
    "\n",
    "\\begin{equation*}\n",
    "    c_k = \\begin{cases}\n",
    "               \\lambda \\gamma (\\cot(\\beta \\gamma / 2) - i)             & k = 0\\\\\n",
    "               4 \\lambda \\gamma \\nu_k / \\{(nu_k^2 - \\gamma^2)\\beta \\}    & k \\geq 1\\\\\n",
    "           \\end{cases}\n",
    "\\end{equation*}\n",
    "\n",
    "Note that in the above, and the following, we set $\\hbar = k_\\mathrm{B} = 1$."
   ]
  },
  {
   "cell_type": "markdown",
   "id": "1f65f458",
   "metadata": {},
   "source": [
    "## Setup"
   ]
  },
  {
   "cell_type": "code",
   "execution_count": null,
   "id": "dad9d542",
   "metadata": {},
   "outputs": [],
   "source": [
    "import contextlib\n",
    "import time\n",
    "\n",
    "import numpy as np\n",
    "from scipy.optimize import curve_fit\n",
    "import matplotlib.pyplot as plt\n",
    "\n",
    "import qutip\n",
    "from qutip import (\n",
    "    basis,\n",
    "    brmesolve,\n",
    "    expect,\n",
    "    liouvillian,\n",
    "    sigmax,\n",
    "    sigmaz,\n",
    ")\n",
    "from qutip.solver.heom import (\n",
    "    HEOMSolver,\n",
    "    BosonicBath,\n",
    "    DrudeLorentzBath,\n",
    "    DrudeLorentzPadeBath,\n",
    "    BathExponent,\n",
    ")\n",
    "\n",
    "%matplotlib inline"
   ]
  },
  {
   "cell_type": "markdown",
   "id": "17db8815",
   "metadata": {},
   "source": [
    "## Helper functions\n",
    "\n",
    "Let's define some helper functions for calculating correlation function expansions, plotting results and timing how long operations take:"
   ]
  },
  {
   "cell_type": "code",
   "execution_count": null,
   "id": "0ff0ea6e",
   "metadata": {},
   "outputs": [],
   "source": [
    "def cot(x):\n",
    "    \"\"\" Vectorized cotangent of x. \"\"\"\n",
    "    return 1. / np.tan(x)"
   ]
  },
  {
   "cell_type": "code",
   "execution_count": null,
   "id": "0e72cb3f",
   "metadata": {},
   "outputs": [],
   "source": [
    "@contextlib.contextmanager\n",
    "def timer(label):\n",
    "    \"\"\" Simple utility for timing functions:\n",
    "\n",
    "        with timer(\"name\"):\n",
    "            ... code to time ...\n",
    "    \"\"\"\n",
    "    start = time.time()\n",
    "    yield\n",
    "    end = time.time()\n",
    "    print(f\"{label}: {end - start}\")"
   ]
  },
  {
   "cell_type": "code",
   "execution_count": null,
   "id": "56ecfc28",
   "metadata": {},
   "outputs": [],
   "source": [
    "# Solver options:\n",
    "\n",
    "options = {\n",
    "    \"nsteps\": 15000,\n",
    "    \"store_states\": True,\n",
    "    \"rtol\": 1e-14,\n",
    "    \"atol\": 1e-14,\n",
    "    \"method\": \"vern9\",\n",
    "    \"progress_bar\": \"enhanced\",\n",
    "}"
   ]
  },
  {
   "cell_type": "markdown",
   "id": "021225c2",
   "metadata": {},
   "source": [
    "## System and bath definition\n",
    "\n",
    "And let us set up the system Hamiltonian, bath and system measurement operators:"
   ]
  },
  {
   "cell_type": "code",
   "execution_count": null,
   "id": "7f223536",
   "metadata": {},
   "outputs": [],
   "source": [
    "# Defining the system Hamiltonian\n",
    "eps = .0     # Energy of the 2-level system.\n",
    "Del = .2     # Tunnelling term\n",
    "Hsys = 0.5 * eps * sigmaz() + 0.5 * Del * sigmax()"
   ]
  },
  {
   "cell_type": "code",
   "execution_count": null,
   "id": "9274fb48",
   "metadata": {},
   "outputs": [],
   "source": [
    "# Initial state of the system.\n",
    "rho0 = basis(2, 0) * basis(2, 0).dag()"
   ]
  },
  {
   "cell_type": "code",
   "execution_count": null,
   "id": "e4ee574b",
   "metadata": {},
   "outputs": [],
   "source": [
    "# System-bath coupling (Drude-Lorentz spectral density)\n",
    "Q = sigmaz()  # coupling operator\n",
    "\n",
    "# Bath properties (see Shi et al., J. Chem. Phys. 130, 084105 (2009)):\n",
    "gamma = 1.  # cut off frequency\n",
    "lam = 2.5   # coupling strength\n",
    "T = 1.      # in units where Boltzmann factor is 1\n",
    "beta = 1. / T\n",
    "\n",
    "# HEOM parameters:\n",
    "\n",
    "# number of exponents to retain in the Matsubara expansion of the\n",
    "# bath correlation function:\n",
    "Nk = 1\n",
    "\n",
    "# Number of levels of the hierarchy to retain:\n",
    "NC = 13\n",
    "\n",
    "# Times to solve for:\n",
    "tlist = np.linspace(0, np.pi / Del, 600)"
   ]
  },
  {
   "cell_type": "code",
   "execution_count": null,
   "id": "04dc10d1",
   "metadata": {},
   "outputs": [],
   "source": [
    "# Define some operators with which we will measure the system\n",
    "# 1,1 element of density matrix - corresonding to groundstate\n",
    "P11p = basis(2, 0) * basis(2, 0).dag()\n",
    "P22p = basis(2, 1) * basis(2, 1).dag()\n",
    "# 1,2 element of density matrix  - corresonding to coherence\n",
    "P12p = basis(2, 0) * basis(2, 1).dag()"
   ]
  },
  {
   "cell_type": "markdown",
   "id": "46aeb4aa",
   "metadata": {},
   "source": [
    "### Plot the spectral density\n",
    "\n",
    "Let us briefly inspect the spectral density."
   ]
  },
  {
   "cell_type": "code",
   "execution_count": null,
   "id": "facac8b8",
   "metadata": {},
   "outputs": [],
   "source": [
    "w = np.linspace(0, 5, 1000)\n",
    "J = w * 2 * lam * gamma / ((gamma**2 + w**2))\n",
    "\n",
    "# Plot the results\n",
    "fig, axes = plt.subplots(1, 1, sharex=True, figsize=(8, 8))\n",
    "axes.plot(w, J, 'r', linewidth=2)\n",
    "axes.set_xlabel(r'$\\omega$', fontsize=28)\n",
    "axes.set_ylabel(r'J', fontsize=28);"
   ]
  },
  {
   "cell_type": "markdown",
   "id": "147dde09",
   "metadata": {},
   "source": [
    "## Simulation 1: Matsubara decomposition, not using Ishizaki-Tanimura terminator"
   ]
  },
  {
   "cell_type": "code",
   "execution_count": null,
   "id": "d14090aa",
   "metadata": {},
   "outputs": [],
   "source": [
    "with timer(\"RHS construction time\"):\n",
    "    bath = DrudeLorentzBath(Q, lam=lam, gamma=gamma, T=T, Nk=Nk)\n",
    "    HEOMMats = HEOMSolver(Hsys, bath, NC, options=options)\n",
    "\n",
    "with timer(\"ODE solver time\"):\n",
    "    resultMats = HEOMMats.run(rho0, tlist)"
   ]
  },
  {
   "cell_type": "markdown",
   "id": "dae7d0b8",
   "metadata": {},
   "source": [
    "## Simulation 2: Matsubara decomposition (including terminator)"
   ]
  },
  {
   "cell_type": "code",
   "execution_count": null,
   "id": "d996d379",
   "metadata": {},
   "outputs": [],
   "source": [
    "with timer(\"RHS construction time\"):\n",
    "    bath = DrudeLorentzBath(Q, lam=lam, gamma=gamma, T=T, Nk=Nk)\n",
    "    _, terminator = bath.terminator()\n",
    "    Ltot = liouvillian(Hsys) + terminator\n",
    "    HEOMMatsT = HEOMSolver(Ltot, bath, NC, options=options)\n",
    "\n",
    "with timer(\"ODE solver time\"):\n",
    "    resultMatsT = HEOMMatsT.run(rho0, tlist)"
   ]
  },
  {
   "cell_type": "code",
   "execution_count": null,
   "id": "7c70dcfb",
   "metadata": {},
   "outputs": [],
   "source": [
    "# Plot the results\n",
    "fig, axes = plt.subplots(1, 1, sharex=True, figsize=(8, 8))\n",
    "\n",
    "P11_mats = np.real(expect(resultMats.states, P11p))\n",
    "axes.plot(\n",
    "    tlist, np.real(P11_mats),\n",
    "    'b', linewidth=2, label=\"P11 (Matsubara)\",\n",
    ")\n",
    "\n",
    "P11_matsT = np.real(expect(resultMatsT.states, P11p))\n",
    "axes.plot(\n",
    "    tlist, np.real(P11_matsT),\n",
    "    'b--', linewidth=2,\n",
    "    label=\"P11 (Matsubara + Terminator)\",\n",
    ")\n",
    "\n",
    "axes.set_xlabel(r't', fontsize=28)\n",
    "axes.legend(loc=0, fontsize=12);"
   ]
  },
  {
   "cell_type": "markdown",
   "id": "e147efca",
   "metadata": {},
   "source": [
    "## Simulation 3: Pade decomposition"
   ]
  },
  {
   "cell_type": "code",
   "execution_count": null,
   "id": "19c8a7a9",
   "metadata": {},
   "outputs": [],
   "source": [
    "# First, compare Matsubara and Pade decompositions\n",
    "matsBath = DrudeLorentzBath(Q, lam=lam, gamma=gamma, T=T, Nk=Nk)\n",
    "padeBath = DrudeLorentzPadeBath(Q, lam=lam, gamma=gamma, T=T, Nk=Nk)\n",
    "\n",
    "# We will compare against a summation of {lmaxmats} Matsubara terms\n",
    "lmaxmats = 15000\n",
    "exactBath = DrudeLorentzBath(\n",
    "    Q, lam=lam, gamma=gamma, T=T, Nk=lmaxmats, combine=False,\n",
    ")\n",
    "\n",
    "\n",
    "def CR(bath, t):\n",
    "    \"\"\" C_R, the real part of the correlation function. \"\"\"\n",
    "    result = 0\n",
    "    for exp in bath.exponents:\n",
    "        if (\n",
    "            exp.type == BathExponent.types['R'] or\n",
    "            exp.type == BathExponent.types['RI']\n",
    "        ):\n",
    "            result += exp.ck * np.exp(-exp.vk * t)\n",
    "    return result\n",
    "\n",
    "\n",
    "def CI(bath, t):\n",
    "    \"\"\" C_I, the imaginary part of the correlation function. \"\"\"\n",
    "    result = 0\n",
    "    for exp in bath.exponents:\n",
    "        if exp.type == BathExponent.types['I']:\n",
    "            result += exp.ck * np.exp(exp.vk * t)\n",
    "        if exp.type == BathExponent.types['RI']:\n",
    "            result += exp.ck2 * np.exp(exp.vk * t)\n",
    "    return result\n",
    "\n",
    "\n",
    "fig, (ax1, ax2) = plt.subplots(ncols=2, sharey=True, figsize=(16, 8))\n",
    "\n",
    "ax1.plot(\n",
    "    tlist, CR(exactBath, tlist),\n",
    "    \"r\", linewidth=2, label=f\"Mats (Nk={lmaxmats})\",\n",
    ")\n",
    "ax1.plot(\n",
    "    tlist, CR(matsBath, tlist),\n",
    "    \"g--\", linewidth=2, label=f\"Mats (Nk={Nk})\",\n",
    ")\n",
    "ax1.plot(\n",
    "    tlist, CR(padeBath, tlist),\n",
    "    \"b--\", linewidth=2, label=f\"Pade (Nk={Nk})\",\n",
    ")\n",
    "\n",
    "ax1.set_xlabel(r't', fontsize=28)\n",
    "ax1.set_ylabel(r\"$C_R(t)$\", fontsize=28)\n",
    "ax1.legend(loc=0, fontsize=12)\n",
    "\n",
    "tlist2 = tlist[0:50]\n",
    "ax2.plot(\n",
    "    tlist2, np.abs(CR(matsBath, tlist2) - CR(exactBath, tlist2)),\n",
    "    \"g\", linewidth=2, label=\"Mats Error\",\n",
    ")\n",
    "ax2.plot(\n",
    "    tlist2, np.abs(CR(padeBath, tlist2) - CR(exactBath, tlist2)),\n",
    "    \"b--\", linewidth=2, label=\"Pade Error\",\n",
    ")\n",
    "\n",
    "ax2.set_xlabel(r't', fontsize=28)\n",
    "ax2.legend(loc=0, fontsize=12);"
   ]
  },
  {
   "cell_type": "code",
   "execution_count": null,
   "id": "2fe5f282",
   "metadata": {},
   "outputs": [],
   "source": [
    "with timer(\"RHS construction time\"):\n",
    "    bath = DrudeLorentzPadeBath(Q, lam=lam, gamma=gamma, T=T, Nk=Nk)\n",
    "    HEOMPade = HEOMSolver(Hsys, bath, NC, options=options)\n",
    "\n",
    "with timer(\"ODE solver time\"):\n",
    "    resultPade = HEOMPade.run(rho0, tlist)"
   ]
  },
  {
   "cell_type": "code",
   "execution_count": null,
   "id": "c5ac69ef",
   "metadata": {},
   "outputs": [],
   "source": [
    "# Plot the results\n",
    "fig, axes = plt.subplots(figsize=(8, 8))\n",
    "\n",
    "axes.plot(\n",
    "    tlist, np.real(P11_mats),\n",
    "    'b', linewidth=2, label=\"P11 (Matsubara)\",\n",
    ")\n",
    "axes.plot(\n",
    "    tlist, np.real(P11_matsT),\n",
    "    'b--', linewidth=2, label=\"P11 (Matsubara + Terminator)\",\n",
    ")\n",
    "\n",
    "P11_pade = np.real(expect(resultPade.states, P11p))\n",
    "axes.plot(\n",
    "    tlist, np.real(P11_pade),\n",
    "    'r', linewidth=2, label=\"P11 (Pade)\",\n",
    ")\n",
    "\n",
    "axes.set_xlabel(r't', fontsize=28)\n",
    "axes.legend(loc=0, fontsize=12);"
   ]
  },
  {
   "cell_type": "markdown",
   "id": "052a2a9a",
   "metadata": {},
   "source": [
    "## Simulation 4: Fitting approach"
   ]
  },
  {
   "cell_type": "code",
   "execution_count": null,
   "id": "2d19edb9",
   "metadata": {},
   "outputs": [],
   "source": [
    "def wrapper_fit_func(x, N, args):\n",
    "    \"\"\" Fit function wrapper that unpacks its arguments. \"\"\"\n",
    "    x = np.array(x)\n",
    "    a = np.array(args[:N])\n",
    "    b = np.array(args[N:2 * N])\n",
    "    return fit_func(x, a, b)\n",
    "\n",
    "\n",
    "def fit_func(x, a, b):\n",
    "    \"\"\" Fit function. Calculates the value of the\n",
    "        correlation function at each x, given the\n",
    "        fit parameters in a and b.\n",
    "    \"\"\"\n",
    "    return np.sum(\n",
    "        a[:, None] * np.exp(np.multiply.outer(b, x)),\n",
    "        axis=0,\n",
    "    )\n",
    "\n",
    "\n",
    "def fitter(ans, tlist, k):\n",
    "    \"\"\" Compute fit with k exponents. \"\"\"\n",
    "    upper_a = abs(max(ans, key=abs)) * 10\n",
    "    # sets initial guesses:\n",
    "    guess = (\n",
    "        [upper_a / k] * k +  # guesses for a\n",
    "        [0] * k  # guesses for b\n",
    "    )\n",
    "    # sets lower bounds:\n",
    "    b_lower = (\n",
    "        [-upper_a] * k +  # lower bounds for a\n",
    "        [-np.inf] * k  # lower bounds for b\n",
    "    )\n",
    "    # sets higher bounds:\n",
    "    b_higher = (\n",
    "        [upper_a] * k +  # upper bounds for a\n",
    "        [0] * k  # upper bounds for b\n",
    "    )\n",
    "    param_bounds = (b_lower, b_higher)\n",
    "    p1, p2 = curve_fit(\n",
    "        lambda x, *params_0: wrapper_fit_func(x, k, params_0),\n",
    "        tlist,\n",
    "        ans,\n",
    "        p0=guess,\n",
    "        sigma=[0.01 for t in tlist],\n",
    "        bounds=param_bounds,\n",
    "        maxfev=1e8,\n",
    "    )\n",
    "    a, b = p1[:k], p1[k:]\n",
    "    return (a, b)"
   ]
  },
  {
   "cell_type": "code",
   "execution_count": null,
   "id": "eba597fa",
   "metadata": {},
   "outputs": [],
   "source": [
    "# Fitting the real part of the correlation function:\n",
    "\n",
    "# Correlation function values to fit:\n",
    "tlist_fit = np.linspace(0, 6, 10000)\n",
    "corrRana = CR(exactBath, tlist_fit)\n",
    "\n",
    "# Perform the fit:\n",
    "kR = 3  # number of exponents to use for real part\n",
    "poptR = []\n",
    "with timer(\"Correlation (real) fitting time\"):\n",
    "    for i in range(kR):\n",
    "        poptR.append(fitter(corrRana, tlist_fit, i + 1))"
   ]
  },
  {
   "cell_type": "code",
   "execution_count": null,
   "id": "143b6ce4",
   "metadata": {},
   "outputs": [],
   "source": [
    "plt.plot(tlist_fit, corrRana, label=\"Analytic\")\n",
    "\n",
    "for i in range(kR):\n",
    "    y = fit_func(tlist_fit, *poptR[i])\n",
    "    plt.plot(tlist_fit, y, label=f\"Fit with {i} terms\")\n",
    "\n",
    "plt.title(\"Fit to correlations (real part)\")\n",
    "plt.legend()\n",
    "plt.show()"
   ]
  },
  {
   "cell_type": "code",
   "execution_count": null,
   "id": "3d68553f",
   "metadata": {},
   "outputs": [],
   "source": [
    "# Set the exponential coefficients from the fit parameters\n",
    "\n",
    "ckAR1 = poptR[-1][0]\n",
    "ckAR = [x + 0j for x in ckAR1]\n",
    "\n",
    "vkAR1 = poptR[-1][1]\n",
    "vkAR = [-x + 0j for x in vkAR1]\n",
    "\n",
    "# Imaginary part: use analytical value\n",
    "\n",
    "ckAI = [lam * gamma * (-1.0) + 0j]\n",
    "vkAI = [gamma + 0j]"
   ]
  },
  {
   "cell_type": "code",
   "execution_count": null,
   "id": "98d1992d",
   "metadata": {},
   "outputs": [],
   "source": [
    "with timer(\"RHS construction time\"):\n",
    "    bath = BosonicBath(Q, ckAR, vkAR, ckAI, vkAI)\n",
    "    # We reduce NC slightly here for speed of execution because we retain\n",
    "    # 3 exponents in ckAR instead of 1. Please restore full NC for\n",
    "    # convergence though:\n",
    "    HEOMFit = HEOMSolver(Hsys, bath, int(NC * 0.7), options=options)\n",
    "\n",
    "with timer(\"ODE solver time\"):\n",
    "    resultFit = HEOMFit.run(rho0, tlist)"
   ]
  },
  {
   "cell_type": "markdown",
   "id": "56978984",
   "metadata": {},
   "source": [
    "## Simulation 5: Bloch-Redfield"
   ]
  },
  {
   "cell_type": "code",
   "execution_count": null,
   "id": "97724b7d",
   "metadata": {},
   "outputs": [],
   "source": [
    "DL = (\n",
    "    \"2 * pi * 2.0 * {lam} / (pi * {gamma} * {beta}) if (w==0) \"\n",
    "    \"else 2 * pi * (2.0 * {lam} * {gamma} * w / (pi * (w**2 + {gamma}**2))) \"\n",
    "    \"* ((1 / (exp(w * {beta}) - 1)) + 1)\"\n",
    ").format(gamma=gamma, beta=beta, lam=lam)\n",
    "\n",
    "with timer(\"ODE solver time\"):\n",
    "    resultBR = brmesolve(\n",
    "        Hsys, rho0, tlist,\n",
    "        a_ops=[[sigmaz(), DL]], sec_cutoff=0, options=options,\n",
    "    )"
   ]
  },
  {
   "cell_type": "markdown",
   "id": "8dffbe35",
   "metadata": {},
   "source": [
    "## Let's plot all our results\n",
    "\n",
    "Finally, let's plot all of our different results to see how they shape up against each other."
   ]
  },
  {
   "cell_type": "code",
   "execution_count": null,
   "id": "2eab353e",
   "metadata": {},
   "outputs": [],
   "source": [
    "# Calculate expectation values in the bases:\n",
    "P11_mats = np.real(expect(resultMats.states, P11p))\n",
    "P11_matsT = np.real(expect(resultMatsT.states, P11p))\n",
    "P11_pade = np.real(expect(resultPade.states, P11p))\n",
    "P11_fit = np.real(expect(resultFit.states, P11p))\n",
    "P11_br = np.real(expect(resultBR.states, P11p))"
   ]
  },
  {
   "cell_type": "code",
   "execution_count": null,
   "id": "e4522356",
   "metadata": {},
   "outputs": [],
   "source": [
    "rcParams = {\n",
    "    \"axes.titlesize\": 25,\n",
    "    \"axes.labelsize\": 30,\n",
    "    \"xtick.labelsize\": 28,\n",
    "    \"ytick.labelsize\": 28,\n",
    "    \"legend.fontsize\": 28,\n",
    "    \"axes.grid\": False,\n",
    "    \"savefig.bbox\": \"tight\",\n",
    "    \"lines.markersize\": 5,\n",
    "    \"font.family\": \"STIXgeneral\",\n",
    "    \"mathtext.fontset\": \"stix\",\n",
    "    \"font.serif\": \"STIX\",\n",
    "    \"text.usetex\": False,\n",
    "}"
   ]
  },
  {
   "cell_type": "code",
   "execution_count": null,
   "id": "bac15d33",
   "metadata": {},
   "outputs": [],
   "source": [
    "fig, axes = plt.subplots(1, 1, sharex=True, figsize=(12, 7))\n",
    "\n",
    "with plt.rc_context(rcParams):\n",
    "    # Plot the results\n",
    "    plt.yticks([0.99, 1.0], [0.99, 1])\n",
    "    axes.plot(\n",
    "        tlist, np.real(P11_mats),\n",
    "        'b', linewidth=2, label=f\"Matsubara $N_k={Nk}$\",\n",
    "    )\n",
    "    axes.plot(\n",
    "        tlist, np.real(P11_matsT),\n",
    "        'g--', linewidth=3,\n",
    "        label=f\"Matsubara $N_k={Nk}$ & terminator\",\n",
    "    )\n",
    "    axes.plot(\n",
    "        tlist, np.real(P11_pade),\n",
    "        'y-.', linewidth=2, label=f\"Padé $N_k={Nk}$\",\n",
    "    )\n",
    "    axes.plot(\n",
    "        tlist, np.real(P11_fit),\n",
    "        'r', dashes=[3, 2], linewidth=2,\n",
    "        label=r\"Fit $N_f = 3$, $N_k=15 \\times 10^3$\",\n",
    "    )\n",
    "    axes.plot(\n",
    "        tlist, np.real(P11_br),\n",
    "        'b-.', linewidth=1, label=\"Bloch Redfield\",\n",
    "    )\n",
    "\n",
    "    axes.locator_params(axis='y', nbins=6)\n",
    "    axes.locator_params(axis='x', nbins=6)\n",
    "    axes.set_ylabel(r'$\\rho_{11}$', fontsize=30)\n",
    "    axes.set_xlabel(r'$t\\;\\gamma$', fontsize=30)\n",
    "    axes.set_xlim(tlist[0], tlist[-1])\n",
    "    axes.set_ylim(0.98405, 1.0005)\n",
    "    axes.legend(loc=0)"
   ]
  },
  {
   "cell_type": "markdown",
   "id": "9363daaa",
   "metadata": {},
   "source": [
    "## About"
   ]
  },
  {
   "cell_type": "code",
   "execution_count": null,
   "id": "103ba1a2",
   "metadata": {},
   "outputs": [],
   "source": [
    "qutip.about()"
   ]
  },
  {
   "cell_type": "markdown",
   "id": "06f6644c",
   "metadata": {},
   "source": [
    "## Testing\n",
    "\n",
    "This section can include some tests to verify that the expected outputs are generated within the notebook. We put this section at the end of the notebook, so it's not interfering with the user experience. Please, define the tests using assert, so that the cell execution fails if a wrong output is generated."
   ]
  },
  {
   "cell_type": "code",
   "execution_count": null,
   "id": "f6f67181",
   "metadata": {},
   "outputs": [],
   "source": [
    "assert np.allclose(P11_matsT, P11_pade, rtol=1e-3)\n",
    "assert np.allclose(P11_matsT, P11_fit, rtol=1e-3)"
   ]
  }
 ],
 "metadata": {
  "jupytext": {
   "formats": "ipynb,md:myst"
  },
  "kernelspec": {
   "display_name": "Python 3 (ipykernel)",
   "language": "python",
   "name": "python3"
  }
 },
 "nbformat": 4,
 "nbformat_minor": 5
}
