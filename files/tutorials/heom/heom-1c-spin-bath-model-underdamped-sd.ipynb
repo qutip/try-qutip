{
 "cells": [
  {
   "cell_type": "markdown",
   "id": "a5fc44e7",
   "metadata": {},
   "source": [
    "# HEOM 1c: Spin-Bath model (Underdamped Case)"
   ]
  },
  {
   "cell_type": "markdown",
   "id": "5c59b6c0",
   "metadata": {},
   "source": [
    "## Introduction\n",
    "\n",
    "The HEOM method solves the dynamics and steady state of a system and its environment, the latter of which is encoded in a set of auxiliary density matrices.\n",
    "\n",
    "In this example we show the evolution of a single two-level system in contact with a single Bosonic environment.  The properties of the system are encoded in Hamiltonian, and a coupling operator which describes how it is coupled to the environment.\n",
    "\n",
    "The Bosonic environment is implicitly assumed to obey a particular Hamiltonian ([see paper](https://arxiv.org/abs/2010.10806)), the parameters of which are encoded in the spectral density, and subsequently the free-bath correlation functions.\n",
    "\n",
    "In the example below we show how to model the underdamped Brownian motion Spectral Density.\n",
    "\n",
    "Note that in the following, we set $\\hbar = k_\\mathrm{B} = 1$.\n",
    "\n",
    "###  Brownian motion (underdamped) spectral density\n",
    "The underdamped spectral density is:\n",
    "\n",
    "$$J_U = \\frac{\\alpha^2 \\Gamma \\omega}{(\\omega_c^2 - \\omega^2)^2 + \\Gamma^2 \\omega^2)}.$$\n",
    "\n",
    "Here $\\alpha$  scales the coupling strength, $\\Gamma$ is the cut-off frequency, and $\\omega_c$ defines a resonance frequency.  With the HEOM we must use an exponential decomposition:\n",
    "\n",
    "The Matsubara decomposition of this spectral density is, in real and imaginary parts:\n",
    "\n",
    "\n",
    "\n",
    "\\begin{equation*}\n",
    "    c_k^R = \\begin{cases}\n",
    "               \\alpha^2 \\coth(\\beta( \\Omega + i\\Gamma/2)/2)/4\\Omega & k = 0\\\\\n",
    "               \\alpha^2 \\coth(\\beta( \\Omega - i\\Gamma/2)/2)/4\\Omega & k = 0\\\\\n",
    "              -2\\alpha^2\\Gamma/\\beta \\frac{\\epsilon_k }{((\\Omega + i\\Gamma/2)^2 + \\epsilon_k^2)(\\Omega - i\\Gamma/2)^2 + \\epsilon_k^2)}      & k \\geq 1\\\\\n",
    "           \\end{cases}\n",
    "\\end{equation*}\n",
    "\n",
    "\\begin{equation*}\n",
    "    \\nu_k^R = \\begin{cases}\n",
    "               -i\\Omega  + \\Gamma/2, i\\Omega  +\\Gamma/2,             & k = 0\\\\\n",
    "               {2 \\pi k} / {\\beta }  & k \\geq 1\\\\\n",
    "           \\end{cases}\n",
    "\\end{equation*}\n",
    "\n",
    "\n",
    "\n",
    "\n",
    "\\begin{equation*}\n",
    "    c_k^I = \\begin{cases}\n",
    "               i\\alpha^2 /4\\Omega & k = 0\\\\\n",
    "                -i\\alpha^2 /4\\Omega & k = 0\\\\\n",
    "           \\end{cases}\n",
    "\\end{equation*}\n",
    "\n",
    "\\begin{equation*}\n",
    "    \\nu_k^I = \\begin{cases}\n",
    "               i\\Omega  + \\Gamma/2, -i\\Omega  + \\Gamma/2,             & k = 0\\\\\n",
    "           \\end{cases}\n",
    "\\end{equation*}\n",
    "\n",
    "Note that in the above, and the following, we set $\\hbar = k_\\mathrm{B} = 1$."
   ]
  },
  {
   "cell_type": "markdown",
   "id": "38d93234",
   "metadata": {},
   "source": [
    "## Setup"
   ]
  },
  {
   "cell_type": "code",
   "execution_count": null,
   "id": "4039268c",
   "metadata": {},
   "outputs": [],
   "source": [
    "import contextlib\n",
    "import time\n",
    "\n",
    "import numpy as np\n",
    "from matplotlib import pyplot as plt\n",
    "\n",
    "import qutip\n",
    "from qutip import (\n",
    "    basis,\n",
    "    brmesolve,\n",
    "    destroy,\n",
    "    expect,\n",
    "    qeye,\n",
    "    sigmax,\n",
    "    sigmaz,\n",
    "    tensor,\n",
    ")\n",
    "from qutip.solver.heom import (\n",
    "    HEOMSolver,\n",
    "    BosonicBath,\n",
    "    UnderDampedBath,\n",
    ")\n",
    "\n",
    "%matplotlib inline"
   ]
  },
  {
   "cell_type": "markdown",
   "id": "39a0efd0",
   "metadata": {},
   "source": [
    "## Helper functions\n",
    "\n",
    "Let's define some helper functions for calculating correlation function expansions, plotting results and timing how long operations take:"
   ]
  },
  {
   "cell_type": "code",
   "execution_count": null,
   "id": "39ab4467",
   "metadata": {},
   "outputs": [],
   "source": [
    "def cot(x):\n",
    "    \"\"\" Vectorized cotangent of x. \"\"\"\n",
    "    return 1. / np.tan(x)"
   ]
  },
  {
   "cell_type": "code",
   "execution_count": null,
   "id": "83735147",
   "metadata": {},
   "outputs": [],
   "source": [
    "def coth(x):\n",
    "    \"\"\" Vectorized hyperbolic cotangent of x. \"\"\"\n",
    "    return 1. / np.tanh(x)"
   ]
  },
  {
   "cell_type": "code",
   "execution_count": null,
   "id": "c080ad10",
   "metadata": {},
   "outputs": [],
   "source": [
    "def underdamped_matsubara_params(lam, gamma, T, nk):\n",
    "    \"\"\" Calculation of the real and imaginary expansions of the\n",
    "        underdamped correlation functions.\n",
    "    \"\"\"\n",
    "    Om = np.sqrt(w0**2 - (gamma / 2)**2)\n",
    "    Gamma = gamma / 2.\n",
    "    beta = 1. / T\n",
    "\n",
    "    ckAR = [\n",
    "        (lam**2 / (4*Om)) * coth(beta * (Om + 1.0j * Gamma) / 2),\n",
    "        (lam**2 / (4*Om)) * coth(beta * (Om - 1.0j * Gamma) / 2),\n",
    "    ]\n",
    "    ckAR.extend(\n",
    "        (-2 * lam**2 * gamma / beta) * (2 * np.pi * k / beta) /\n",
    "        (((Om + 1.0j * Gamma)**2 + (2 * np.pi * k / beta)**2) *\n",
    "         ((Om - 1.0j * Gamma)**2 + (2 * np.pi * k / beta)**2)) + 0.j\n",
    "        for k in range(1, nk + 1)\n",
    "    )\n",
    "    vkAR = [\n",
    "        -1.0j * Om + Gamma,\n",
    "        1.0j * Om + Gamma,\n",
    "    ]\n",
    "    vkAR.extend(\n",
    "        2 * np.pi * k * T + 0.j\n",
    "        for k in range(1, nk + 1)\n",
    "    )\n",
    "\n",
    "    factor = 1. / 4\n",
    "\n",
    "    ckAI = [\n",
    "        -factor * lam**2 * 1.0j / Om,\n",
    "        factor * lam**2 * 1.0j / Om,\n",
    "    ]\n",
    "    vkAI = [\n",
    "        -(-1.0j * Om - Gamma),\n",
    "        -(1.0j * Om - Gamma),\n",
    "    ]\n",
    "\n",
    "    return ckAR, vkAR, ckAI, vkAI"
   ]
  },
  {
   "cell_type": "code",
   "execution_count": null,
   "id": "2159af6e",
   "metadata": {},
   "outputs": [],
   "source": [
    "def plot_result_expectations(plots, axes=None):\n",
    "    \"\"\" Plot the expectation values of operators as functions of time.\n",
    "\n",
    "        Each plot in plots consists of: (solver_result, measurement_operation,\n",
    "        color, label).\n",
    "    \"\"\"\n",
    "    if axes is None:\n",
    "        fig, axes = plt.subplots(1, 1, sharex=True, figsize=(8, 8))\n",
    "        fig_created = True\n",
    "    else:\n",
    "        fig = None\n",
    "        fig_created = False\n",
    "\n",
    "    # add kw arguments to each plot if missing\n",
    "    plots = [p if len(p) == 5 else p + ({},) for p in plots]\n",
    "    for result, m_op, color, label, kw in plots:\n",
    "        exp = np.real(expect(result.states, m_op))\n",
    "        kw.setdefault(\"linewidth\", 2)\n",
    "        axes.plot(result.times, exp, color, label=label, **kw)\n",
    "\n",
    "    if fig_created:\n",
    "        axes.legend(loc=0, fontsize=12)\n",
    "        axes.set_xlabel(\"t\", fontsize=28)\n",
    "\n",
    "    return fig"
   ]
  },
  {
   "cell_type": "code",
   "execution_count": null,
   "id": "e4f67ce1",
   "metadata": {},
   "outputs": [],
   "source": [
    "@contextlib.contextmanager\n",
    "def timer(label):\n",
    "    \"\"\" Simple utility for timing functions:\n",
    "\n",
    "        with timer(\"name\"):\n",
    "            ... code to time ...\n",
    "    \"\"\"\n",
    "    start = time.time()\n",
    "    yield\n",
    "    end = time.time()\n",
    "    print(f\"{label}: {end - start}\")"
   ]
  },
  {
   "cell_type": "code",
   "execution_count": null,
   "id": "a049db48",
   "metadata": {},
   "outputs": [],
   "source": [
    "# Solver options:\n",
    "\n",
    "options = {\n",
    "    \"nsteps\": 15000,\n",
    "    \"store_states\": True,\n",
    "    \"rtol\": 1e-14,\n",
    "    \"atol\": 1e-14,\n",
    "    \"method\": \"vern9\",\n",
    "    \"progress_bar\": \"enhanced\",\n",
    "}"
   ]
  },
  {
   "cell_type": "markdown",
   "id": "722e96b8",
   "metadata": {},
   "source": [
    "## System and bath definition\n",
    "\n",
    "And let us set up the system Hamiltonian, bath and system measurement operators:"
   ]
  },
  {
   "cell_type": "code",
   "execution_count": null,
   "id": "74d6ddce",
   "metadata": {},
   "outputs": [],
   "source": [
    "# Defining the system Hamiltonian\n",
    "eps = .5     # Energy of the 2-level system.\n",
    "Del = 1.0    # Tunnelling term\n",
    "Hsys = 0.5 * eps * sigmaz() + 0.5 * Del * sigmax()"
   ]
  },
  {
   "cell_type": "code",
   "execution_count": null,
   "id": "cf79cd50",
   "metadata": {},
   "outputs": [],
   "source": [
    "# Initial state of the system.\n",
    "rho0 = basis(2, 0) * basis(2, 0).dag()"
   ]
  },
  {
   "cell_type": "code",
   "execution_count": null,
   "id": "819153f3",
   "metadata": {},
   "outputs": [],
   "source": [
    "# System-bath coupling (underdamed spectral density)\n",
    "Q = sigmaz()  # coupling operator\n",
    "\n",
    "# Bath properties:\n",
    "gamma = .1  # cut off frequency\n",
    "lam = .5  # coupling strength\n",
    "w0 = 1.  # resonance frequency\n",
    "T = 1.\n",
    "beta = 1. / T\n",
    "\n",
    "# HEOM parameters:\n",
    "\n",
    "# number of exponents to retain in the Matsubara expansion of the\n",
    "# bath correlation function:\n",
    "Nk = 2\n",
    "\n",
    "# Number of levels of the hierarchy to retain:\n",
    "NC = 10\n",
    "\n",
    "# Times to solve for:\n",
    "tlist = np.linspace(0, 50, 1000)"
   ]
  },
  {
   "cell_type": "code",
   "execution_count": null,
   "id": "fef81ed0",
   "metadata": {},
   "outputs": [],
   "source": [
    "# Define some operators with which we will measure the system\n",
    "# 1,1 element of density matrix - corresonding to groundstate\n",
    "P11p = basis(2, 0) * basis(2, 0).dag()\n",
    "P22p = basis(2, 1) * basis(2, 1).dag()\n",
    "# 1,2 element of density matrix  - corresonding to coherence\n",
    "P12p = basis(2, 0) * basis(2, 1).dag()"
   ]
  },
  {
   "cell_type": "markdown",
   "id": "18aa83d7",
   "metadata": {},
   "source": [
    "### First let us look at what the underdamped spectral density looks like:"
   ]
  },
  {
   "cell_type": "code",
   "execution_count": null,
   "id": "8ff85944",
   "metadata": {},
   "outputs": [],
   "source": [
    "def plot_spectral_density():\n",
    "    \"\"\" Plot the underdamped spectral density \"\"\"\n",
    "    w = np.linspace(0, 5, 1000)\n",
    "    J = lam**2 * gamma * w / ((w0**2 - w**2)**2 + (gamma**2) * (w**2))\n",
    "\n",
    "    fig, axes = plt.subplots(1, 1, sharex=True, figsize=(8, 8))\n",
    "    axes.plot(w, J, 'r', linewidth=2)\n",
    "    axes.set_xlabel(r'$\\omega$', fontsize=28)\n",
    "    axes.set_ylabel(r'J', fontsize=28)\n",
    "\n",
    "\n",
    "plot_spectral_density()"
   ]
  },
  {
   "cell_type": "markdown",
   "id": "77ac80f2",
   "metadata": {},
   "source": [
    "The correlation functions are now very oscillatory, because of the Lorentzian peak in the spectral density."
   ]
  },
  {
   "cell_type": "markdown",
   "id": "303e3526",
   "metadata": {},
   "source": [
    "### So next, let us plot the correlation functions themselves:"
   ]
  },
  {
   "cell_type": "code",
   "execution_count": null,
   "id": "1878753a",
   "metadata": {},
   "outputs": [],
   "source": [
    "def Mk(t, k, gamma, w0, beta):\n",
    "    \"\"\" Calculate the Matsubara terms for a given t and k. \"\"\"\n",
    "    Om = np.sqrt(w0**2 - (gamma / 2)**2)\n",
    "    Gamma = gamma / 2.\n",
    "    ek = 2 * np.pi * k / beta\n",
    "\n",
    "    return (\n",
    "        (-2 * lam**2 * gamma / beta) * ek * np.exp(-ek * np.abs(t))\n",
    "        / (((Om + 1.0j * Gamma)**2 + ek**2) * ((Om - 1.0j * Gamma)**2 + ek**2))\n",
    "    )\n",
    "\n",
    "\n",
    "def c(t, Nk, lam, gamma, w0, beta):\n",
    "    \"\"\" Calculate the correlation function for a vector of times, t. \"\"\"\n",
    "    Om = np.sqrt(w0**2 - (gamma / 2)**2)\n",
    "    Gamma = gamma / 2.\n",
    "\n",
    "    Cr = (\n",
    "        coth(beta * (Om + 1.0j * Gamma) / 2) * np.exp(1.0j * Om * t)\n",
    "        + coth(beta * (Om - 1.0j * Gamma) / 2) * np.exp(-1.0j * Om * t)\n",
    "    )\n",
    "\n",
    "    Ci = np.exp(-1.0j * Om * t) - np.exp(1.0j * Om * t)\n",
    "\n",
    "    return (\n",
    "        (lam**2 / (4 * Om)) * np.exp(-Gamma * np.abs(t)) * (Cr + Ci) +\n",
    "        np.sum([\n",
    "            Mk(t, k, gamma=gamma, w0=w0, beta=beta)\n",
    "            for k in range(1, Nk + 1)\n",
    "        ], 0)\n",
    "    )\n",
    "\n",
    "\n",
    "def plot_correlation_function():\n",
    "    \"\"\" Plot the underdamped correlation function. \"\"\"\n",
    "    t = np.linspace(0, 20, 1000)\n",
    "    corr = c(t, Nk=3, lam=lam, gamma=gamma, w0=w0, beta=beta)\n",
    "\n",
    "    fig, axes = plt.subplots(1, 1, sharex=True, figsize=(8, 8))\n",
    "    axes.plot(t, np.real(corr), '-', color=\"black\", label=\"Re[C(t)]\")\n",
    "    axes.plot(t, np.imag(corr), '-', color=\"red\", label=\"Im[C(t)]\")\n",
    "    axes.set_xlabel(r't', fontsize=28)\n",
    "    axes.set_ylabel(r'C', fontsize=28)\n",
    "    axes.legend(loc=0, fontsize=12)\n",
    "\n",
    "\n",
    "plot_correlation_function()"
   ]
  },
  {
   "cell_type": "markdown",
   "id": "1b0fa139",
   "metadata": {},
   "source": [
    "It is useful to look at what the Matsubara contributions do to this spectral density. We see that they modify the real part around $t=0$:"
   ]
  },
  {
   "cell_type": "code",
   "execution_count": null,
   "id": "4a72194c",
   "metadata": {},
   "outputs": [],
   "source": [
    "def plot_matsubara_correlation_function_contributions():\n",
    "    \"\"\" Plot the underdamped correlation function. \"\"\"\n",
    "    t = np.linspace(0, 20, 1000)\n",
    "\n",
    "    M_Nk2 = np.sum([\n",
    "        Mk(t, k, gamma=gamma, w0=w0, beta=beta)\n",
    "        for k in range(1, 2 + 1)\n",
    "    ], 0)\n",
    "\n",
    "    M_Nk100 = np.sum([\n",
    "        Mk(t, k, gamma=gamma, w0=w0, beta=beta)\n",
    "        for k in range(1, 100 + 1)\n",
    "    ], 0)\n",
    "\n",
    "    fig, axes = plt.subplots(1, 1, sharex=True, figsize=(8, 8))\n",
    "    axes.plot(t, np.real(M_Nk2), '-', color=\"black\", label=\"Re[M(t)] Nk=2\")\n",
    "    axes.plot(t, np.real(M_Nk100), '--', color=\"red\", label=\"Re[M(t)] Nk=100\")\n",
    "    axes.set_xlabel(r't', fontsize=28)\n",
    "    axes.set_ylabel(r'M', fontsize=28)\n",
    "    axes.legend(loc=0, fontsize=12)\n",
    "\n",
    "\n",
    "plot_matsubara_correlation_function_contributions()"
   ]
  },
  {
   "cell_type": "markdown",
   "id": "a8488c42",
   "metadata": {},
   "source": [
    "## Solving for the dynamics as a function of time"
   ]
  },
  {
   "cell_type": "markdown",
   "id": "2184a5cc",
   "metadata": {},
   "source": [
    "Next we calculate the exponents using the Matsubara decompositions. Here we split them into real and imaginary parts.\n",
    "\n",
    "The HEOM code will optimize these, and reduce the number of exponents when real and imaginary parts have the same exponent. This is clearly the case for the first term in the vkAI and vkAR lists."
   ]
  },
  {
   "cell_type": "code",
   "execution_count": null,
   "id": "234a4f49",
   "metadata": {},
   "outputs": [],
   "source": [
    "ckAR, vkAR, ckAI, vkAI = underdamped_matsubara_params(\n",
    "    lam=lam, gamma=gamma, T=T, nk=Nk,\n",
    ")"
   ]
  },
  {
   "cell_type": "markdown",
   "id": "d1953c3f",
   "metadata": {},
   "source": [
    "Having created the lists which specify the bath correlation functions, we create a `BosonicBath` from them and pass the bath to the `HEOMSolver` class.\n",
    "\n",
    "The solver constructs the \"right hand side\" (RHS) determinining how the system and auxiliary density operators evolve in time. This can then be used to solve for dynamics or steady-state.\n",
    "\n",
    "Below we create the bath and solver and then solve for the dynamics by calling `.run(rho0, tlist)`."
   ]
  },
  {
   "cell_type": "code",
   "execution_count": null,
   "id": "20a8e33d",
   "metadata": {},
   "outputs": [],
   "source": [
    "with timer(\"RHS construction time\"):\n",
    "    bath = BosonicBath(Q, ckAR, vkAR, ckAI, vkAI)\n",
    "    HEOMMats = HEOMSolver(Hsys, bath, NC, options=options)\n",
    "\n",
    "with timer(\"ODE solver time\"):\n",
    "    resultMats = HEOMMats.run(rho0, tlist)"
   ]
  },
  {
   "cell_type": "code",
   "execution_count": null,
   "id": "e734ffc5",
   "metadata": {},
   "outputs": [],
   "source": [
    "plot_result_expectations([\n",
    "    (resultMats, P11p, 'b', \"P11 Mats\"),\n",
    "    (resultMats, P12p, 'r', \"P12 Mats\"),\n",
    "]);"
   ]
  },
  {
   "cell_type": "markdown",
   "id": "ce53b29e",
   "metadata": {},
   "source": [
    "In practice, one would not perform this laborious expansion for the underdamped correlation function, because\n",
    "QuTiP already has a class, `UnderDampedBath`, that can construct this bath for you. Nevertheless, knowing how\n",
    "to perform this expansion will allow you to construct your own baths for other spectral densities.\n",
    "\n",
    "Below we show how to use this built-in functionality:"
   ]
  },
  {
   "cell_type": "code",
   "execution_count": null,
   "id": "7f75b565",
   "metadata": {},
   "outputs": [],
   "source": [
    "# Compare to built-in under-damped bath:\n",
    "\n",
    "with timer(\"RHS construction time\"):\n",
    "    bath = UnderDampedBath(Q, lam=lam, gamma=gamma, w0=w0, T=T, Nk=Nk)\n",
    "    HEOM_udbath = HEOMSolver(Hsys, bath, NC, options=options)\n",
    "\n",
    "with timer(\"ODE solver time\"):\n",
    "    result_udbath = HEOM_udbath.run(rho0, tlist)"
   ]
  },
  {
   "cell_type": "code",
   "execution_count": null,
   "id": "d7d9d4b0",
   "metadata": {},
   "outputs": [],
   "source": [
    "plot_result_expectations([\n",
    "    (result_udbath, P11p, 'b', \"P11 (UnderDampedBath)\"),\n",
    "    (result_udbath, P12p, 'r', \"P12 (UnderDampedBath)\"),\n",
    "]);"
   ]
  },
  {
   "cell_type": "markdown",
   "id": "1f9f6a60",
   "metadata": {},
   "source": [
    "## Compare the results"
   ]
  },
  {
   "cell_type": "markdown",
   "id": "82ad70d4",
   "metadata": {},
   "source": [
    "### We can compare these results to those of the Bloch-Redfield solver in QuTiP:"
   ]
  },
  {
   "cell_type": "code",
   "execution_count": null,
   "id": "4d9210d3",
   "metadata": {},
   "outputs": [],
   "source": [
    "UD = (\n",
    "    f\"2 * {lam}**2 * {gamma} / ( {w0}**4 * {beta}) if (w==0)\"\n",
    "    \" else \"\n",
    "    f\"2 * ({lam}**2 * {gamma} * w / (({w0}**2 - w**2)**2 + {gamma}**2 * w**2))\"\n",
    "    f\" * ((1 / (exp(w * {beta}) - 1)) + 1)\"\n",
    ")\n",
    "\n",
    "with timer(\"ODE solver time\"):\n",
    "    resultBR = brmesolve(\n",
    "        Hsys, rho0, tlist,\n",
    "        a_ops=[[sigmaz(), UD]], options=options,\n",
    "    )"
   ]
  },
  {
   "cell_type": "code",
   "execution_count": null,
   "id": "9466daf8",
   "metadata": {},
   "outputs": [],
   "source": [
    "plot_result_expectations([\n",
    "    (resultMats, P11p, 'b', \"P11 Mats\"),\n",
    "    (resultMats, P12p, 'r', \"P12 Mats\"),\n",
    "    (resultBR, P11p, 'g--', \"P11 Bloch Redfield\"),\n",
    "    (resultBR, P12p, 'g--', \"P12 Bloch Redfield\"),\n",
    "]);"
   ]
  },
  {
   "cell_type": "markdown",
   "id": "855eaec9",
   "metadata": {},
   "source": [
    "### Lastly, let us calculate the analytical steady-state result and compare all of the results:"
   ]
  },
  {
   "cell_type": "markdown",
   "id": "d40f48f7",
   "metadata": {},
   "source": [
    "The thermal state of a reaction coordinate (treating the environment as a single damped mode) should, at high temperatures and small gamma, tell us the steady-state:"
   ]
  },
  {
   "cell_type": "code",
   "execution_count": null,
   "id": "aa23eff4",
   "metadata": {},
   "outputs": [],
   "source": [
    "dot_energy, dot_state = Hsys.eigenstates()\n",
    "deltaE = dot_energy[1] - dot_energy[0]\n",
    "\n",
    "gamma2 = gamma\n",
    "wa = w0  # reaction coordinate frequency\n",
    "g = lam / np.sqrt(2 * wa)  # coupling\n",
    "\n",
    "NRC = 10\n",
    "\n",
    "Hsys_exp = tensor(qeye(NRC), Hsys)\n",
    "Q_exp = tensor(qeye(NRC), Q)\n",
    "a = tensor(destroy(NRC), qeye(2))\n",
    "\n",
    "H0 = wa * a.dag() * a + Hsys_exp\n",
    "# interaction\n",
    "H1 = (g * (a.dag() + a) * Q_exp)\n",
    "\n",
    "H = H0 + H1\n",
    "\n",
    "energies, states = H.eigenstates()\n",
    "rhoss = 0 * states[0] * states[0].dag()\n",
    "for kk, energ in enumerate(energies):\n",
    "    rhoss += (states[kk] * states[kk].dag() * np.exp(-beta * energies[kk]))\n",
    "rhoss = rhoss / rhoss.norm()\n",
    "\n",
    "P12RC = tensor(qeye(NRC), basis(2, 0) * basis(2, 1).dag())\n",
    "P12RC = expect(rhoss, P12RC)\n",
    "\n",
    "P11RC = tensor(qeye(NRC), basis(2, 0) * basis(2, 0).dag())\n",
    "P11RC = expect(rhoss, P11RC)"
   ]
  },
  {
   "cell_type": "code",
   "execution_count": null,
   "id": "622db2ea",
   "metadata": {},
   "outputs": [],
   "source": [
    "rcParams = {\n",
    "    \"axes.titlesize\": 25,\n",
    "    \"axes.labelsize\": 30,\n",
    "    \"xtick.labelsize\": 28,\n",
    "    \"ytick.labelsize\": 28,\n",
    "    \"legend.fontsize\": 28,\n",
    "    \"axes.grid\": False,\n",
    "    \"savefig.bbox\": \"tight\",\n",
    "    \"lines.markersize\": 5,\n",
    "    \"font.family\": \"STIXgeneral\",\n",
    "    \"mathtext.fontset\": \"stix\",\n",
    "    \"font.serif\": \"STIX\",\n",
    "    \"text.usetex\": False,\n",
    "}"
   ]
  },
  {
   "cell_type": "code",
   "execution_count": null,
   "id": "ac558fc0",
   "metadata": {},
   "outputs": [],
   "source": [
    "fig, axes = plt.subplots(1, 1, sharex=True, figsize=(12, 7))\n",
    "\n",
    "with plt.rc_context(rcParams):\n",
    "    plt.yticks([P11RC, 0.6, 1.0], [0.38, 0.6, 1])\n",
    "\n",
    "    plot_result_expectations([\n",
    "        (resultBR, P11p, 'y-.', \"Bloch-Redfield\"),\n",
    "        (resultMats, P11p, 'b', \"Matsubara $N_k=3$\"),\n",
    "    ], axes=axes)\n",
    "    axes.plot(\n",
    "        tlist, [P11RC for t in tlist],\n",
    "        color='black', linestyle=\"-.\", linewidth=2,\n",
    "        label=\"Thermal state\",\n",
    "    )\n",
    "\n",
    "    axes.set_xlabel(r'$t \\Delta$', fontsize=30)\n",
    "    axes.set_ylabel(r'$\\rho_{11}$', fontsize=30)\n",
    "\n",
    "    axes.locator_params(axis='y', nbins=4)\n",
    "    axes.locator_params(axis='x', nbins=4)\n",
    "\n",
    "    axes.legend(loc=0)\n",
    "\n",
    "    fig.tight_layout()"
   ]
  },
  {
   "cell_type": "markdown",
   "id": "a361f8ea",
   "metadata": {},
   "source": [
    "## About"
   ]
  },
  {
   "cell_type": "code",
   "execution_count": null,
   "id": "1a34cf4f",
   "metadata": {},
   "outputs": [],
   "source": [
    "qutip.about()"
   ]
  },
  {
   "cell_type": "markdown",
   "id": "d50dc784",
   "metadata": {},
   "source": [
    "## Testing\n",
    "\n",
    "This section can include some tests to verify that the expected outputs are generated within the notebook. We put this section at the end of the notebook, so it's not interfering with the user experience. Please, define the tests using assert, so that the cell execution fails if a wrong output is generated."
   ]
  },
  {
   "cell_type": "code",
   "execution_count": null,
   "id": "479b6f95",
   "metadata": {},
   "outputs": [],
   "source": [
    "assert np.allclose(\n",
    "    expect(P11p, resultMats.states[-100:]), P11RC, rtol=1e-2,\n",
    ")\n",
    "assert np.allclose(\n",
    "    expect(P11p, resultBR.states[-100:]), P11RC, rtol=1e-2,\n",
    ")"
   ]
  }
 ],
 "metadata": {
  "jupytext": {
   "formats": "ipynb,md:myst"
  },
  "kernelspec": {
   "display_name": "Python 3 (ipykernel)",
   "language": "python",
   "name": "python3"
  }
 },
 "nbformat": 4,
 "nbformat_minor": 5
}
