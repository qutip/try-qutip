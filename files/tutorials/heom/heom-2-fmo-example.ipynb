{
 "cells": [
  {
   "cell_type": "markdown",
   "id": "c6e9f05c",
   "metadata": {},
   "source": [
    "# HEOM 2: Dynamics in Fenna-Mathews-Olsen complex (FMO)"
   ]
  },
  {
   "cell_type": "markdown",
   "id": "36d776da",
   "metadata": {},
   "source": [
    "## Introduction\n",
    "\n",
    "In this example notebook we outline how to employ the HEOM to\n",
    "solve the FMO photosynthetic complex dynamics.\n",
    "\n",
    "We aim to replicate the results in reference [https://www.pnas.org/content/106/41/17255](https://pubmed.ncbi.nlm.nih.gov/19815512/)\n",
    "and compare them to a Bloch-Redfield (perturbative) solution.\n",
    "\n",
    "This demonstrates how to to employ the solver for multiple baths, as well as showing how a\n",
    "quantum environment reduces the effect of pure dephasing."
   ]
  },
  {
   "cell_type": "markdown",
   "id": "4c39b50f",
   "metadata": {},
   "source": [
    "## Setup"
   ]
  },
  {
   "cell_type": "code",
   "execution_count": null,
   "id": "43ac7a05",
   "metadata": {},
   "outputs": [],
   "source": [
    "import contextlib\n",
    "import time\n",
    "\n",
    "import numpy as np\n",
    "from matplotlib import pyplot as plt\n",
    "\n",
    "import qutip\n",
    "from qutip import (\n",
    "    Qobj,\n",
    "    basis,\n",
    "    brmesolve,\n",
    "    expect,\n",
    "    liouvillian,\n",
    "    mesolve,\n",
    ")\n",
    "from qutip.solver.heom import (\n",
    "    HEOMSolver,\n",
    "    DrudeLorentzBath,\n",
    ")\n",
    "\n",
    "%matplotlib inline"
   ]
  },
  {
   "cell_type": "markdown",
   "id": "0c9d3b20",
   "metadata": {},
   "source": [
    "## Helper functions\n",
    "\n",
    "Let's define some helper functions for calculating correlation functions, spectral densities, thermal energy level occupations, and for plotting results and timing how long operations take:"
   ]
  },
  {
   "cell_type": "code",
   "execution_count": null,
   "id": "9b5202cf",
   "metadata": {},
   "outputs": [],
   "source": [
    "def cot(x):\n",
    "    \"\"\" Vectorized cotangent of x. \"\"\"\n",
    "    return 1 / np.tan(x)"
   ]
  },
  {
   "cell_type": "code",
   "execution_count": null,
   "id": "583e04b9",
   "metadata": {},
   "outputs": [],
   "source": [
    "def J0(energy):\n",
    "    \"\"\" Under-damped brownian oscillator spectral density. \"\"\"\n",
    "    return 2 * lam * gamma * energy / (energy**2 + gamma**2)"
   ]
  },
  {
   "cell_type": "code",
   "execution_count": null,
   "id": "1267cff3",
   "metadata": {},
   "outputs": [],
   "source": [
    "def J0_dephasing():\n",
    "    \"\"\" Under-damped brownian oscillator dephasing probability.\n",
    "\n",
    "        This returns the limit as w -> 0 of J0(w) * n_th(w, T) / T.\n",
    "    \"\"\"\n",
    "    return 2 * lam * gamma / gamma**2"
   ]
  },
  {
   "cell_type": "code",
   "execution_count": null,
   "id": "e0e6a682",
   "metadata": {},
   "outputs": [],
   "source": [
    "def n_th(energy, T):\n",
    "    \"\"\" The average occupation of a given energy level at temperature T. \"\"\"\n",
    "    return 1 / (np.exp(energy / T) - 1)"
   ]
  },
  {
   "cell_type": "code",
   "execution_count": null,
   "id": "17ccc6da",
   "metadata": {},
   "outputs": [],
   "source": [
    "def dl_corr_approx(t, nk):\n",
    "    \"\"\" Drude-Lorenz correlation function approximation.\n",
    "\n",
    "        Approximates the correlation function at each time t to nk exponents.\n",
    "    \"\"\"\n",
    "    c = lam * gamma * (-1.0j + cot(gamma / (2 * T))) * np.exp(-gamma * t)\n",
    "    for k in range(1, nk):\n",
    "        vk = 2 * np.pi * k * T\n",
    "        c += (4 * lam * gamma * T * vk / (vk**2 - gamma**2)) * np.exp(-vk * t)\n",
    "    return c"
   ]
  },
  {
   "cell_type": "code",
   "execution_count": null,
   "id": "9d36da0c",
   "metadata": {},
   "outputs": [],
   "source": [
    "@contextlib.contextmanager\n",
    "def timer(label):\n",
    "    \"\"\" Simple utility for timing functions:\n",
    "\n",
    "        with timer(\"name\"):\n",
    "            ... code to time ...\n",
    "    \"\"\"\n",
    "    start = time.time()\n",
    "    yield\n",
    "    end = time.time()\n",
    "    print(f\"{label}: {end - start}\")"
   ]
  },
  {
   "cell_type": "code",
   "execution_count": null,
   "id": "6598283d",
   "metadata": {},
   "outputs": [],
   "source": [
    "# Solver options:\n",
    "\n",
    "options = {\n",
    "    \"nsteps\": 15000,\n",
    "    \"store_states\": True,\n",
    "    \"rtol\": 1e-12,\n",
    "    \"atol\": 1e-12,\n",
    "    \"min_step\": 1e-18,\n",
    "    \"method\": \"vern9\",\n",
    "    \"progress_bar\": \"enhanced\",\n",
    "}"
   ]
  },
  {
   "cell_type": "markdown",
   "id": "ddf52036",
   "metadata": {},
   "source": [
    "## System and bath definition\n",
    "\n",
    "And let us set up the system Hamiltonian and bath parameters:"
   ]
  },
  {
   "cell_type": "code",
   "execution_count": null,
   "id": "b6d552c1",
   "metadata": {},
   "outputs": [],
   "source": [
    "# System Hamiltonian:\n",
    "#\n",
    "# We use the Hamiltonian employed in\n",
    "# https://www.pnas.org/content/106/41/17255 and operate\n",
    "# in units of Hz:\n",
    "\n",
    "Hsys = 3e10 * 2 * np.pi * Qobj([\n",
    "    [200, -87.7, 5.5, -5.9, 6.7, -13.7, -9.9],\n",
    "    [-87.7, 320, 30.8, 8.2, 0.7, 11.8, 4.3],\n",
    "    [5.5, 30.8, 0, -53.5, -2.2, -9.6, 6.0],\n",
    "    [-5.9, 8.2, -53.5, 110, -70.7, -17.0, -63.3],\n",
    "    [6.7, 0.7, -2.2, -70.7, 270, 81.1, -1.3],\n",
    "    [-13.7, 11.8, -9.6, -17.0, 81.1, 420, 39.7],\n",
    "    [-9.9, 4.3, 6.0, -63.3, -1.3, 39.7, 230],\n",
    "])"
   ]
  },
  {
   "cell_type": "code",
   "execution_count": null,
   "id": "a38f79f8",
   "metadata": {},
   "outputs": [],
   "source": [
    "# Bath parameters\n",
    "\n",
    "lam = 35 * 3e10 * 2 * np.pi\n",
    "gamma = 1 / 166e-15\n",
    "T = 300 * 0.6949 * 3e10 * 2 * np.pi\n",
    "beta = 1 / T"
   ]
  },
  {
   "cell_type": "markdown",
   "id": "6d5e4779",
   "metadata": {},
   "source": [
    "## Plotting the environment spectral density and correlation functions\n",
    "\n",
    "Let's quickly plot the spectral density and environment correlation functions so that we can see what they look like."
   ]
  },
  {
   "cell_type": "code",
   "execution_count": null,
   "id": "437dad4d",
   "metadata": {},
   "outputs": [],
   "source": [
    "wlist = np.linspace(0, 200 * 3e10 * 2 * np.pi, 100)\n",
    "tlist = np.linspace(0, 1e-12, 1000)\n",
    "\n",
    "J = J0(wlist) / (3e10*2*np.pi)\n",
    "\n",
    "fig, axes = plt.subplots(1, 2, sharex=False, figsize=(10, 3))\n",
    "\n",
    "fig.subplots_adjust(hspace=0.1)  # reduce space between plots\n",
    "\n",
    "# Spectral density plot:\n",
    "\n",
    "axes[0].plot(wlist / (3e10 * 2 * np.pi), J, color='r', ls='--', label=\"J(w)\")\n",
    "axes[0].set_xlabel(r'$\\omega$ (cm$^{-1}$)', fontsize=20)\n",
    "axes[0].set_ylabel(r\"$J(\\omega)$ (cm$^{-1}$)\", fontsize=16)\n",
    "axes[0].legend()\n",
    "\n",
    "# Correlation plot:\n",
    "\n",
    "axes[1].plot(\n",
    "    tlist, np.real(dl_corr_approx(tlist, 10)),\n",
    "    color='r', ls='--', label=\"C(t) real\",\n",
    ")\n",
    "axes[1].plot(\n",
    "    tlist, np.imag(dl_corr_approx(tlist, 10)),\n",
    "    color='g', ls='--', label=\"C(t) imaginary\",\n",
    ")\n",
    "axes[1].set_xlabel(r'$t$', fontsize=20)\n",
    "axes[1].set_ylabel(r\"$C(t)$\", fontsize=16)\n",
    "axes[1].legend();"
   ]
  },
  {
   "cell_type": "markdown",
   "id": "39621ff1",
   "metadata": {},
   "source": [
    "## Solve for the dynamics with the HEOM\n",
    "\n",
    "Now let us solve for the evolution of this system using the HEOM."
   ]
  },
  {
   "cell_type": "code",
   "execution_count": null,
   "id": "7a6ea0a4",
   "metadata": {},
   "outputs": [],
   "source": [
    "# We start the excitation at site 1:\n",
    "rho0 = basis(7, 0) * basis(7, 0).dag()\n",
    "\n",
    "# HEOM solver options:\n",
    "#\n",
    "# Note: We set Nk=0 (i.e. a single correlation expansion term\n",
    "#       per bath) and rely on the terminator to correct detailed\n",
    "#       balance.\n",
    "NC = 4  # Use NC=8 for more precise results\n",
    "Nk = 0\n",
    "\n",
    "Q_list = []\n",
    "baths = []\n",
    "Ltot = liouvillian(Hsys)\n",
    "for m in range(7):\n",
    "    Q = basis(7, m) * basis(7, m).dag()\n",
    "    Q_list.append(Q)\n",
    "    baths.append(\n",
    "        DrudeLorentzBath(\n",
    "            Q, lam=lam, gamma=gamma, T=T, Nk=Nk,\n",
    "            tag=str(m)\n",
    "        )\n",
    "    )\n",
    "    _, terminator = baths[-1].terminator()\n",
    "    Ltot += terminator"
   ]
  },
  {
   "cell_type": "code",
   "execution_count": null,
   "id": "e70c79b4",
   "metadata": {},
   "outputs": [],
   "source": [
    "with timer(\"RHS construction time\"):\n",
    "    HEOMMats = HEOMSolver(Hsys, baths, NC, options=options)\n",
    "\n",
    "with timer(\"ODE solver time\"):\n",
    "    outputFMO_HEOM = HEOMMats.run(rho0, tlist)"
   ]
  },
  {
   "cell_type": "code",
   "execution_count": null,
   "id": "0c955399",
   "metadata": {},
   "outputs": [],
   "source": [
    "fig, axes = plt.subplots(1, 1, figsize=(12, 8))\n",
    "\n",
    "colors = ['r', 'g', 'b', 'y', 'c', 'm', 'k']\n",
    "linestyles = [\n",
    "    '-', '--', ':', '-.',\n",
    "    (0, (1, 10)), (0, (5, 10)), (0, (3, 10, 1, 10)),\n",
    "]\n",
    "\n",
    "for m in range(7):\n",
    "    Q = basis(7, m) * basis(7, m).dag()\n",
    "    axes.plot(\n",
    "        np.array(tlist) * 1e15,\n",
    "        np.real(expect(outputFMO_HEOM.states, Q)),\n",
    "        label=m + 1,\n",
    "        color=colors[m % len(colors)],\n",
    "        linestyle=linestyles[m % len(linestyles)],\n",
    "    )\n",
    "    axes.set_xlabel(r'$t$ (fs)', fontsize=30)\n",
    "    axes.set_ylabel(r\"Population\", fontsize=30)\n",
    "    axes.locator_params(axis='y', nbins=6)\n",
    "    axes.locator_params(axis='x', nbins=6)\n",
    "\n",
    "axes.set_title('HEOM solution', fontsize=24)\n",
    "axes.legend(loc=0)\n",
    "axes.set_xlim(0, 1000)\n",
    "plt.yticks([0., 0.5, 1], [0, 0.5, 1])\n",
    "plt.xticks([0., 500, 1000], [0, 500, 1000]);"
   ]
  },
  {
   "cell_type": "markdown",
   "id": "06c1f598",
   "metadata": {},
   "source": [
    "## Comparison with Bloch-Redfield solver\n",
    "\n",
    "Now let us solve the same problem using the Bloch-Redfield solver. We will see that the Bloch-Redfield technique fails to model the oscillation of population of the states that we saw in the HEOM.\n",
    "\n",
    "In the next section, we will examine the role of pure dephasing in the evolution to understand why this happens."
   ]
  },
  {
   "cell_type": "code",
   "execution_count": null,
   "id": "f5f08210",
   "metadata": {},
   "outputs": [],
   "source": [
    "DL = (\n",
    "    f\"2 * pi * 2.0 * {lam} / (pi * {gamma} * {beta}) if (w == 0) else \"\n",
    "    f\"2 * pi * (2.0*{lam}*{gamma} *w /(pi*(w**2+{gamma}**2))) * \"\n",
    "    f\"((1 / (exp((w) * {beta}) - 1)) + 1)\"\n",
    ")\n",
    "\n",
    "with timer(\"BR ODE solver time\"):\n",
    "    outputFMO_BR = brmesolve(\n",
    "        Hsys, rho0, tlist,\n",
    "        a_ops=[[Q, DL] for Q in Q_list],\n",
    "        options=options,\n",
    "    )"
   ]
  },
  {
   "cell_type": "markdown",
   "id": "e454c5cc",
   "metadata": {},
   "source": [
    "And now let's plot the Bloch-Redfield solver results:"
   ]
  },
  {
   "cell_type": "code",
   "execution_count": null,
   "id": "eefd8336",
   "metadata": {},
   "outputs": [],
   "source": [
    "fig, axes = plt.subplots(1, 1, figsize=(12, 8))\n",
    "\n",
    "for m, Q in enumerate(Q_list):\n",
    "    axes.plot(tlist * 1e15, expect(outputFMO_BR.states, Q), label=m + 1)\n",
    "\n",
    "axes.set_xlabel(r'$t$ (fs)', fontsize=30)\n",
    "axes.set_ylabel(r\"Population\", fontsize=30)\n",
    "\n",
    "axes.set_title('Bloch-Redfield solution ', fontsize=24)\n",
    "axes.legend()\n",
    "axes.set_xlim(0, 1000)\n",
    "plt.yticks([0, 0.5, 1], [0, 0.5, 1])\n",
    "plt.xticks([0, 500, 1000], [0, 500, 1000]);"
   ]
  },
  {
   "cell_type": "markdown",
   "id": "fe4481ce",
   "metadata": {},
   "source": [
    "Notice how the oscillations are gone and the populations decay much more rapidly.\n",
    "\n",
    "Next let us try to understand why."
   ]
  },
  {
   "cell_type": "markdown",
   "id": "f2e43f7b",
   "metadata": {},
   "source": [
    "## Role of pure dephasing\n",
    "\n",
    "It is useful to construct the various parts of the Bloch-Redfield master equation explicitly and to solve them using the Master equation solver, `mesolve`. We will do so and show that it is the pure-dephasing terms which suppresses coherence in these oscillations.\n",
    "\n",
    "First we will write a function to return the list of collapse operators for a given system, either with or without the dephasing operators:"
   ]
  },
  {
   "cell_type": "code",
   "execution_count": null,
   "id": "b141224b",
   "metadata": {},
   "outputs": [],
   "source": [
    "def get_collapse(H, T, dephasing=1):\n",
    "    \"\"\" Calculate collapse operators for a given system H and\n",
    "        temperature T.\n",
    "    \"\"\"\n",
    "    all_energy, all_state = H.eigenstates(sort=\"low\")\n",
    "    Nmax = len(all_energy)\n",
    "\n",
    "    Q_list = [\n",
    "        basis(Nmax, n) * basis(Nmax, n).dag()\n",
    "        for n in range(Nmax)\n",
    "    ]\n",
    "\n",
    "    collapse_list = []\n",
    "\n",
    "    for Q in Q_list:\n",
    "        for j in range(Nmax):\n",
    "            for k in range(j + 1, Nmax):\n",
    "                Deltajk = abs(all_energy[k] - all_energy[j])\n",
    "                if abs(Deltajk) > 0:\n",
    "                    rate = (\n",
    "                        np.abs(Q.matrix_element(\n",
    "                            all_state[j].dag(), all_state[k]\n",
    "                        ))**2 *\n",
    "                        2 * J0(Deltajk) * (n_th(Deltajk, T) + 1)\n",
    "                    )\n",
    "                    if rate > 0.0:\n",
    "                        # emission:\n",
    "                        collapse_list.append(\n",
    "                            np.sqrt(rate) * all_state[j] * all_state[k].dag()\n",
    "                        )\n",
    "\n",
    "                    rate = (\n",
    "                        np.abs(Q.matrix_element(\n",
    "                            all_state[k].dag(), all_state[j]\n",
    "                        ))**2 *\n",
    "                        2 * J0(Deltajk) * n_th(Deltajk, T)\n",
    "                    )\n",
    "                    if rate > 0.0:\n",
    "                        # absorption:\n",
    "                        collapse_list.append(\n",
    "                            np.sqrt(rate) * all_state[k] * all_state[j].dag()\n",
    "                        )\n",
    "\n",
    "        if dephasing:\n",
    "            for j in range(Nmax):\n",
    "                rate = (\n",
    "                    np.abs(Q.matrix_element(\n",
    "                        all_state[j].dag(), all_state[j])\n",
    "                    )**2 *\n",
    "                    J0_dephasing() * T\n",
    "                )\n",
    "                if rate > 0.0:\n",
    "                    # emission:\n",
    "                    collapse_list.append(\n",
    "                        np.sqrt(rate) * all_state[j] * all_state[j].dag()\n",
    "                    )\n",
    "\n",
    "    return collapse_list"
   ]
  },
  {
   "cell_type": "markdown",
   "id": "498e2a12",
   "metadata": {},
   "source": [
    "Now we are able to switch the pure dephasing tersms on and off.\n",
    "\n",
    "Let us starting by including the dephasing operators. We expect to see the same behaviour that we saw when using the Bloch-Redfield solver."
   ]
  },
  {
   "cell_type": "code",
   "execution_count": null,
   "id": "25cf1a61",
   "metadata": {},
   "outputs": [],
   "source": [
    "# dephasing terms on, we recover the full BR solution:\n",
    "\n",
    "with timer(\"Building the collapse operators\"):\n",
    "    collapse_list = get_collapse(Hsys, T=T, dephasing=True)\n",
    "\n",
    "with timer(\"ME ODE solver\"):\n",
    "    outputFMO_ME = mesolve(Hsys, rho0, tlist, collapse_list)"
   ]
  },
  {
   "cell_type": "code",
   "execution_count": null,
   "id": "a5acda30",
   "metadata": {},
   "outputs": [],
   "source": [
    "fig, axes = plt.subplots(1, 1, figsize=(12, 8))\n",
    "\n",
    "for m, Q in enumerate(Q_list):\n",
    "    axes.plot(tlist * 1e15, expect(outputFMO_ME.states, Q), label=m + 1)\n",
    "\n",
    "axes.set_xlabel(r'$t$', fontsize=20)\n",
    "axes.set_ylabel(r\"Population\", fontsize=16)\n",
    "axes.set_xlim(0, 1000)\n",
    "axes.set_title('With pure dephasing', fontsize=24)\n",
    "plt.yticks([0, 0.5, 1], [0, 0.5, 1])\n",
    "plt.xticks([0, 500, 1000], [0, 500, 1000])\n",
    "axes.legend(fontsize=18);"
   ]
  },
  {
   "cell_type": "markdown",
   "id": "6d29e8b8",
   "metadata": {},
   "source": [
    "We see similar results to before.\n",
    "\n",
    "Now let us examine what happens when we remove the dephasing collapse operators:"
   ]
  },
  {
   "cell_type": "code",
   "execution_count": null,
   "id": "16599b0b",
   "metadata": {},
   "outputs": [],
   "source": [
    "# dephasing terms off\n",
    "\n",
    "with timer(\"Building the collapse operators\"):\n",
    "    collapse_list = get_collapse(Hsys, T, dephasing=False)\n",
    "\n",
    "with timer(\"ME ODE solver\"):\n",
    "    outputFMO_ME_nodephase = mesolve(Hsys, rho0, tlist, collapse_list)"
   ]
  },
  {
   "cell_type": "code",
   "execution_count": null,
   "id": "ee875745",
   "metadata": {},
   "outputs": [],
   "source": [
    "fig, axes = plt.subplots(1, 1, figsize=(12, 8))\n",
    "for m, Q in enumerate(Q_list):\n",
    "    axes.plot(\n",
    "        tlist * 1e15,\n",
    "        expect(outputFMO_ME_nodephase.states, Q),\n",
    "        label=m + 1,\n",
    "    )\n",
    "\n",
    "axes.set_xlabel(r'$t$', fontsize=20)\n",
    "axes.set_ylabel(r\"Population\", fontsize=16)\n",
    "axes.set_xlim(0, 1000)\n",
    "axes.set_title('Without pure dephasing', fontsize=24)\n",
    "plt.yticks([0, 0.5, 1], [0, 0.5, 1])\n",
    "plt.xticks([0, 500, 1000], [0, 500, 1000])\n",
    "axes.legend(fontsize=18);"
   ]
  },
  {
   "cell_type": "markdown",
   "id": "e97b57eb",
   "metadata": {},
   "source": [
    "And now we see that without the dephasing, the oscillations reappear. The full dynamics capture by the HEOM are still not capture by this simpler model, however."
   ]
  },
  {
   "cell_type": "markdown",
   "id": "dd8eaee3",
   "metadata": {},
   "source": [
    "## About"
   ]
  },
  {
   "cell_type": "code",
   "execution_count": null,
   "id": "4a0763bb",
   "metadata": {},
   "outputs": [],
   "source": [
    "qutip.about()"
   ]
  },
  {
   "cell_type": "markdown",
   "id": "40a59724",
   "metadata": {},
   "source": [
    "## Testing\n",
    "\n",
    "This section can include some tests to verify that the expected outputs are generated within the notebook. We put this section at the end of the notebook, so it's not interfering with the user experience. Please, define the tests using assert, so that the cell execution fails if a wrong output is generated."
   ]
  },
  {
   "cell_type": "code",
   "execution_count": null,
   "id": "c451af9d",
   "metadata": {},
   "outputs": [],
   "source": [
    "assert np.allclose(\n",
    "    expect(outputFMO_BR.states, Q_list[0]),\n",
    "    expect(outputFMO_ME.states, Q_list[0]),\n",
    "    rtol=2e-2,\n",
    ")\n",
    "assert np.allclose(\n",
    "    expect(outputFMO_BR.states, Q_list[1]),\n",
    "    expect(outputFMO_ME.states, Q_list[1]),\n",
    "    rtol=2e-2,\n",
    ")"
   ]
  }
 ],
 "metadata": {
  "jupytext": {
   "formats": "ipynb,md:myst"
  },
  "kernelspec": {
   "display_name": "Python 3 (ipykernel)",
   "language": "python",
   "name": "python3"
  }
 },
 "nbformat": 4,
 "nbformat_minor": 5
}
