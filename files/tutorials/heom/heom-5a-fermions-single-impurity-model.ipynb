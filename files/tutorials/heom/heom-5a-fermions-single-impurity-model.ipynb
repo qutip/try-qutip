{
 "cells": [
  {
   "cell_type": "markdown",
   "id": "fc3eff6b",
   "metadata": {},
   "source": [
    "# HEOM 5a: Fermionic single impurity model"
   ]
  },
  {
   "cell_type": "markdown",
   "id": "c2f6cd67",
   "metadata": {},
   "source": [
    "## Introduction\n",
    "\n",
    "Here we model a single fermion coupled to two electronic leads or reservoirs (e.g.,  this can describe a single quantum dot, a molecular transistor, etc).  Note that in this implementation we primarily follow the definitions used by Christian Schinabeck in his dissertation https://opus4.kobv.de/opus4-fau/files/10984/DissertationChristianSchinabeck.pdf and related publications.\n",
    "\n",
    "Notation:\n",
    "\n",
    "* $K=L/R$ refers to  left or right leads.\n",
    "* $\\sigma=\\pm$ refers to input/output\n",
    "\n",
    "We choose a Lorentzian spectral density for the leads, with a peak at the chemical potential. The latter simplifies a little the notation required for the correlation functions, but can be relaxed if neccessary.\n",
    "\n",
    "$$J(\\omega) = \\frac{\\Gamma  W^2}{((\\omega-\\mu_K)^2 +W^2 )}$$\n",
    "\n",
    "The Fermi distribution function is:\n",
    "\n",
    "$$f_F (x) = (\\exp(x) + 1)^{-1}$$\n",
    "\n",
    "Together these allow the correlation functions to be expressed as:\n",
    "\n",
    "$$C^{\\sigma}_K(t) = \\frac{1}{2\\pi} \\int_{-\\infty}^{\\infty} d\\omega e^{\\sigma i \\omega t} \\Gamma_K(\\omega) f_F[\\sigma\\beta(\\omega - \\mu)]$$\n",
    "\n",
    "As with the bosonic case we can expand these in an exponential series using Matsubara, Pade, or fitting approaches.\n",
    "\n",
    "The Pade decomposition approximates the Fermi distubition as\n",
    "\n",
    "$$f_F(x) \\approx f_F^{\\mathrm{approx}}(x) = \\frac{1}{2} - \\sum_l^{l_{max}} \\frac{2k_l x}{x^2 + \\epsilon_l^2}$$\n",
    "\n",
    "where $k_l$ and $\\epsilon_l$ are co-efficients defined in J. Chem Phys 133,10106.\n",
    "\n",
    "Evaluating the integral for the correlation functions gives,\n",
    "\n",
    "$$C_K^{\\sigma}(t) \\approx \\sum_{l=0}^{l_{max}} \\eta_K^{\\sigma_l} e^{-\\gamma_{K,\\sigma,l}t}$$\n",
    "\n",
    "where:\n",
    "\n",
    "$$\\eta_{K,0} = \\frac{\\Gamma_KW_K}{2} f_F^{approx}(i\\beta_K W)$$\n",
    "\n",
    "$$\\gamma_{K,\\sigma,0} = W_K - \\sigma i\\mu_K$$ \n",
    "\n",
    "$$\\eta_{K,l\\neq 0} = -i\\cdot \\frac{k_m}{\\beta_K} \\cdot \\frac{\\Gamma_K W_K^2}{-\\frac{\\epsilon^2_m}{\\beta_K^2} + W_K^2}$$\n",
    "\n",
    "$$\\gamma_{K,\\sigma,l\\neq 0}= \\frac{\\epsilon_m}{\\beta_K} - \\sigma i \\mu_K$$\n",
    "\n",
    "In this notebook we:\n",
    "\n",
    "* compare the Matsubara and Pade approximations and contrast them with the analytical result for the current between the system and the leads.\n",
    "\n",
    "* plot the current through the qubit as a function of the different between the voltages of the leads."
   ]
  },
  {
   "cell_type": "markdown",
   "id": "24425997",
   "metadata": {},
   "source": [
    "## Setup"
   ]
  },
  {
   "cell_type": "code",
   "execution_count": null,
   "id": "7dedd117",
   "metadata": {},
   "outputs": [],
   "source": [
    "import contextlib\n",
    "import dataclasses\n",
    "import time\n",
    "\n",
    "import numpy as np\n",
    "import matplotlib.pyplot as plt\n",
    "from scipy.integrate import quad\n",
    "\n",
    "import qutip\n",
    "from qutip import (\n",
    "    basis,\n",
    "    destroy,\n",
    "    expect,\n",
    ")\n",
    "from qutip.solver.heom import (\n",
    "    HEOMSolver,\n",
    "    LorentzianBath,\n",
    "    LorentzianPadeBath,\n",
    ")\n",
    "\n",
    "from ipywidgets import IntProgress\n",
    "from IPython.display import display\n",
    "\n",
    "%matplotlib inline"
   ]
  },
  {
   "cell_type": "markdown",
   "id": "3b74e835",
   "metadata": {},
   "source": [
    "## Helpers"
   ]
  },
  {
   "cell_type": "code",
   "execution_count": null,
   "id": "17af6f5c",
   "metadata": {},
   "outputs": [],
   "source": [
    "@contextlib.contextmanager\n",
    "def timer(label):\n",
    "    \"\"\" Simple utility for timing functions:\n",
    "\n",
    "        with timer(\"name\"):\n",
    "            ... code to time ...\n",
    "    \"\"\"\n",
    "    start = time.time()\n",
    "    yield\n",
    "    end = time.time()\n",
    "    print(f\"{label}: {end - start}\")"
   ]
  },
  {
   "cell_type": "code",
   "execution_count": null,
   "id": "904a4246",
   "metadata": {},
   "outputs": [],
   "source": [
    "# Solver options:\n",
    "\n",
    "# We set store_ados to True so that we can\n",
    "# use the auxilliary density operators (ADOs)\n",
    "# to calculate the current between the leads\n",
    "# and the system.\n",
    "\n",
    "options = {\n",
    "    \"nsteps\": 1500,\n",
    "    \"store_states\": True,\n",
    "    \"store_ados\": True,\n",
    "    \"rtol\": 1e-12,\n",
    "    \"atol\": 1e-12,\n",
    "    \"method\": \"vern9\",\n",
    "    \"progress_bar\": \"enhanced\",\n",
    "}"
   ]
  },
  {
   "cell_type": "markdown",
   "id": "84f057d8",
   "metadata": {},
   "source": [
    "## System and bath definition\n",
    "\n",
    "And let us set up the system Hamiltonian, bath and system measurement operators:"
   ]
  },
  {
   "cell_type": "code",
   "execution_count": null,
   "id": "84b49e9f",
   "metadata": {},
   "outputs": [],
   "source": [
    "# Define the system Hamiltonian:\n",
    "\n",
    "# The system is a single fermion with energy level split e1:\n",
    "d1 = destroy(2)\n",
    "e1 = 1.0\n",
    "H = e1 * d1.dag() * d1"
   ]
  },
  {
   "cell_type": "code",
   "execution_count": null,
   "id": "f97be1d3",
   "metadata": {},
   "outputs": [],
   "source": [
    "# Define parameters for left and right fermionic baths.\n",
    "# Each bath is a lead (i.e. a wire held at a potential)\n",
    "# with temperature T and chemical potential mu.\n",
    "\n",
    "@dataclasses.dataclass\n",
    "class LorentzianBathParameters:\n",
    "    lead: str\n",
    "    Q: object  # coupling operator\n",
    "    gamma: float = 0.01  # coupling strength\n",
    "    W: float = 1.0  # cut-off\n",
    "    T: float = 0.025851991  # temperature\n",
    "    theta: float = 2.0  # bias\n",
    "\n",
    "    def __post_init__(self):\n",
    "        assert self.lead in (\"L\", \"R\")\n",
    "        self.beta = 1 / self.T\n",
    "        if self.lead == \"L\":\n",
    "            self.mu = self.theta / 2.0\n",
    "        else:\n",
    "            self.mu = - self.theta / 2.0\n",
    "\n",
    "    def J(self, w):\n",
    "        \"\"\" Spectral density. \"\"\"\n",
    "        return self.gamma * self.W**2 / ((w - self.mu)**2 + self.W**2)\n",
    "\n",
    "    def fF(self, w, sign=1.0):\n",
    "        \"\"\" Fermi distribution for this bath. \"\"\"\n",
    "        x = sign * self.beta * (w - self.mu)\n",
    "        return fF(x)\n",
    "\n",
    "    def lamshift(self, w):\n",
    "        \"\"\" Return the lamshift. \"\"\"\n",
    "        return 0.5 * (w - self.mu) * self.J(w) / self.W\n",
    "\n",
    "    def replace(self, **kw):\n",
    "        return dataclasses.replace(self, **kw)\n",
    "\n",
    "\n",
    "def fF(x):\n",
    "    \"\"\" Return the Fermi distribution. \"\"\"\n",
    "    # in units where kB = 1.0\n",
    "    return 1 / (np.exp(x) + 1)\n",
    "\n",
    "\n",
    "bath_L = LorentzianBathParameters(Q=d1, lead=\"L\")\n",
    "bath_R = LorentzianBathParameters(Q=d1, lead=\"R\")"
   ]
  },
  {
   "cell_type": "markdown",
   "id": "a03c7e51",
   "metadata": {},
   "source": [
    "## Spectral density\n",
    "\n",
    "Let's plot the spectral density."
   ]
  },
  {
   "cell_type": "code",
   "execution_count": null,
   "id": "ebc438c7",
   "metadata": {},
   "outputs": [],
   "source": [
    "w_list = np.linspace(-2, 2, 100)\n",
    "\n",
    "fig, ax = plt.subplots(figsize=(12, 7))\n",
    "\n",
    "spec_L = bath_L.J(w_list)\n",
    "spec_R = bath_R.J(w_list)\n",
    "\n",
    "ax.plot(\n",
    "    w_list, spec_L,\n",
    "    \"b--\", linewidth=3,\n",
    "    label=r\"J_L(w)\",\n",
    ")\n",
    "ax.plot(\n",
    "    w_list, spec_R,\n",
    "    \"r--\", linewidth=3,\n",
    "    label=r\"J_R(w)\",\n",
    ")\n",
    "\n",
    "ax.set_xlabel(\"w\")\n",
    "ax.set_ylabel(r\"$J(\\omega)$\")\n",
    "ax.legend();"
   ]
  },
  {
   "cell_type": "markdown",
   "id": "cecf156c",
   "metadata": {},
   "source": [
    "## Emission and absorption by the leads\n",
    "\n",
    "Next let's plot the emission and absorption by the leads."
   ]
  },
  {
   "cell_type": "code",
   "execution_count": null,
   "id": "3f5d0696",
   "metadata": {},
   "outputs": [],
   "source": [
    "w_list = np.linspace(-2, 2, 100)\n",
    "\n",
    "fig, ax = plt.subplots(figsize=(12, 7))\n",
    "\n",
    "# Left lead emission and absorption\n",
    "\n",
    "gam_L_in = bath_L.J(w_list) * bath_L.fF(w_list, sign=1.0)\n",
    "gam_L_out = bath_L.J(w_list) * bath_L.fF(w_list, sign=-1.0)\n",
    "\n",
    "ax.plot(\n",
    "    w_list, gam_L_in,\n",
    "    \"b--\", linewidth=3,\n",
    "    label=r\"S_L(w) input (absorption)\",\n",
    ")\n",
    "ax.plot(\n",
    "    w_list, gam_L_out,\n",
    "    \"r--\", linewidth=3,\n",
    "    label=r\"S_L(w) output (emission)\",\n",
    ")\n",
    "\n",
    "# Right lead emission and absorption\n",
    "\n",
    "gam_R_in = bath_R.J(w_list) * bath_R.fF(w_list, sign=1.0)\n",
    "gam_R_out = bath_R.J(w_list) * bath_R.fF(w_list, sign=-1.0)\n",
    "\n",
    "ax.plot(\n",
    "    w_list, gam_R_in,\n",
    "    \"b\", linewidth=3,\n",
    "    label=r\"S_R(w) input (absorption)\",\n",
    ")\n",
    "ax.plot(\n",
    "    w_list, gam_R_out,\n",
    "    \"r\", linewidth=3,\n",
    "    label=r\"S_R(w) output (emission)\",\n",
    ")\n",
    "\n",
    "ax.set_xlabel(\"w\")\n",
    "ax.set_ylabel(r\"$S(\\omega)$\")\n",
    "ax.legend();"
   ]
  },
  {
   "cell_type": "markdown",
   "id": "cf14aec8",
   "metadata": {},
   "source": [
    "## Comparing the Matsubara and Pade approximations\n",
    "\n",
    "Let's start by solving for the evolution using a Pade expansion of the correlation function of the Lorentzian spectral density:"
   ]
  },
  {
   "cell_type": "code",
   "execution_count": null,
   "id": "59c88773",
   "metadata": {},
   "outputs": [],
   "source": [
    "# HEOM dynamics using the Pade approximation:\n",
    "\n",
    "# Times to solve for and initial system state:\n",
    "tlist = np.linspace(0, 100, 1000)\n",
    "rho0 = basis(2, 0) * basis(2, 0).dag()\n",
    "\n",
    "Nk = 10  # Number of exponents to retain in the expansion of each bath\n",
    "\n",
    "bathL = LorentzianPadeBath(\n",
    "    bath_L.Q, bath_L.gamma, bath_L.W, bath_L.mu, bath_L.T,\n",
    "    Nk, tag=\"L\",\n",
    ")\n",
    "bathR = LorentzianPadeBath(\n",
    "    bath_R.Q, bath_R.gamma, bath_R.W, bath_R.mu, bath_R.T,\n",
    "    Nk, tag=\"R\",\n",
    ")\n",
    "\n",
    "with timer(\"RHS construction time\"):\n",
    "    solver_pade = HEOMSolver(H, [bathL, bathR], max_depth=2, options=options)\n",
    "\n",
    "with timer(\"ODE solver time\"):\n",
    "    result_pade = solver_pade.run(rho0, tlist)\n",
    "\n",
    "with timer(\"Steady state solver time\"):\n",
    "    rho_ss_pade, ado_ss_pade = solver_pade.steady_state()"
   ]
  },
  {
   "cell_type": "markdown",
   "id": "288e36ac",
   "metadata": {},
   "source": [
    "Now let us plot the result which shows the decay of the initially excited impurity. This is not very illuminating, but we will compare it with the Matsubara expansion and analytic solution sortly:"
   ]
  },
  {
   "cell_type": "code",
   "execution_count": null,
   "id": "2a47409e",
   "metadata": {},
   "outputs": [],
   "source": [
    "# Plot the Pade results\n",
    "fig, axes = plt.subplots(1, 1, sharex=True, figsize=(8, 8))\n",
    "\n",
    "axes.plot(\n",
    "    tlist, expect(result_pade.states, rho0),\n",
    "    'r--', linewidth=2,\n",
    "    label=\"P11 (Pade)\",\n",
    ")\n",
    "axes.axhline(\n",
    "    expect(rho_ss_pade, rho0),\n",
    "    color='r', linestyle=\"dotted\", linewidth=1,\n",
    "    label=\"P11 (Pade steady state)\",\n",
    ")\n",
    "\n",
    "axes.set_xlabel('t', fontsize=28)\n",
    "axes.legend(fontsize=12);"
   ]
  },
  {
   "cell_type": "markdown",
   "id": "b44eab0d",
   "metadata": {},
   "source": [
    "Now let us do the same for the Matsubara expansion:"
   ]
  },
  {
   "cell_type": "code",
   "execution_count": null,
   "id": "16ddf080",
   "metadata": {},
   "outputs": [],
   "source": [
    "# HEOM dynamics using the Matsubara approximation:\n",
    "\n",
    "bathL = LorentzianBath(\n",
    "    bath_L.Q, bath_L.gamma, bath_L.W, bath_L.mu, bath_L.T,\n",
    "    Nk, tag=\"L\",\n",
    ")\n",
    "bathR = LorentzianBath(\n",
    "    bath_R.Q, bath_R.gamma, bath_R.W, bath_R.mu, bath_R.T,\n",
    "    Nk, tag=\"R\",\n",
    ")\n",
    "\n",
    "with timer(\"RHS construction time\"):\n",
    "    solver_mats = HEOMSolver(H, [bathL, bathR], max_depth=2, options=options)\n",
    "\n",
    "with timer(\"ODE solver time\"):\n",
    "    result_mats = solver_mats.run(rho0, tlist)\n",
    "\n",
    "with timer(\"Steady state solver time\"):\n",
    "    rho_ss_mats, ado_ss_mats = solver_mats.steady_state()"
   ]
  },
  {
   "cell_type": "markdown",
   "id": "e1f87ece",
   "metadata": {},
   "source": [
    "We see a marked difference in the Matsubara vs Pade results:"
   ]
  },
  {
   "cell_type": "code",
   "execution_count": null,
   "id": "bb11b63d",
   "metadata": {},
   "outputs": [],
   "source": [
    "# Plot the Pade results\n",
    "fig, axes = plt.subplots(1, 1, sharex=True, figsize=(8, 8))\n",
    "\n",
    "axes.plot(\n",
    "    tlist, expect(result_pade.states, rho0),\n",
    "    'r--', linewidth=2,\n",
    "    label=\"P11 (Pade)\",\n",
    ")\n",
    "axes.axhline(\n",
    "    expect(rho_ss_pade, rho0),\n",
    "    color='r', linestyle=\"dotted\", linewidth=1,\n",
    "    label=\"P11 (Pade steady state)\",\n",
    ")\n",
    "\n",
    "axes.plot(\n",
    "    tlist, expect(result_mats.states, rho0),\n",
    "    'b--', linewidth=2,\n",
    "    label=\"P11 (Mats)\",\n",
    ")\n",
    "axes.axhline(\n",
    "    expect(rho_ss_mats, rho0),\n",
    "    color='b', linestyle=\"dotted\", linewidth=1,\n",
    "    label=\"P11 (Mats steady state)\",\n",
    ")\n",
    "\n",
    "axes.set_xlabel('t', fontsize=28)\n",
    "axes.legend(fontsize=12);"
   ]
  },
  {
   "cell_type": "markdown",
   "id": "650050f4",
   "metadata": {},
   "source": [
    "But which is more correct? The Matsubara or the Pade result?\n",
    "\n",
    "One advantage of this simple model is that the steady state current to the baths is analytically solvable, so we can check convergence of the result by calculating it analytically (the sum of the currents to and from the system in the steady state must be zero, so the current from one bath is the same as the current to the other).\n",
    "\n",
    "See the [QuTiP-BoFiN paper](https://arxiv.org/abs/2010.10806) for a detailed description and references for the analytic result. Below we just perform the required integration numerically."
   ]
  },
  {
   "cell_type": "code",
   "execution_count": null,
   "id": "b5810b3d",
   "metadata": {},
   "outputs": [],
   "source": [
    "def analytical_steady_state_current(bath_L, bath_R, e1):\n",
    "    \"\"\" Calculate the analytical steady state current. \"\"\"\n",
    "\n",
    "    def integrand(w):\n",
    "        return (2 / np.pi) * (\n",
    "            bath_L.J(w) * bath_R.J(w) * (bath_L.fF(w) - bath_R.fF(w)) /\n",
    "            (\n",
    "                (bath_L.J(w) + bath_R.J(w))**2 +\n",
    "                4*(w - e1 - bath_L.lamshift(w) - bath_R.lamshift(w))**2\n",
    "            )\n",
    "        )\n",
    "\n",
    "    def real_part(x):\n",
    "        return np.real(integrand(x))\n",
    "\n",
    "    def imag_part(x):\n",
    "        return np.imag(integrand(x))\n",
    "\n",
    "    # in principle the bounds for the integral should be rechecked if\n",
    "    # bath or system parameters are changed substantially:\n",
    "    bounds = [-10, 10]\n",
    "\n",
    "    real_integral, _ = quad(real_part, *bounds)\n",
    "    imag_integral, _ = quad(imag_part, *bounds)\n",
    "\n",
    "    return real_integral + 1.0j * imag_integral\n",
    "\n",
    "\n",
    "curr_ss_analytic = analytical_steady_state_current(bath_L, bath_R, e1)\n",
    "\n",
    "print(f\"Analytical steady state current: {curr_ss_analytic}\")"
   ]
  },
  {
   "cell_type": "markdown",
   "id": "95894c2d",
   "metadata": {},
   "source": [
    "To compare the analytical result above with the result from the HEOM, we need to be able to calculate the current from the system to the bath from the HEOM result. In the HEOM description, these currents are captured in the first level auxilliary density operators (ADOs).\n",
    "\n",
    "In the function `state_current(...)` below, we extract the first level ADOs for the specified bath and sum the contributions to the current from each:"
   ]
  },
  {
   "cell_type": "code",
   "execution_count": null,
   "id": "0665fde4",
   "metadata": {},
   "outputs": [],
   "source": [
    "def state_current(ado_state, bath_tag):\n",
    "    \"\"\" Determine current from the given bath (either \"R\" or \"L\") to\n",
    "        the system in the given ADO state.\n",
    "    \"\"\"\n",
    "    level_1_aux = [\n",
    "        (ado_state.extract(label), ado_state.exps(label)[0])\n",
    "        for label in ado_state.filter(level=1, tags=[bath_tag])\n",
    "    ]\n",
    "\n",
    "    def exp_sign(exp):\n",
    "        return 1 if exp.type == exp.types[\"+\"] else -1\n",
    "\n",
    "    def exp_op(exp):\n",
    "        return exp.Q if exp.type == exp.types[\"+\"] else exp.Q.dag()\n",
    "\n",
    "    return -1.0j * sum(\n",
    "        exp_sign(exp) * (exp_op(exp) * aux).tr()\n",
    "        for aux, exp in level_1_aux\n",
    "    )"
   ]
  },
  {
   "cell_type": "markdown",
   "id": "8c9e94a7",
   "metadata": {},
   "source": [
    "Now we can calculate the steady state currents from the Pade and Matsubara HEOM results:"
   ]
  },
  {
   "cell_type": "code",
   "execution_count": null,
   "id": "ef4ef4c0",
   "metadata": {},
   "outputs": [],
   "source": [
    "curr_ss_pade_L = state_current(ado_ss_pade, \"L\")\n",
    "curr_ss_pade_R = state_current(ado_ss_pade, \"R\")\n",
    "\n",
    "print(f\"Pade steady state current (L): {curr_ss_pade_L}\")\n",
    "print(f\"Pade steady state current (R): {curr_ss_pade_R}\")"
   ]
  },
  {
   "cell_type": "code",
   "execution_count": null,
   "id": "41e1da9d",
   "metadata": {},
   "outputs": [],
   "source": [
    "curr_ss_mats_L = state_current(ado_ss_mats, \"L\")\n",
    "curr_ss_mats_R = state_current(ado_ss_mats, \"R\")\n",
    "\n",
    "print(f\"Matsubara steady state current (L): {curr_ss_mats_L}\")\n",
    "print(f\"Matsubara steady state current (R): {curr_ss_mats_R}\")"
   ]
  },
  {
   "cell_type": "markdown",
   "id": "65c234d8",
   "metadata": {},
   "source": [
    "Note that the currents from each bath balance as is required by the steady state, but the value of the current is different for the Pade and Matsubara results.\n",
    "\n",
    "Now let's compare all three:"
   ]
  },
  {
   "cell_type": "code",
   "execution_count": null,
   "id": "9e9a1d10",
   "metadata": {},
   "outputs": [],
   "source": [
    "print(f\"Pade current (R): {curr_ss_pade_R}\")\n",
    "print(f\"Matsubara current (R): {curr_ss_mats_R}\")\n",
    "print(f\"Analytical curernt: {curr_ss_analytic}\")"
   ]
  },
  {
   "cell_type": "markdown",
   "id": "a98d012e",
   "metadata": {},
   "source": [
    "In this case we observe that the Pade approximation has converged more closely to the analytical current than the Matsubara.\n",
    "\n",
    "The Matsubara result could be improved by increasing the number of terms retained in the Matsubara expansion (i.e. increasing `Nk`)."
   ]
  },
  {
   "cell_type": "markdown",
   "id": "faf52356",
   "metadata": {},
   "source": [
    "## Current as a function of bias voltage"
   ]
  },
  {
   "cell_type": "markdown",
   "id": "98fe97a1",
   "metadata": {},
   "source": [
    "Now lets plot the current as a function of bias voltage (the bias voltage is the parameter `theta` for the two baths).\n",
    "\n",
    "We will calculate the steady state current for each `theta` both analytically and using the HEOM with the Pade correlation expansion approximation."
   ]
  },
  {
   "cell_type": "code",
   "execution_count": null,
   "id": "818b4d51",
   "metadata": {},
   "outputs": [],
   "source": [
    "# Theta (bias voltages)\n",
    "\n",
    "thetas = np.linspace(-4, 4, 100)\n",
    "\n",
    "# Setup a progress bar:\n",
    "\n",
    "progress = IntProgress(min=0, max=2 * len(thetas))\n",
    "display(progress)\n",
    "\n",
    "# Calculate the current for the list of thetas\n",
    "\n",
    "\n",
    "def current_analytic_for_theta(e1, bath_L, bath_R, theta):\n",
    "    \"\"\" Return the analytic current for a given theta. \"\"\"\n",
    "    current = analytical_steady_state_current(\n",
    "        bath_L.replace(theta=theta),\n",
    "        bath_R.replace(theta=theta),\n",
    "        e1,\n",
    "    )\n",
    "    progress.value += 1\n",
    "    return np.real(current)\n",
    "\n",
    "\n",
    "def current_pade_for_theta(H, bath_L, bath_R, theta, Nk):\n",
    "    \"\"\" Return the steady state current using the Pade approximation. \"\"\"\n",
    "    bath_L = bath_L.replace(theta=theta)\n",
    "    bath_R = bath_R.replace(theta=theta)\n",
    "\n",
    "    bathL = LorentzianPadeBath(\n",
    "        bath_L.Q, bath_L.gamma, bath_L.W, bath_L.mu, bath_L.T,\n",
    "        Nk, tag=\"L\",\n",
    "    )\n",
    "    bathR = LorentzianPadeBath(\n",
    "        bath_R.Q, bath_R.gamma, bath_R.W, bath_R.mu, bath_R.T,\n",
    "        Nk, tag=\"R\",\n",
    "    )\n",
    "\n",
    "    solver_pade = HEOMSolver(H, [bathL, bathR], max_depth=2, options=options)\n",
    "    rho_ss_pade, ado_ss_pade = solver_pade.steady_state()\n",
    "    current = state_current(ado_ss_pade, bath_tag=\"R\")\n",
    "\n",
    "    progress.value += 1\n",
    "    return np.real(current)\n",
    "\n",
    "\n",
    "curr_ss_analytic_thetas = [\n",
    "    current_analytic_for_theta(e1, bath_L, bath_R, theta)\n",
    "    for theta in thetas\n",
    "]\n",
    "\n",
    "# The number of expansion terms has been dropped to Nk=6 to speed\n",
    "# up notebook execution. Increase to Nk=10 for more accurate results.\n",
    "curr_ss_pade_theta = [\n",
    "    current_pade_for_theta(H, bath_L, bath_R, theta, Nk=6)\n",
    "    for theta in thetas\n",
    "]"
   ]
  },
  {
   "cell_type": "markdown",
   "id": "d1135d6d",
   "metadata": {},
   "source": [
    "Below we plot the results and see that even with `Nk=6`, the HEOM Pade approximation gives good results for the steady state current. Increasing `Nk` to `10` gives very accurate results."
   ]
  },
  {
   "cell_type": "code",
   "execution_count": null,
   "id": "8bc57aec",
   "metadata": {},
   "outputs": [],
   "source": [
    "fig, ax = plt.subplots(figsize=(12, 7))\n",
    "\n",
    "ax.plot(\n",
    "    thetas, 2.434e-4 * 1e6 * np.array(curr_ss_analytic_thetas),\n",
    "    color=\"black\", linewidth=3,\n",
    "    label=r\"Analytical\",\n",
    ")\n",
    "ax.plot(\n",
    "    thetas, 2.434e-4 * 1e6 * np.array(curr_ss_pade_theta),\n",
    "    'r--', linewidth=3,\n",
    "    label=r\"HEOM Pade $N_k=10$, $n_{\\mathrm{max}}=2$\",\n",
    ")\n",
    "\n",
    "\n",
    "ax.locator_params(axis='y', nbins=4)\n",
    "ax.locator_params(axis='x', nbins=4)\n",
    "\n",
    "ax.set_xticks([-2.5, 0, 2.5])\n",
    "ax.set_xticklabels([-2.5, 0, 2.5])\n",
    "ax.set_xlabel(r\"Bias voltage $\\Delta \\mu$ ($V$)\", fontsize=28)\n",
    "ax.set_ylabel(r\"Current ($\\mu A$)\", fontsize=28)\n",
    "ax.legend(fontsize=25);"
   ]
  },
  {
   "cell_type": "markdown",
   "id": "1f76f0d8",
   "metadata": {},
   "source": [
    "## About"
   ]
  },
  {
   "cell_type": "code",
   "execution_count": null,
   "id": "99402e87",
   "metadata": {},
   "outputs": [],
   "source": [
    "qutip.about()"
   ]
  },
  {
   "cell_type": "markdown",
   "id": "d7eb2419",
   "metadata": {},
   "source": [
    "## Testing\n",
    "\n",
    "This section can include some tests to verify that the expected outputs are generated within the notebook. We put this section at the end of the notebook, so it's not interfering with the user experience. Please, define the tests using assert, so that the cell execution fails if a wrong output is generated."
   ]
  },
  {
   "cell_type": "code",
   "execution_count": null,
   "id": "33a8ab1b",
   "metadata": {},
   "outputs": [],
   "source": [
    "assert np.allclose(curr_ss_pade_L + curr_ss_pade_R, 0)\n",
    "assert np.allclose(curr_ss_mats_L + curr_ss_mats_R, 0)\n",
    "assert np.allclose(curr_ss_pade_R, curr_ss_analytic, rtol=1e-4)"
   ]
  }
 ],
 "metadata": {
  "jupytext": {
   "formats": "ipynb,md:myst"
  },
  "kernelspec": {
   "display_name": "Python 3 (ipykernel)",
   "language": "python",
   "name": "python3"
  }
 },
 "nbformat": 4,
 "nbformat_minor": 5
}
