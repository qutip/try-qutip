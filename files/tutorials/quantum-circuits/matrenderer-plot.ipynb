{
 "cells": [
  {
   "cell_type": "markdown",
   "id": "201f2cb8",
   "metadata": {},
   "source": [
    "# Plotting and Customizing Quantum Circuits using MatRenderer\n",
    "\n",
    "Author: Rushiraj Gadhvi (gadhvirushiraj@gmail.com)\n",
    "\n",
    "This notebook serves as a comprehensive guide to plotting quantum circuits using QuTiP-QIP's MatRenderer, a Matplotlib-based rendering tool. It explores the various customization options available to users for creating and modifying plots. The content is organized into two main sections:\n",
    "\n",
    "- **Circuit-Level Customization**\n",
    "- **Gate-Level Customization**"
   ]
  },
  {
   "cell_type": "code",
   "execution_count": null,
   "id": "de45060f",
   "metadata": {},
   "outputs": [],
   "source": [
    "import qutip\n",
    "import numpy as np\n",
    "from qutip import Qobj\n",
    "from qutip_qip.operations import rx\n",
    "from qutip_qip.circuit import QubitCircuit"
   ]
  },
  {
   "cell_type": "code",
   "execution_count": null,
   "id": "2317eded",
   "metadata": {},
   "outputs": [],
   "source": [
    "qc = QubitCircuit(2, num_cbits=1)\n",
    "qc.add_gate(\"CNOT\", controls=0, targets=1)\n",
    "qc.add_gate(\"SNOT\", targets=1)\n",
    "qc.add_gate(\"ISWAP\", targets=[0, 1])\n",
    "qc.add_measurement(\"M0\", targets=1, classical_store=0)"
   ]
  },
  {
   "cell_type": "code",
   "execution_count": null,
   "id": "c23372a8",
   "metadata": {},
   "outputs": [],
   "source": [
    "qc.draw()"
   ]
  },
  {
   "cell_type": "markdown",
   "id": "19f20214",
   "metadata": {},
   "source": [
    "---\n",
    "\n",
    "### Circuit Level Customization Options\n",
    "\n",
    "---\n",
    "\n",
    "##### Changing FontSize"
   ]
  },
  {
   "cell_type": "code",
   "execution_count": null,
   "id": "7e6594a5",
   "metadata": {},
   "outputs": [],
   "source": [
    "qc.draw(fontsize=13)"
   ]
  },
  {
   "cell_type": "markdown",
   "id": "3ac10788",
   "metadata": {},
   "source": [
    "##### Background Color"
   ]
  },
  {
   "cell_type": "code",
   "execution_count": null,
   "id": "944d0fe5",
   "metadata": {},
   "outputs": [],
   "source": [
    "qc.draw(bgcolor=\"gray\")"
   ]
  },
  {
   "cell_type": "markdown",
   "id": "b53bae08",
   "metadata": {},
   "source": [
    "##### Gate Bulge Control"
   ]
  },
  {
   "cell_type": "code",
   "execution_count": null,
   "id": "610635cf",
   "metadata": {},
   "outputs": [],
   "source": [
    "qc.draw(bulge=False)"
   ]
  },
  {
   "cell_type": "markdown",
   "id": "63f861d2",
   "metadata": {},
   "source": [
    "##### Custom Wire Labels"
   ]
  },
  {
   "cell_type": "code",
   "execution_count": null,
   "id": "e32739da",
   "metadata": {},
   "outputs": [],
   "source": [
    "qc.draw(wire_label=[\"some_name\", \"some_long_name\", \"long_long_name\"])"
   ]
  },
  {
   "cell_type": "markdown",
   "id": "a0951aa5",
   "metadata": {},
   "source": [
    "##### Control extra wire extension at end of circuit"
   ]
  },
  {
   "cell_type": "code",
   "execution_count": null,
   "id": "2a88ef0c",
   "metadata": {},
   "outputs": [],
   "source": [
    "qc.draw(end_wire_ext=0)"
   ]
  },
  {
   "cell_type": "code",
   "execution_count": null,
   "id": "444e134f",
   "metadata": {},
   "outputs": [],
   "source": [
    "qc.draw(end_wire_ext=5)"
   ]
  },
  {
   "cell_type": "markdown",
   "id": "52a62980",
   "metadata": {},
   "source": [
    "##### Condense Circuit"
   ]
  },
  {
   "cell_type": "code",
   "execution_count": null,
   "id": "2fdecc75",
   "metadata": {},
   "outputs": [],
   "source": [
    "qc.draw(gate_margin=0.1)"
   ]
  },
  {
   "cell_type": "markdown",
   "id": "3125919d",
   "metadata": {},
   "source": [
    "##### Adding Title"
   ]
  },
  {
   "cell_type": "code",
   "execution_count": null,
   "id": "e1a4e4ac",
   "metadata": {},
   "outputs": [],
   "source": [
    "qc.draw(title=\"QuTiP\")"
   ]
  },
  {
   "cell_type": "markdown",
   "id": "87ade86c",
   "metadata": {},
   "source": [
    "##### Changing Theme"
   ]
  },
  {
   "cell_type": "code",
   "execution_count": null,
   "id": "7ab9d61a",
   "metadata": {},
   "outputs": [],
   "source": [
    "qc.draw(theme=\"light\")"
   ]
  },
  {
   "cell_type": "code",
   "execution_count": null,
   "id": "d73fe8d7",
   "metadata": {},
   "outputs": [],
   "source": [
    "qc.draw(theme=\"dark\", title=\"QuTiP\")"
   ]
  },
  {
   "cell_type": "code",
   "execution_count": null,
   "id": "bdf27656",
   "metadata": {},
   "outputs": [],
   "source": [
    "qc.draw(theme=\"modern\")"
   ]
  },
  {
   "cell_type": "markdown",
   "id": "2d181440",
   "metadata": {},
   "source": [
    "##### Aligning Layer"
   ]
  },
  {
   "cell_type": "code",
   "execution_count": null,
   "id": "b8432677",
   "metadata": {},
   "outputs": [],
   "source": [
    "qc = QubitCircuit(3)\n",
    "qc.add_gate(\"H\", targets=[1])\n",
    "qc.add_gate(\"RZ\", targets=[2], arg_value=0.5, style={\"showarg\": True})\n",
    "qc.add_gate(\"RZ\", targets=[2], arg_value=0.5, style={\"showarg\": True})\n",
    "qc.add_gate(\"CNOT\", controls=[0], targets=[1], style={\"showarg\": True})\n",
    "qc.add_gate(\"CNOT\", controls=[0], targets=[1], style={\"showarg\": True})\n",
    "qc.add_gate(\"SWAP\", targets=[0, 2])"
   ]
  },
  {
   "cell_type": "code",
   "execution_count": null,
   "id": "7db99e97",
   "metadata": {},
   "outputs": [],
   "source": [
    "# not-aligned gates\n",
    "qc.draw(theme=\"modern\")"
   ]
  },
  {
   "cell_type": "code",
   "execution_count": null,
   "id": "a46a0542",
   "metadata": {},
   "outputs": [],
   "source": [
    "# aligned gates\n",
    "qc.draw(align_layer=True, theme=\"modern\")"
   ]
  },
  {
   "cell_type": "markdown",
   "id": "485458da",
   "metadata": {},
   "source": [
    "---\n",
    "\n",
    "### Gate Level Customization Options\n",
    "\n",
    "---"
   ]
  },
  {
   "cell_type": "code",
   "execution_count": null,
   "id": "0ae6b3ec",
   "metadata": {},
   "outputs": [],
   "source": [
    "qc = QubitCircuit(7)\n",
    "qc.add_gate(\"H\", targets=[0], style={\"fontcolor\": \"red\"})\n",
    "qc.add_gate(\"H\", targets=[1], style={\"fontstyle\": \"italic\"})\n",
    "qc.add_gate(\"H\", targets=[2], style={\"fontweight\": \"bold\"})\n",
    "qc.add_gate(\"H\", targets=[3], style={\"color\": \"green\"})\n",
    "qc.add_gate(\"H\", targets=[4], style={\"fontsize\": 12})\n",
    "qc.add_gate(\"H\", targets=[5], arg_label=\"hadamard gate\")\n",
    "qc.add_gate(\"H\", targets=[6], style={\"fontfamily\": \"cursive\"})"
   ]
  },
  {
   "cell_type": "code",
   "execution_count": null,
   "id": "3b88b362",
   "metadata": {},
   "outputs": [],
   "source": [
    "qc.draw()"
   ]
  },
  {
   "cell_type": "markdown",
   "id": "4fb24897",
   "metadata": {},
   "source": [
    "##### Rendering Argument Value"
   ]
  },
  {
   "cell_type": "code",
   "execution_count": null,
   "id": "909706ef",
   "metadata": {},
   "outputs": [],
   "source": [
    "qc = QubitCircuit(3)\n",
    "qc.add_gate(\"RX\", targets=[0], arg_value=np.pi / 12, style={\"showarg\": True})\n",
    "qc.add_gate(\n",
    "    \"RY\", targets=[1], arg_value=2 * np.pi / 3, style={\"showarg\": True}\n",
    ")\n",
    "qc.add_gate(\"RY\", targets=[2], arg_value=0.3, style={\"showarg\": True})\n",
    "qc.draw()"
   ]
  },
  {
   "cell_type": "markdown",
   "id": "dee6d674",
   "metadata": {},
   "source": [
    "#### With User Custom Gates"
   ]
  },
  {
   "cell_type": "code",
   "execution_count": null,
   "id": "cc831eb3",
   "metadata": {},
   "outputs": [],
   "source": [
    "def user_gate1(arg_value):\n",
    "    # controlled rotation X\n",
    "    mat = np.zeros((4, 4), dtype=np.complex)\n",
    "    mat[0, 0] = mat[1, 1] = 1.0\n",
    "    mat[2:4, 2:4] = rx(arg_value).full()\n",
    "    return Qobj(mat, dims=[[2, 2], [2, 2]])\n",
    "\n",
    "\n",
    "def user_gate2():\n",
    "    # S gate\n",
    "    mat = np.array([[1.0, 0], [0.0, 1.0j]])\n",
    "    return Qobj(mat, dims=[[2], [2]])"
   ]
  },
  {
   "cell_type": "code",
   "execution_count": null,
   "id": "477a7b05",
   "metadata": {},
   "outputs": [],
   "source": [
    "qc = QubitCircuit(3)\n",
    "qc.user_gates = {\"CTRLRX\": user_gate1, \"S\": user_gate2}\n",
    "\n",
    "# qubit 1 controls qubit 0\n",
    "qc.add_gate(\"CTRLRX\", targets=[1, 0], arg_value=np.pi / 2)\n",
    "# qubit 2 is target of S gate\n",
    "qc.add_gate(\"S\", targets=[2])"
   ]
  },
  {
   "cell_type": "code",
   "execution_count": null,
   "id": "5a002b38",
   "metadata": {},
   "outputs": [],
   "source": [
    "qc.draw()"
   ]
  },
  {
   "cell_type": "markdown",
   "id": "4f1d1c76",
   "metadata": {},
   "source": [
    "---\n",
    "\n",
    "### Some more circuit examples\n",
    "\n",
    "---"
   ]
  },
  {
   "cell_type": "code",
   "execution_count": null,
   "id": "ad415bf9",
   "metadata": {},
   "outputs": [],
   "source": [
    "trotter_simulation_noisey = QubitCircuit(4)\n",
    "\n",
    "trotter_simulation_noisey.add_gate(\"RZ\", targets=[0])\n",
    "trotter_simulation_noisey.add_gate(\"RZ\", targets=[1])\n",
    "\n",
    "trotter_simulation_noisey.add_gate(\"CNOT\", controls=0, targets=1)\n",
    "trotter_simulation_noisey.add_gate(\"RX\", targets=[0])\n",
    "trotter_simulation_noisey.add_gate(\"CNOT\", controls=0, targets=1)\n",
    "\n",
    "trotter_simulation_noisey.add_gate(\"CNOT\", controls=0, targets=2)\n",
    "trotter_simulation_noisey.add_gate(\"RX\", targets=[0])\n",
    "trotter_simulation_noisey.add_gate(\"CNOT\", controls=0, targets=2)\n",
    "\n",
    "trotter_simulation_noisey.add_gate(\"RZ\", targets=[2], arg_value=-np.pi / 2)\n",
    "trotter_simulation_noisey.add_gate(\"CNOT\", controls=0, targets=2)\n",
    "trotter_simulation_noisey.add_gate(\"RY\", targets=[0])\n",
    "trotter_simulation_noisey.add_gate(\"CNOT\", controls=0, targets=2)\n",
    "trotter_simulation_noisey.add_gate(\"RZ\", targets=[2], arg_value=np.pi / 2)\n",
    "\n",
    "trotter_simulation_noisey.add_gate(\"CNOT\", controls=1, targets=3)\n",
    "trotter_simulation_noisey.add_gate(\"RX\", targets=[1])\n",
    "trotter_simulation_noisey.add_gate(\"CNOT\", controls=1, targets=3)\n",
    "\n",
    "trotter_simulation_noisey.add_gate(\"RZ\", targets=[3], arg_value=-np.pi / 2)\n",
    "trotter_simulation_noisey.add_gate(\"CNOT\", controls=1, targets=3)\n",
    "trotter_simulation_noisey.add_gate(\"RY\", targets=[1])\n",
    "trotter_simulation_noisey.add_gate(\"CNOT\", controls=1, targets=3)\n",
    "trotter_simulation_noisey.add_gate(\"RZ\", targets=[3], arg_value=np.pi / 2)\n",
    "\n",
    "trotter_simulation_noisey.draw(theme=\"dark\", title=\"Trotter Simulation\")"
   ]
  },
  {
   "cell_type": "markdown",
   "id": "be6e4de6",
   "metadata": {},
   "source": [
    "---"
   ]
  },
  {
   "cell_type": "code",
   "execution_count": null,
   "id": "f38ffa26",
   "metadata": {},
   "outputs": [],
   "source": [
    "qutip.about()"
   ]
  }
 ],
 "metadata": {
  "jupytext": {
   "cell_metadata_filter": "-all",
   "notebook_metadata_filter": "-jupytext.cell_metadata_filter,-jupytext.notebook_metadata_filter"
  },
  "kernelspec": {
   "display_name": "qutip-dev",
   "language": "python",
   "name": "python3"
  }
 },
 "nbformat": 4,
 "nbformat_minor": 5
}
