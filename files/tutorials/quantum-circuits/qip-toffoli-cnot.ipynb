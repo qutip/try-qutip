{
 "cells": [
  {
   "cell_type": "markdown",
   "id": "f878e3d1",
   "metadata": {},
   "source": [
    "# Decomposition of the Toffoli gate in terms of CNOT and single-qubit rotations"
   ]
  },
  {
   "cell_type": "markdown",
   "id": "94ff5c03",
   "metadata": {},
   "source": [
    "Copyright (C) 2011 and later, Paul D. Nation & Robert J. Johansson"
   ]
  },
  {
   "cell_type": "markdown",
   "id": "f2558e62",
   "metadata": {},
   "source": [
    "This notebooks demonstrates how a toffoli gate can be rewritten in terms of CNOT gates and single qubit gates, and verifies the equivalence of the two gate sequences by comparing their matrix representations. For more information about the toffoli decomposition, see Nielsen & Chuang, Sec. 4.3, p178.\n",
    "\n",
    "\n",
    "**Note: The circuit image visualizations require [ImageMagick](https://imagemagick.org/index.php) for display.**\n",
    "\n",
    "ImageMagick can be easily installed with the command `conda install imagemagick` if you have conda installed.\n",
    "Otherwise, please follow the installation instructions on the ImageMagick documentation."
   ]
  },
  {
   "cell_type": "code",
   "execution_count": null,
   "id": "e1300abe",
   "metadata": {},
   "outputs": [],
   "source": [
    "from qutip import about\n",
    "from qutip_qip.operations import gate_sequence_product\n",
    "from qutip_qip.circuit import QubitCircuit"
   ]
  },
  {
   "cell_type": "code",
   "execution_count": null,
   "id": "270decdc",
   "metadata": {},
   "outputs": [],
   "source": [
    "q = QubitCircuit(3, reverse_states=False)\n",
    "q.add_gate(\"TOFFOLI\", controls=[0, 2], targets=[1])"
   ]
  },
  {
   "cell_type": "code",
   "execution_count": null,
   "id": "4499421c",
   "metadata": {},
   "outputs": [],
   "source": [
    "q.draw()"
   ]
  },
  {
   "cell_type": "code",
   "execution_count": null,
   "id": "0701d982",
   "metadata": {},
   "outputs": [],
   "source": [
    "U = gate_sequence_product(q.propagators())\n",
    "\n",
    "U.tidyup()"
   ]
  },
  {
   "cell_type": "code",
   "execution_count": null,
   "id": "b843c265",
   "metadata": {},
   "outputs": [],
   "source": [
    "q2 = q.resolve_gates()"
   ]
  },
  {
   "cell_type": "code",
   "execution_count": null,
   "id": "81f17a22",
   "metadata": {},
   "outputs": [],
   "source": [
    "q2.draw()"
   ]
  },
  {
   "cell_type": "code",
   "execution_count": null,
   "id": "74b77cf1",
   "metadata": {},
   "outputs": [],
   "source": [
    "U2 = gate_sequence_product(q2.propagators())\n",
    "\n",
    "U2.tidyup()"
   ]
  },
  {
   "cell_type": "code",
   "execution_count": null,
   "id": "cc8d1d03",
   "metadata": {},
   "outputs": [],
   "source": [
    "U == U2"
   ]
  },
  {
   "cell_type": "markdown",
   "id": "3ae68dc7",
   "metadata": {},
   "source": [
    "## Versions"
   ]
  },
  {
   "cell_type": "code",
   "execution_count": null,
   "id": "1a720808",
   "metadata": {},
   "outputs": [],
   "source": [
    "about()"
   ]
  }
 ],
 "metadata": {
  "jupytext": {
   "cell_metadata_filter": "-all",
   "notebook_metadata_filter": "-jupytext.cell_metadata_filter,-jupytext.notebook_metadata_filter"
  },
  "kernelspec": {
   "display_name": "qutip-dev",
   "language": "python",
   "name": "python3"
  }
 },
 "nbformat": 4,
 "nbformat_minor": 5
}
