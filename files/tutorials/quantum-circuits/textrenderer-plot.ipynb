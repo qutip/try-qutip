{
 "cells": [
  {
   "cell_type": "markdown",
   "id": "a509e06c",
   "metadata": {},
   "source": [
    "# Plotting and Customizing Quantum Circuits using TextRenderer\n",
    "Author: Rushiraj Gadhvi (gadhvirushiraj@gmail.com)\n",
    "\n",
    "This notebook serves as a comprehensive guide to plotting quantum circuits using QuTiP-QIP's TextRenderer. It explores the various customization options available to users for creating and modifying plots.\n",
    "\n",
    "- **Circuit-Level Customization**\n",
    "- **Gate-Level Customization**"
   ]
  },
  {
   "cell_type": "code",
   "execution_count": null,
   "id": "f2ac61b1",
   "metadata": {},
   "outputs": [],
   "source": [
    "import qutip\n",
    "import numpy as np\n",
    "from qutip import Qobj\n",
    "from qutip_qip.operations import rx\n",
    "from qutip_qip.circuit import QubitCircuit"
   ]
  },
  {
   "cell_type": "code",
   "execution_count": null,
   "id": "bbe58c47",
   "metadata": {},
   "outputs": [],
   "source": [
    "qc = QubitCircuit(2, num_cbits=1)\n",
    "qc.add_gate(\"CNOT\", controls=0, targets=1)\n",
    "qc.add_gate(\"SNOT\", targets=1)\n",
    "qc.add_gate(\"ISWAP\", targets=[0, 1])\n",
    "qc.add_measurement(\"M0\", targets=1, classical_store=0)"
   ]
  },
  {
   "cell_type": "code",
   "execution_count": null,
   "id": "8a827796",
   "metadata": {},
   "outputs": [],
   "source": [
    "qc.draw(\"text\")"
   ]
  },
  {
   "cell_type": "markdown",
   "id": "61dac344",
   "metadata": {},
   "source": [
    "---\n",
    "### Circuit Level Customization Options\n",
    "---"
   ]
  },
  {
   "cell_type": "markdown",
   "id": "2cbaee1a",
   "metadata": {},
   "source": [
    "##### Custom Wire Labels"
   ]
  },
  {
   "cell_type": "code",
   "execution_count": null,
   "id": "cb611645",
   "metadata": {},
   "outputs": [],
   "source": [
    "qc.draw(\"text\", wire_label=[\"some_name\", \"some_long_name\", \"long_long_name\"])"
   ]
  },
  {
   "cell_type": "markdown",
   "id": "0b90b314",
   "metadata": {},
   "source": [
    "##### Control extra wire extension at end of circuit"
   ]
  },
  {
   "cell_type": "code",
   "execution_count": null,
   "id": "0447f62d",
   "metadata": {},
   "outputs": [],
   "source": [
    "qc.draw(\"text\", end_wire_ext=0)"
   ]
  },
  {
   "cell_type": "code",
   "execution_count": null,
   "id": "9e31fccc",
   "metadata": {},
   "outputs": [],
   "source": [
    "qc.draw(\"text\", end_wire_ext=5)"
   ]
  },
  {
   "cell_type": "markdown",
   "id": "c83d291c",
   "metadata": {},
   "source": [
    "##### Adjust Gate Padding"
   ]
  },
  {
   "cell_type": "code",
   "execution_count": null,
   "id": "b1b88c7c",
   "metadata": {},
   "outputs": [],
   "source": [
    "qc.draw(\"text\", gate_pad=3)"
   ]
  },
  {
   "cell_type": "markdown",
   "id": "9fa47512",
   "metadata": {},
   "source": [
    "---\n",
    "### Gate Level Customization Options\n",
    "---"
   ]
  },
  {
   "cell_type": "code",
   "execution_count": null,
   "id": "f9920d1e",
   "metadata": {},
   "outputs": [],
   "source": [
    "qc = QubitCircuit(2)\n",
    "qc.add_gate(\"H\", targets=[0])\n",
    "qc.add_gate(\"H\", targets=[1], arg_label=\"hadamard gate\")"
   ]
  },
  {
   "cell_type": "code",
   "execution_count": null,
   "id": "a5b29887",
   "metadata": {},
   "outputs": [],
   "source": [
    "qc.draw(\"text\")"
   ]
  },
  {
   "cell_type": "markdown",
   "id": "0a19c2f9",
   "metadata": {},
   "source": [
    "#### With User Custom Gates"
   ]
  },
  {
   "cell_type": "code",
   "execution_count": null,
   "id": "6cde0750",
   "metadata": {},
   "outputs": [],
   "source": [
    "def user_gate1(arg_value):\n",
    "    # controlled rotation X\n",
    "    mat = np.zeros((4, 4), dtype=np.complex)\n",
    "    mat[0, 0] = mat[1, 1] = 1.0\n",
    "    mat[2:4, 2:4] = rx(arg_value).full()\n",
    "    return Qobj(mat, dims=[[2, 2], [2, 2]])\n",
    "\n",
    "\n",
    "def user_gate2():\n",
    "    # S gate\n",
    "    mat = np.array([[1.0, 0], [0.0, 1.0j]])\n",
    "    return Qobj(mat, dims=[[2], [2]])"
   ]
  },
  {
   "cell_type": "code",
   "execution_count": null,
   "id": "53c4a7b3",
   "metadata": {},
   "outputs": [],
   "source": [
    "qc = QubitCircuit(3)\n",
    "qc.user_gates = {\"CTRLRX\": user_gate1, \"S\": user_gate2}\n",
    "\n",
    "# qubit 1 controls qubit 0\n",
    "qc.add_gate(\"CTRLRX\", targets=[1, 0], arg_value=np.pi / 2)\n",
    "# qubit 2 is target of S gate\n",
    "qc.add_gate(\"S\", targets=[2])"
   ]
  },
  {
   "cell_type": "code",
   "execution_count": null,
   "id": "2a2abf35",
   "metadata": {},
   "outputs": [],
   "source": [
    "qc.draw(\"text\")"
   ]
  },
  {
   "cell_type": "markdown",
   "id": "7382d866",
   "metadata": {},
   "source": [
    "---"
   ]
  },
  {
   "cell_type": "code",
   "execution_count": null,
   "id": "4a3c6cf5",
   "metadata": {},
   "outputs": [],
   "source": [
    "qutip.about()"
   ]
  }
 ],
 "metadata": {
  "jupytext": {
   "cell_metadata_filter": "-all",
   "notebook_metadata_filter": "-jupytext.cell_metadata_filter,-jupytext.notebook_metadata_filter"
  },
  "kernelspec": {
   "display_name": "qutip-dev",
   "language": "python",
   "name": "python3"
  }
 },
 "nbformat": 4,
 "nbformat_minor": 5
}
