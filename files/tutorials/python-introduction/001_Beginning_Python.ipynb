{
 "cells": [
  {
   "cell_type": "markdown",
   "id": "1dca7111",
   "metadata": {},
   "source": [
    "# Introduction to Python"
   ]
  },
  {
   "cell_type": "markdown",
   "id": "c05c621d",
   "metadata": {},
   "source": [
    "P.D. Nation and J.R. Johansson\n",
    "\n",
    "For more information about QuTiP see [http://qutip.org](http://qutip.org)"
   ]
  },
  {
   "cell_type": "markdown",
   "id": "791f11df",
   "metadata": {},
   "source": [
    "## Imports\n",
    "Here we import the required functions for later usage."
   ]
  },
  {
   "cell_type": "code",
   "execution_count": null,
   "id": "66e082c0",
   "metadata": {},
   "outputs": [],
   "source": [
    "import matplotlib.pyplot as plt\n",
    "import numpy as np\n",
    "from scipy.special import factorial"
   ]
  },
  {
   "cell_type": "markdown",
   "id": "4fb9cec5",
   "metadata": {},
   "source": [
    "## Using Python For Simple Calculations"
   ]
  },
  {
   "cell_type": "markdown",
   "id": "12d9ea1b",
   "metadata": {},
   "source": [
    "As a first step, lets try to use the interactive Python command line tool **iPython** as a basic calculator.  Addition, subtraction, and multiplication, all work in the same way as you would write the equations down on paper"
   ]
  },
  {
   "cell_type": "code",
   "execution_count": null,
   "id": "41639cbb",
   "metadata": {},
   "outputs": [],
   "source": [
    "10 + 5"
   ]
  },
  {
   "cell_type": "code",
   "execution_count": null,
   "id": "886a36a7",
   "metadata": {},
   "outputs": [],
   "source": [
    "10 - 157"
   ]
  },
  {
   "cell_type": "code",
   "execution_count": null,
   "id": "b773c4ae",
   "metadata": {},
   "outputs": [],
   "source": [
    "4 / 3"
   ]
  },
  {
   "cell_type": "code",
   "execution_count": null,
   "id": "b86f1985",
   "metadata": {},
   "outputs": [],
   "source": [
    "(50 - 4) * 10 / 5"
   ]
  },
  {
   "cell_type": "markdown",
   "id": "8d402c12",
   "metadata": {},
   "source": [
    "However, things like raising a number to a power, $4^{4}$, are written differently."
   ]
  },
  {
   "cell_type": "code",
   "execution_count": null,
   "id": "f6c2d6cd",
   "metadata": {},
   "outputs": [],
   "source": [
    "4**4"
   ]
  },
  {
   "cell_type": "markdown",
   "id": "78c2075f",
   "metadata": {},
   "source": [
    "We could also express this in the mathematically equivalent way as $4^{4.0}$.  However, inside of the computer, the result is not treated the same as the above answer."
   ]
  },
  {
   "cell_type": "code",
   "execution_count": null,
   "id": "8ee43abe",
   "metadata": {},
   "outputs": [],
   "source": [
    "4**4.0"
   ]
  },
  {
   "cell_type": "markdown",
   "id": "da073028",
   "metadata": {},
   "source": [
    "## Integers vs. Floating Point Numbers"
   ]
  },
  {
   "cell_type": "markdown",
   "id": "fb78165d",
   "metadata": {},
   "source": [
    "All information stored in a computer must be represented in a binary format consisting of zeros and ones (e.g. $461\\rightarrow 111001101$).  Each zero or one is called a **bit**, and given $N$ bits, one can store all of the integers in the range $[0,2^{N-1}]$, where the $-1$ is due to the fact that the first bit is reserved for defining if a number is positive or negative   \n",
    "\n",
    "However, given a fixed number of bits, it is impossible to store an arbitrary number exactly.  Therefore, if one is given a random number, unless the number is exactly divisible by a factor of two, the conversion between the random number and the binary bit representation ultimately leads to a loss of precision, and what is known as **roundoff error**.\n"
   ]
  },
  {
   "cell_type": "markdown",
   "id": "92bd00d6",
   "metadata": {},
   "source": [
    "When dealing with numbers inside a computer there are two distinct types of numbers to consider:"
   ]
  },
  {
   "cell_type": "markdown",
   "id": "47555e52",
   "metadata": {},
   "source": [
    "- **Integers** - (1,2,4,-586,..) Are what are called **fixed-point numbers**, where the term fixed-point means that there is a fixed number of decimal places in the number (zero for integers).  These numbers can be stored exactly in a computer."
   ]
  },
  {
   "cell_type": "markdown",
   "id": "0055cf5c",
   "metadata": {},
   "source": [
    "- **Doubles/Floats** - (3.141,0.21,-0.1,..) These are **floating-point numbers** that are the binary equivalent to scientific notation $c=2.99792458\\times 10^{8}$.  Doubles (also called double-precision numbers) are floating point numbers that are written using 64-bits and, in general, are only accurate to the 15th or 16th decimal place.  Floats (or single-precision numbers) use 32-bits, and are good to 6-7 decimal places.  **Serious scientific calculations always require a combination of integers and double (64-bit) numbers**."
   ]
  },
  {
   "cell_type": "code",
   "execution_count": null,
   "id": "a1000553",
   "metadata": {},
   "outputs": [],
   "source": [
    "7 + 0.000000000000001"
   ]
  },
  {
   "cell_type": "code",
   "execution_count": null,
   "id": "c6fd36e8",
   "metadata": {},
   "outputs": [],
   "source": [
    "7 + 0.0000000000000001"
   ]
  },
  {
   "cell_type": "code",
   "execution_count": null,
   "id": "c8787d08",
   "metadata": {},
   "outputs": [],
   "source": [
    "0.1 + 0.2"
   ]
  },
  {
   "cell_type": "markdown",
   "id": "e088b0f7",
   "metadata": {},
   "source": [
    "This last example clearly highlights the fact that the computer does not store decimal (floating-point) numbers exactly.  The loss of precision in floating-point numbers can be characterized by the **machine precision**, $\\epsilon_{\\rm m}$, that is defined to be the smallest positive number such that \n",
    "\n",
    "$$1_{\\rm c}+\\epsilon_{\\rm m}\\neq 1_{\\rm c}$$\n",
    "\n",
    "where the subscript on $1_{\\rm c}$ is meant to remind you that this is a computer number.  Therefore, for any arbitrary number $N$ is related to its floating-point equivalent $N_{\\rm c}$ by\n",
    "\n",
    "$$N_{\\rm c}=N\\pm \\epsilon, \\ \\ \\forall~|\\epsilon|< \\epsilon_{\\rm m}.$$\n",
    "\n",
    "**Take Home Message** - All double-precision decimal numbers that are not factors of two will have error in the 15th decimal place.  This can lead to errors in your numerical solutions if you are not careful."
   ]
  },
  {
   "cell_type": "markdown",
   "id": "b62e0edd",
   "metadata": {},
   "source": [
    "## Making Python Smarter Using NumPy"
   ]
  },
  {
   "cell_type": "markdown",
   "id": "f76a8130",
   "metadata": {},
   "source": [
    "Python itself has limited support for mathematics outside of simple arithmetic.  Therefore, we will use the functions in the NumPy module to do more impressive, and faster, calculations.  We have imported NumPy already at the top of this notebook and can use it now by referring to `np`.\n",
    "\n",
    "We can now do more impressive calculations:"
   ]
  },
  {
   "cell_type": "code",
   "execution_count": null,
   "id": "4de52e7a",
   "metadata": {},
   "outputs": [],
   "source": [
    "np.exp(2.34)"
   ]
  },
  {
   "cell_type": "code",
   "execution_count": null,
   "id": "e2a5feeb",
   "metadata": {},
   "outputs": [],
   "source": [
    "np.sqrt(5)"
   ]
  },
  {
   "cell_type": "code",
   "execution_count": null,
   "id": "ef643eb6",
   "metadata": {},
   "outputs": [],
   "source": [
    "np.sinc(0.5)"
   ]
  },
  {
   "cell_type": "markdown",
   "id": "db4e795a",
   "metadata": {},
   "source": [
    "## Variables"
   ]
  },
  {
   "cell_type": "markdown",
   "id": "5af4259e",
   "metadata": {},
   "source": [
    "If we want to be able to store the numbers and results from our calculations then we must define variables using the \"=\" sign:"
   ]
  },
  {
   "cell_type": "code",
   "execution_count": null,
   "id": "87ca833d",
   "metadata": {},
   "outputs": [],
   "source": [
    "radius = 5\n",
    "area = np.pi * radius**2\n",
    "area"
   ]
  },
  {
   "cell_type": "markdown",
   "id": "d2348f39",
   "metadata": {},
   "source": [
    "We see that our variables name is defined on the left of the ```=``` sign and the value its given is defined on the right.  Here we have also used the ```pi``` variable that has been predefined by NumPy.  Variables can then be used in other expressions.  \n",
    "\n",
    "If a predefined variable is again used on the left side of ```=``` then its original value is replaced."
   ]
  },
  {
   "cell_type": "code",
   "execution_count": null,
   "id": "c705cdab",
   "metadata": {},
   "outputs": [],
   "source": [
    "x = 10\n",
    "x = (x**2 + 25) / 10\n",
    "x"
   ]
  },
  {
   "cell_type": "markdown",
   "id": "20146578",
   "metadata": {},
   "source": [
    "This is different than the mathematical equation $10x=x^{2}+25$  which has the solution $x=5$.  Therefore, it is important to remember that the ```=``` sign in a computer program is **not** equivalent to the mathematical equality. "
   ]
  },
  {
   "cell_type": "markdown",
   "id": "f045af6c",
   "metadata": {},
   "source": [
    "What happens if you try to use a variable without first defining it? \n",
    "\n",
    "Python would give us an error that the variable is not defined.  In addition, there are several words that are reserved by the Python language and cannot be used as variables:\n",
    "\n",
    "    and, as, assert, break, class, continue, def, del, elif, else, except, \n",
    "    exec, finally, for, from, global, if, import, in, is, lambda, not, or,\n",
    "    pass, print, raise, return, try, while, with, yield\n",
    "    \n",
    "Other than the above reserved words, your variables can be anything that starts with a letter or the underscore character \"$\\_$\" followed by any combination of alphanumeric characters and \"$\\_$\".  Note that using upper or lower case letters will give you two different variables."
   ]
  },
  {
   "cell_type": "code",
   "execution_count": null,
   "id": "92446f50",
   "metadata": {},
   "outputs": [],
   "source": [
    "_freq = 8\n",
    "Oscillator_Energy = 10\n",
    "_freq * Oscillator_Energy"
   ]
  },
  {
   "cell_type": "markdown",
   "id": "cac765d3",
   "metadata": {},
   "source": [
    "### Some Rules About Variables"
   ]
  },
  {
   "cell_type": "markdown",
   "id": "b80a78db",
   "metadata": {},
   "source": [
    "Although there are many ways to define variables in Python, it is best to try to define your variables in all the same way.  In this class, all of our variables will use only lower case characters. \n"
   ]
  },
  {
   "cell_type": "code",
   "execution_count": null,
   "id": "87a9a4eb",
   "metadata": {},
   "outputs": [],
   "source": [
    "speed_of_light = 2.9979 * 10**8\n",
    "spring_constant = np.sqrt(2 / 5)"
   ]
  },
  {
   "cell_type": "markdown",
   "id": "e591b828",
   "metadata": {},
   "source": [
    "It is also good practice to use variable names that correspond to the physical quantity that the variable represents."
   ]
  },
  {
   "cell_type": "markdown",
   "id": "c261f9dd",
   "metadata": {},
   "source": [
    "## Strings"
   ]
  },
  {
   "cell_type": "markdown",
   "id": "90a758d3",
   "metadata": {},
   "source": [
    "Often we want to print some text along with our variables, ask the user for input, or actually use the words and letters themselves as variables (e.g. in DNA analysis).  All of these can be accomplished using **strings**.  We have already seen one string already in this class: "
   ]
  },
  {
   "cell_type": "code",
   "execution_count": null,
   "id": "65703957",
   "metadata": {},
   "outputs": [],
   "source": [
    "\"Hello Class\""
   ]
  },
  {
   "cell_type": "markdown",
   "id": "ed85a2b5",
   "metadata": {},
   "source": [
    "We can also use single quotes, e.g. `'Hello Class'`.\n",
    "\n",
    "If we want to use the quote symbol in the string itself then we need to mix the two types "
   ]
  },
  {
   "cell_type": "code",
   "execution_count": null,
   "id": "779f851e",
   "metadata": {},
   "outputs": [],
   "source": [
    "\"How was Hwajung's birthday party?\""
   ]
  },
  {
   "cell_type": "markdown",
   "id": "51708189",
   "metadata": {},
   "source": [
    "Just like we did with integers and doubles, we can assign a string to a variable, and we can even add two strings together."
   ]
  },
  {
   "cell_type": "code",
   "execution_count": null,
   "id": "e553efcf",
   "metadata": {},
   "outputs": [],
   "source": [
    "a = \"I like \"  # There is a blank space at the end of this string.\n",
    "b = \"chicken and HOF\"\n",
    "a + b"
   ]
  },
  {
   "cell_type": "markdown",
   "id": "55af6edc",
   "metadata": {},
   "source": [
    "Notice the blank space at the end of the string in variable \"a\" provides spacing between \"like\" and \"chicken\"."
   ]
  },
  {
   "cell_type": "markdown",
   "id": "02f577bb",
   "metadata": {},
   "source": [
    "If we want to print out stuff, including strings and integers or doubles together, then we can use the builtin ```print``` function to accomplish this"
   ]
  },
  {
   "cell_type": "code",
   "execution_count": null,
   "id": "bb02239b",
   "metadata": {},
   "outputs": [],
   "source": [
    "temp = 23\n",
    "text = \"The temperature right now is\"\n",
    "print(text, temp)"
   ]
  },
  {
   "cell_type": "markdown",
   "id": "e6136db4",
   "metadata": {},
   "source": [
    "Notice how the print function automatically puts a space between the the two input arguments.  The ```print``` function automatically takes any number of string, integer, double, or other variables, converts them into strings, and then prints them for the user."
   ]
  },
  {
   "cell_type": "markdown",
   "id": "c2ee74c8",
   "metadata": {},
   "source": [
    "## Lists"
   ]
  },
  {
   "cell_type": "markdown",
   "id": "74d99fc3",
   "metadata": {},
   "source": [
    "Often times we will want to group many variables together into one object.  In Python this is accomplished by using a **```list```** datatype variable."
   ]
  },
  {
   "cell_type": "code",
   "execution_count": null,
   "id": "73ef4e46",
   "metadata": {},
   "outputs": [],
   "source": [
    "shopping_list = [\"eggs\", \"bread\", \"milk\", \"bananas\"]"
   ]
  },
  {
   "cell_type": "markdown",
   "id": "fb49485d",
   "metadata": {},
   "source": [
    "If we want to access a single variable inside of the list, then we need to use the **index** that corresponds to the variable inside of square brackets."
   ]
  },
  {
   "cell_type": "code",
   "execution_count": null,
   "id": "71ae5daf",
   "metadata": {},
   "outputs": [],
   "source": [
    "shopping_list[2]"
   ]
  },
  {
   "cell_type": "markdown",
   "id": "03f06819",
   "metadata": {},
   "source": [
    "We see that the \"milk\" string can be accessed using the index number $2$.  However, we can see that this variable is actually the third string in the list.  This discrepancy is due to the fact that Python (like C-code) considers the first element in a list, or other multivariable data structures, to be at index $0$."
   ]
  },
  {
   "cell_type": "code",
   "execution_count": null,
   "id": "c2554dd3",
   "metadata": {},
   "outputs": [],
   "source": [
    "shopping_list[0]"
   ]
  },
  {
   "cell_type": "markdown",
   "id": "be77fd5e",
   "metadata": {},
   "source": [
    "This is important to remember, and will take some getting used to before it becomes natural.  If we want to access the elements of the list from back to front, we can use negative indices"
   ]
  },
  {
   "cell_type": "code",
   "execution_count": null,
   "id": "fc311af3",
   "metadata": {},
   "outputs": [],
   "source": [
    "shopping_list[-1]"
   ]
  },
  {
   "cell_type": "code",
   "execution_count": null,
   "id": "3a4fb48a",
   "metadata": {},
   "outputs": [],
   "source": [
    "shopping_list[-2]"
   ]
  },
  {
   "cell_type": "markdown",
   "id": "5c43fc0e",
   "metadata": {},
   "source": [
    "If we are given a list variable and we want to known how many elements are inside of the list, then we can use the ```len``` function that returns an integer giving the length of the list."
   ]
  },
  {
   "cell_type": "code",
   "execution_count": null,
   "id": "c6d89471",
   "metadata": {},
   "outputs": [],
   "source": [
    "len(shopping_list)"
   ]
  },
  {
   "cell_type": "markdown",
   "id": "9407d8e1",
   "metadata": {},
   "source": [
    "If we want to change the length of the list by adding or removing elements, then we can use ```append``` and ```remove```, respectively."
   ]
  },
  {
   "cell_type": "code",
   "execution_count": null,
   "id": "ee375593",
   "metadata": {},
   "outputs": [],
   "source": [
    "shopping_list.append(\"apples\")\n",
    "shopping_list"
   ]
  },
  {
   "cell_type": "code",
   "execution_count": null,
   "id": "e3c5135c",
   "metadata": {},
   "outputs": [],
   "source": [
    "shopping_list.remove(\"bread\")\n",
    "shopping_list"
   ]
  },
  {
   "cell_type": "markdown",
   "id": "46f2e7da",
   "metadata": {},
   "source": [
    "Note that lists to not have to have the same type of data in each element!  You can mix any data types you want."
   ]
  },
  {
   "cell_type": "code",
   "execution_count": null,
   "id": "9bce29a1",
   "metadata": {},
   "outputs": [],
   "source": [
    "various_things = [1, \"hello\", -1.234, [-1, -2, -3]]\n",
    "various_things"
   ]
  },
  {
   "cell_type": "markdown",
   "id": "a33bee66",
   "metadata": {},
   "source": [
    "All of these elements can be accessed in the usual way"
   ]
  },
  {
   "cell_type": "code",
   "execution_count": null,
   "id": "9e484c65",
   "metadata": {},
   "outputs": [],
   "source": [
    "various_things[0]"
   ]
  },
  {
   "cell_type": "code",
   "execution_count": null,
   "id": "555cc948",
   "metadata": {},
   "outputs": [],
   "source": [
    "various_things[-1]"
   ]
  },
  {
   "cell_type": "code",
   "execution_count": null,
   "id": "398c7f9d",
   "metadata": {},
   "outputs": [],
   "source": [
    "various_things[3][1]"
   ]
  },
  {
   "cell_type": "markdown",
   "id": "90630f37",
   "metadata": {},
   "source": [
    "## Iterating Through Lists and Python Indention Rules"
   ]
  },
  {
   "cell_type": "markdown",
   "id": "5356994f",
   "metadata": {},
   "source": [
    "One of the most important reasons for using lists is because one often wants to do the same type of manipulation on each of the elements one at a time.  Going through a list in this fashion is called **iteration** and is accomplished in Python using the ```for``` command: "
   ]
  },
  {
   "cell_type": "code",
   "execution_count": null,
   "id": "9a34392a",
   "metadata": {},
   "outputs": [],
   "source": [
    "items = [\n",
    "    \"four calling birds\",\n",
    "    \"three french hens\",\n",
    "    \"two turtle doves\",\n",
    "    \"a partridge in a pear tree\",\n",
    "]\n",
    "for thing in items:\n",
    "    print(thing)"
   ]
  },
  {
   "cell_type": "markdown",
   "id": "a8e2dba3",
   "metadata": {},
   "source": [
    "Here, \"thing\" is a variable that takes the value of each item in the list \"items\" and then gets sent to the ```print``` function.  We are free to call this variable anything we want.  "
   ]
  },
  {
   "cell_type": "code",
   "execution_count": null,
   "id": "b089a098",
   "metadata": {},
   "outputs": [],
   "source": [
    "for variable in items:\n",
    "    print(variable)"
   ]
  },
  {
   "cell_type": "markdown",
   "id": "30d2e4ed",
   "metadata": {},
   "source": [
    "The next important thing to notice is that after the colon \":\" the print statement is indented.  This indention after a colon is required in the Python programming langage and represents a section of the code called a **block**.  If we did not intent the print function then Python would yell at us. "
   ]
  },
  {
   "cell_type": "markdown",
   "id": "c27b4981",
   "metadata": {},
   "source": [
    "Blocks are a standard part of any programming language and are used for organization and flow-control in computer code.  Anything that is indented in the above example will be run for each item in the list"
   ]
  },
  {
   "cell_type": "code",
   "execution_count": null,
   "id": "299a3ea9",
   "metadata": {},
   "outputs": [],
   "source": [
    "for variable in items:\n",
    "    print(\"My true love gave to me\", variable)"
   ]
  },
  {
   "cell_type": "markdown",
   "id": "36419ed2",
   "metadata": {},
   "source": [
    "## Slicing Lists"
   ]
  },
  {
   "cell_type": "markdown",
   "id": "aa3b3619",
   "metadata": {},
   "source": [
    "If we want to grab certain elements from a list we can make use of **slicing** to conveniently access the elements.  Slicing can be used on any **sequence** such as lists, strings, and as we will see shortly, arrays. Consider our ```shopping_list``` list:"
   ]
  },
  {
   "cell_type": "code",
   "execution_count": null,
   "id": "b281fad9",
   "metadata": {},
   "outputs": [],
   "source": [
    "shopping_list = [\"eggs\", \"bread\", \"milk\", \"bananas\", \"apples\"]"
   ]
  },
  {
   "cell_type": "markdown",
   "id": "5d909e87",
   "metadata": {},
   "source": [
    "To get the first element we used a single index"
   ]
  },
  {
   "cell_type": "code",
   "execution_count": null,
   "id": "5d7c00ba",
   "metadata": {},
   "outputs": [],
   "source": [
    "shopping_list[0]"
   ]
  },
  {
   "cell_type": "markdown",
   "id": "d4dfff29",
   "metadata": {},
   "source": [
    "But if we want to get the first three elements in the list we can use: "
   ]
  },
  {
   "cell_type": "code",
   "execution_count": null,
   "id": "e2564af4",
   "metadata": {},
   "outputs": [],
   "source": [
    "shopping_list[0:3]"
   ]
  },
  {
   "cell_type": "markdown",
   "id": "935b345b",
   "metadata": {},
   "source": [
    "We could also grab the last two elements using:"
   ]
  },
  {
   "cell_type": "code",
   "execution_count": null,
   "id": "53d4628a",
   "metadata": {},
   "outputs": [],
   "source": [
    "shopping_list[-2:]"
   ]
  },
  {
   "cell_type": "markdown",
   "id": "29a4dc3f",
   "metadata": {},
   "source": [
    "Or, we can get even more complex and grab all of the even number elements by using a third argument in the brackets that tells use the step size:"
   ]
  },
  {
   "cell_type": "code",
   "execution_count": null,
   "id": "54676e64",
   "metadata": {},
   "outputs": [],
   "source": [
    "shopping_list[0::2]"
   ]
  },
  {
   "cell_type": "markdown",
   "id": "8af03996",
   "metadata": {},
   "source": [
    "## Conditional Statements"
   ]
  },
  {
   "cell_type": "markdown",
   "id": "ba6e92c9",
   "metadata": {},
   "source": [
    "We have now seen a collection of data types (integers, doubles/floats, lists, strings) but we have yet to discuss how to compare two different variables.  For example, how do we check if two different integers $a$ and $b$ are equal?  Or how do we know if $a\\ge b$?  This is accomplished using **conditional statements**.  The basic operations in boolean logic are \"equal\" (```==```), \"not equal\" (```!=```), \"greater than\" (```>```), \"greater than or equal\" (```>=```), \"less than\" (```<```), and \"less than or equal\" (```<=```).  All of these conditionals operate on two variables and return a simple boolean ```True``` or ```False``` answer.  For example"
   ]
  },
  {
   "cell_type": "code",
   "execution_count": null,
   "id": "a3985367",
   "metadata": {},
   "outputs": [],
   "source": [
    "a = 5\n",
    "b = 8\n",
    "a > b"
   ]
  },
  {
   "cell_type": "code",
   "execution_count": null,
   "id": "c42013ec",
   "metadata": {},
   "outputs": [],
   "source": [
    "c = 0\n",
    "c <= 0, c >= 0"
   ]
  },
  {
   "cell_type": "code",
   "execution_count": null,
   "id": "67cb1e21",
   "metadata": {},
   "outputs": [],
   "source": [
    "a = 5\n",
    "b = 6\n",
    "a == b, a != b"
   ]
  },
  {
   "cell_type": "markdown",
   "id": "e3044fd8",
   "metadata": {},
   "source": [
    "It is important to point out that in Python ```1``` and ```0``` are the same as ```True``` and ```False```, respectively."
   ]
  },
  {
   "cell_type": "code",
   "execution_count": null,
   "id": "9d6f58cb",
   "metadata": {},
   "outputs": [],
   "source": [
    "t = True\n",
    "f = False\n",
    "t == 1, f == 0"
   ]
  },
  {
   "cell_type": "markdown",
   "id": "0534e210",
   "metadata": {},
   "source": [
    "We can also combine multiple conditional statements"
   ]
  },
  {
   "cell_type": "code",
   "execution_count": null,
   "id": "251f0c7d",
   "metadata": {},
   "outputs": [],
   "source": [
    "a = -1\n",
    "b = 4\n",
    "c = 10\n",
    "d = 11\n",
    "a < b < c != d"
   ]
  },
  {
   "cell_type": "markdown",
   "id": "f90a2201",
   "metadata": {},
   "source": [
    "These operations can also be used on lists and strings:"
   ]
  },
  {
   "cell_type": "code",
   "execution_count": null,
   "id": "3c5f0b8b",
   "metadata": {},
   "outputs": [],
   "source": [
    "[4, 5, 6] >= [4, 5, 7]"
   ]
  },
  {
   "cell_type": "code",
   "execution_count": null,
   "id": "a0dc8788",
   "metadata": {},
   "outputs": [],
   "source": [
    "[4, 5, 6] <= [4, 5, 7]"
   ]
  },
  {
   "cell_type": "code",
   "execution_count": null,
   "id": "b2a9d5e8",
   "metadata": {},
   "outputs": [],
   "source": [
    "\"today\" == \"Today\""
   ]
  },
  {
   "cell_type": "markdown",
   "id": "61f73983",
   "metadata": {},
   "source": [
    "### Conditional Statements and Flow Control"
   ]
  },
  {
   "cell_type": "markdown",
   "id": "af08511b",
   "metadata": {},
   "source": [
    "The main purpose of these conditional statements is to control the flow of a Python program.  The result of a conditional statement can be used to control a program using ```if/else``` and ```while``` statements."
   ]
  },
  {
   "cell_type": "code",
   "execution_count": null,
   "id": "2cee2692",
   "metadata": {},
   "outputs": [],
   "source": [
    "today = \"friday\"\n",
    "if today == \"friday\":\n",
    "    print(\"We have class today :(\")  # this is a code block\n",
    "else:\n",
    "    print(\"No class today :)\")  # this is also a code block"
   ]
  },
  {
   "cell_type": "markdown",
   "id": "8a8fdcb9",
   "metadata": {},
   "source": [
    "The code block below the ```if``` statement is run only if the conditional ```today=='friday'``` returns ```True```.  If the conditional is ```False``` then the code block inside the ```else``` statement is run.  We can also check multiple conditions by using the ``elif`` statement after ```if```:"
   ]
  },
  {
   "cell_type": "code",
   "execution_count": null,
   "id": "5ec11337",
   "metadata": {},
   "outputs": [],
   "source": [
    "today = \"thursday\"\n",
    "if today == \"friday\":\n",
    "    print(\"We have class today :(\")\n",
    "elif today == \"thursday\":\n",
    "    print(\"Our assignment is due today :(\")\n",
    "else:\n",
    "    print(\"No class today :)\")"
   ]
  },
  {
   "cell_type": "markdown",
   "id": "fd1318b1",
   "metadata": {},
   "source": [
    "The other important flow control expression is the **```while``` loop** that executes a block of code repeatedly until the conditional statement at the start of the loop is ```False```."
   ]
  },
  {
   "cell_type": "code",
   "execution_count": null,
   "id": "9a31007f",
   "metadata": {},
   "outputs": [],
   "source": [
    "n = 0\n",
    "while n <= 10:  # evaluate code block until n>10\n",
    "    print(\"The current value of n is:\", n)\n",
    "    n = n + 1  # increase the value of n by 1"
   ]
  },
  {
   "cell_type": "markdown",
   "id": "9ed5d1c2",
   "metadata": {},
   "source": [
    "When using a ```while``` loop you must make sure the conditional is not ```True``` forever.  Otherwise your program will be in an **infinite loop** that never ends."
   ]
  },
  {
   "cell_type": "markdown",
   "id": "c25bb9d0",
   "metadata": {},
   "source": [
    "### Example: Even and Odd Numbers"
   ]
  },
  {
   "cell_type": "markdown",
   "id": "746683ff",
   "metadata": {},
   "source": [
    "Let us determine whether a given number between [1,10] is an even or odd number."
   ]
  },
  {
   "cell_type": "code",
   "execution_count": null,
   "id": "ec5df8e3",
   "metadata": {},
   "outputs": [],
   "source": [
    "for n in [1, 2, 3, 4, 5, 6, 7, 8, 9, 10]:\n",
    "    if np.remainder(n, 2) == 0:\n",
    "        print(n, \"is even\")\n",
    "    else:\n",
    "        print(n, \"is odd\")"
   ]
  },
  {
   "cell_type": "markdown",
   "id": "04754435",
   "metadata": {},
   "source": [
    "Typing lists with a long sequence of integers is quite annoying.  Fortunately, Python has a builtin function called ```range``` that makes creating sequences of integers very easy.  For instance, the above example becomes"
   ]
  },
  {
   "cell_type": "code",
   "execution_count": null,
   "id": "58819997",
   "metadata": {},
   "outputs": [],
   "source": [
    "for n in range(1, 11):\n",
    "    if np.remainder(n, 2) == 0:\n",
    "        print(n, \"is even\")\n",
    "    else:\n",
    "        print(n, \"is odd\")"
   ]
  },
  {
   "cell_type": "markdown",
   "id": "3bb0d6f2",
   "metadata": {},
   "source": [
    "Notice how the range function only counts to $10$ even though the range goes to $11$.  The endpoint is *never* part of the generated sequence when using ```range```.  If we wanted the ```range``` function to start at zero instead of one we could simply write ```range(11)```.  We can also make sequences that go in arbitrary steps:"
   ]
  },
  {
   "cell_type": "code",
   "execution_count": null,
   "id": "c03dc409",
   "metadata": {},
   "outputs": [],
   "source": [
    "for n in range(0, 11, 2):\n",
    "    print(n)"
   ]
  },
  {
   "cell_type": "markdown",
   "id": "790cbf6f",
   "metadata": {},
   "source": [
    "The ```range``` function does not return a list of integers but is something called a **generator**.  In general, the ```range``` function should only be used in combination with the ```for``` command."
   ]
  },
  {
   "cell_type": "markdown",
   "id": "6c08d50c",
   "metadata": {},
   "source": [
    "### Example: Fibonacci Sequence"
   ]
  },
  {
   "cell_type": "markdown",
   "id": "6a3cae58",
   "metadata": {},
   "source": [
    "Let us follow the Python documentation and calculate the first ten numbers in the Fibonacci sequence:"
   ]
  },
  {
   "cell_type": "code",
   "execution_count": null,
   "id": "102c5d98",
   "metadata": {},
   "outputs": [],
   "source": [
    "n = 10\n",
    "fib = [0, 1]\n",
    "for i in range(2, n):\n",
    "    fib.append(fib[i - 1] + fib[i - 2])\n",
    "print(fib)"
   ]
  },
  {
   "cell_type": "markdown",
   "id": "44540998",
   "metadata": {},
   "source": [
    "We can also write this using a ```while``` loop if we wanted to."
   ]
  },
  {
   "cell_type": "code",
   "execution_count": null,
   "id": "34036232",
   "metadata": {},
   "outputs": [],
   "source": [
    "n = 2\n",
    "fib = [0, 1]\n",
    "while n < 10:\n",
    "    fib.append(fib[n - 1] + fib[n - 2])\n",
    "    n = n + 1\n",
    "print(fib)"
   ]
  },
  {
   "cell_type": "markdown",
   "id": "19f5b050",
   "metadata": {},
   "source": [
    "## Writing Scripts and Functions"
   ]
  },
  {
   "cell_type": "markdown",
   "id": "25c30871",
   "metadata": {},
   "source": [
    "Up until now we have been running little code snippets but have not really been doing any real programming.  Recall that Python is a scripting language.  Therefore, most of the time, we want to write **scripts** that contain a collection of constants, variables, data structures, functions, comments, etc., that perform various complicated tasks. "
   ]
  },
  {
   "cell_type": "markdown",
   "id": "a53c3229",
   "metadata": {},
   "source": [
    "###  Scripts"
   ]
  },
  {
   "cell_type": "markdown",
   "id": "69e2cdc6",
   "metadata": {},
   "source": [
    "A Python script file is nothing but a text file containing Python code that ends with a **.py** extension.  Python scripts are also called Python **programs**.  If we open up any editor, then we are given a blank window that we can enter our Python commands in."
   ]
  },
  {
   "cell_type": "markdown",
   "id": "3ae9b16d",
   "metadata": {},
   "source": [
    "Before we begin to write our scripts, lets first discuss the best format for writing your scripts."
   ]
  },
  {
   "cell_type": "code",
   "execution_count": null,
   "id": "1f4f4c6e",
   "metadata": {},
   "outputs": [],
   "source": [
    "# This is an example script for the P461 class\n",
    "# Here we will calculate the series expansion\n",
    "# for sin(x) up to an arbitrary order N.\n",
    "#\n",
    "# Paul Nation, 02/03/2014\n",
    "\n",
    "N = 5  # The order of the series expansion\n",
    "x = np.pi / 4.0  # The point at which we want to evaluate sine\n",
    "\n",
    "ans = 0.0\n",
    "for k in range(N + 1):\n",
    "    ans = ans + (-1) ** k * x ** (1 + 2 * k) / factorial(1 + 2 * k)\n",
    "print(\"Series approximation:\", ans)\n",
    "print(\"Error:\", np.sin(x) - ans)"
   ]
  },
  {
   "cell_type": "markdown",
   "id": "5defc577",
   "metadata": {},
   "source": [
    "We can see that the script has four main parts: First, we have a section of **comments** that describe what the script does and when it was created.  In python all comments start with the **```#```** symbol.  Everything after this symbol is ignored by the computer.  Second, we have the section of the scripts that load the necessary functions that we need from other packages.  Third is a section where we define all of the constants that are going to be used in the script. You should also add comments here that tell us what the constants are.  Finally, your main body of code goes after these sections."
   ]
  },
  {
   "cell_type": "markdown",
   "id": "bf17ac4c",
   "metadata": {},
   "source": [
    "### Functions"
   ]
  },
  {
   "cell_type": "markdown",
   "id": "bc18f218",
   "metadata": {},
   "source": [
    "We are finally in a position to look at one of the most important parts of any programming language **functions**.  Functions are blocks of code that accomplish a specific task. Functions usually take \"input arguments\", perform operations on these inputs, and then \"return\" one or more results. Functions can be used over and over again, and can also be \"called\" from the inside of other functions.  Let us rewrite our script for $sin(x)$ using a function and then describe each part."
   ]
  },
  {
   "cell_type": "code",
   "execution_count": null,
   "id": "ede14340",
   "metadata": {},
   "outputs": [],
   "source": [
    "N = 5  # The order of the series expansion\n",
    "x = np.pi / 4.0  # The point at which we want to evaluate sine\n",
    "\n",
    "\n",
    "def sine_series(x, N):\n",
    "    ans = 0.0\n",
    "    for k in range(N + 1):\n",
    "        ans = ans + (-1) ** k * x ** (1 + 2 * k) / factorial(1 + 2 * k)\n",
    "    return ans\n",
    "\n",
    "\n",
    "result = sine_series(x, N)\n",
    "print(\"Series approximation:\", result)\n",
    "print(\"Error:\", np.sin(x) - result)"
   ]
  },
  {
   "cell_type": "markdown",
   "id": "8e5f395a",
   "metadata": {},
   "source": [
    "We see see that a function is created using the keyword ```def``` which is short \"define\", then the name of the function followed by the input arguments in parentheses.  After the block of code called by the function, the ```return``` keyword specifies what variable(s) and/or data structure(s) are given as the output.  So a general functions call is"
   ]
  },
  {
   "cell_type": "code",
   "execution_count": null,
   "id": "5670c45b",
   "metadata": {},
   "outputs": [],
   "source": [
    "def function_name(arg1, arg2):\n",
    "    \"Block of code to run\"\n",
    "    \"...\"\n",
    "    return result"
   ]
  },
  {
   "cell_type": "markdown",
   "id": "0029f622",
   "metadata": {},
   "source": [
    "Again, everything after the colon (:) that is inside the function must be indented.  The beauty of using functions is that we can use the same code over and over, just by changing the constants near the top of our Python script.\n",
    "\n",
    "Variables that are defined inside of a function are called **local variables** and only defined for the block of code inside of the function.  In our previous example, ```k``` was a local variable.  The input arguments and return arguments are *not* local variables.  Once a function is done running, the local variables are erased from memory.  Therefore, if you want get something out of a function, your must return the value when your done."
   ]
  },
  {
   "cell_type": "markdown",
   "id": "816e706a",
   "metadata": {},
   "source": [
    "If we want to return more than one thing at the end of the function then we just need to separate the different items by a comma."
   ]
  },
  {
   "cell_type": "code",
   "execution_count": null,
   "id": "edde2825",
   "metadata": {},
   "outputs": [],
   "source": [
    "N = 100  # Number of points to generate\n",
    "\n",
    "\n",
    "def random_coordinates(N):\n",
    "    x_coords = []\n",
    "    y_coords = []\n",
    "    for n in range(N):\n",
    "        xnew, ynew = np.random.random(2)\n",
    "        x_coords.append(xnew)\n",
    "        y_coords.append(ynew)\n",
    "    return x_coords, y_coords\n",
    "\n",
    "\n",
    "xc, yc = random_coordinates(N)\n",
    "plt.plot(xc, yc, \"ro\", markersize=8)\n",
    "plt.show()"
   ]
  },
  {
   "cell_type": "code",
   "execution_count": null,
   "id": "ef3f9cca",
   "metadata": {},
   "outputs": [],
   "source": [
    "N = 20  # Number of points to generate\n",
    "\n",
    "\n",
    "def random_coordinates(N):\n",
    "    x_coords = []\n",
    "    y_coords = []\n",
    "    for n in range(N):\n",
    "        xnew, ynew = np.random.random(2)\n",
    "        x_coords.append(xnew)\n",
    "        y_coords.append(ynew)\n",
    "    return x_coords, y_coords\n",
    "\n",
    "\n",
    "def dist2d(x1, y1, x2, y2):\n",
    "    return np.sqrt((x1 - x2) ** 2 + (y1 - y2) ** 2)\n",
    "\n",
    "\n",
    "def max_dist(xc, yc):\n",
    "    max_dist = 0.0\n",
    "    num_points = len(xc)\n",
    "    for ii in range(num_points):\n",
    "        for jj in range(num_points):\n",
    "            dist = dist2d(xc[ii], yc[ii], xc[jj], yc[jj])\n",
    "            if dist > max_dist:\n",
    "                max_dist = dist\n",
    "                xvals = [xc[ii], xc[jj]]\n",
    "                yvals = [yc[ii], yc[jj]]\n",
    "    return max_dist, xvals, yvals\n",
    "\n",
    "\n",
    "xc, yc = random_coordinates(N)\n",
    "max_dist, pnt1, pnt2 = max_dist(xc, yc)\n",
    "plt.plot(xc, yc, \"ro\", markersize=8)\n",
    "plt.plot(pnt1, pnt2, \"b-\", lw=2)\n",
    "plt.show()"
   ]
  },
  {
   "cell_type": "markdown",
   "id": "7024104b",
   "metadata": {},
   "source": [
    "Obvious this last example is more complex, and in particular, it is hard to understand what the functions.  Even for your own functions, you may often forget what your functions do unless you provide some documentation and comments in your scripts.  Here we will see how to properly document a function in Python by looking at the ```max_dist``` function:"
   ]
  },
  {
   "cell_type": "code",
   "execution_count": null,
   "id": "6d3ec18c",
   "metadata": {},
   "outputs": [],
   "source": [
    "def max_dist(xc, yc):\n",
    "    \"\"\"\n",
    "    Finds the maximum distance between any two points\n",
    "    in a collection of 2D points.  The points corresponding\n",
    "    to this distance are also returned.\n",
    "\n",
    "    Parameters\n",
    "    ----------\n",
    "    xc : list\n",
    "        List of x-coordinates\n",
    "    yc : list\n",
    "        List of y-coordinates\n",
    "\n",
    "    Returns\n",
    "    -------\n",
    "    max_dist : float\n",
    "        Maximum distance\n",
    "    xvals : list\n",
    "        x-coodinates of two points\n",
    "    yvals : list\n",
    "        y-coordinates of two points\n",
    "\n",
    "    \"\"\"\n",
    "    max_dist = 0.0  # initialize max_dist\n",
    "    num_points = len(xc)  # number of points in collection\n",
    "    for ii in range(num_points):\n",
    "        for jj in range(num_points):\n",
    "            dist = dist2d(xc[ii], yc[ii], xc[jj], yc[jj])\n",
    "            if dist > max_dist:\n",
    "                max_dist = dist\n",
    "                xvals = [xc[ii], xc[jj]]\n",
    "                yvals = [yc[ii], yc[jj]]\n",
    "    return max_dist, xvals, yvals"
   ]
  },
  {
   "cell_type": "markdown",
   "id": "23fdac40",
   "metadata": {},
   "source": [
    "Everything inbetween the ```\"\"\"...\"\"\"``` is called a **docstring** and it gives a tells someone who is not familiar with a partiular functions a detailed explaination as to what the function does, what parameters it takes as inputs, and what values it returns.  It is also good practice to put some comments next to your local variables so the user knows what each of these is for. Although it seems like a lot of work at first, writing docstrings will make you a much better programmer in the future."
   ]
  },
  {
   "cell_type": "markdown",
   "id": "9a8c3444",
   "metadata": {},
   "source": [
    "<h1 align=\"center\">End of Tutorial</h1> \n",
    "<h3 align=\"center\"><a href=\"http://qutip.org/tutorials.html\">Return to QuTiP tutorials page</a></h3> "
   ]
  }
 ],
 "metadata": {
  "jupytext": {
   "cell_metadata_filter": "-all",
   "notebook_metadata_filter": "-jupytext.cell_metadata_filter,-jupytext.notebook_metadata_filter"
  },
  "kernelspec": {
   "display_name": "Python 3 (ipykernel)",
   "language": "python",
   "name": "python3"
  }
 },
 "nbformat": 4,
 "nbformat_minor": 5
}
