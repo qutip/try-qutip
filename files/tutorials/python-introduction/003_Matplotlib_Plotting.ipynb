{
 "cells": [
  {
   "cell_type": "code",
   "execution_count": null,
   "id": "5fdc7dbd",
   "metadata": {},
   "outputs": [],
   "source": [
    "import matplotlib.pyplot as plt\n",
    "import numpy as np\n",
    "from IPython.display import HTML, Image\n",
    "from scipy.special import airy\n",
    "\n",
    "%matplotlib inline"
   ]
  },
  {
   "cell_type": "code",
   "execution_count": null,
   "id": "b452cb69",
   "metadata": {},
   "outputs": [],
   "source": [
    "HTML(\n",
    "    \"\"\"<script>\n",
    "code_show=true;\n",
    "function code_toggle() {\n",
    " if (code_show){\n",
    " $('div.input').hide();\n",
    " } else {\n",
    " $('div.input').show();\n",
    " }\n",
    " code_show = !code_show\n",
    "}\n",
    "$( document ).ready(code_toggle);\n",
    "</script>\n",
    "The raw code for this IPython notebook is by default hidden for easier reading.\n",
    "To toggle on/off the raw code, click\n",
    "<a href=\"javascript:code_toggle()\">here</a>.\"\"\"\n",
    ")"
   ]
  },
  {
   "cell_type": "markdown",
   "id": "6f1b6740",
   "metadata": {},
   "source": [
    "# Plotting in Python Using Matplotlib"
   ]
  },
  {
   "cell_type": "markdown",
   "id": "0f0e6025",
   "metadata": {},
   "source": [
    "P.D. Nation and J.R. Johansson\n",
    "\n",
    "For more information about QuTiP see [http://qutip.org](http://qutip.org)"
   ]
  },
  {
   "cell_type": "markdown",
   "id": "4926f04f",
   "metadata": {},
   "source": [
    "## Introduction"
   ]
  },
  {
   "cell_type": "markdown",
   "id": "ae3f263d",
   "metadata": {},
   "source": [
    "Being able to plot high-quality, informative figures is one of the necessary tools for working in the sciences today.  If your figures don't look good, then you don't look good.  Good visuals not only help to convey scientific information, but also help to draw attention to your work.  Often times good quality figures and plots play an important role in determining the overall scientific impact of your work.  Therefore we will spend some time learning how to create high-quality, publication ready plots in Python using a Python module called [Matplotlib](http://matplotlib.org)."
   ]
  },
  {
   "cell_type": "code",
   "execution_count": null,
   "id": "1b621c7b",
   "metadata": {},
   "outputs": [],
   "source": [
    "Image(filename=\"images/mpl.png\", width=700, embed=True)"
   ]
  },
  {
   "cell_type": "markdown",
   "id": "c0bf8d67",
   "metadata": {},
   "source": [
    "Basic 2D Plotting\n",
    "-----------------\n",
    "Before generating plots in Python we must load the main Matplotlib module. We did so in the beginning of this notebook."
   ]
  },
  {
   "cell_type": "markdown",
   "id": "a6720c93",
   "metadata": {},
   "source": [
    "### Drawing Lines\n",
    "Plotting a simple function, such as a sine function, is easy to do.  All we need are two arrays, one for the x values, and one for the f(x) values"
   ]
  },
  {
   "cell_type": "code",
   "execution_count": null,
   "id": "1cb55a2e",
   "metadata": {},
   "outputs": [],
   "source": [
    "x = np.linspace(-np.pi, np.pi)\n",
    "y = np.sin(x)\n",
    "plt.plot(x, y)\n",
    "plt.show()"
   ]
  },
  {
   "cell_type": "markdown",
   "id": "04006f1c",
   "metadata": {},
   "source": [
    "Here, the plot command generates the figure, but it is not displayed until you run ```show()```.  If we want, we can also also add some labels to the axes and a title to the plot. While we are at it, lets change the color of the line to red, and make it a dashed line."
   ]
  },
  {
   "cell_type": "code",
   "execution_count": null,
   "id": "1b2bb940",
   "metadata": {},
   "outputs": [],
   "source": [
    "x = np.linspace(-np.pi, np.pi)\n",
    "y = np.sin(x)\n",
    "plt.plot(x, y, \"r--\")  # make line red 'r' and dashed '--'\n",
    "plt.xlabel(\"x\")\n",
    "plt.ylabel(\"y\")\n",
    "plt.title(\"sin(x)\")\n",
    "plt.show()"
   ]
  },
  {
   "cell_type": "markdown",
   "id": "44c8a301",
   "metadata": {},
   "source": [
    "Here the 'r' stands for red, but we could have used any of the built in colors:\n",
    "\n",
    "- 'b': blue\n",
    "- 'g': green\n",
    "- 'r': red\n",
    "- 'c': cyan\n",
    "- 'm': magenta\n",
    "- 'y': yellow\n",
    "- 'k': black\n",
    "- 'w': white"
   ]
  },
  {
   "cell_type": "markdown",
   "id": "a1c968e9",
   "metadata": {},
   "source": [
    "We can also specify the color of a line using the color keyword argument"
   ]
  },
  {
   "cell_type": "code",
   "execution_count": null,
   "id": "9439256e",
   "metadata": {},
   "outputs": [],
   "source": [
    "x = np.linspace(-np.pi, np.pi)\n",
    "y = np.sin(x)\n",
    "# Here a string from 0->1 specifies a gray value.\n",
    "plt.plot(x, y, \"--\", color=\"0.75\")\n",
    "plt.show()"
   ]
  },
  {
   "cell_type": "code",
   "execution_count": null,
   "id": "2c7a6f1f",
   "metadata": {},
   "outputs": [],
   "source": [
    "x = np.linspace(-np.pi, np.pi)\n",
    "y = np.sin(x)\n",
    "plt.plot(x, y, \"-\", color=\"#FD8808\")  # We can also use hex colors if we want.\n",
    "plt.show()"
   ]
  },
  {
   "cell_type": "markdown",
   "id": "358b4408",
   "metadata": {},
   "source": [
    "The style of the line can be changed from solid: ```''``` or ```'-'```, to dashed: ```'--'```, dotted ```'.'```, dash-dotted: ```'-.'```, dots+solid: ```'.-'```, or little dots: ```':'```.  One can also use the 'linstyle' or 'ls' keyword argument to change this style.  We can disply all of these variations using the **subplot** function that displays multiple plots in a grid specified by the number of rows, columns, and the number of the current plot.  We only need one ```show()``` command for viewing all of the plots.  To make the plot look good, we can also control the width and height of the figure by calling the ```figure``` function using the keyword argument 'figsize' that specifies the width and height of the figure in inches."
   ]
  },
  {
   "cell_type": "code",
   "execution_count": null,
   "id": "ae71ac70",
   "metadata": {},
   "outputs": [],
   "source": [
    "x = np.linspace(-np.pi, np.pi)\n",
    "y = np.sin(x)\n",
    "plt.figure(figsize=(12, 3))  # This controls the size of the figure\n",
    "plt.subplot(2, 3, 1)  # This is the first plot in a 2x3 grid of plots\n",
    "plt.plot(x, y)\n",
    "plt.subplot(2, 3, 2)  # this is the second plot\n",
    "plt.plot(x, y, linestyle=\"--\")  # Demo using 'linestyle' keyword arguement\n",
    "plt.subplot(2, 3, 3)\n",
    "plt.plot(x, y, \".\")\n",
    "plt.subplot(2, 3, 4)\n",
    "plt.plot(x, y, \"-.\")\n",
    "plt.subplot(2, 3, 5)\n",
    "plt.plot(x, y, \".-\")\n",
    "plt.subplot(2, 3, 6)\n",
    "plt.plot(x, y, ls=\":\")  # Demo using 'ls' keyword arguement.\n",
    "plt.show()"
   ]
  },
  {
   "cell_type": "markdown",
   "id": "0f435384",
   "metadata": {},
   "source": [
    "If we want to change the width of a line then we can use the 'linewidth' or 'lw' keyword arguements with a float number specifying the linewidth"
   ]
  },
  {
   "cell_type": "code",
   "execution_count": null,
   "id": "4abe0e92",
   "metadata": {},
   "outputs": [],
   "source": [
    "x = np.linspace(0, 10)\n",
    "y = np.sqrt(x)\n",
    "plt.figure(figsize=(12, 3))\n",
    "plt.subplot(1, 3, 1)\n",
    "plt.plot(x, y)\n",
    "plt.subplot(1, 3, 2)\n",
    "plt.plot(x, y, linewidth=2)\n",
    "plt.subplot(1, 3, 3)\n",
    "plt.plot(x, y, lw=7.75)\n",
    "plt.show()"
   ]
  },
  {
   "cell_type": "markdown",
   "id": "32b7ba1d",
   "metadata": {},
   "source": [
    "If we want to plot multiple lines on a single plot, we can call the plot command several times, or we can use just a single plot command by entering the data for multiple lines simultaneously."
   ]
  },
  {
   "cell_type": "code",
   "execution_count": null,
   "id": "0d1b3c93",
   "metadata": {},
   "outputs": [],
   "source": [
    "x = np.linspace(0, 10)\n",
    "s = np.sin(x)\n",
    "c = np.cos(x)\n",
    "sx = x * np.sin(x)\n",
    "plt.figure(figsize=(12, 3))\n",
    "plt.subplot(1, 2, 1)\n",
    "# call three different plot functions\n",
    "plt.plot(x, s, \"b\")\n",
    "plt.plot(x, c, \"r\")\n",
    "plt.plot(x, sx, \"g\")\n",
    "\n",
    "plt.subplot(1, 2, 2)\n",
    "# combine multiple lines in one call to plot\n",
    "plt.plot(x, s, \"b\", x, c, \"r\", x, sx, \"g\")\n",
    "plt.show()"
   ]
  },
  {
   "cell_type": "markdown",
   "id": "ea24b805",
   "metadata": {},
   "source": [
    "### Setting Axes Limits\n",
    "Suppose we want to limit the range of either the x-axis or y-axis, or both.  In Matplotlib we can use the ```xlim``` and ```ylim``` functions to accomplish this."
   ]
  },
  {
   "cell_type": "code",
   "execution_count": null,
   "id": "1f8b110b",
   "metadata": {},
   "outputs": [],
   "source": [
    "x = np.linspace(-np.pi, np.pi, 100)\n",
    "plt.figure(figsize=(12, 3))\n",
    "plt.subplot(1, 3, 1)\n",
    "plt.plot(x, np.sin(x), lw=2)\n",
    "plt.subplot(1, 3, 2)\n",
    "plt.plot(x, np.sin(x), lw=2, color=\"#740007\")\n",
    "plt.xlim([-np.pi, np.pi])  # change bounds on x-axis to [-pi,pi]\n",
    "plt.subplot(1, 3, 3)\n",
    "plt.plot(x, np.sin(x), \"^\", ms=8, color=\"0.8\")\n",
    "plt.xlim([-1, 1])  # change bounds on x-axis to [-1,1]\n",
    "plt.ylim([-0.75, 0.75])  # change bounds on y-axis to [-0.75,0.75]\n",
    "plt.show()"
   ]
  },
  {
   "cell_type": "markdown",
   "id": "57672160",
   "metadata": {},
   "source": [
    "### Saving Figures\n",
    "Now that we know how to make good looking plots, it would certainly be nice if we knew how to save these figures for use in a paper/report, or perhaps for posting on a webpage.  Fortunately, this is very easy to do.  If we want to save our previous figure then we need call the ```savefig``` function."
   ]
  },
  {
   "cell_type": "code",
   "execution_count": null,
   "id": "50caf86b",
   "metadata": {},
   "outputs": [],
   "source": [
    "x = np.linspace(-np.pi, np.pi, 100)\n",
    "plt.figure(figsize=(12, 3))\n",
    "plt.subplot(1, 3, 1)\n",
    "plt.plot(x, np.sin(x), lw=2)\n",
    "plt.subplot(1, 3, 2)\n",
    "plt.plot(x, np.sin(x), lw=2, color=\"#740007\")\n",
    "plt.xlim([-np.pi, np.pi])\n",
    "plt.subplot(1, 3, 3)\n",
    "plt.plot(x, np.sin(x), \"^\", ms=8, color=\"0.8\")\n",
    "plt.xlim([-1, 1])\n",
    "plt.ylim([-0.75, 0.75])\n",
    "plt.savefig(\n",
    "    \"axes_example.png\"\n",
    ")  # Save the figure in PNG format in same directory as script"
   ]
  },
  {
   "cell_type": "markdown",
   "id": "0e1cb664",
   "metadata": {},
   "source": [
    "The function```savefig``` saves the figure with the name and extension that is given in the string.  The name can be whatever you like, but the extension. ```.png``` in this case, must be a format that Matplotlib recognizes.  In this class we will only use the Portable Network Graphics ```.png``` and PDF ```.pdf``` formats."
   ]
  },
  {
   "cell_type": "markdown",
   "id": "ee4fe13e",
   "metadata": {},
   "source": [
    "### Using Shapes for Data Points\n",
    "In addition to lines and dots, Matplotlib allows you to use many different shapes to represent the points on a graph.  In Matplotlib, these shapes are called **markers** and just like lines, their color and size can be controlled.  There are many [basic types of markers](http://matplotlib.org/api/markers_api.html), so here we will demonstrate just a few important ones: '*': star, 'o': circle, 's': square, and '+': plus by evaluating \n",
    "the Airy functions."
   ]
  },
  {
   "cell_type": "code",
   "execution_count": null,
   "id": "a50dcaec",
   "metadata": {},
   "outputs": [],
   "source": [
    "x = np.linspace(-1, 1)\n",
    "Ai, Aip, Bi, Bip = airy(x)\n",
    "plt.plot(x, Ai, \"b*\", x, Aip, \"ro\", x, Bi, \"gs\", x, Bip, \"k+\")\n",
    "plt.show()"
   ]
  },
  {
   "cell_type": "markdown",
   "id": "bd7fba3d",
   "metadata": {},
   "source": [
    "We can also chage the size of the shapes using the 'markersize' or 'ms' keyword arguments, and the color using 'markercolor' or 'mc'."
   ]
  },
  {
   "cell_type": "markdown",
   "id": "7ce14f21",
   "metadata": {},
   "source": [
    "Other Kinds of 2D Plots\n",
    "-----------------------\n",
    "So far we have made use of only the ```plot``` function for generating 2D figures.  However, there are several other functions for generating different kinds of 2D plots. A collection of the many different types can be found at the [matplotlib gallery](http://matplotlib.org/gallery.html), and we will highlight only the more useful functions."
   ]
  },
  {
   "cell_type": "code",
   "execution_count": null,
   "id": "b7e0927c",
   "metadata": {},
   "outputs": [],
   "source": [
    "x = np.linspace(-1, 1.0, 100)\n",
    "plt.figure(figsize=(6, 6))\n",
    "plt.subplot(2, 2, 1)\n",
    "y = x + 0.25 * np.random.randn(len(x))\n",
    "plt.scatter(x, y, color=\"r\")  # plot collection of (x,y) points\n",
    "plt.title(\"A scatter Plot\")\n",
    "plt.subplot(2, 2, 2)\n",
    "n = np.array([0, 1, 2, 3, 4, 5])\n",
    "plt.bar(\n",
    "    n, n**2, align=\"center\", width=1\n",
    ")  # aligns the bars over the x-numbers, and width=dx\n",
    "plt.title(\"A bar Plot\")\n",
    "plt.subplot(2, 2, 3)\n",
    "plt.fill_between(\n",
    "    x, x**2, x**3, color=\"green\"\n",
    ")  # fill between x**2 & x**3 with green\n",
    "plt.title(\"A fill_between Plot\")\n",
    "plt.subplot(2, 2, 4)\n",
    "plt.title(\"A hist Plot\")\n",
    "r = np.random.randn(50)  # generating some random numbers\n",
    "plt.hist(r, color=\"y\")  # create a histogram of the random number values\n",
    "plt.show()"
   ]
  },
  {
   "cell_type": "markdown",
   "id": "ac76c952",
   "metadata": {},
   "source": [
    "The color and size of the elements can all be controlled in the same way as the usual ```plot``` function."
   ]
  },
  {
   "cell_type": "markdown",
   "id": "48e9d6af",
   "metadata": {},
   "source": [
    "Additional Sources of Information\n",
    "----------------------------------\n",
    "\n",
    "- [MatplotLib Gallery](http://matplotlib.org/gallery.html) : A gallery of figures showing what Matplotlib can do.\n",
    "\n",
    "- [Matplotlib Examples](http://matplotlib.org/examples/index.html) : A long list of examples demonstrating how to use Matplotlib for a variety of plotting.\n",
    "\n",
    "- [Guide to 2D & 3D Plotting](http://nbviewer.jupyter.org/github/jrjohansson/scientific-python-lectures/blob/master/Lecture-4-Matplotlib.ipynb) : A guide for plotting in Matplotlib by Robert Johansson."
   ]
  },
  {
   "cell_type": "markdown",
   "id": "772e8361",
   "metadata": {},
   "source": [
    "<h1 align=\"center\">End of Tutorial</h1> \n",
    "<h3 align=\"center\"><a href=\"http://qutip.org\">Return to QuTiP Website</a></h3> "
   ]
  }
 ],
 "metadata": {
  "jupytext": {
   "cell_metadata_filter": "-all",
   "notebook_metadata_filter": "-jupytext.cell_metadata_filter,-jupytext.notebook_metadata_filter"
  },
  "kernelspec": {
   "display_name": "Python 3 (ipykernel)",
   "language": "python",
   "name": "python3"
  }
 },
 "nbformat": 4,
 "nbformat_minor": 5
}
