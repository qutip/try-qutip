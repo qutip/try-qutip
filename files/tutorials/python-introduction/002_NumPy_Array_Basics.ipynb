{
 "cells": [
  {
   "cell_type": "code",
   "execution_count": null,
   "id": "192ce18f",
   "metadata": {},
   "outputs": [],
   "source": [
    "import numpy as np"
   ]
  },
  {
   "cell_type": "markdown",
   "id": "06394e7f",
   "metadata": {},
   "source": [
    "# Introduction to NumPy Arrays"
   ]
  },
  {
   "cell_type": "markdown",
   "id": "1399c5fd",
   "metadata": {},
   "source": [
    "J.R. Johansson and P.D. Nation\n",
    "\n",
    "For more information about QuTiP see [http://qutip.org](http://qutip.org)"
   ]
  },
  {
   "cell_type": "markdown",
   "id": "f6896311",
   "metadata": {},
   "source": [
    "## Introduction"
   ]
  },
  {
   "cell_type": "markdown",
   "id": "ac236165",
   "metadata": {},
   "source": [
    "Until now we have been using lists as a way of storing multiple elements together.  However, when doing numerical computations, lists are not very good.  For example, what if I wanted to add one to a list of numbers?  For a list `a = [1, 2, 3]` we can not write `a + 1`."
   ]
  },
  {
   "cell_type": "markdown",
   "id": "4be0e0fd",
   "metadata": {},
   "source": [
    "Instead we would have to do"
   ]
  },
  {
   "cell_type": "code",
   "execution_count": null,
   "id": "2fdbd98e",
   "metadata": {},
   "outputs": [],
   "source": [
    "a = [1, 2, 3]\n",
    "for k in range(3):\n",
    "    a[k] = a[k] + 1"
   ]
  },
  {
   "cell_type": "markdown",
   "id": "88614597",
   "metadata": {},
   "source": [
    "Working with lists would quickly become very complicated if we wanted to do numerical operations on many elements at the same time, or if, for example, we want to be able to construct vectors and matrices in our programs.  All of these features, and more, come with using NumPy **arrays** as our preferred data structure."
   ]
  },
  {
   "cell_type": "markdown",
   "id": "1ad01040",
   "metadata": {},
   "source": [
    "## NumPy Arrays"
   ]
  },
  {
   "cell_type": "markdown",
   "id": "35c93f40",
   "metadata": {},
   "source": [
    "When dealing with numerical data in Python, nearly 100% of the time one uses arrays from the NumPy module to store and manipulate data.  NumPy arrays are very similar to Python lists, but are actually arrays in c-code that allow for very fast multi-dimensional numerical, vector, matrix, and linear algebra operations.  Using arrays with slicing, and **vectorization** leads to very fast Python code, and can replace many of the for-loops that you would have use if you coded a problem using lists. As a general rule, **minimizing the number of for-loops maximizes the performance of your code**.  To start using arrays, we can start with a simple list and use it as an argument to the array function"
   ]
  },
  {
   "cell_type": "code",
   "execution_count": null,
   "id": "2370194b",
   "metadata": {},
   "outputs": [],
   "source": [
    "a = np.array([1, 2, 3, 4, 5, 6])\n",
    "print(a)"
   ]
  },
  {
   "cell_type": "markdown",
   "id": "b9af43d0",
   "metadata": {},
   "source": [
    "We have now created our first array of integers.  Notice how, when using print, the array looks the same as a list, however it is very much a different data structure.  We can also create an array of floats, complex numbers or even strings"
   ]
  },
  {
   "cell_type": "code",
   "execution_count": null,
   "id": "f7d767d7",
   "metadata": {},
   "outputs": [],
   "source": [
    "a = np.array([2.0, 4.0, 8.0, 16.0])\n",
    "b = np.array([0, 1 + 0j, 1 + 1j, 2 - 2j])\n",
    "c = np.array([\"a\", \"b\", \"c\", \"d\"])\n",
    "print(a)\n",
    "print(b)\n",
    "print(c)"
   ]
  },
  {
   "cell_type": "markdown",
   "id": "91f7404c",
   "metadata": {},
   "source": [
    "In general there are three different ways of creating arrays in Python:\n",
    "\n",
    "- First create a list and then call the array function using the list as an input argument.\n",
    "\n",
    "- Use NumPy functions that are designed to create arrays: **zeros, ones, arange, linspace**.\n",
    "\n",
    "- Import data into Python from file."
   ]
  },
  {
   "cell_type": "markdown",
   "id": "7d8b872f",
   "metadata": {},
   "source": [
    "### Arrays from Lists"
   ]
  },
  {
   "cell_type": "markdown",
   "id": "50eaf17e",
   "metadata": {},
   "source": [
    "We have already seen how to create arrays with simple lists, but now lets look at how to create more complicated lists that we can turn into arrays.  A short way of creating a list, say from 0 to 9 is as follows:"
   ]
  },
  {
   "cell_type": "code",
   "execution_count": null,
   "id": "ab6497ef",
   "metadata": {},
   "outputs": [],
   "source": [
    "output = [n for n in range(10)]\n",
    "print(output)"
   ]
  },
  {
   "cell_type": "markdown",
   "id": "76611cc3",
   "metadata": {},
   "source": [
    "This code is doing the exact same thing as the longer expression"
   ]
  },
  {
   "cell_type": "code",
   "execution_count": null,
   "id": "ac63533f",
   "metadata": {},
   "outputs": [],
   "source": [
    "output = []\n",
    "for n in range(10):\n",
    "    output.append(n)\n",
    "print(output)"
   ]
  },
  {
   "cell_type": "markdown",
   "id": "8cafc823",
   "metadata": {},
   "source": [
    "We could turn this into an array quite easy"
   ]
  },
  {
   "cell_type": "code",
   "execution_count": null,
   "id": "65036032",
   "metadata": {},
   "outputs": [],
   "source": [
    "np.array(output)"
   ]
  },
  {
   "cell_type": "markdown",
   "id": "b9a8e9b8",
   "metadata": {},
   "source": [
    "Or, we can save even more space and create the list inside of the array function:"
   ]
  },
  {
   "cell_type": "code",
   "execution_count": null,
   "id": "3e706afd",
   "metadata": {},
   "outputs": [],
   "source": [
    "np.array([n for n in range(10)])"
   ]
  },
  {
   "cell_type": "markdown",
   "id": "1acefe46",
   "metadata": {},
   "source": [
    "This can also be used to create more complicated arrays"
   ]
  },
  {
   "cell_type": "code",
   "execution_count": null,
   "id": "fd1cb9e2",
   "metadata": {},
   "outputs": [],
   "source": [
    "np.array([2.0 * k**0.563 for k in range(0, 10, 2)])"
   ]
  },
  {
   "cell_type": "markdown",
   "id": "7b92a994",
   "metadata": {},
   "source": [
    "### Array Creation in NumPy (see [NumPy Documentation](http://docs.scipy.org/doc/numpy/reference/routines.array-creation.html) for more info.)"
   ]
  },
  {
   "cell_type": "markdown",
   "id": "d364ee5d",
   "metadata": {},
   "source": [
    "NumPy has several extremely important array creation functions that will make you life much easier. For example, creating arrays of all zeros or ones is trivial. "
   ]
  },
  {
   "cell_type": "code",
   "execution_count": null,
   "id": "ce9759ea",
   "metadata": {},
   "outputs": [],
   "source": [
    "np.zeros(5)"
   ]
  },
  {
   "cell_type": "code",
   "execution_count": null,
   "id": "cc112f59",
   "metadata": {},
   "outputs": [],
   "source": [
    "np.ones(10)"
   ]
  },
  {
   "cell_type": "markdown",
   "id": "2d3b746e",
   "metadata": {},
   "source": [
    "However, the most useful functions are [**```arange```**](http://docs.scipy.org/doc/numpy/reference/generated/numpy.arange.html#numpy.arange) which generates evenly spaced values within a given interval in a similar way that the ```range``` function did, and [**```linspace```**](http://docs.scipy.org/doc/numpy/reference/generated/numpy.linspace.html) that makes a linear array of points from a starting to an ending value."
   ]
  },
  {
   "cell_type": "code",
   "execution_count": null,
   "id": "6f8416d8",
   "metadata": {},
   "outputs": [],
   "source": [
    "np.arange(5)"
   ]
  },
  {
   "cell_type": "code",
   "execution_count": null,
   "id": "bde0e7d8",
   "metadata": {},
   "outputs": [],
   "source": [
    "np.arange(0, 10, 2)"
   ]
  },
  {
   "cell_type": "code",
   "execution_count": null,
   "id": "4092fdaf",
   "metadata": {},
   "outputs": [],
   "source": [
    "# make an array of 20 points linearly spaced from 0 to 10\n",
    "np.linspace(0, 10, 20)"
   ]
  },
  {
   "cell_type": "code",
   "execution_count": null,
   "id": "89c38d05",
   "metadata": {},
   "outputs": [],
   "source": [
    "np.linspace(-5, 5, 15)  # 15 points in range from -5 to 5"
   ]
  },
  {
   "cell_type": "markdown",
   "id": "2e3442b0",
   "metadata": {},
   "source": [
    "## Differences Between Arrays and Lists"
   ]
  },
  {
   "cell_type": "markdown",
   "id": "8b56c289",
   "metadata": {},
   "source": [
    "Having played with arrays a bit, it is now time to explain the main differences between NumPy arrays and Python lists."
   ]
  },
  {
   "cell_type": "markdown",
   "id": "650538c8",
   "metadata": {},
   "source": [
    "Python lists are very general and can hold any combination of data types.  However, NumPy **arrays can only hold one type of data** (integers, floats, strings, complex).  If we try to combine different types of data, then the array function will **upcast** the data in the array such that it all has the same type"
   ]
  },
  {
   "cell_type": "code",
   "execution_count": null,
   "id": "c9503819",
   "metadata": {},
   "outputs": [],
   "source": [
    "np.array([1, 2, 3.14])  # [int,int,float] -> [float,float,float]"
   ]
  },
  {
   "cell_type": "markdown",
   "id": "a61d705e",
   "metadata": {},
   "source": [
    "Upcasting between integers and floats does not cause too much trouble, but mixing strings and numbers in an array can create problems"
   ]
  },
  {
   "cell_type": "code",
   "execution_count": null,
   "id": "467d6903",
   "metadata": {},
   "outputs": [],
   "source": [
    "np.array([1.0, 1 + 1j, \"hello\"])  # array data is upcast to strings"
   ]
  },
  {
   "cell_type": "markdown",
   "id": "ff54f742",
   "metadata": {},
   "source": [
    "If we want, we can manually change the type of the data inside the array using the ```dtype``` (\"data type\") keyword argument.  Frequently used dtypes are: ```int, float, complex, bool, str, object```, etc.  For example, to convert a list of integers to floats we can write"
   ]
  },
  {
   "cell_type": "code",
   "execution_count": null,
   "id": "6f634e89",
   "metadata": {},
   "outputs": [],
   "source": [
    "np.array([1, 2, 3, 4, 5], dtype=float)"
   ]
  },
  {
   "cell_type": "code",
   "execution_count": null,
   "id": "49b1c627",
   "metadata": {},
   "outputs": [],
   "source": [
    "np.arange(2, 10, 2, dtype=complex)"
   ]
  },
  {
   "cell_type": "code",
   "execution_count": null,
   "id": "ed842339",
   "metadata": {},
   "outputs": [],
   "source": [
    "np.array([k for k in range(10)], dtype=str)"
   ]
  },
  {
   "cell_type": "markdown",
   "id": "1afb0cd3",
   "metadata": {},
   "source": [
    "Unlike Python lists, **we can not remove or add elements to an array once it has been created**.  Therefore, we must know the size of the array before creating it."
   ]
  },
  {
   "cell_type": "markdown",
   "id": "1bd37092",
   "metadata": {},
   "source": [
    "Because arrays hold only one type of data, mathematical functions such as multiplication and addition of arrays can be implemented in at the c-code level.  This means that these kinds of operations are very fast and memory efficient.  The mathematical operations on arrays are performed **elementwise**, which means that each element gets acted on in the same way.  This is an example of **vectorization**.  For example:"
   ]
  },
  {
   "cell_type": "code",
   "execution_count": null,
   "id": "d82425ae",
   "metadata": {},
   "outputs": [],
   "source": [
    "a = np.array([1, 2, 3, 4])\n",
    "5.0 * a  # This gets upcasted because 5.0 is a float"
   ]
  },
  {
   "cell_type": "code",
   "execution_count": null,
   "id": "c2ee9860",
   "metadata": {},
   "outputs": [],
   "source": [
    "5 * a**2 - 4"
   ]
  },
  {
   "cell_type": "markdown",
   "id": "0d069e70",
   "metadata": {},
   "source": [
    "Recall that none of these operations worked on Python lists."
   ]
  },
  {
   "cell_type": "markdown",
   "id": "67465e7a",
   "metadata": {},
   "source": [
    "## Using NumPy Functions on Arrays"
   ]
  },
  {
   "cell_type": "markdown",
   "id": "450b22b8",
   "metadata": {},
   "source": [
    "Remember that NumPy has a large builtin [collection of mathematical functions](http://docs.scipy.org/doc/numpy/reference/routines.math.html).  When using NumPy arrays as our data structure, these functions become even more powerful as we can apply the same function elementwise over the entire array very quickly.  Again, this is called vectorization and can speed up your code by many times."
   ]
  },
  {
   "cell_type": "code",
   "execution_count": null,
   "id": "cebf5c19",
   "metadata": {},
   "outputs": [],
   "source": [
    "x = np.linspace(-np.pi, np.pi, 10)\n",
    "np.sin(x)"
   ]
  },
  {
   "cell_type": "code",
   "execution_count": null,
   "id": "fbbaac39",
   "metadata": {},
   "outputs": [],
   "source": [
    "x = np.array([x**2 for x in range(4)])\n",
    "np.sqrt(x)"
   ]
  },
  {
   "cell_type": "code",
   "execution_count": null,
   "id": "f4da56af",
   "metadata": {},
   "outputs": [],
   "source": [
    "x = np.array([2 * n + 1 for n in range(10)])\n",
    "sum(x)  # sums up all elements in the array"
   ]
  },
  {
   "cell_type": "markdown",
   "id": "3343065f",
   "metadata": {},
   "source": [
    "## Boolean Operations on Arrays"
   ]
  },
  {
   "cell_type": "markdown",
   "id": "2f89cb9c",
   "metadata": {},
   "source": [
    "Like other mathematical functions, we can also use conditional statements on arrays to check whether each individual element satisfies a given expression.  For example, to find the location of array elements that are less than zero we could do"
   ]
  },
  {
   "cell_type": "code",
   "execution_count": null,
   "id": "6280ca35",
   "metadata": {},
   "outputs": [],
   "source": [
    "a = np.array([0, -1, 2, -3, 4])\n",
    "print(a < 0)"
   ]
  },
  {
   "cell_type": "markdown",
   "id": "fb70ac76",
   "metadata": {},
   "source": [
    "The result in another array of boolean (```True/False```) values indicating whether a given element is less than zero.  Or, for example, we can find all of the odd numbers in an array."
   ]
  },
  {
   "cell_type": "code",
   "execution_count": null,
   "id": "013024e6",
   "metadata": {},
   "outputs": [],
   "source": [
    "a = np.arange(10)\n",
    "print((np.mod(a, 2) != 0))"
   ]
  },
  {
   "cell_type": "markdown",
   "id": "6419f051",
   "metadata": {},
   "source": [
    "## Slicing NumPy Arrays"
   ]
  },
  {
   "cell_type": "markdown",
   "id": "a054acab",
   "metadata": {},
   "source": [
    "Just like lists, arrays can be sliced to get certain elements of the array, or to modify certain elements of the array.  For example, lets try to get every third element from a given array"
   ]
  },
  {
   "cell_type": "code",
   "execution_count": null,
   "id": "43ea05b1",
   "metadata": {},
   "outputs": [],
   "source": [
    "a = np.arange(20)\n",
    "a[3::3]"
   ]
  },
  {
   "cell_type": "markdown",
   "id": "7084a1d3",
   "metadata": {},
   "source": [
    "Now lets set each of these elements equal to -1."
   ]
  },
  {
   "cell_type": "code",
   "execution_count": null,
   "id": "5731f71b",
   "metadata": {},
   "outputs": [],
   "source": [
    "a[3::3] = -1\n",
    "print(a)"
   ]
  },
  {
   "cell_type": "markdown",
   "id": "dee574e2",
   "metadata": {},
   "source": [
    "We can also slice the array so that it returns the original array in reverse"
   ]
  },
  {
   "cell_type": "code",
   "execution_count": null,
   "id": "69a8d615",
   "metadata": {},
   "outputs": [],
   "source": [
    "a = np.arange(10)\n",
    "a[::-1]"
   ]
  },
  {
   "cell_type": "markdown",
   "id": "52124a30",
   "metadata": {},
   "source": [
    "Finally, what if we want to get only those elements in the array that satisfy a certain conditional statement?  Recall that conditional statements on an array return another array of boolean values.  We can use this boolean array as an index to pick out only those elements where the boolean value is ```True```."
   ]
  },
  {
   "cell_type": "code",
   "execution_count": null,
   "id": "76b4699c",
   "metadata": {},
   "outputs": [],
   "source": [
    "a = np.linspace(-10, 10, 20)\n",
    "print(a[a <= -5])"
   ]
  },
  {
   "cell_type": "markdown",
   "id": "d5a2172d",
   "metadata": {},
   "source": [
    "We must be careful though. Checking for multiple conditionals is not allowed `print(a[-8 < a <= -5])`.\n",
    "\n",
    "The reason for this is the computer does not know how to take an array of many ```True/False``` values and return just a single value."
   ]
  },
  {
   "cell_type": "markdown",
   "id": "f711257e",
   "metadata": {},
   "source": [
    "## Example: Rewriting Sieve of Eratosthenes"
   ]
  },
  {
   "cell_type": "markdown",
   "id": "a3a69963",
   "metadata": {},
   "source": [
    "Here we will replace most of the for-loops used when writing the Sieve of Eratosthenes using lists will arrays.  This will make the code much easier to read and actually much faster for computing large prime numbers.  The main part of the original code is:"
   ]
  },
  {
   "cell_type": "code",
   "execution_count": null,
   "id": "ed0f3c08",
   "metadata": {},
   "outputs": [],
   "source": [
    "N = 20\n",
    "# generate a list from 2->N\n",
    "numbers = []\n",
    "for i in range(2, N + 1):  # This can be replaced by array\n",
    "    numbers.append(i)\n",
    "# Run Seive of Eratosthenes algorithm marking nodes with -1\n",
    "for j in range(N - 1):\n",
    "    if numbers[j] != -1:\n",
    "        p = numbers[j]\n",
    "        for k in range(j + p, N - 1, p):  # This can be replaced by array\n",
    "            numbers[k] = -1\n",
    "# Collect all elements not -1 (these are the primes)\n",
    "primes = []\n",
    "for i in range(N - 1):  # This can be replaced by array\n",
    "    if numbers[i] != -1:\n",
    "        primes.append(numbers[i])\n",
    "print(primes)"
   ]
  },
  {
   "cell_type": "markdown",
   "id": "f6e41e9a",
   "metadata": {},
   "source": [
    "Using arrays instead of lists simplifies the code:"
   ]
  },
  {
   "cell_type": "code",
   "execution_count": null,
   "id": "dad9d9c9",
   "metadata": {},
   "outputs": [],
   "source": [
    "N = 20\n",
    "# generate a list from 2->N\n",
    "numbers = np.arange(2, N + 1)  # replaced for-loop with call to arange\n",
    "# Run Seive of Eratosthenes algorithm\n",
    "# by marking nodes with -1\n",
    "for j in range(N - 1):\n",
    "    if numbers[j] != -1:\n",
    "        p = numbers[j]\n",
    "        numbers[j + p: N - 1: p] = -1  # replaced for-loop by slicing array\n",
    "# Collect all elements not -1 (these are the primes)\n",
    "# Use conditional statement to get elements !=-1\n",
    "primes = numbers[numbers != -1]\n",
    "print(primes)"
   ]
  },
  {
   "cell_type": "markdown",
   "id": "3ff0fc15",
   "metadata": {},
   "source": [
    "<h1 align=\"center\">End of Tutorial</h1> \n",
    "<h3 align=\"center\"><a href=\"http://qutip.org/tutorials.html\">Return to QuTiP tutorials page</a></h3> "
   ]
  }
 ],
 "metadata": {
  "jupytext": {
   "cell_metadata_filter": "-all",
   "notebook_metadata_filter": "-jupytext.cell_metadata_filter,-jupytext.notebook_metadata_filter"
  },
  "kernelspec": {
   "display_name": "Python 3 (ipykernel)",
   "language": "python",
   "name": "python3"
  }
 },
 "nbformat": 4,
 "nbformat_minor": 5
}
