{
 "cells": [
  {
   "cell_type": "markdown",
   "id": "7a0c1cb2",
   "metadata": {},
   "source": [
    "# Monte Carlo Solver: Birth and Death of Photons in a Cavity"
   ]
  },
  {
   "cell_type": "markdown",
   "id": "ddfda1d5",
   "metadata": {},
   "source": [
    "Authors: J.R. Johansson and P.D. Nation\n",
    "\n",
    "Modifications: C. Staufenbiel (2022)\n",
    "\n",
    "### Introduction\n",
    "\n",
    "In this tutorial we demonstrate the *Monte Carlo Solver* functionality implemented in `qutip.mcsolve()`. For more information on the *MC Solver* refer to the [QuTiP documentation](https://qutip.readthedocs.io/en/latest/guide/dynamics/dynamics-monte.html). \n",
    "\n",
    "We aim to reproduce the experimental results from:\n",
    "\n",
    "\n",
    "\n",
    ">  Gleyzes et al., \"Quantum jumps of light recording the birth and death of a photon in a cavity\", [Nature **446**,297 (2007)](http://dx.doi.org/10.1038/nature05589).\n",
    "\n",
    "\n",
    "In particular, we will simulate the creation and annihilation of photons inside an optical cavity due to the thermal environment when the initial cavity is a single-photon Fock state $ |1\\rangle$, as presented in Fig. 3 from the article.\n",
    "\n",
    "## Imports\n",
    "First we import the relevant functionalities:"
   ]
  },
  {
   "cell_type": "code",
   "execution_count": null,
   "id": "1fd2e15f",
   "metadata": {},
   "outputs": [],
   "source": [
    "import matplotlib.pyplot as plt\n",
    "import numpy as np\n",
    "from qutip import about, basis, destroy, mcsolve, mesolve\n",
    "\n",
    "%matplotlib inline"
   ]
  },
  {
   "cell_type": "markdown",
   "id": "b8ce7db7",
   "metadata": {},
   "source": [
    "## System Setup\n",
    "In this example, we consider a simple oscillator Hamiltonian $H = a^\\dagger a$ and one initial photon in the cavity."
   ]
  },
  {
   "cell_type": "code",
   "execution_count": null,
   "id": "5abecf99",
   "metadata": {},
   "outputs": [],
   "source": [
    "N = 5  # number of modes in the\n",
    "a = destroy(N)  # Destroy operator\n",
    "H = a.dag() * a  # oscillator Hamiltonian\n",
    "psi0 = basis(N, 1)  # Initial Fock state with one photon"
   ]
  },
  {
   "cell_type": "markdown",
   "id": "11d7f513",
   "metadata": {},
   "source": [
    "The coupling to the external heat bath is described by a coupling constant $\\kappa$ and the temperature of the heat bath is defined via the average photon number $\\langle n \\rangle$. In QuTiP the interaction between the system and heat bath is defined via the collapse operators. For this example, there are two collapse operators. One for photon annihilation ($C_1$) and one for photon creation ($C_2$): \n",
    "\n",
    "$C_1 = \\sqrt{\\kappa (1 + \\langle n \\rangle)} \\; a$\n",
    "\n",
    "$C_2 = \\sqrt{\\kappa \\langle n \\rangle} \\; a^\\dagger$\n",
    "\n",
    "We give some numerical values to the coupling constant $\\kappa$ and the average photon number of the heat bath $\\langle n \\rangle$."
   ]
  },
  {
   "cell_type": "code",
   "execution_count": null,
   "id": "a6f31417",
   "metadata": {},
   "outputs": [],
   "source": [
    "kappa = 1.0 / 0.129  # Coupling rate to heat bath\n",
    "nth = 0.063  # Temperature with <n>=0.063\n",
    "\n",
    "# collapse operators for the thermal bath\n",
    "c_ops = []\n",
    "c_ops.append(np.sqrt(kappa * (1 + nth)) * a)\n",
    "c_ops.append(np.sqrt(kappa * nth) * a.dag())"
   ]
  },
  {
   "cell_type": "markdown",
   "id": "d24232a0",
   "metadata": {},
   "source": [
    "## Monte Carlo Simulation\n",
    "The *Monte Carlo Solver* allows simulating an individual realization of the system dynamics. This is in contrast to e.g. the *Master Equation Solver*, which solves for the ensemble average over many identical realizations of the system. `qutip.mcsolve()` also offers to average over many runs of identical system setups by passing the *number of trajectories* `ntraj` to the function. If we choose `ntraj = 1` the system is only simulated once and we see it's dynamics. If we choose a large value for `ntraj`, the predictions will be averaged and therefore converge to the solution from `qutip.mesolve()`. \n",
    "\n",
    "We can also pass a list to `ntraj`. `qutip.mcsolve()` will calculate the results for the specified number of trajectories. Note that the entries need to be in ascending order, as the previous results are reused.\n",
    "\n",
    "Here we are interested in the time evolution of $a^\\dagger a$ for different numbers of `ntraj`. We will compare the results to the predictions by `qutip.mesolve()."
   ]
  },
  {
   "cell_type": "code",
   "execution_count": null,
   "id": "b059afdd",
   "metadata": {},
   "outputs": [],
   "source": [
    "ntraj = [1, 5, 15, 904]  # number of MC trajectories\n",
    "mc = []  # MC results\n",
    "tlist = np.linspace(0, 0.8, 100)\n",
    "\n",
    "# Solve using MCSolve for different ntraj\n",
    "for n in ntraj:\n",
    "    result = mcsolve(H, psi0, tlist, c_ops, [a.dag() * a], ntraj=n)\n",
    "    mc.append(result)\n",
    "me = mesolve(H, psi0, tlist, c_ops, [a.dag() * a])"
   ]
  },
  {
   "cell_type": "markdown",
   "id": "2330a89c",
   "metadata": {},
   "source": [
    "## Reproduce plot from article\n",
    "Using the above results we can reproduce Fig. 3 from the article mentioned above. The individual figures plot the time evolution of $\\langle a^\\dagger a \\rangle$ for the system we set up above. The effect of using different `ntraj` for the simulation using `mcsolve` is shown. When choosing `ntraj = 1` we see the dynamics of one particular quantum system. If `ntraj > 1` the output is averaged over the number of realizations. "
   ]
  },
  {
   "cell_type": "code",
   "execution_count": null,
   "id": "8bbb7a0b",
   "metadata": {},
   "outputs": [],
   "source": [
    "fig = plt.figure(figsize=(8, 8), frameon=False)\n",
    "plt.subplots_adjust(hspace=0.0)\n",
    "\n",
    "for i in range(len(ntraj)):\n",
    "    ax = plt.subplot(4, 1, i + 1)\n",
    "    ax.plot(\n",
    "        tlist, mc[i].expect[0], \"b\", lw=2,\n",
    "        label=\"#trajectories={}\".format(ntraj[i])\n",
    "    )\n",
    "    ax.plot(tlist, me.expect[0], \"r--\", lw=2)\n",
    "    ax.set_yticks([0, 0.5, 1])\n",
    "    ax.set_ylim([-0.1, 1.1])\n",
    "    ax.set_ylabel(r\"$\\langle P_{1}(t)\\rangle$\")\n",
    "    ax.legend()\n",
    "\n",
    "ax.set_xlabel(r\"Time (s)\");"
   ]
  },
  {
   "cell_type": "markdown",
   "id": "2af87bfa",
   "metadata": {},
   "source": [
    "## About"
   ]
  },
  {
   "cell_type": "code",
   "execution_count": null,
   "id": "e9558b54",
   "metadata": {},
   "outputs": [],
   "source": [
    "about()"
   ]
  },
  {
   "cell_type": "markdown",
   "id": "93c80239",
   "metadata": {},
   "source": [
    "## Testing"
   ]
  },
  {
   "cell_type": "code",
   "execution_count": null,
   "id": "1c94589a",
   "metadata": {},
   "outputs": [],
   "source": [
    "np.testing.assert_allclose(me.expect[0], mc[3].expect[0], atol=10**-1)\n",
    "assert np.all(np.diff(me.expect[0]) <= 0)"
   ]
  }
 ],
 "metadata": {
  "jupytext": {
   "cell_metadata_filter": "-all",
   "notebook_metadata_filter": "-jupytext.cell_metadata_filter,-jupytext.notebook_metadata_filter"
  },
  "kernelspec": {
   "display_name": "Python 3 (ipykernel)",
   "language": "python",
   "name": "python3"
  }
 },
 "nbformat": 4,
 "nbformat_minor": 5
}
