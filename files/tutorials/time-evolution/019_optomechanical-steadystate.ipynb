{
 "cells": [
  {
   "cell_type": "markdown",
   "id": "5ffc5dbc",
   "metadata": {},
   "source": [
    "# Steady-State: Optomechanical System in the Single-Photon Strong-Coupling Regime"
   ]
  },
  {
   "cell_type": "markdown",
   "id": "ab0f424d",
   "metadata": {},
   "source": [
    "P.D. Nation and J.R. Johansson\n",
    "\n",
    "For more information about QuTiP see [http://qutip.org](http://qutip.org)"
   ]
  },
  {
   "cell_type": "code",
   "execution_count": null,
   "id": "ed8584b4",
   "metadata": {},
   "outputs": [],
   "source": [
    "import time\n",
    "import numpy as np\n",
    "import matplotlib.pyplot as plt\n",
    "from IPython.display import Image\n",
    "from qutip import (about, destroy, hinton, ptrace, qdiags, qeye, steadystate,\n",
    "                   tensor, wigner, wigner_cmap, basis, fidelity, mesolve)\n",
    "\n",
    "%matplotlib inline"
   ]
  },
  {
   "cell_type": "markdown",
   "id": "14d3d09a",
   "metadata": {},
   "source": [
    "## Optomechanical Hamiltonian"
   ]
  },
  {
   "cell_type": "markdown",
   "id": "b2bb6daf",
   "metadata": {},
   "source": [
    "The optomechanical Hamiltonian arises from the radiation pressure interaction of light in an optical cavity where one of the cavity mirrors is mechanically compliant."
   ]
  },
  {
   "cell_type": "code",
   "execution_count": null,
   "id": "f4dfdccf",
   "metadata": {},
   "outputs": [],
   "source": [
    "Image(filename=\"images/optomechanical_setup.png\", width=500, embed=True)"
   ]
  },
  {
   "cell_type": "markdown",
   "id": "d6130900",
   "metadata": {},
   "source": [
    "Assuming that $a^{+}$, $a$ and $b^{+}$,$b$ are the raising and lowering operators for the cavity and mechanical oscillator, respectively, the Hamiltonian for an optomechanical system driven by a classical monochromatic pump term can be written as "
   ]
  },
  {
   "cell_type": "markdown",
   "id": "fce4706a",
   "metadata": {},
   "source": [
    "\\begin{equation}\n",
    "\\frac{\\hat{H}}{\\hbar}=-\\Delta\\hat{a}^{+}\\hat{a}+\\omega_{m}\\hat{b}^{+}\\hat{b}+g_{0}(\\hat{b}+\\hat{b}^{+})\\hat{a}^{+}\\hat{a}+E\\left(\\hat{a}+\\hat{a}^{+}\\right),\n",
    "\\end{equation}"
   ]
  },
  {
   "cell_type": "markdown",
   "id": "433896c3",
   "metadata": {},
   "source": [
    "where $\\Delta=\\omega_{p}-\\omega_{c}$ is the detuning between the pump ($\\omega_{p}$) and cavity ($\\omega_{c}$) mode frequencies, $g_{0}$ is the single-photon coupling strength, and $E$ is the amplitude of the pump mode. It is known that in the single-photon strong-coupling regime, where the cavity frequency shift per phonon is larger than the cavity line width, $g_{0}/\\kappa \\gtrsim 1$ where $\\kappa$ is the decay rate of the cavity, and a single single photon displaces the mechanical oscillator by more than its zero-point amplitude $g_{0}/\\omega_{m} \\gtrsim 1$, or equiviently, $g^{2}_{0}/\\kappa\\omega_{m} \\gtrsim 1$, the mechanical oscillator can be driven into a nonclassical steady state of the system$+$environment dynamics.  Here, we will use the steady state solvers in QuTiP to explore such a state and compare the various solvers."
   ]
  },
  {
   "cell_type": "markdown",
   "id": "584e3ad3",
   "metadata": {},
   "source": [
    "## Solving for the Steady State Density Matrix"
   ]
  },
  {
   "cell_type": "markdown",
   "id": "ef068c36",
   "metadata": {},
   "source": [
    "The steady state density matrix of the optomechanical system plus the environment can be found from the Liouvillian superoperator $\\mathcal{L}$ via\n",
    "\n",
    "\\begin{equation}\n",
    "\\frac{d\\rho}{dt}=\\mathcal{L}\\rho=0\\rho,\n",
    "\\end{equation}\n",
    "\n",
    "where $\\mathcal{L}$ is typically given in Lindblad form\n",
    "\\begin{align}\n",
    "\\mathcal{L}[\\hat{\\rho}]=&-i[\\hat{H},\\hat{\\rho}]+\\kappa \\mathcal{D}\\left[\\hat{a},\\hat{\\rho}\\right]\\\\\n",
    "&+\\Gamma_{m}(1+n_{\\rm{th}})\\mathcal{D}[\\hat{b},\\hat{\\rho}]+\\Gamma_{m}n_{\\rm th}\\mathcal{D}[\\hat{b}^{+},\\hat{\\rho}], \\nonumber\n",
    "\\end{align}\n",
    "\n",
    "where $\\Gamma_{m}$ is the coulping strength of the mechanical oscillator to its thermal environment with average occupation number $n_{th}$.  As is customary, here we assume that the cavity mode is coupled to the vacuum.\n",
    "\n",
    "Although, the steady state solution is nothing but an eigenvalue equation, the numerical solution to this equation is anything but trivial due to the non-Hermitian structure of $\\mathcal{L}$ and its worsening condition number as the dimensionality of the truncated Hilbert space increases."
   ]
  },
  {
   "cell_type": "markdown",
   "id": "16d88d63",
   "metadata": {},
   "source": [
    "## Steady State Solvers in QuTiP v5.0+"
   ]
  },
  {
   "cell_type": "markdown",
   "id": "800e04d7",
   "metadata": {},
   "source": [
    "As of QuTiP version 5.0, the following steady state solving methods are available:\n",
    "\n",
    "- **direct**: Direct LU factorization\n",
    "- **eigen**: Calculates the eigenvector associated with the zero eigenvalue of $\\mathcal{L}\\rho$.\n",
    "- **svd**: Solution via SVD decomposition (dense matrices only).\n",
    "- **power**: Finds zero eigenvector using inverse-power method.\n",
    "\n",
    "Among these, when using `direct` and `power` methods one can use the following ``solvers`` for the factorization:\n",
    "\n",
    "- **Dense solvers**: from ``numpy.linalg``.\n",
    "    - solve - exact solution via LAPACK routine ``_gesv``.\n",
    "    - lstsq - best least-squares solution by minimizing the L2-norm.\n",
    "- **Sparse solvers**: sparse solvers from ``scipy.sparse.linalg``\n",
    "    - spsolve - Exact solution via UMFPACK.\n",
    "    - gmres - Iterative solution via the GMRES solver.\n",
    "    - lgmres - Iterative solution via the LGMRES solver.\n",
    "    - bicgstab - Iterative solution via the BICGSTAB solver.\n",
    "- **MKL solver**: a sparse solver by ``mkl``\n",
    "    - mkl_spsolve - solution via Intel's MKL Pardiso solver."
   ]
  },
  {
   "cell_type": "markdown",
   "id": "1a42422d",
   "metadata": {},
   "source": [
    "## Setup and Solution"
   ]
  },
  {
   "cell_type": "markdown",
   "id": "c09620e3",
   "metadata": {},
   "source": [
    "### System Parameters"
   ]
  },
  {
   "cell_type": "code",
   "execution_count": null,
   "id": "b6f0bfc1",
   "metadata": {},
   "outputs": [],
   "source": [
    "# System Parameters (in units of wm)\n",
    "# -----------------------------------\n",
    "Nc = 4  # Number of cavity states\n",
    "Nm = 12  # Number of mech states\n",
    "kappa = 0.3  # Cavity damping rate\n",
    "E = 0.1  # Driving Amplitude\n",
    "g0 = 2.4 * kappa  # Coupling strength\n",
    "Qm = 0.3 * 1e4  # Mech quality factor\n",
    "gamma = 1 / Qm  # Mech damping rate\n",
    "n_th = 1  # Mech bath temperature\n",
    "delta = -0.43  # Detuning"
   ]
  },
  {
   "cell_type": "markdown",
   "id": "dfcccfd7",
   "metadata": {},
   "source": [
    "### Build Hamiltonian and Collapse Operators"
   ]
  },
  {
   "cell_type": "code",
   "execution_count": null,
   "id": "ec2c39b0",
   "metadata": {},
   "outputs": [],
   "source": [
    "# Operators\n",
    "# ----------\n",
    "a = tensor(destroy(Nc), qeye(Nm))\n",
    "b = tensor(qeye(Nc), destroy(Nm))\n",
    "num_b = b.dag() * b\n",
    "num_a = a.dag() * a\n",
    "\n",
    "# Hamiltonian\n",
    "# ------------\n",
    "H = -delta * (num_a) + num_b + g0 * (b.dag() + b) * num_a + E * (a.dag() + a)\n",
    "\n",
    "# Collapse operators\n",
    "# -------------------\n",
    "cc = np.sqrt(kappa) * a\n",
    "cm = np.sqrt(gamma * (1.0 + n_th)) * b\n",
    "cp = np.sqrt(gamma * n_th) * b.dag()\n",
    "c_ops = [cc, cm, cp]"
   ]
  },
  {
   "cell_type": "markdown",
   "id": "761fc822",
   "metadata": {},
   "source": [
    "### Run Steady State Solvers"
   ]
  },
  {
   "cell_type": "code",
   "execution_count": null,
   "id": "68d27aaa",
   "metadata": {},
   "outputs": [],
   "source": [
    "# all possible methods\n",
    "possible_methods = [\"direct\", \"eigen\", \"svd\", \"power\"]\n",
    "\n",
    "# all possible solvers for direct (and power) method(s)\n",
    "possible_solvers = [\n",
    "    \"solve\",\n",
    "    \"lstsq\",\n",
    "    \"spsolve\",\n",
    "    \"gmres\",\n",
    "    \"lgmres\",\n",
    "    \"bicgstab\",\n",
    "    \"mkl_spsolve\",\n",
    "]\n",
    "\n",
    "# method and solvers used here\n",
    "method = \"direct\"\n",
    "solvers = [\"spsolve\", \"gmres\"]\n",
    "\n",
    "mech_dms = []\n",
    "for solver in solvers:\n",
    "    if solver in [\"gmres\", \"bicgstab\"]:\n",
    "        precond_options = {\n",
    "            \"permc_spec\": \"NATURAL\",\n",
    "            \"diag_pivot_thresh\": 0.1,\n",
    "            \"fill_factor\": 100,\n",
    "            \"options\": {\"ILU_MILU\": \"smilu_2\"},\n",
    "        }\n",
    "        solver_options = {\n",
    "            \"use_precond\": True,\n",
    "            \"atol\": 1e-15,\n",
    "            \"maxiter\": int(1e5),\n",
    "            **precond_options,\n",
    "        }\n",
    "        use_rcm = True\n",
    "    else:\n",
    "        solver_options = {}\n",
    "        use_rcm = False\n",
    "\n",
    "    start = time.time()\n",
    "    rho_ss = steadystate(\n",
    "        H,\n",
    "        c_ops,\n",
    "        method=method,\n",
    "        solver=solver,\n",
    "        use_rcm=use_rcm,\n",
    "        **solver_options,\n",
    "    )\n",
    "    end = time.time()\n",
    "\n",
    "    print(f\"Solver: {solver}, Time: {np.round(end-start, 5)}\")\n",
    "    rho_mech = ptrace(rho_ss, 1)\n",
    "    mech_dms.append(rho_mech)\n",
    "\n",
    "rho_mech = mech_dms[0]\n",
    "mech_dms = [mech_dm.data.as_ndarray() for mech_dm in mech_dms]"
   ]
  },
  {
   "cell_type": "markdown",
   "id": "acb10fd6",
   "metadata": {},
   "source": [
    "### Check Consistency of Solutions"
   ]
  },
  {
   "cell_type": "markdown",
   "id": "439905bc",
   "metadata": {},
   "source": [
    "Can check to see if the solutions are the same by looking at the number of nonzero elements (NNZ) in the difference between mechanical density matrices."
   ]
  },
  {
   "cell_type": "code",
   "execution_count": null,
   "id": "83b114cb",
   "metadata": {},
   "outputs": [],
   "source": [
    "for kk in range(len(mech_dms)):\n",
    "    c = np.where(\n",
    "            np.abs(mech_dms[kk].flatten() - mech_dms[0].flatten()) > 1e-5\n",
    "        )[0]\n",
    "    print(f\"#NNZ for k = {kk} : {len(c)}\")"
   ]
  },
  {
   "cell_type": "markdown",
   "id": "a54fde96",
   "metadata": {},
   "source": [
    "## Plot the Mechanical Oscillator Wigner Function"
   ]
  },
  {
   "cell_type": "markdown",
   "id": "f0358fe2",
   "metadata": {},
   "source": [
    "It is known that the density matrix for the mechanical oscillator is diagonal in the Fock basis due to phase diffusion. If we look at the `hinton()` plot of the density matrix, we can see the magnitude of the diagonal elements is higher, such that the non-diagonal have a vanishing importance."
   ]
  },
  {
   "cell_type": "code",
   "execution_count": null,
   "id": "1bf509c9",
   "metadata": {},
   "outputs": [],
   "source": [
    "hinton(rho_mech.data.as_ndarray(), x_basis=[\"\"] * Nm, y_basis=[\"\"] * Nm);"
   ]
  },
  {
   "cell_type": "markdown",
   "id": "ac93d6c7",
   "metadata": {},
   "source": [
    "However some small off-diagonal terms show up during the factorization process, which we can display by the using `plt.spy()`."
   ]
  },
  {
   "cell_type": "code",
   "execution_count": null,
   "id": "d90fcf9a",
   "metadata": {},
   "outputs": [],
   "source": [
    "plt.spy(rho_mech.data.as_ndarray(), markersize=1);"
   ]
  },
  {
   "cell_type": "markdown",
   "id": "2d664b89",
   "metadata": {},
   "source": [
    "Therefore, to remove this error, let use explicitly take the diagonal elements and form a new operator out of them."
   ]
  },
  {
   "cell_type": "code",
   "execution_count": null,
   "id": "16dec8e1",
   "metadata": {},
   "outputs": [],
   "source": [
    "diag = rho_mech.diag()\n",
    "rho_mech2 = qdiags(diag, 0, dims=rho_mech.dims, shape=rho_mech.shape)\n",
    "hinton(rho_mech2, x_basis=[\"\"] * Nm, y_basis=[\"\"] * Nm);"
   ]
  },
  {
   "cell_type": "markdown",
   "id": "d84977c8",
   "metadata": {},
   "source": [
    "Now lets compute the oscillator Wigner function and plot it to see if there are any regions of negativity."
   ]
  },
  {
   "cell_type": "code",
   "execution_count": null,
   "id": "eb7a4c4a",
   "metadata": {},
   "outputs": [],
   "source": [
    "xvec = np.linspace(-20, 20, 256)\n",
    "W = wigner(rho_mech2, xvec, xvec)\n",
    "wmap = wigner_cmap(W, shift=-1e-5)"
   ]
  },
  {
   "cell_type": "code",
   "execution_count": null,
   "id": "0a2a0a81",
   "metadata": {},
   "outputs": [],
   "source": [
    "fig, ax = plt.subplots(figsize=(8, 6))\n",
    "c = ax.contourf(xvec, xvec, W, 256, cmap=wmap)\n",
    "ax.set_xlim([-10, 10])\n",
    "ax.set_ylim([-10, 10])\n",
    "plt.colorbar(c, ax=ax);"
   ]
  },
  {
   "cell_type": "markdown",
   "id": "5a79114b",
   "metadata": {},
   "source": [
    "## About"
   ]
  },
  {
   "cell_type": "code",
   "execution_count": null,
   "id": "4bf68bc0",
   "metadata": {},
   "outputs": [],
   "source": [
    "about()"
   ]
  },
  {
   "cell_type": "markdown",
   "id": "15d559b7",
   "metadata": {},
   "source": [
    "## Testing"
   ]
  },
  {
   "cell_type": "code",
   "execution_count": null,
   "id": "fb44d3aa",
   "metadata": {},
   "outputs": [],
   "source": [
    "# assert obtained steady-state via mesolve evolution\n",
    "psi0 = tensor(basis(Nc), basis(Nm))\n",
    "rho0 = psi0 @ psi0.dag()\n",
    "tlist = np.linspace(0, 1500, 1500)\n",
    "rho_evolve = mesolve(H, rho0, tlist, c_ops)\n",
    "rho_final = ptrace(rho_evolve.states[-1], 1)\n",
    "assert fidelity(rho_mech, rho_final) > 0.99\n",
    "\n",
    "# assert steady-state is diagonally dominant\n",
    "rho_mat = np.abs(rho_mech.data.to_array())\n",
    "assert np.all(2 * np.diag(rho_mat) >= np.sum(rho_mat, axis=1))\n",
    "\n",
    "# assert for negativity in the Wigner function\n",
    "assert np.any(W < 0)"
   ]
  }
 ],
 "metadata": {
  "jupytext": {
   "cell_metadata_filter": "-all",
   "notebook_metadata_filter": "-jupytext.cell_metadata_filter,-jupytext.notebook_metadata_filter"
  },
  "kernelspec": {
   "display_name": "Python 3 (ipykernel)",
   "language": "python",
   "name": "python3"
  }
 },
 "nbformat": 4,
 "nbformat_minor": 5
}
