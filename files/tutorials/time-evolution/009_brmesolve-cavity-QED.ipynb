{
 "cells": [
  {
   "cell_type": "markdown",
   "id": "2a1d898d",
   "metadata": {},
   "source": [
    "# Bloch-Redfield Solver: Dissipative Atom-Cavity system\n",
    "\n",
    "Author: C. Staufenbiel (2022)\n",
    "\n",
    "with inspirations from the [`brmesolve notebook`](https://github.com/qutip/qutip-notebooks/blob/master/examples/brmesolve.ipynb) by P.D. Nation.\n",
    "\n",
    "### Introduction\n",
    "\n",
    "This notebook does not introduce the usage of the Bloch-Redfield solver `qutip.brmesolve()` in detail. For a more detailed introduction to this solver see the [*Bloch-Redfield Solver: Two Level System* notebook](007_brmesolve_tls.md) and the [documentation of the function](https://qutip.readthedocs.io/en/latest/guide/dynamics/dynamics-bloch-redfield.html).\n",
    "\n",
    "The Lindblad master equation solver, implemented in `qutip.mesolve()`, deals with dissipation using collapse operators which can act on subsystems of the general system. For example, we can define dissipation for the atom-cavity system for the cavity and the atom separately, by the corresponding annihilation operator. In this example, we will see the limitations of this approach when it comes to strong coupling between atom and cavity.\n",
    "\n",
    "For this example we will use the following Rabi Hamiltonian:\n",
    "\n",
    "$$H =  \\omega_0 a^\\dagger a + \\omega_0 \\sigma_+ \\sigma_- + g(a^\\dagger + a)(\\sigma_- + \\sigma_+)$$\n",
    "\n",
    "We will vary the coupling strength $g$ and compare the results from `qutip.mesolve()` and `qutip.brmesolve()`.\n",
    "\n",
    "\n",
    "### Imports\n"
   ]
  },
  {
   "cell_type": "code",
   "execution_count": null,
   "id": "a912531a",
   "metadata": {},
   "outputs": [],
   "source": [
    "import matplotlib.pyplot as plt\n",
    "import numpy as np\n",
    "from qutip import (about, basis, brmesolve, destroy, identity, ket2dm, mesolve,\n",
    "                   plot_energy_levels, plot_expectation_values, tensor)\n",
    "\n",
    "%matplotlib inline"
   ]
  },
  {
   "cell_type": "markdown",
   "id": "7418aec8",
   "metadata": {},
   "source": [
    "\n",
    "\n",
    "Here we setup as system of a atom-cavity interaction with dissipation to a bath."
   ]
  },
  {
   "cell_type": "code",
   "execution_count": null,
   "id": "05a1bebc",
   "metadata": {},
   "outputs": [],
   "source": [
    "N = 10  # num. cavity modes\n",
    "\n",
    "# operators\n",
    "a = tensor(destroy(N), identity(2))\n",
    "sm = tensor(identity(N), destroy(2))\n",
    "\n",
    "# expectation operators\n",
    "e_ops = [a.dag() * a, sm.dag() * sm]\n",
    "\n",
    "# initial state\n",
    "psi0 = ket2dm(tensor(basis(N, 1), basis(2, 0)))"
   ]
  },
  {
   "cell_type": "markdown",
   "id": "10e27a0b",
   "metadata": {},
   "source": [
    "In the following we setup the frequencies and coupling strength for the atom-cavity system and define the dissipation to the environment. Here we only consider a leaky cavity, i.e. losses to the environment only from the cavity and not from the atom."
   ]
  },
  {
   "cell_type": "code",
   "execution_count": null,
   "id": "37974ed2",
   "metadata": {},
   "outputs": [],
   "source": [
    "w0 = 1.0 * 2 * np.pi\n",
    "g_weak = 0.1 * 2 * np.pi\n",
    "g_strong = 0.75 * 2 * np.pi\n",
    "kappa = 0.05\n",
    "\n",
    "# collapse operators (for mesolve)\n",
    "c_ops = [np.sqrt(kappa) * a]\n",
    "# noise power spectrum (for brmesolve)\n",
    "a_ops = [[(a + a.dag()), lambda w: kappa * (w > 0)]]\n",
    "\n",
    "# Hamiltonians\n",
    "H_no = w0 * a.dag() * a + w0 * sm.dag() * sm\n",
    "H_weak = w0 * a.dag() * a + w0 * sm.dag() * sm + \\\n",
    "         g_weak * (a + a.dag()) * (sm + sm.dag())\n",
    "H_strong = w0 * a.dag() * a + w0 * sm.dag() * sm + \\\n",
    "           g_strong * (a + a.dag()) * (sm + sm.dag())"
   ]
  },
  {
   "cell_type": "markdown",
   "id": "da7ac3bc",
   "metadata": {},
   "source": [
    "We now solve the dynamics of the atom-cavity interaction using `qutip.mesolve` and `qutip.brmesolve` for the two different coupling strengths.\n",
    "### Weak coupling"
   ]
  },
  {
   "cell_type": "code",
   "execution_count": null,
   "id": "5c9e17f4",
   "metadata": {},
   "outputs": [],
   "source": [
    "# times for simulation\n",
    "times = np.linspace(0, 10 * 2 * np.pi / g_weak, 1000)\n",
    "# simulation\n",
    "result_me_weak = mesolve(H_weak, psi0, times, c_ops, e_ops)\n",
    "result_brme_weak = brmesolve(H_weak, psi0, times, a_ops, e_ops)\n",
    "fig, axes = plot_expectation_values(\n",
    "    [result_me_weak, result_brme_weak], ylabels=[\"<n_cav>\", \"<n_atom>\"]\n",
    ")\n",
    "for ax in axes:\n",
    "    ax.legend(['mesolove', 'brmesolve'], loc='upper right')"
   ]
  },
  {
   "cell_type": "markdown",
   "id": "6aea5b6d",
   "metadata": {},
   "source": [
    "For the weak coupling strength between atom and cavity we obtain similar results from Lindblad master equation solver `qutip.mesolve` and the Bloch-Redfield solver `qutip.brmesolve`.\n",
    "\n",
    "### Strong coupling"
   ]
  },
  {
   "cell_type": "code",
   "execution_count": null,
   "id": "d269b9eb",
   "metadata": {},
   "outputs": [],
   "source": [
    "# times for simulation\n",
    "times = np.linspace(0, 10 * 2 * np.pi / g_strong, 1000)\n",
    "# simulation\n",
    "result_me_strong = mesolve(H_strong, psi0, times, c_ops, e_ops)\n",
    "result_brme_strong = brmesolve(H_strong, psi0, times, a_ops, e_ops)\n",
    "fig, axes = plot_expectation_values(\n",
    "    [result_me_strong, result_brme_strong], ylabels=[\"<n_cav>\", \"<n_atom>\"]\n",
    ")\n",
    "for ax in axes:\n",
    "    ax.legend(['mesolove', 'brmesolve'], loc='upper right')"
   ]
  },
  {
   "cell_type": "markdown",
   "id": "2a7fbeae",
   "metadata": {},
   "source": [
    "In the strong coupling regime there are differences in the solution of the two solvers. This is due to the fact that the eigenstates of the system with strong coupling have contributions from atom and the cavity system, i.e. hybridized eigenstates. The Lindbladian master equation solver assumes that the dissipation of a subsystem, here losses in the cavity, does not affect the state of the other subsystem, here the atom. However, for the strongly coupled Hamiltonian this is not true anymore and the dissipation leads to transitions between eigenstates of the coupled system, i.e. also affects the atomic state. By definition the Bloch-Redfield solver takes this hybridization into account and yields the more accurate result for such systems.\n",
    "\n",
    "We can see this hybridization of the eigenstates from the energy levels. In the system without any interaction, both the atom and the cavity have the same energy levels as we defined them with the similar frequency `w_0`.\n",
    "For weak interaction the energy levels split up by a small constant, but do not mix up. For strong coupling the energy levels from originally different states bunch together and show the mixing contribution of atom and cavity to the systems eigenstates."
   ]
  },
  {
   "cell_type": "code",
   "execution_count": null,
   "id": "f04bf0d6",
   "metadata": {},
   "outputs": [],
   "source": [
    "plot_energy_levels([H_no, H_weak, H_strong],\n",
    "                   h_labels=[\"no coupling\", \"weak\", \"strong\"]);"
   ]
  },
  {
   "cell_type": "markdown",
   "id": "2e7daa2e",
   "metadata": {},
   "source": [
    "### Non-secular solution\n",
    "The `qutip.brmesolve()` function automatically uses the secular approximation, i.e. assumes that all fast-oscillating terms in the Hamiltonian can be neglected. However, this approximation is not necessary for the Bloch-Redfield solver and this option can be deactived by setting `sec_cutoff=-1` in the arguments. This setting can be useful in some simulations. For the above example of strongly coupled atom-cavity system, dropping the approximation does not change the solution by much."
   ]
  },
  {
   "cell_type": "code",
   "execution_count": null,
   "id": "be8009fe",
   "metadata": {},
   "outputs": [],
   "source": [
    "result_brme_nonsec = brmesolve(H_strong, psi0, times, a_ops,\n",
    "                               sec_cutoff=-1, e_ops=e_ops)\n",
    "fig, axes = plot_expectation_values(\n",
    "    [result_brme_strong, result_brme_nonsec], ylabels=[\"<n_cav>\", \"<n_atom>\"]\n",
    ")\n",
    "for ax in axes:\n",
    "    ax.legend(['brme_strong', 'brme_nonsec'], loc='upper right')"
   ]
  },
  {
   "cell_type": "markdown",
   "id": "ce809106",
   "metadata": {},
   "source": [
    "### Trace of states\n",
    "The Lindbladian Master Equation approach guarantees that the density matrix follows a physical evolution, i.e. the evolution is trace and positivity preserving (up to numerical precision).\n",
    "\n",
    "A down-side of the Bloch-Redfield solver is that it does not guarantee this physical evolution. Hence the trace of the resulting density matrix can vary. Below we plot the trace of the density matrices for the evolution of the weakly coupled system. The trace of the Bloch-Redfield density matrices slightly deviates from the expected trace $1$ (here: in the range of $10^{-12}$ ). This small deviation was not a problem for the simulation above, but can become a problem for other systems.\n",
    "\n",
    "Note that the scale of the y-axis is automatically shifted by $+1$ and scaled by $10^{-12}$, which results in the expected trace plotted at $y = 0.0$."
   ]
  },
  {
   "cell_type": "code",
   "execution_count": null,
   "id": "56e5dab1",
   "metadata": {},
   "outputs": [],
   "source": [
    "# calculate states for weak coupling\n",
    "me_states = mesolve(H_weak, psi0, times, c_ops, e_ops=[])\n",
    "brme_states = brmesolve(H_weak, psi0, times, a_ops, e_ops=[])\n",
    "# plot the traces and expected trace\n",
    "plt.axhline(1.0, label=\"expected trace\", c=\"red\", linestyle=\"--\")\n",
    "plt.plot(times, [state.tr() for state in brme_states.states], label=\"brme\")\n",
    "plt.plot(times, [state.tr() for state in me_states.states], label=\"me\")\n",
    "plt.legend(), plt.xlabel(\"Time\"), plt.ylabel(\"Trace of states\");"
   ]
  },
  {
   "cell_type": "markdown",
   "id": "f107b525",
   "metadata": {},
   "source": [
    "## About"
   ]
  },
  {
   "cell_type": "code",
   "execution_count": null,
   "id": "1502645c",
   "metadata": {},
   "outputs": [],
   "source": [
    "about()"
   ]
  },
  {
   "cell_type": "markdown",
   "id": "f0c5819c",
   "metadata": {},
   "source": [
    "## Testing"
   ]
  },
  {
   "cell_type": "code",
   "execution_count": null,
   "id": "028ec02c",
   "metadata": {},
   "outputs": [],
   "source": [
    "# Weak coupling should be close\n",
    "assert np.allclose(result_me_weak.expect[0],\n",
    "                   result_brme_weak.expect[0], atol=0.05)\n",
    "assert np.allclose(result_me_weak.expect[1],\n",
    "                   result_brme_weak.expect[1], atol=0.05)\n",
    "\n",
    "# Strong coupling should not be close\n",
    "assert not np.allclose(result_me_strong.expect[0],\n",
    "                       result_brme_strong.expect[0], atol=0.1)\n",
    "assert not np.allclose(result_me_strong.expect[1],\n",
    "                       result_brme_strong.expect[1], atol=0.1)\n",
    "\n",
    "# Trace of states should be approx. 1\n",
    "assert np.allclose([s.tr() for s in me_states.states],\n",
    "                   np.ones(times.shape[0]))\n",
    "assert np.allclose([s.tr() for s in brme_states.states],\n",
    "                   np.ones(times.shape[0]))"
   ]
  }
 ],
 "metadata": {
  "jupytext": {
   "cell_metadata_filter": "-all",
   "notebook_metadata_filter": "-jupytext.cell_metadata_filter,-jupytext.notebook_metadata_filter"
  },
  "kernelspec": {
   "display_name": "Python 3 (ipykernel)",
   "language": "python",
   "name": "python3"
  }
 },
 "nbformat": 4,
 "nbformat_minor": 5
}
