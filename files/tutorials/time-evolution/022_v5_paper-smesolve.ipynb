{
 "cells": [
  {
   "cell_type": "markdown",
   "id": "527b5a53",
   "metadata": {},
   "source": [
    "# QuTiPv5 Paper Example: Stochastic Solver - Homodyne Detection\n",
    "\n",
    "Authors: Maximilian Meyer-Mölleringhof (m.meyermoelleringhof@gmail.com), Neill Lambert (nwlambert@gmail.com)\n",
    "\n",
    "## Introduction\n",
    "\n",
    "When modelling an open quantum system, stochastic noise can be used to simulate a large range of phenomena.\n",
    "In the `smesolve()` solver, noise is introduced by continuous measurement.\n",
    "This allows us to generate the trajectory evolution of a quantum system conditioned on a noisy measurement record.\n",
    "Historically speaking, such models were used by the quantum optics community to model homodyne and heterodyne detection of light emitted from a cavity.\n",
    "However, this solver is of course quite general and can thus also be applied to other problems.\n",
    "\n",
    "In this example we look at an optical cavity whose output is subject to homodyne detection.\n",
    "Such a cavity obeys the general stochastic master equation\n",
    "\n",
    "$d \\rho(t) = -i [H, \\rho(t)] dt + \\mathcal{D}[a] \\rho (t) dt + \\mathcal{H}[a] \\rho\\, dW(t)$\n",
    "\n",
    "with the Hamiltonian\n",
    "\n",
    "$H = \\Delta a^\\dagger a$\n",
    "\n",
    "and the Lindblad dissipator\n",
    "\n",
    "$\\mathcal{D}[a] = a \\rho a^\\dagger - \\dfrac{1}{2} a^\\dagger a \\rho - \\dfrac{1}{2} \\rho a^\\dagger a$.\n",
    "\n",
    "The stochastic part\n",
    "\n",
    "$\\mathcal{H}[a]\\rho = a \\rho + \\rho a^\\dagger - tr[a \\rho + \\rho a^\\dagger]$\n",
    "\n",
    "captures the conditioning of the trajectory through continuous monitoring of the operator $a$.\n",
    "The term $dW(t)$ is the increment of a Wiener process that obeys $\\mathbb{E}[dW] = 0$ and $\\mathbb{E}[dW^2] = dt$.\n",
    "\n",
    "Note that a similiar example is available in the [QuTiP user guide](https://qutip.readthedocs.io/en/qutip-5.0.x/guide/dynamics/dynamics-stochastic.html#stochastic-master-equation)."
   ]
  },
  {
   "cell_type": "code",
   "execution_count": null,
   "id": "776ff8ba",
   "metadata": {},
   "outputs": [],
   "source": [
    "import numpy as np\n",
    "from matplotlib import pyplot as plt\n",
    "from qutip import about, coherent, destroy, mesolve, smesolve\n",
    "\n",
    "%matplotlib inline"
   ]
  },
  {
   "cell_type": "markdown",
   "id": "8c3f0d2e",
   "metadata": {},
   "source": [
    "## Problem Parameters"
   ]
  },
  {
   "cell_type": "code",
   "execution_count": null,
   "id": "e4b7bbf6",
   "metadata": {},
   "outputs": [],
   "source": [
    "N = 20  # dimensions of Hilbert space\n",
    "delta = 10 * np.pi  # cavity detuning\n",
    "kappa = 1  # decay rate\n",
    "A = 4  # initial coherent state intensity"
   ]
  },
  {
   "cell_type": "code",
   "execution_count": null,
   "id": "8bcf036b",
   "metadata": {},
   "outputs": [],
   "source": [
    "a = destroy(N)\n",
    "x = a + a.dag()  # operator for expectation value\n",
    "H = delta * a.dag() * a  # Hamiltonian\n",
    "mon_op = np.sqrt(kappa) * a  # continiously monitored operators"
   ]
  },
  {
   "cell_type": "markdown",
   "id": "cdf4d83c",
   "metadata": {},
   "source": [
    "## Solving for the Time Evolution\n",
    "\n",
    "We calculate the predicted trajectory conditioned on the continuous monitoring of the operator $a$.\n",
    "This is compared to the regular `mesolve()` solver for the same model but without resolving conditioned trajectories."
   ]
  },
  {
   "cell_type": "code",
   "execution_count": null,
   "id": "d6e78924",
   "metadata": {},
   "outputs": [],
   "source": [
    "rho_0 = coherent(N, np.sqrt(A))  # initial state\n",
    "times = np.arange(0, 1, 0.0025)\n",
    "num_traj = 500  # number of computed trajectories\n",
    "opt = {\"dt\": 0.00125, \"store_measurement\": True, \"map\": \"parallel\"}"
   ]
  },
  {
   "cell_type": "code",
   "execution_count": null,
   "id": "7a308f67",
   "metadata": {},
   "outputs": [],
   "source": [
    "me_solution = mesolve(H, rho_0, times, c_ops=[mon_op], e_ops=[x])"
   ]
  },
  {
   "cell_type": "code",
   "execution_count": null,
   "id": "2da665d9",
   "metadata": {},
   "outputs": [],
   "source": [
    "stoc_solution = smesolve(\n",
    "    H, rho_0, times, sc_ops=[mon_op], e_ops=[x], ntraj=num_traj, options=opt\n",
    ")"
   ]
  },
  {
   "cell_type": "markdown",
   "id": "98eab811",
   "metadata": {},
   "source": [
    "## Comparison of Results\n",
    "\n",
    "We plot the averaged homodyne current $J_x = \\langle x \\rangle + dW / dt$ and the average system behaviour $\\langle x \\rangle$ for 500 trajectories.\n",
    "This is compared with the prediction of the regular `mesolve()` solver that does not include the conditioned trajectories.\n",
    "Since the conditioned expectation values do not depend on the trajectories, we expect that this reproduces the result of the standard `mesolve()`."
   ]
  },
  {
   "cell_type": "code",
   "execution_count": null,
   "id": "97b52862",
   "metadata": {},
   "outputs": [],
   "source": [
    "stoc_meas_mean = np.array(stoc_solution.measurement).mean(axis=0)[0, :].real"
   ]
  },
  {
   "cell_type": "code",
   "execution_count": null,
   "id": "b7c88815",
   "metadata": {},
   "outputs": [],
   "source": [
    "plt.figure()\n",
    "plt.plot(times[1:], stoc_meas_mean, lw=2, label=r\"$J_x$\")\n",
    "plt.plot(times, stoc_solution.expect[0], label=r\"$\\langle x \\rangle$\")\n",
    "plt.plot(\n",
    "    times,\n",
    "    me_solution.expect[0],\n",
    "    \"--\",\n",
    "    color=\"gray\",\n",
    "    label=r\"$\\langle x \\rangle$ mesolve\",\n",
    ")\n",
    "\n",
    "plt.legend()\n",
    "plt.xlabel(r\"$t \\cdot \\kappa$\")\n",
    "plt.show()"
   ]
  },
  {
   "cell_type": "markdown",
   "id": "632d8253",
   "metadata": {},
   "source": [
    "## References\n",
    "\n",
    "[1] [QuTiP 5: The Quantum Toolbox in Python](https://arxiv.org/abs/2412.04705)"
   ]
  },
  {
   "cell_type": "markdown",
   "id": "60649fb5",
   "metadata": {},
   "source": [
    "## About"
   ]
  },
  {
   "cell_type": "code",
   "execution_count": null,
   "id": "428b247e",
   "metadata": {},
   "outputs": [],
   "source": [
    "about()"
   ]
  },
  {
   "cell_type": "markdown",
   "id": "eb228088",
   "metadata": {},
   "source": [
    "## Testing"
   ]
  },
  {
   "cell_type": "code",
   "execution_count": null,
   "id": "7128c882",
   "metadata": {},
   "outputs": [],
   "source": [
    "assert np.allclose(\n",
    "    stoc_solution.expect[0], me_solution.expect[0], atol=1e-1\n",
    "), \"smesolve and mesolve do not preoduce the same trajectory.\""
   ]
  }
 ],
 "metadata": {
  "jupytext": {
   "cell_metadata_filter": "-all",
   "notebook_metadata_filter": "-jupytext.cell_metadata_filter,-jupytext.notebook_metadata_filter"
  },
  "kernelspec": {
   "display_name": "Python 3 (ipykernel)",
   "language": "python",
   "name": "python3"
  }
 },
 "nbformat": 4,
 "nbformat_minor": 5
}
