{
 "cells": [
  {
   "cell_type": "markdown",
   "id": "87190ec5",
   "metadata": {},
   "source": [
    "# Non-Markovian Monte Carlo Solver: Two Physical Examples\n",
    "\n",
    "Authors: B. Donvil and P. Menczel, 2023\n",
    "\n",
    "### Introduction\n",
    "\n",
    "In this tutorial, we will discuss two examples where systems are described by time-local non-Markovian master equations, that is, Lindblad-like master equations with \"rates\" that may become negative.\n",
    "We will demonstrate how these master equations arise in physical scenarios and how they can be simulated using QuTiP's Non-Markovian Monte Carlo solver.\n",
    "This solver is based on the influence martingale formalism, which is described in Refs. [\\[1, 2\\]](#References).\n",
    "The examples, taken from Ref. [\\[1\\]](#References), are a two-level atom in a photonic band gap (based on Ref. [\\[3\\]](#References)) and a Redfield master equation for two non-interacting qubits coupling collectively to a common environment.\n",
    "\n",
    "An advantage of the quantum Monte Carlo technique is that simulations can be easily parallelized.\n",
    "QuTiP is able to interact with the `mpi4py` package, and thus makes it possible to take advantage of the massive parallelization capabilities of high performance computing clusters.\n",
    "As part of *Example 2*, we demonstrate [at the end](#Monte-Carlo-Simulations-on-Computing-Clusters-via-MPI) how that example can be run in an MPI environment."
   ]
  },
  {
   "cell_type": "code",
   "execution_count": null,
   "id": "4fe11819",
   "metadata": {},
   "outputs": [],
   "source": [
    "import matplotlib.pyplot as plt\n",
    "from matplotlib.collections import LineCollection\n",
    "from matplotlib.colors import LogNorm\n",
    "\n",
    "import numpy as np\n",
    "import qutip as qt\n",
    "\n",
    "from scipy import special, optimize\n",
    "from scipy.interpolate import CubicSpline\n",
    "\n",
    "from collections import Counter\n",
    "import os"
   ]
  },
  {
   "cell_type": "markdown",
   "id": "3b6d863c",
   "metadata": {},
   "source": [
    "### Example 1: Two-level Atom in a Photonic Band Gap\n",
    "\n",
    "We discuss here the master equation for a 2-level atom in a photonic band gap based on Ref. [\\[3\\]](#References).\n",
    "The total Hamiltonian describing the 2-level system plus the radiation field in a three-dimensional periodic dielectric is \n",
    "\n",
    "$$ H = \\sum_\\lambda \\hbar \\omega_\\lambda a^\\dagger_\\lambda a_\\lambda + \\omega \\sigma_z + i\\hbar \\sum_\\lambda g_\\lambda (a_\\lambda^\\dagger\\sigma_- - \\sigma_+ a_\\lambda) $$\n",
    "\n",
    "where $a_\\lambda$, $a_\\lambda^\\dagger$ are the canonical ladder operators and $\\sigma_\\pm=(\\sigma_x\\pm i \\sigma_y)/2$ with the Pauli matrices $\\sigma_{x,y,z}$.\n",
    "The sums enumerate the electromagnetic field modes and polarizations $\\lambda = (\\vec k, \\sigma)$ and $\\omega$ (respectively $\\omega_\\lambda$) denotes the characteristic frequency of the atom (of the mode $\\lambda$).\n",
    "Finally, $g_\\lambda \\propto \\cos(\\theta)\\, /\\, \\omega_\\lambda^{1/2}$ are the atom-field coupling constants, where $\\theta$ is the angle between the mode's polarization vector and the atomic dipole moment.\n",
    "\n",
    "We make the following assumptions:\n",
    "- The photon field is initially in the vacuum state.\n",
    "- Near the band gap $k \\simeq k_0$, the photon dispersion relation is $\\omega_\\lambda = \\omega_c + A (k - k_0)^2$ with $A = \\omega_c/k_0^2$ and $\\omega_c = ck_0$.\n",
    "\n",
    "The dynamics of the full system can then be solved analytically.\n",
    "The combined state at time $t$ is\n",
    "\n",
    "$$ |\\psi(t)\\rangle = e^{-i\\omega t} c(t) |1,\\{0\\}\\rangle + \\sum_\\lambda c_\\lambda(t) |0,\\{\\lambda\\}\\rangle e^{-i\\omega_\\lambda t}$$\n",
    "\n",
    "where $|1,\\{0\\}\\rangle$ is the excited 2-level state with the radiation field in the vacuum, and $|0,\\{\\lambda\\}\\rangle$ the state with the 2-level system in the ground state and radiation mode $\\lambda$ excited.\n",
    "The functions $c_\\lambda(t)$ are defined as\n",
    "$$c_\\lambda(t) = g_\\lambda \\int_0^t c(\\tau) e^{i(\\omega_\\lambda-\\omega)\\tau} d\\tau$$\n",
    "\n",
    "and $c(t)$ is the complicated expression defined in the code below (see Eq. (2.21) of Ref. [\\[3\\]](#References)).\n",
    "It depends on the two parameters\n",
    "\n",
    "$$ \\begin{aligned}\n",
    "\\delta &= \\omega-\\omega_c \\quad \\text{and} \\\\\n",
    "\\beta^{3/2} &= \\frac{\\omega^2 \\omega_c^{3/2} d^2 }{6\\pi \\epsilon_0 \\hbar c^3} ,\n",
    "\\end{aligned} $$\n",
    "where $d$ is the absolute value of the atomic dipole moment.\n",
    "\n",
    "Finally, the field modes can be traced out exactly [\\[4\\]](#References) to obtain the master equation\n",
    "\n",
    "$$ \\frac{d}{dt} \\rho(t) = -2i S(t) [\\sigma_+\\sigma_-,\\rho(t)] + \\Gamma(t) \\left(\\sigma_-\\rho(t)\\sigma_+ -\\frac{1}{2}\\{\\sigma_+\\sigma_-,\\rho(t)\\}\\right) , $$\n",
    "\n",
    "for the reduced density matrix $\\rho(t)$ of the atom.\n",
    "Here,\n",
    "\n",
    "$$ \\begin{aligned}\n",
    "S(t) &= -2 \\operatorname{Im} \\frac{\\dot{c}(t)}{c(t)} \\quad \\text{and} \\\\\n",
    "\\Gamma(t) &= -2 \\operatorname{Re} \\frac{\\dot{c}(t)}{c(t)} .\n",
    "\\end{aligned} $$\n",
    "\n",
    "\n",
    "\n",
    "##### Setup system\n",
    "\n",
    "We choose the model parameters $\\delta$ and $\\beta$:"
   ]
  },
  {
   "cell_type": "code",
   "execution_count": null,
   "id": "d14c9d34",
   "metadata": {},
   "outputs": [],
   "source": [
    "delta = -1\n",
    "beta = 1"
   ]
  },
  {
   "cell_type": "markdown",
   "id": "e0b1e8a3",
   "metadata": {},
   "source": [
    "Some derived parameters and the function $c(t)$ introduced above:"
   ]
  },
  {
   "cell_type": "code",
   "execution_count": null,
   "id": "f79acb1e",
   "metadata": {},
   "outputs": [],
   "source": [
    "Ap = (1 / 2 + 1 / 2 * (1 + 4 / 27 * (delta / beta) ** 3) ** (1 / 2)) ** (1 / 3)\n",
    "Am = (1 / 2 - 1 / 2 * (1 + 4 / 27 * (delta / beta) ** 3) ** (1 / 2)) ** (1 / 3)\n",
    "x1 = (Ap + Am) * np.exp(1j * np.pi / 4)\n",
    "x2 = ((Ap * np.exp(-1j * np.pi / 6) - Am * np.exp(1j * np.pi / 6))\n",
    "      * np.exp(-1j * np.pi / 4))\n",
    "x3 = ((Ap * np.exp(1j * np.pi / 6) - Am * np.exp(-1j * np.pi / 6))\n",
    "      * np.exp(3 * 1j * np.pi / 4))\n",
    "a1 = x1 / ((x1 - x2) * (x1 - x3))\n",
    "a2 = x2 / ((x2 - x1) * (x2 - x3))\n",
    "a3 = x3 / ((x3 - x2) * (x3 - x1))\n",
    "y1 = (x1**2) ** (1 / 2)\n",
    "y2 = (x2**2) ** (1 / 2)\n",
    "y3 = (x3**2) ** (1 / 2)\n",
    "\n",
    "\n",
    "def c(t):\n",
    "    return (\n",
    "        2 * x1 * a1 * np.exp((beta * x1**2 + 1j * delta) * t)\n",
    "        + a2 * (x2 + y2) * np.exp((beta * x2**2 + 1j * delta) * t)\n",
    "        - (a1 * y1 * (1 - special.erf((beta * x1**2 * t) ** (1 / 2)))\n",
    "           * np.exp((beta * x1**2 + 1j * delta) * t))\n",
    "        - (a2 * y2 * (1 - special.erf((beta * x2**2 * t) ** (1 / 2)))\n",
    "           * np.exp((beta * x2**2 + 1j * delta) * t))\n",
    "        - (a3 * y3 * (1 - special.erf((beta * x3**2 * t) ** (1 / 2)))\n",
    "           * np.exp((beta * x3**2 + 1j * delta) * t))\n",
    "    )\n",
    "\n",
    "\n",
    "def cd(t):  # time derivative\n",
    "    return (\n",
    "        ((beta * x1**2 + 1j * delta) * 2 * x1 * a1\n",
    "         * np.exp((beta * x1**2 + 1j * delta) * t))\n",
    "        + ((beta * x2**2 + 1j * delta) * a2 * (x2 + y2)\n",
    "           * np.exp((beta * x2**2 + 1j * delta) * t))\n",
    "        - ((beta * x1**2 + 1j * delta) * a1 * y1\n",
    "           * (1 - special.erf((beta * x1**2 * t) ** (1 / 2)))\n",
    "           * np.exp((beta * x1**2 + 1j * delta) * t))\n",
    "        - ((beta * x2**2 + 1j * delta) * a2 * y2\n",
    "           * (1 - special.erf((beta * x2**2 * t) ** (1 / 2)))\n",
    "           * np.exp((beta * x2**2 + 1j * delta) * t))\n",
    "        - ((beta * x3**2 + 1j * delta) * a3 * y3\n",
    "           * (1 - special.erf((beta * x3**2 * t) ** (1 / 2)))\n",
    "           * np.exp((beta * x3**2 + 1j * delta) * t))\n",
    "        + (a1 * y1 * x1 * np.exp(-beta * t * x1**2)\n",
    "           * (beta / (t * np.pi + 0.00001)) ** (1 / 2)\n",
    "           * np.exp((beta * x1**2 + 1j * delta) * t))\n",
    "        + (a2 * y2 * x2 * np.exp(-beta * t * x2**2)\n",
    "           * (beta / (t * np.pi + 0.00001)) ** (1 / 2)\n",
    "           * np.exp((beta * x2**2 + 1j * delta) * t))\n",
    "        + (a3 * y3 * x3 * np.exp(-beta * t * x3**2)\n",
    "           * (beta / (t * np.pi + 0.00001)) ** (1 / 2)\n",
    "           * np.exp((beta * x3**2 + 1j * delta) * t))\n",
    "    )\n",
    "\n",
    "\n",
    "def S(t):\n",
    "    return -2 * np.imag(cd(t) / c(t))\n",
    "\n",
    "\n",
    "def Gamma(t):\n",
    "    return -2 * np.real(cd(t) / c(t))"
   ]
  },
  {
   "cell_type": "markdown",
   "id": "b23379a6",
   "metadata": {},
   "source": [
    "Define the time interval. The initial time is shifted to avoid negative values of $\\Gamma(t)$ at $t=0$ (which is unphysical):"
   ]
  },
  {
   "cell_type": "code",
   "execution_count": null,
   "id": "f5c10233",
   "metadata": {},
   "outputs": [],
   "source": [
    "ti = optimize.root_scalar(Gamma, bracket=(1.4, 1.5)).root\n",
    "duration = 10\n",
    "steps = 100\n",
    "\n",
    "times = np.linspace(ti, ti + duration, steps + 1)"
   ]
  },
  {
   "cell_type": "markdown",
   "id": "59090f49",
   "metadata": {},
   "source": [
    "We plot the functions $\\Gamma(t)$ and $S(t)$ over the time interval, demonstrating that $\\Gamma(t)$ becomes negative:"
   ]
  },
  {
   "cell_type": "code",
   "execution_count": null,
   "id": "03288b7f",
   "metadata": {},
   "outputs": [],
   "source": [
    "Gamma_values = Gamma(times)\n",
    "S_values = S(times)\n",
    "\n",
    "plt.plot(times - ti, Gamma_values, label=r\"$\\Gamma(t)$\")\n",
    "plt.plot(times - ti, S_values, label=r\"$S(t)$\")\n",
    "plt.xlabel(r\"$t$\")\n",
    "plt.legend()\n",
    "plt.show()"
   ]
  },
  {
   "cell_type": "markdown",
   "id": "70962b0e",
   "metadata": {},
   "source": [
    "To speed up the following calculation by a factor 3-4, we store $\\Gamma(t)$ and $S(t)$ as interpolations."
   ]
  },
  {
   "cell_type": "code",
   "execution_count": null,
   "id": "bbc5f6b2",
   "metadata": {},
   "outputs": [],
   "source": [
    "Gamma_int = CubicSpline(times, np.complex128(Gamma_values))\n",
    "S_int = CubicSpline(times, np.complex128(S_values))"
   ]
  },
  {
   "cell_type": "markdown",
   "id": "ba2de8dd",
   "metadata": {},
   "source": [
    "##### Monte-Carlo Simulation\n",
    "\n",
    "We specify some numerical parameters, i.e., the number of trajectories and whether to use parallel computation. Then we define the Hamiltonian and the jump operator corresponding to the master equation, and the initial state."
   ]
  },
  {
   "cell_type": "code",
   "execution_count": null,
   "id": "6f25170a",
   "metadata": {},
   "outputs": [],
   "source": [
    "nmmc_options = {\"map\": \"parallel\",\n",
    "                \"norm_steps\": 10}  # options specific to nm_mcsolve\n",
    "options = {\"progress_bar\": \"enhanced\"}  # options shared by all solvers\n",
    "ntraj = 5500\n",
    "\n",
    "H = 2 * qt.sigmap() * qt.sigmam()\n",
    "ops_and_rates = [[qt.sigmam(), qt.coefficient(Gamma_int)]]\n",
    "psi0 = qt.basis(2, 0)\n",
    "e_ops = [H]"
   ]
  },
  {
   "cell_type": "markdown",
   "id": "aea244be",
   "metadata": {},
   "source": [
    "In analogy with `mcsolve` and the corresponding `MCSolver` class, we may either instantiate a `NonMarkovianMCSolver` object and call its `run` or `start` / `step` methods to run the Monte-Carlo simulation, or make use of the `nm_mcsolve` convenience function.\n",
    "Here, we construct a `NonMarkovianMCSolver` in order to explicitly verify that the solver ensures that the jump operators satisfy the completeness relation $\\sum_n A^\\dagger_n A_n \\propto 1$.\n",
    "We can see that a second jump operator is added in order to satisfy this relation."
   ]
  },
  {
   "cell_type": "code",
   "execution_count": null,
   "id": "e68e237e",
   "metadata": {},
   "outputs": [],
   "source": [
    "solver = qt.NonMarkovianMCSolver(qt.QobjEvo([H, S_int]),\n",
    "                                 ops_and_rates,\n",
    "                                 options=(options | nmmc_options))\n",
    "\n",
    "for L in solver.ops:\n",
    "    print(L, \"\\n\")\n",
    "\n",
    "completeness_check = sum(L.dag() * L for L in solver.ops)\n",
    "with qt.CoreOptions(atol=1e-5):\n",
    "    assert completeness_check == qt.qeye(2)"
   ]
  },
  {
   "cell_type": "markdown",
   "id": "a1c0339c",
   "metadata": {},
   "source": [
    "Finally, we run the Monte-Carlo simulation:"
   ]
  },
  {
   "cell_type": "code",
   "execution_count": null,
   "id": "1bc6f4b0",
   "metadata": {},
   "outputs": [],
   "source": [
    "MCSol = solver.run(psi0, tlist=times, ntraj=ntraj, e_ops=e_ops)"
   ]
  },
  {
   "cell_type": "markdown",
   "id": "936769ff",
   "metadata": {},
   "source": [
    "##### Benchmark against non-stochastic simulation\n",
    "\n",
    "We will compare our results to the following exact `mesolve` simulation:"
   ]
  },
  {
   "cell_type": "code",
   "execution_count": null,
   "id": "adc2549e",
   "metadata": {},
   "outputs": [],
   "source": [
    "d_ops = [[qt.lindblad_dissipator(qt.sigmam(), qt.sigmam()), Gamma]]\n",
    "MESol = qt.mesolve([H, S], psi0, times, d_ops, e_ops, options=options)"
   ]
  },
  {
   "cell_type": "markdown",
   "id": "040248fe",
   "metadata": {},
   "source": [
    "##### Results\n",
    "\n",
    "Using the `e_ops` parameter of both solvers, we have computed the expectation value $\\langle H \\rangle$ for the exact simulation, and its average over `ntraj` trajectories in the Monte-Carlo simulation. In the following plot, we show both the exact solution and the Monte-Carlo estimate, together with an estimation for the error of the Monte-Carlo simulation which is given by\n",
    "$$ \\textrm{Error}_{\\text{MC}} = \\sigma / \\sqrt{N} $$\n",
    "where $\\sigma$ is the standard deviation of the values returned by the individual trajectories (which is automatically computed by QuTiP's solver) and $N$ is the number of trajectories.\n",
    "\n",
    "In the influence martingale approach to Monte-Carlo simulations of non-Markovian master equations, the trace of the state is not conserved along each trajectory. In fact, the trace of the state on a trajectory is given by the influence martingale. Due to its martingale property, the expectation value of the trace when averaging over sufficiently many trajectories is one. QuTiP automatically stores the average trace and its standard deviation in the result object. We read it out and display it in the following plot; the deviation of the average trace from $1$ gives an indication of how well the Monte-Carlo simulation has converged.\n",
    "\n",
    "Note that `ntraj` has been set to `2500` to keep the evaluation time of this notebook reasonable. Increasing it to `10000` or more improves the convergence."
   ]
  },
  {
   "cell_type": "code",
   "execution_count": null,
   "id": "6b2db7d4",
   "metadata": {},
   "outputs": [],
   "source": [
    "plt.plot(times - ti, MESol.expect[0] / 2, \"k-\", label=\"Exact\")\n",
    "plt.plot(times - ti, MCSol.expect[0] / 2, \"kx\", label=\"Monte-Carlo\")\n",
    "plt.fill_between(\n",
    "    times - ti,\n",
    "    (MCSol.expect[0] - MCSol.std_expect[0] / np.sqrt(ntraj)) / 2,\n",
    "    (MCSol.expect[0] + MCSol.std_expect[0] / np.sqrt(ntraj)) / 2,\n",
    "    alpha=0.5,\n",
    ")\n",
    "\n",
    "plt.plot(times - ti, np.ones_like(times), \"-\", color=\"0.5\")\n",
    "plt.plot(times - ti, MCSol.trace, \"x\", color=\"0.5\")\n",
    "plt.fill_between(\n",
    "    times - ti,\n",
    "    MCSol.trace - MCSol.std_trace / np.sqrt(ntraj),\n",
    "    MCSol.trace + MCSol.std_trace / np.sqrt(ntraj),\n",
    "    alpha=0.5,\n",
    ")\n",
    "\n",
    "plt.xlabel(r\"$t$\")\n",
    "plt.ylabel(r\"$\\langle H \\rangle\\, /\\, 2$\")\n",
    "plt.legend()\n",
    "plt.show()"
   ]
  },
  {
   "cell_type": "markdown",
   "id": "ac2f317d",
   "metadata": {},
   "source": [
    "##### Improved Sampling\n",
    "To close this tutorial, we will briefly demonstrate the use of the \"improved sampling\" option with `nm_mcsolve`.\n",
    "For clarity, we consider the same example as before, but with a shorter time interval and fewer trajectories:"
   ]
  },
  {
   "cell_type": "code",
   "execution_count": null,
   "id": "bb3225a8",
   "metadata": {},
   "outputs": [],
   "source": [
    "times_is = np.linspace(ti, ti + duration / 2, steps + 1)\n",
    "ntraj_is = ntraj / 10\n",
    "\n",
    "MCSol_is = solver.run(psi0, tlist=times_is, ntraj=ntraj_is, e_ops=e_ops)\n",
    "MESol_is = qt.mesolve([H, S], psi0, times_is, d_ops, e_ops, options=options)"
   ]
  },
  {
   "cell_type": "markdown",
   "id": "24761a5b",
   "metadata": {},
   "source": [
    "If we count the number of collapses per trajectory, we see that around 10% of the trajectories had no collapses:"
   ]
  },
  {
   "cell_type": "code",
   "execution_count": null,
   "id": "169b9310",
   "metadata": {},
   "outputs": [],
   "source": [
    "print(Counter([len(x) for x in MCSol_is.col_times]))"
   ]
  },
  {
   "cell_type": "markdown",
   "id": "e96730d5",
   "metadata": {},
   "source": [
    "All these trajectories are identical.\n",
    "It would therefore be enough to calculate this trajectory only once.\n",
    "This can be done by activating the \"improved sampling\" option:"
   ]
  },
  {
   "cell_type": "code",
   "execution_count": null,
   "id": "8f680cdd",
   "metadata": {},
   "outputs": [],
   "source": [
    "solver.options = {'improved_sampling': True}\n",
    "MCSol_is_improved = solver.run(psi0, tlist=times_is, ntraj=ntraj_is, e_ops=e_ops)\n",
    "print(Counter([len(x) for x in MCSol_is_improved.col_times]))"
   ]
  },
  {
   "cell_type": "code",
   "execution_count": null,
   "id": "c653e75e",
   "metadata": {},
   "outputs": [],
   "source": [
    "plt.plot(times_is - ti, MESol_is.expect[0] / 2, \"k-\", label=\"Exact\")\n",
    "plt.plot(times_is - ti, MCSol_is.expect[0] / 2, \"kx\", label=\"MC\")\n",
    "plt.plot(times_is - ti, MCSol_is_improved.expect[0] / 2, \"rx\", label=\"MC (improved)\")\n",
    "\n",
    "plt.plot(times_is - ti, np.ones_like(times_is), \"k-\", alpha=0.5)\n",
    "plt.plot(times_is - ti, MCSol_is.trace, \"kx\", alpha=0.5)\n",
    "plt.plot(times_is - ti, MCSol_is_improved.trace, \"rx\", alpha=0.5)\n",
    "\n",
    "plt.xlabel(r\"$t$\")\n",
    "plt.ylabel(r\"$\\langle H \\rangle\\, /\\, 2$\")\n",
    "plt.legend()\n",
    "plt.show()"
   ]
  },
  {
   "cell_type": "markdown",
   "id": "ef8fd3fd",
   "metadata": {},
   "source": [
    "### Example 2: Two-Qubit Redfield Equation\n",
    "\n",
    "We consider two qubits that couple collectively to the same bosonic bath but do not interact with each other directly.\n",
    "The full model Hamiltonian is\n",
    "\n",
    "$$ H = \\omega_1 \\sigma^{(1)}_+\\sigma^{(1)}_- + \\omega_2 \\sigma^{(2)}_+\\sigma^{(2)}_- + \\sum_k \\epsilon_k b_k^\\dagger b_k +\\sum_k g_k [b_k(\\sigma^{(1)}_++\\sigma^{(2)}_+)+b_k^\\dagger(\\sigma^{(1)}_-+\\sigma^{(2)}_-)]$$\n",
    "\n",
    "Here, $b_k$, $b_k^\\dagger$ are bosonic ladder operators and $\\sigma^{(j)}_\\pm=(\\sigma_x^{(j)}\\pm i\\sigma_y^{(j)})/2$ and $\\sigma_{x,y,z}^{(j)}$ are the Pauli matrices acting on the $j$th qubit.\n",
    "Further, $\\omega_j$ and $\\epsilon_k$ denote the characteristic frequencies of the qubits and the bath modes, and $g_k$ are coupling constants.\n",
    "The initial state of the total system is $\\rho_{2q}\\otimes |0\\rangle\\langle 0|$, where $\\rho_{2q}$ is the two-qubit initial state and $|0\\rangle\\langle 0|$ the boson bath vacuum state.\n",
    "\n",
    "Following Ref. [\\[5\\]](#References), we perform Born-Markov approximations to arrive at the following Redfield master equation for the qubits:\n",
    "$$ \\quad \\frac{d}{dt}\\rho(t) = -i \\sum_{i,j=1}^2 A_{i,j} [\\sigma_+^{(j)}\\sigma_-^{(i)},\\rho(t)] + \\sum_{i,j=1}^2B_{i,j}\\left( \\sigma_-^{(i)}\\rho(t)\\sigma_+^{(j)} -\\frac{1}{2}\\{\\sigma_+^{(j)}\\sigma_-^{(i)},\\rho(t)\\}\\right) . \\tag 1 $$\n",
    "Here, we introduced the matrices \n",
    "$$ \\begin{aligned}\n",
    "    A &= \\begin{pmatrix} \\omega_1 + \\alpha & \\alpha + \\frac{\\kappa}{2} - i\\frac{\\gamma_1-\\gamma_2}{8} \\\\ \\alpha + \\frac{\\kappa}{2} - i\\frac{\\gamma_2-\\gamma_1}{8} & \\omega_2 + \\alpha + \\kappa \\end{pmatrix} \\quad \\text{and} \\\\\n",
    "    B &= \\frac{1}{2}\\begin{pmatrix} \\gamma_1 & \\frac{\\gamma_1+\\gamma_2}{2} - 2i\\kappa \\\\ \\frac{\\gamma_1+\\gamma_2}{2} + 2i\\kappa & \\gamma_2 \\end{pmatrix} ,\n",
    "\\end{aligned} $$\n",
    "where the parameters $\\alpha$, $\\kappa$ and $\\gamma_{1,2} \\geq 0$ are related to the full Hamiltonian as follows:\n",
    "$$ \\begin{aligned}\n",
    "    \\gamma_j &= 2\\int_{-\\infty}^\\infty dt\\, \\sum_k g_k^2\\, e^{i(\\omega_j - \\epsilon_k)t} , \\\\\n",
    "    \\alpha &= \\operatorname{Im} \\int_0^\\infty dt\\, \\sum_k g_k^2\\, e^{i(\\omega_1 - \\epsilon_k)t} , \\\\\n",
    "    \\kappa &= \\operatorname{Im} \\int_0^\\infty dt\\, \\sum_k g_k^2\\, \\Bigl( e^{i(\\omega_2 - \\epsilon_k)t} - e^{i(\\omega_1 - \\epsilon_k)t} \\Bigr) .\n",
    "\\end{aligned} $$\n",
    "\n",
    "The matrix $B$ is self adjoint, and therefore it can be diagonalised with some unitary $U$:\n",
    "$$ U^\\dagger\\, B\\, U = \\begin{pmatrix} \\lambda_{1}&0\\\\0&\\lambda_{2} \\end{pmatrix} $$\n",
    "with $\\lambda_{i} = \\frac{\\gamma_1+\\gamma_2}{4}+(-1)^{i}\\sqrt{\\frac{\\gamma_1^2+\\gamma_2^2+8\\,\\kappa^2}{8}}$.\n",
    "We define the Lindblad operators\n",
    "$$ L_j = \\sum_{i=1}^2 \\sigma_-^{(i)} U_{ij} $$\n",
    "such that equation (1) becomes\n",
    "$$ \\frac{d}{dt}\\rho(t) = -i \\sum_{i,j=1}^2 A_{i,j} [\\sigma_+^{(j)}\\sigma_-^{(i)},\\rho(t)] + \\sum_{i=1}^2\\lambda_i\\left( L_i\\rho(t)L_i^\\dagger -\\frac{1}{2}\\{L_i^\\dagger L_i,\\rho(t)\\}\\right) . \\tag 2 $$\n",
    "Now it is clear that when $\\kappa>0$, $\\lambda_1<0$ and thus Eq. (2) is not in strict Lindblad form.\n",
    "\n",
    "\n",
    "\n",
    "##### Setup system\n",
    "\n",
    "We choose the model parameters $\\alpha$, $\\kappa$ and $\\gamma_{1,2}$, and calculate the rates $\\lambda_1$ and $\\lambda_2$."
   ]
  },
  {
   "cell_type": "code",
   "execution_count": null,
   "id": "764458aa",
   "metadata": {},
   "outputs": [],
   "source": [
    "omeg1 = 0.25\n",
    "omeg2 = 0.5\n",
    "\n",
    "gam1 = 1\n",
    "gam2 = 4\n",
    "alpha = 3\n",
    "kappa = 1\n",
    "\n",
    "lamb1 = (gam1 + gam2) / 4 - np.sqrt((gam1**2 + gam2**2 + 8 * kappa**2) / 8)\n",
    "lamb2 = (gam1 + gam2) / 4 + np.sqrt((gam1**2 + gam2**2 + 8 * kappa**2) / 8)"
   ]
  },
  {
   "cell_type": "markdown",
   "id": "8b7f48fb",
   "metadata": {},
   "source": [
    "We choose the time interval and numerical parameters."
   ]
  },
  {
   "cell_type": "code",
   "execution_count": null,
   "id": "c61474d3",
   "metadata": {},
   "outputs": [],
   "source": [
    "times2 = np.linspace(0, 2.5, 100)\n",
    "nmmc_options = {\"map\": \"parallel\",\n",
    "                \"keep_runs_results\": True,\n",
    "                \"norm_steps\": 10}  # options specific to nm_mcsolve\n",
    "options = {\"progress_bar\": \"enhanced\"}  # options shared by all solvers\n",
    "ntraj = 5000"
   ]
  },
  {
   "cell_type": "markdown",
   "id": "b659db59",
   "metadata": {},
   "source": [
    "We will now define our system in the basis where $L_1^\\dagger |0\\rangle = |1\\rangle$, $L_2^\\dagger |0\\rangle = |2\\rangle$ and $L_1^\\dagger L_2^\\dagger |0\\rangle = |3\\rangle$. Note that to define the Hamiltonian, it must be rotated to the appropriate basis. The initial state is chosen as $|\\psi_0\\rangle = \\sqrt{0.4}\\, |0\\rangle + \\sqrt{0.4}\\, |1\\rangle + \\sqrt{0.2}\\, |2\\rangle$."
   ]
  },
  {
   "cell_type": "code",
   "execution_count": null,
   "id": "dd5a78e3",
   "metadata": {},
   "outputs": [],
   "source": [
    "# Initial state of the system\n",
    "psi0 = (\n",
    "    np.sqrt(0.4) * qt.basis(4, 0)\n",
    "    + np.sqrt(0.4) * qt.basis(4, 1)\n",
    "    + np.sqrt(0.2) * qt.basis(4, 2)\n",
    ")\n",
    "\n",
    "L1 = qt.Qobj(np.array([[0, 0, 0, 0],\n",
    "                       [1, 0, 0, 0],\n",
    "                       [0, 0, 0, 0],\n",
    "                       [0, 0, 1, 0]])).dag()\n",
    "L2 = qt.Qobj(np.array([[0, 0, 0, 0],\n",
    "                       [0, 0, 0, 0],\n",
    "                       [1, 0, 0, 0],\n",
    "                       [0, 1, 0, 0]])).dag()\n",
    "\n",
    "norm1 = np.sqrt(\n",
    "    1 + (gam2 - gam1 + np.sqrt(2) * np.sqrt(gam1**2 + gam2**2 + 8*kappa**2))**2\n",
    "    / ((gam1 + gam2) ** 2 + 16 * kappa**2))\n",
    "norm2 = np.sqrt(\n",
    "    1 + (gam2 - gam1 - np.sqrt(2) * np.sqrt(gam1**2 + gam2**2 + 8*kappa**2))**2\n",
    "    / ((gam1 + gam2) ** 2 + 16 * kappa**2))\n",
    "U = qt.Qobj(np.array([\n",
    "    [(gam1 - gam2 - np.sqrt(2) * np.sqrt(gam1**2 + gam2**2 + 8*kappa**2))\n",
    "     / (gam1 + gam2 + 4j*kappa) / norm1,\n",
    "     (gam1 - gam2 + np.sqrt(2) * np.sqrt(gam1**2 + gam2**2 + 8*kappa**2))\n",
    "     / (gam1 + gam2 + 4j*kappa) / norm2],\n",
    "    [1 / norm1, 1 / norm2]]))\n",
    "\n",
    "# Write \\sigma_\\pm^{1,2} in terms of L_{1,2} using the explicit definition of U\n",
    "Udag = U.dag()\n",
    "sigmam1 = Udag[0, 0] * L1 + Udag[1, 0] * L2\n",
    "sigmam2 = Udag[0, 1] * L1 + Udag[1, 1] * L2\n",
    "sigmap1 = sigmam1.dag()\n",
    "sigmap2 = sigmam2.dag()\n",
    "\n",
    "H = ((omeg1 + alpha) * sigmap1 * sigmam1\n",
    "     + (omeg2 + alpha + kappa) * sigmap2 * sigmam2\n",
    "     + (alpha + kappa / 2 - 1j * (gam1 - gam2) / 8) * sigmap2 * sigmam1\n",
    "     + (alpha + kappa / 2 - 1j * (gam2 - gam1) / 8) * sigmap1 * sigmam2)"
   ]
  },
  {
   "cell_type": "markdown",
   "id": "70158c62",
   "metadata": {},
   "source": [
    "##### Monte-Carlo Simulation"
   ]
  },
  {
   "cell_type": "code",
   "execution_count": null,
   "id": "462db057",
   "metadata": {},
   "outputs": [],
   "source": [
    "eops = [qt.basis(4, 0) * qt.basis(4, 0).dag(),\n",
    "        qt.basis(4, 1) * qt.basis(4, 1).dag(),\n",
    "        qt.basis(4, 2) * qt.basis(4, 2).dag()]\n",
    "\n",
    "MCSol2 = qt.nm_mcsolve(H, psi0, times2, ntraj=ntraj,\n",
    "                       options=(options | nmmc_options),\n",
    "                       ops_and_rates=[[L1, lamb1], [L2, lamb2]],\n",
    "                       e_ops=eops)"
   ]
  },
  {
   "cell_type": "markdown",
   "id": "19946966",
   "metadata": {},
   "source": [
    "##### Benchmark against non-stochastic simulation"
   ]
  },
  {
   "cell_type": "code",
   "execution_count": null,
   "id": "f4173869",
   "metadata": {},
   "outputs": [],
   "source": [
    "d_ops = [lamb1 * qt.lindblad_dissipator(L1, L1),\n",
    "         lamb2 * qt.lindblad_dissipator(L2, L2)]\n",
    "MESol2 = qt.mesolve(H, psi0, times2, d_ops,\n",
    "                    e_ops=eops,\n",
    "                    options=options)"
   ]
  },
  {
   "cell_type": "markdown",
   "id": "ef3c939e",
   "metadata": {},
   "source": [
    "##### Results\n",
    "\n",
    "We will first make a plot similar to that in the first example. We plot the populations of the ground state and of the states $|1\\rangle$ and $|2\\rangle$; note that the population of $|3\\rangle$ remains zero for our initial conditions. The solid lines and crosses are the exact solution of the Master equation and the Monte-Carlo average, respectively. The shaded areas show the Monte-Carlo error $\\text{Error}_\\text{MC}$ of the respective quantities. We see that the technique works best at small and intermediate times, and that the error seems to grow exponentially at larger times. We will investigate this effect below."
   ]
  },
  {
   "cell_type": "code",
   "execution_count": null,
   "id": "a5c26053",
   "metadata": {},
   "outputs": [],
   "source": [
    "plt.plot(times2, MESol2.expect[0], color='C0',\n",
    "         label=r\"$\\langle e_0 \\mid \\rho \\mid e_0 \\rangle$\")\n",
    "plt.plot(times2, MCSol2.average_expect[0], 'x', color='C0')\n",
    "plt.fill_between(\n",
    "    times2,\n",
    "    MCSol2.average_expect[0] - MCSol2.std_expect[0] / np.sqrt(ntraj),\n",
    "    MCSol2.average_expect[0] + MCSol2.std_expect[0] / np.sqrt(ntraj),\n",
    "    alpha=0.2, color='C0'\n",
    ")\n",
    "\n",
    "plt.plot(times2, MESol2.expect[1], color='C1',\n",
    "         label=r\"$\\langle e_1 \\mid \\rho \\mid e_1 \\rangle$\")\n",
    "plt.plot(times2, MCSol2.average_expect[1], 'x', color='C1')\n",
    "plt.fill_between(\n",
    "    times2,\n",
    "    MCSol2.average_expect[1] - MCSol2.std_expect[1] / np.sqrt(ntraj),\n",
    "    MCSol2.average_expect[1] + MCSol2.std_expect[1] / np.sqrt(ntraj),\n",
    "    alpha=0.2, color='C1'\n",
    ")\n",
    "\n",
    "plt.plot(times2, MESol2.expect[2], color='C2',\n",
    "         label=r\"$\\langle e_2 \\mid \\rho \\mid e_2 \\rangle$\")\n",
    "plt.plot(times2, MCSol2.average_expect[2], 'x', color='C2')\n",
    "plt.fill_between(\n",
    "    times2,\n",
    "    MCSol2.average_expect[2] - MCSol2.std_expect[2] / np.sqrt(ntraj),\n",
    "    MCSol2.average_expect[2] + MCSol2.std_expect[2] / np.sqrt(ntraj),\n",
    "    alpha=0.2, color='C2'\n",
    ")\n",
    "\n",
    "plt.plot(times2, np.ones_like(times2), color=\"0.5\",\n",
    "         label=r\"$\\operatorname{tr} \\rho$\")\n",
    "plt.plot(times2, MCSol2.average_trace, \"x\", color=\"0.5\")\n",
    "plt.fill_between(\n",
    "    times2,\n",
    "    MCSol2.average_trace - MCSol2.std_trace / np.sqrt(ntraj),\n",
    "    MCSol2.average_trace + MCSol2.std_trace / np.sqrt(ntraj),\n",
    "    alpha=0.2, color=\"0.5\"\n",
    ")\n",
    "\n",
    "plt.xlabel(r\"$t$\")\n",
    "plt.ylabel('Expectation values')\n",
    "plt.legend()\n",
    "\n",
    "plt.show()"
   ]
  },
  {
   "cell_type": "markdown",
   "id": "3127060e",
   "metadata": {},
   "source": [
    "When computing a quantity such as the expectation value of $H$ with `nm_mcsolve`, the solver first computes that quantity along each trajectory and then averages over the trajectory values, weighing each trajectory with the value of the associated influence martingale $\\mu$. In the plot below, we show the evolution of this expectation value along a number of individual trajectories. (The plots do not include the martingale weight; therefore, the vertical axis is labelled as $\\langle H \\rangle\\, /\\, \\mu$.) The shading of the lines in this plot represent the value of the martingale. The solid red line is the exact value of $\\langle H \\rangle$, which would be obtained by averaging $( \\langle H \\rangle\\, /\\, \\mu )$ with weights $\\mu$ over sufficiently many trajectories.\n",
    "\n",
    "The plot shows that the number of trajectories contributing to the average declines rapidly, due to two effects. First, jumps with the jump operators $L_1$ or $L_2$ bring the system into the ground state. A trajectory that enters the ground state at any time cannot leave it again. Second, the solver adds a third jump channel with zero jump rate. A jump in this channel sets the martingale of the corresponding trajectory to zero for the remainder of the time. In the plot below, we visualize this effect by making the trajectories stop before the end of the time interval.\n",
    "\n",
    "If $\\langle H \\rangle$ went to zero, a declining number of contributing trajectories would not be an issue. However, due to the negative rates, the ensemble average does not converge to $|0\\rangle\\langle 0|$. Therefore, the weights of the remaining contributing trajectories (as indicated by their shading) must grow rapidly to counteract the non-contributing trajectories, leading to a rapidly growing error because of insufficient sampling of such trajectories.\n",
    "\n",
    "Note that the trajectories are plotted with a small offset since otherwise, they would overlap."
   ]
  },
  {
   "cell_type": "code",
   "execution_count": null,
   "id": "27280170",
   "metadata": {},
   "outputs": [],
   "source": [
    "# Adapted from matplotlib tutorial,\n",
    "# https://matplotlib.org/stable/gallery/lines_bars_and_markers/multicolored_line.html\n",
    "\n",
    "# --- Settings ---\n",
    "# Lines are plotted w/ offset, spread is difference between max and min offset\n",
    "spread = 0.015\n",
    "N = 150  # Number of trajectories\n",
    "# ----------------\n",
    "\n",
    "all_traces = [np.abs(tr) for traj in MCSol2.trajectories[0:N]\n",
    "              for tr in traj.trace if np.abs(tr) > 0]\n",
    "min_martingale = min(all_traces)\n",
    "max_martingale = max(all_traces)\n",
    "\n",
    "fig = plt.figure()\n",
    "ax = fig.add_subplot(1, 1, 1)\n",
    "norm = LogNorm(min_martingale, max_martingale)\n",
    "\n",
    "for i, traj in enumerate(MCSol2.trajectories[0:N]):\n",
    "    offset = -spread / 2 + spread * i / N\n",
    "\n",
    "    traj_defined = np.abs(traj.trace) > 0\n",
    "    traj_times = times2[traj_defined]\n",
    "    traj_trace = np.array(traj.trace)[traj_defined]\n",
    "    traj_ex0 = traj.expect[0][traj_defined] / traj_trace\n",
    "    traj_ex1 = traj.expect[1][traj_defined] / traj_trace\n",
    "    traj_ex2 = traj.expect[2][traj_defined] / traj_trace\n",
    "    traj_exH = omeg1 * traj_ex1 + omeg2 * traj_ex2\n",
    "\n",
    "    points = np.array([traj_times, traj_exH + offset]).T.reshape(-1, 1, 2)\n",
    "    segments = np.concatenate([points[:-1], points[1:]], axis=1)\n",
    "    colors = np.abs(traj_trace[:-1])\n",
    "\n",
    "    lc = LineCollection(segments, cmap='PuBu', norm=norm)\n",
    "    lc.set_array(colors)\n",
    "    line = ax.add_collection(lc)\n",
    "\n",
    "ax.plot(times2, omeg1 * MESol2.expect[1] + omeg2 * MESol2.expect[2],\n",
    "        color='red', label=r\"$\\langle H \\rangle$ (exact)\")\n",
    "ax.plot(times2,\n",
    "        omeg1 * MCSol2.average_expect[1] + omeg2 * MCSol2.average_expect[2],\n",
    "        color='blue', label=r\"$\\langle H \\rangle$ (MC)\")\n",
    "ax.legend()\n",
    "\n",
    "fig.colorbar(line, ax=ax, label=r\"Martingale $\\mu$\")\n",
    "ax.set_xlabel(r\"$t$\")\n",
    "ax.set_xlim(times2[0], times2[-1])\n",
    "ax.set_ylabel(r\"$\\langle H \\rangle\\, /\\, \\mu$\")\n",
    "ax.set_ylim(-0.02, 0.22)\n",
    "plt.show()"
   ]
  },
  {
   "cell_type": "markdown",
   "id": "4d7b60eb",
   "metadata": {},
   "source": [
    "### Monte Carlo Simulations on Computing Clusters via MPI\n",
    "\n",
    "To improve the convergence behavior of the example above at long times, many trajectories are needed.\n",
    "We use this fact as a motivation to demonstrate QuTiP's MPI capabilities.\n",
    "On the QuTiP side, running Monte Carlo simulations on massively parallel infrastructure through MPI is as easy as replacing `'map': 'parallel'` by `'map': 'mpi'` in the provided options.\n",
    "QuTiP will then use the `MPIPoolExecutor` provided by the `mpi4py` module to simulate the trajectories in parallel.\n",
    "Such calculations can typically not be started from within a Jupyter notebook.\n",
    "The code below is an example for a standalone script that could be submitted to a job scheduler on a supercomputer.\n",
    "\n",
    "```python\n",
    "# Beginning of `qutip-mpi-example.py` file\n",
    "import numpy as np\n",
    "import qutip as qt\n",
    "\n",
    "# --- SETTINGS ---\n",
    "# Maximum number of MPI worker processes that can be used\n",
    "NUM_WORKER_PROCESSES = 500\n",
    "# Create batches averaged over this number of trajectories\n",
    "BATCH_SIZE = 1000\n",
    "# Create this number of batches\n",
    "# (total number of trajectories is BATCH_SIZE * NUM_BATCHES)\n",
    "NUM_BATCHES = 500\n",
    "\n",
    "\n",
    "def setup_system():\n",
    "    omeg1, omeg2 = 0.25, 0.5\n",
    "    gam1, gam2, alpha, kappa = 1, 4, 3, 1\n",
    "    lamb1 = (gam1 + gam2) / 4 - np.sqrt((gam1**2 + gam2**2 + 8 * kappa**2) / 8)\n",
    "    lamb2 = (gam1 + gam2) / 4 + np.sqrt((gam1**2 + gam2**2 + 8 * kappa**2) / 8)\n",
    "\n",
    "    L1 = qt.Qobj(np.array([[0, 0, 0, 0], [1, 0, 0, 0], [0, 0, 0, 0], [0, 0, 1, 0]])).dag()\n",
    "    L2 = qt.Qobj(np.array([[0, 0, 0, 0], [0, 0, 0, 0], [1, 0, 0, 0], [0, 1, 0, 0]])).dag()\n",
    "    norm1 = np.sqrt(1 + (gam2 - gam1 + np.sqrt(2) * np.sqrt(gam1**2 + gam2**2 + 8*kappa**2))**2 / ((gam1 + gam2) ** 2 + 16 * kappa**2))\n",
    "    norm2 = np.sqrt(1 + (gam2 - gam1 - np.sqrt(2) * np.sqrt(gam1**2 + gam2**2 + 8*kappa**2))**2 / ((gam1 + gam2) ** 2 + 16 * kappa**2))\n",
    "    Udag = qt.Qobj(np.array([\n",
    "        [(gam1 - gam2 - np.sqrt(2) * np.sqrt(gam1**2 + gam2**2 + 8*kappa**2)) / (gam1 + gam2 + 4j*kappa) / norm1,\n",
    "         (gam1 - gam2 + np.sqrt(2) * np.sqrt(gam1**2 + gam2**2 + 8*kappa**2)) / (gam1 + gam2 + 4j*kappa) / norm2],\n",
    "        [1 / norm1,\n",
    "         1 / norm2]\n",
    "    ])).dag()\n",
    "    sigmam1 = Udag[0, 0] * L1 + Udag[1, 0] * L2\n",
    "    sigmam2 = Udag[0, 1] * L1 + Udag[1, 1] * L2\n",
    "    sigmap1 = sigmam1.dag()\n",
    "    sigmap2 = sigmam2.dag()\n",
    "\n",
    "    H = ((omeg1 + alpha) * sigmap1 * sigmam1\n",
    "         + (omeg2 + alpha + kappa) * sigmap2 * sigmam2\n",
    "         + (alpha + kappa / 2 - 1j * (gam1 - gam2) / 8) * sigmap2 * sigmam1\n",
    "         + (alpha + kappa / 2 - 1j * (gam2 - gam1) / 8) * sigmap1 * sigmam2)\n",
    "    psi0 = np.sqrt(0.4) * qt.basis(4, 0) + np.sqrt(0.4) * qt.basis(4, 1) + np.sqrt(0.2) * qt.basis(4, 2)\n",
    "    ops_and_rates = [[L1, lamb1], [L2, lamb2]]\n",
    "\n",
    "    return H, psi0, ops_and_rates\n",
    "\n",
    "\n",
    "def main():\n",
    "    times = np.linspace(0, 10, 250)\n",
    "    H, psi0, ops_and_rates = setup_system()\n",
    "\n",
    "    for i in range(NUM_BATCHES):\n",
    "        result = qt.nm_mcsolve(H, psi0, times, ops_and_rates, ntraj=BATCH_SIZE,\n",
    "                               options={'store_states': True,\n",
    "                                        'progress_bar': False,\n",
    "                                        'map': 'mpi',\n",
    "                                        'num_cpus': NUM_WORKER_PROCESSES,\n",
    "                                        'norm_steps': 10}\n",
    "                              )\n",
    "        qt.qsave(result, f\"./result-{i}\")\n",
    "\n",
    "\n",
    "if __name__ == \"__main__\":\n",
    "    main()\n",
    "```"
   ]
  },
  {
   "cell_type": "markdown",
   "id": "d2041e68",
   "metadata": {},
   "source": [
    "How to run this script in practice will depend on your infrastructure.\n",
    "Some guidance is provided on the [mpi4py.futures users' guide](https://mpi4py.readthedocs.io/en/stable/mpi4py.futures.html).\n",
    "The authors of this tutorial used the batch script below to submit the task to a SLURM workload manager on the supercomputer [HOKUSAI](https://www.r-ccs.riken.jp/exhibit_contents/SC20/hokusai.html), using the [MPICH](https://www.mpich.org) implementation of the MPI standard.\n",
    "Using 501 CPU cores (1 manager and 500 workers) distributed over 5 nodes on this supercomputer, the task executed in approximately 50 minutes, generating 500k trajectories.\n",
    "\n",
    "```bash\n",
    "#!/bin/bash\n",
    "#SBATCH --partition=XXXXX\n",
    "#SBATCH --account=XXXXX\n",
    "\n",
    "#SBATCH --nodes=5\n",
    "#SBATCH --ntasks=501\n",
    "#SBATCH --mem-per-cpu=1G\n",
    "\n",
    "#SBATCH --time=0-10:00\n",
    "\n",
    "source ~/.bashrc\n",
    "\n",
    "module purge\n",
    "module load mpi/mpich-x86_64\n",
    "conda activate qutip-environment\n",
    "\n",
    "mpirun -np $SLURM_NTASKS -bind-to core python -m mpi4py.futures qutip-mpi-example.py\n",
    "```\n",
    "\n",
    "The code above generates a number of result files.\n",
    "Copy these files into an `mpi_results` folder to execute the following code.\n",
    "We will first plot the averaged result like above."
   ]
  },
  {
   "cell_type": "code",
   "execution_count": null,
   "id": "4429d115",
   "metadata": {},
   "outputs": [],
   "source": [
    "# copied from script above\n",
    "BATCH_SIZE = 1000\n",
    "times3 = np.linspace(0, 10, 250)\n",
    "\n",
    "# load all available result files\n",
    "results_folder_exists = os.path.isdir('mpi_results')\n",
    "if results_folder_exists:\n",
    "    batches = []\n",
    "    while True:\n",
    "        i = len(batches)\n",
    "        filename = f'mpi_results/result-{i}'\n",
    "        if not os.path.exists(f'{filename}.qu'):\n",
    "            break\n",
    "        batches.append(qt.qload(filename))\n",
    "    NUM_BATCHES = len(batches)\n",
    "\n",
    "# combine result files\n",
    "if results_folder_exists and NUM_BATCHES > 0:\n",
    "    combined_result = sum(batches[1:], start=batches[0])\n",
    "    exact_solution = qt.mesolve(H, psi0, times3, d_ops, options=options)"
   ]
  },
  {
   "cell_type": "code",
   "execution_count": null,
   "id": "cb184681",
   "metadata": {},
   "outputs": [],
   "source": [
    "if results_folder_exists and NUM_BATCHES > 0:\n",
    "    plt.plot(times3, qt.expect(exact_solution.states, eops[0]),\n",
    "             color='C0', label=r\"$\\langle e_0 \\mid \\rho \\mid e_0 \\rangle$\")\n",
    "    plt.plot(times3, qt.expect(combined_result.states, eops[0]),\n",
    "             'x', color='C0')\n",
    "\n",
    "    plt.plot(times3,  qt.expect(exact_solution.states, eops[1]),\n",
    "             color='C1', label=r\"$\\langle e_1 \\mid \\rho \\mid e_1 \\rangle$\")\n",
    "    plt.plot(times3, qt.expect(combined_result.states, eops[1]),\n",
    "             'x', color='C1')\n",
    "\n",
    "    plt.plot(times3, qt.expect(exact_solution.states, eops[2]),\n",
    "             color='C2', label=r\"$\\langle e_2 \\mid \\rho \\mid e_2 \\rangle$\")\n",
    "    plt.plot(times3, qt.expect(combined_result.states, eops[2]),\n",
    "             'x', color='C2')\n",
    "\n",
    "    plt.xlabel(r\"$t$\")\n",
    "    plt.xlim((0, 5))\n",
    "    plt.ylabel('Expectation values')\n",
    "    plt.ylim((-.1, .7))\n",
    "    plt.legend()\n",
    "\n",
    "    plt.show()\n",
    "\n",
    "else:\n",
    "    print('No result files found.')"
   ]
  },
  {
   "cell_type": "markdown",
   "id": "232a36f6",
   "metadata": {},
   "source": [
    "We can now do the following analysis, adopted from Ref. [\\[6\\]](#References).\n",
    "\n",
    "Let $k \\leq N$, where $N$ is the total number of trajectories.\n",
    "Let $I = [0, 10]$ be the total considered time interval, and let\n",
    "$$ I_k = \\{ t \\in I : \\lVert \\rho_{\\text{MC},k} - \\rho_{\\text{exact}} \\rVert \\leq 0.1 \\} . $$\n",
    "Here, $\\rho_{\\text{MC},k}$ is the estimated state using only $k$ trajectories.\n",
    "We plot $\\mu(I_k)$ as a function of $k$, where $\\mu(I_k)$ is the measure of the set $I_k$."
   ]
  },
  {
   "cell_type": "code",
   "execution_count": null,
   "id": "9f3f27c1",
   "metadata": {},
   "outputs": [],
   "source": [
    "if results_folder_exists and NUM_BATCHES > 0:\n",
    "    result = {}\n",
    "    progress = qt.ui.TqdmProgressBar(NUM_BATCHES)\n",
    "\n",
    "    for k, batch in enumerate(batches):\n",
    "        # average of the batches up to index k\n",
    "        if k == 0:\n",
    "            average = batch\n",
    "        else:\n",
    "            average = average + batch\n",
    "\n",
    "        # how many points are close to the exact solution\n",
    "        diff = [(mc - exact).norm()\n",
    "                for mc, exact in zip(average.states, exact_solution.states)]\n",
    "        good_points = np.count_nonzero(  # count 'True' entries\n",
    "            np.isclose(diff, np.zeros_like(diff), rtol=0, atol=0.1)\n",
    "        )\n",
    "\n",
    "        num_trajectories = (k + 1) * BATCH_SIZE\n",
    "        result.update({num_trajectories: good_points / len(times3)})\n",
    "        progress.update()\n",
    "\n",
    "    progress.finished()\n",
    "    xval = np.array(list(result.keys()))\n",
    "    yval = np.array(list(result.values()))\n",
    "\n",
    "    fit = np.polyfit(np.log(xval), yval, 1)\n",
    "    print(('Approximate number of trajectories required for convergence until '\n",
    "           'time t (according to linear fit):\\n'\n",
    "           f'N = {np.exp(-fit[1] / fit[0]):.2f} * '\n",
    "           f'exp( {1 / fit[0] / times3[-1]:.2f} * t )\\n'))\n",
    "\n",
    "    plt.semilogx(xval, yval, label='Simulation result')\n",
    "    plt.semilogx(xval, fit[0] * np.log(xval) + fit[1], '--', label='Fit')\n",
    "    plt.xlabel('Number of trajectories, $k$')\n",
    "    plt.ylabel(r'$\\mu(I_k)$')\n",
    "    plt.legend()\n",
    "    plt.show()\n",
    "\n",
    "else:\n",
    "    print('No result files found.')"
   ]
  },
  {
   "cell_type": "markdown",
   "id": "0b1bcaf0",
   "metadata": {},
   "source": [
    "### References\n",
    "\n",
    "\\[1\\] [Donvil and Muratore-Ginanneschi, Nat Commun (2022)](https://www.nature.com/articles/s41467-022-31533-8).  \n",
    "\\[2\\] [Donvil and Muratore-Ginanneschi, arXiv:2209.08958 \\[quant-ph\\]](https://arxiv.org/abs/2209.08958).  \n",
    "\\[3\\] [John and Quang, Phys. Rev. A (1994)](https://journals.aps.org/pra/abstract/10.1103/PhysRevA.50.1764).  \n",
    "\\[4\\] Breuer and Petruccione, *The Theory of Open Quantum Systems*.  \n",
    "\\[5\\] [Mozgunov and Lidar, Quantum (2020)](https://quantum-journal.org/papers/q-2020-02-06-227/).  \n",
    "\\[6\\] [Menczel *et al.*, arXiv:2401.11830 \\[quant-ph\\]](https://arxiv.org/abs/2401.11830)."
   ]
  },
  {
   "cell_type": "markdown",
   "id": "c982ba87",
   "metadata": {},
   "source": [
    "### About"
   ]
  },
  {
   "cell_type": "code",
   "execution_count": null,
   "id": "94e850c1",
   "metadata": {},
   "outputs": [],
   "source": [
    "qt.about()"
   ]
  },
  {
   "cell_type": "markdown",
   "id": "2b747372",
   "metadata": {},
   "source": [
    "### Testing"
   ]
  },
  {
   "cell_type": "code",
   "execution_count": null,
   "id": "1f69b144",
   "metadata": {},
   "outputs": [],
   "source": [
    "# -- first example --\n",
    "\n",
    "assert np.any(np.array([Gamma(t) for t in times]) < 0)\n",
    "\n",
    "np.testing.assert_array_less(MESol.expect[0][1:] / 2, 1)\n",
    "np.testing.assert_array_less(0, MESol.expect[0] / 2)\n",
    "\n",
    "np.testing.assert_allclose(MCSol.trace, 1, atol=0, rtol=0.25)\n",
    "np.testing.assert_allclose(MCSol.expect[0], MESol.expect[0], atol=0, rtol=0.25)"
   ]
  },
  {
   "cell_type": "code",
   "execution_count": null,
   "id": "7ac7ce16",
   "metadata": {},
   "outputs": [],
   "source": [
    "# -- second example --\n",
    "\n",
    "MAX_TIME = 1\n",
    "\n",
    "mc_ex0 = MCSol2.average_expect[0][times2 <= 1]\n",
    "me_ex0 = MESol2.expect[0][times2 <= 1]\n",
    "np.testing.assert_allclose(mc_ex0, me_ex0, atol=0.2, rtol=0)\n",
    "\n",
    "mc_ex1 = MCSol2.average_expect[1][times2 <= 1]\n",
    "me_ex1 = MESol2.expect[1][times2 <= 1]\n",
    "np.testing.assert_allclose(mc_ex1, me_ex1, atol=0.2, rtol=0)\n",
    "\n",
    "mc_ex2 = MCSol2.average_expect[2][times2 <= 1]\n",
    "me_ex2 = MESol2.expect[2][times2 <= 1]\n",
    "np.testing.assert_allclose(mc_ex2, me_ex2, atol=0.2, rtol=0)"
   ]
  }
 ],
 "metadata": {
  "jupytext": {
   "cell_metadata_filter": "-all",
   "notebook_metadata_filter": "-jupytext.cell_metadata_filter,-jupytext.notebook_metadata_filter"
  },
  "kernelspec": {
   "display_name": "Python 3 (ipykernel)",
   "language": "python",
   "name": "python3"
  }
 },
 "nbformat": 4,
 "nbformat_minor": 5
}
