{
 "cells": [
  {
   "cell_type": "markdown",
   "id": "25d3e33e",
   "metadata": {},
   "source": [
    "# Stochastic Solver: Photo-current detection in a JC model"
   ]
  },
  {
   "cell_type": "markdown",
   "id": "8a54ec10",
   "metadata": {},
   "source": [
    "Copyright (C) 2011 and later, Paul D. Nation & Robert J. Johansson"
   ]
  },
  {
   "cell_type": "code",
   "execution_count": null,
   "id": "2feae7c5",
   "metadata": {},
   "outputs": [],
   "source": [
    "import matplotlib.pyplot as plt\n",
    "import numpy as np\n",
    "from matplotlib import rcParams\n",
    "from qutip import about, destroy, fock, identity, liouvillian, mcsolve, mesolve\n",
    "\n",
    "%matplotlib inline\n",
    "rcParams[\"font.family\"] = \"STIXGeneral\"\n",
    "rcParams[\"mathtext.fontset\"] = \"stix\"\n",
    "rcParams[\"font.size\"] = \"14\""
   ]
  },
  {
   "cell_type": "code",
   "execution_count": null,
   "id": "4e47197d",
   "metadata": {},
   "outputs": [],
   "source": [
    "N = 15\n",
    "w0 = 1.0 * 2 * np.pi\n",
    "g = 0.2 * 2 * np.pi\n",
    "times = np.linspace(0, 15, 151)\n",
    "dt = times[1] - times[0]\n",
    "gamma = 0.01\n",
    "kappa = 0.1\n",
    "ntraj = 150"
   ]
  },
  {
   "cell_type": "code",
   "execution_count": null,
   "id": "4ff4e38e",
   "metadata": {},
   "outputs": [],
   "source": [
    "a = destroy(N) & identity(2)\n",
    "sm = identity(N) & destroy(2)"
   ]
  },
  {
   "cell_type": "code",
   "execution_count": null,
   "id": "b1a62f1c",
   "metadata": {},
   "outputs": [],
   "source": [
    "H = w0 * a.dag() * a + w0 * sm.dag() * sm + g * (sm * a.dag() + sm.dag() * a)"
   ]
  },
  {
   "cell_type": "code",
   "execution_count": null,
   "id": "dadbd2b4",
   "metadata": {},
   "outputs": [],
   "source": [
    "rho0 = fock(N, 5) & fock(2, 0)"
   ]
  },
  {
   "cell_type": "code",
   "execution_count": null,
   "id": "39ce8eea",
   "metadata": {},
   "outputs": [],
   "source": [
    "e_ops = [a.dag() * a, a + a.dag(), sm.dag() * sm]"
   ]
  },
  {
   "cell_type": "markdown",
   "id": "7d522368",
   "metadata": {},
   "source": [
    "### Highly efficient detection"
   ]
  },
  {
   "cell_type": "code",
   "execution_count": null,
   "id": "361ab1b8",
   "metadata": {},
   "outputs": [],
   "source": [
    "c_ops = [np.sqrt(gamma) * sm]  # collapse operator for qubit\n",
    "sc_ops = [np.sqrt(kappa) * a]  # stochastic collapse for resonator"
   ]
  },
  {
   "cell_type": "code",
   "execution_count": null,
   "id": "502a06fe",
   "metadata": {},
   "outputs": [],
   "source": [
    "result_ref = mesolve(H, rho0, times, c_ops + sc_ops, e_ops)"
   ]
  },
  {
   "cell_type": "code",
   "execution_count": null,
   "id": "dd0c9d29",
   "metadata": {},
   "outputs": [],
   "source": [
    "result1 = mcsolve(\n",
    "    liouvillian(H, c_ops),\n",
    "    rho0,\n",
    "    times,\n",
    "    sc_ops,\n",
    "    e_ops=e_ops,\n",
    "    ntraj=1,\n",
    "    options={\"store_states\": True},\n",
    ")"
   ]
  },
  {
   "cell_type": "markdown",
   "id": "73778ee3",
   "metadata": {},
   "source": [
    "Run the `smesolve` solver in parallel by passing the keyword argument `map_func=parallel_map`:"
   ]
  },
  {
   "cell_type": "code",
   "execution_count": null,
   "id": "4e7cc4cd",
   "metadata": {},
   "outputs": [],
   "source": [
    "result2 = mcsolve(\n",
    "    liouvillian(H, c_ops),\n",
    "    rho0,\n",
    "    times,\n",
    "    sc_ops,\n",
    "    e_ops=e_ops,\n",
    "    ntraj=ntraj,\n",
    "    options={\"store_states\": True, \"map\": \"parallel\"},\n",
    ")"
   ]
  },
  {
   "cell_type": "code",
   "execution_count": null,
   "id": "3313b834",
   "metadata": {},
   "outputs": [],
   "source": [
    "fig, axes = plt.subplots(2, 3, figsize=(16, 8), sharex=True)\n",
    "\n",
    "axes[0, 0].plot(\n",
    "    times, result1.expect[0], label=r\"Stochastic ME (ntraj = 1)\", lw=2\n",
    ")\n",
    "axes[0, 0].plot(times, result_ref.expect[0], label=r\"Lindblad ME\", lw=2)\n",
    "axes[0, 0].set_title(\"Cavity photon number (ntraj = 1)\")\n",
    "axes[0, 0].legend()\n",
    "\n",
    "axes[1, 0].plot(\n",
    "    times, result2.expect[0], label=r\"Stochatic ME (ntraj = %d)\" % ntraj, lw=2\n",
    ")\n",
    "axes[1, 0].plot(times, result_ref.expect[0], label=r\"Lindblad ME\", lw=2)\n",
    "axes[1, 0].set_title(\"Cavity photon number (ntraj = 10)\")\n",
    "axes[1, 0].legend()\n",
    "\n",
    "\n",
    "axes[0, 1].plot(\n",
    "    times, result1.expect[2], label=r\"Stochastic ME (ntraj = 1)\", lw=2\n",
    ")\n",
    "axes[0, 1].plot(times, result_ref.expect[2], label=r\"Lindblad ME\", lw=2)\n",
    "axes[0, 1].set_title(\"Qubit excition probability (ntraj = 1)\")\n",
    "axes[0, 1].legend()\n",
    "\n",
    "axes[1, 1].plot(\n",
    "    times, result2.expect[2], label=r\"Stochatic ME (ntraj = %d)\" % ntraj, lw=2\n",
    ")\n",
    "axes[1, 1].plot(times, result_ref.expect[2], label=r\"Lindblad ME\", lw=2)\n",
    "axes[1, 1].set_title(\"Qubit excition probability (ntraj = %d)\" % ntraj)\n",
    "axes[1, 1].legend()\n",
    "\n",
    "\n",
    "axes[0, 2].step(times[1:], dt * np.cumsum(result1.photocurrent[0]), lw=2)\n",
    "axes[0, 2].set_title(\"Cummulative photon detections (ntraj = 1)\")\n",
    "axes[1, 2].step(times[1:], dt * np.cumsum(result2.photocurrent[0]), lw=2)\n",
    "axes[1, 2].set_title(\"Cummulative avg. photon detections (ntraj = %d)\" % ntraj)\n",
    "\n",
    "fig.tight_layout()"
   ]
  },
  {
   "cell_type": "markdown",
   "id": "f9b6d63d",
   "metadata": {},
   "source": [
    "## Versions"
   ]
  },
  {
   "cell_type": "code",
   "execution_count": null,
   "id": "4ed315d1",
   "metadata": {},
   "outputs": [],
   "source": [
    "about()"
   ]
  }
 ],
 "metadata": {
  "jupytext": {
   "cell_metadata_filter": "-all",
   "notebook_metadata_filter": "-jupytext.cell_metadata_filter,-jupytext.notebook_metadata_filter"
  },
  "kernelspec": {
   "display_name": "Python 3 (ipykernel)",
   "language": "python",
   "name": "python3"
  }
 },
 "nbformat": 4,
 "nbformat_minor": 5
}
