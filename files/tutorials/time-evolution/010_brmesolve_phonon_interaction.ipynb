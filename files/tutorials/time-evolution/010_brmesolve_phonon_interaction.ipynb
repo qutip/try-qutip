{
 "cells": [
  {
   "cell_type": "markdown",
   "id": "f43d981e",
   "metadata": {},
   "source": [
    "# Bloch-Redfield Solver: Phonon-assisted initialization\n",
    "\n",
    "Author: K.A. Fischer, Stanford University\n",
    "\n",
    "This Jupyter notebook demonstrates how to use the time-dependent Bloch-Redfield master equation solver to simulate the phonon-assisted initialization of a quantum dot, using QuTiP: The Quantum Toolbox in Python. The purpose is to show how environmentally-driven dissipative interactions can be leveraged to initialize a quantum dot into its excited state. This notebook closely follows the work, <a href=\"https://arxiv.org/abs/1409.6014\">Dissipative preparation of the exciton and biexciton in self-assembled quantum\n",
    "dots on picosecond time scales</a>, Phys. Rev. B 90, 241404(R) (2014).\n",
    "\n",
    "For more information about QuTiP see the project web page: http://qutip.org/ "
   ]
  },
  {
   "cell_type": "code",
   "execution_count": null,
   "id": "72605792",
   "metadata": {},
   "outputs": [],
   "source": [
    "import itertools\n",
    "\n",
    "import matplotlib.pyplot as plt\n",
    "import numpy as np\n",
    "from qutip import (about, fock, parallel_map, sigmam, BRSolver,\n",
    "                   QobjEvo, coefficient)\n",
    "\n",
    "%matplotlib inline\n",
    "%config InlineBackend.figure_format = 'retina'"
   ]
  },
  {
   "cell_type": "markdown",
   "id": "9640cc75",
   "metadata": {},
   "source": [
    "## Introduction\n",
    "\n",
    "The quantum two-level system (TLS) is the simplest possible model to describe the quantum light-matter interaction between light and an artificial atom (quantum dot). While the version in the paper (both experiment and simulation) used a three-level system model, I decided to show only a TLS model here to minimize the notebook's runtime.\n",
    "\n",
    "In the version we simulate here, the system is driven by a continuous-mode coherent state, whose dipolar interaction with the system is represented by the following Hamiltonain\n",
    "\n",
    "$$ H =\\hbar \\omega_0 \\sigma^\\dagger \\sigma + \\frac{\\hbar\\Omega(t)}{2}\\left( \\sigma\\textrm{e}^{-i\\omega_dt} + \\sigma^\\dagger \\textrm{e}^{i\\omega_dt}\\right),$$\n",
    "\n",
    "where $\\omega_0$ is the system's transition frequency, $\\sigma$ is the system's atomic lowering operator, $\\omega_d$ is the coherent state's center frequency, and $\\Omega(t)$ is the coherent state's driving strength.\n",
    "\n",
    "The time-dependence can be removed to simplify the simulation by a rotating frame transformation. Then,\n",
    "\n",
    "$$ H_r =\\hbar \\left(\\omega_0-\\omega_d\\right) \\sigma^\\dagger \\sigma + \\frac{\\hbar\\Omega(t)}{2}\\left( \\sigma+ \\sigma^\\dagger \\right).$$\n",
    "\n",
    "Additionally, the quantum dot exists in a solid-state matrix, where environmental interactions are extremely important. In particular, the coupling between acoustic phonons and the artifical atom leads to important dephasing effects. While the collapse operators of the quantum-optical master equation can be used to phenomenologically model these effects, they do not necessarily provide any direct connection to the underlying physics of the system-environmental interaction.\n",
    "\n",
    "Instead, the Bloch-Redfield master equation allows for a direct connection between the quantum dynamics and the underlying physical interaction mechanism. Furthermore, the interaction strengths can be derived from first principles and can include complex power-dependences, such as those that exist in the quantum-dot-phonon interaction. Though we note that there are important non-Markovian effects which are now being investigated, e.g. in the paper <a href=\"https://journals.aps.org/prb/abstract/10.1103/PhysRevB.95.201305\">Limits to coherent scattering and photon coalescence from solid-state quantum emitters</a>, Phys. Rev. B 95, 201305(R) (2017)."
   ]
  },
  {
   "cell_type": "markdown",
   "id": "d4f1cd84",
   "metadata": {},
   "source": [
    "### Problem parameters\n",
    "\n",
    "Note, we use units where $\\hbar=1$."
   ]
  },
  {
   "cell_type": "code",
   "execution_count": null,
   "id": "f8d47095",
   "metadata": {},
   "outputs": [],
   "source": [
    "# pulse area\n",
    "n_Pi = 13\n",
    "\n",
    "# driving strengths\n",
    "Om_list = np.linspace(0.001, n_Pi, 80)\n",
    "# laser offsets in meV\n",
    "wd_list_e = np.array([-1, 0, 1])\n",
    "# laser offsets in angular frequency\n",
    "wd_list = wd_list_e * 1.5\n",
    "# simulation time with tmax ~ 2x FWHM\n",
    "tlist = np.linspace(0, 50, 40)\n",
    "\n",
    "# normalized Gaussian pulse shape, ~10ps long in energy\n",
    "t0 = 17 / (2 * np.sqrt(2 * np.log(2)))\n",
    "pulse_shape = \"0.0867 * exp(-(t - 24) ** 2 / (2 * {0} ** 2))\".format(t0)"
   ]
  },
  {
   "cell_type": "markdown",
   "id": "d252c518",
   "metadata": {},
   "source": [
    "### Setup the operators, Hamiltonian, and initial state"
   ]
  },
  {
   "cell_type": "code",
   "execution_count": null,
   "id": "96352906",
   "metadata": {},
   "outputs": [],
   "source": [
    "# initial state\n",
    "psi0 = fock(2, 1)  # ground state\n",
    "\n",
    "# system's atomic lowering operator\n",
    "sm = sigmam()\n",
    "\n",
    "# Hamiltonian components\n",
    "H_S = -sm.dag() * sm  # self-energy, varies with drive frequency\n",
    "H_I = sm + sm.dag()\n",
    "\n",
    "# we ignore spontaneous emission since the pulse is much faster than\n",
    "# the decay time\n",
    "c_ops = []"
   ]
  },
  {
   "cell_type": "markdown",
   "id": "ca662fb8",
   "metadata": {},
   "source": [
    "Below, we define the terms specific to the Bloch-Redfield solver's system-environmental coupling. The quantum dot couples to acoustic phonons in its solid-state environment through a dispersive electron-phonon interaction of the form\n",
    "\n",
    "$$ H_\\textrm{phonon}=\\hbar J(\\omega)\\sigma^\\dagger \\sigma,$$\n",
    "\n",
    "where $J(\\omega)$ is the spectral density of the coupling."
   ]
  },
  {
   "cell_type": "code",
   "execution_count": null,
   "id": "01953913",
   "metadata": {},
   "outputs": [],
   "source": [
    "# operator that couples the quantum dot to acoustic phonons\n",
    "a_op = sm.dag() * sm\n",
    "\n",
    "# This spectrum is a displaced gaussian multiplied by w^3, which\n",
    "# models coupling to LA phonons. The electron and hole\n",
    "# interactions contribute constructively.\n",
    "\n",
    "\n",
    "# fitting parameters ae/ah\n",
    "ah = 1.9e-9  # m\n",
    "ae = 3.5e-9  # m\n",
    "# GaAs material parameters\n",
    "De = 7\n",
    "Dh = -3.5\n",
    "v = 5110  # m/s\n",
    "rho_m = 5370  # kg/m^3\n",
    "# Other Constants\n",
    "hbar = 1.05457173e-34  # Js\n",
    "T = 4.2  # Kelvin, temperature\n",
    "\n",
    "# constants for temperature dependence\n",
    "t1 = 0.6582119\n",
    "t2 = 0.086173\n",
    "\n",
    "# General J factor\n",
    "J = (\n",
    "    \"(1.6 * 1e-13 * w**3) / (4 * pi**2 * rho_m * hbar * v**5) * \"\n",
    "    + \"(De * exp(-(w * 1e12 * ae * 0.5 / v)**2) - \"\n",
    "    + \"Dh * exp(-(w * 1e12 * ah * 0.5 / v)**2))**2\"\n",
    ")\n",
    "\n",
    "# Term for positive frequencies\n",
    "JT_p = (\n",
    "    J\n",
    "    + \"* (1 + exp(-w*t1/(T*t2)) / \\\n",
    "          (1-exp(-w*t1/(T*t2))))\"\n",
    ")\n",
    "\n",
    "# Term for negative frequencies\n",
    "JT_m = (\n",
    "    \"-1.0* \"\n",
    "    + J\n",
    "    + \"* exp(w*t1/(T*t2)) / \\\n",
    "            (1-exp(w*t1/(T*t2)))\"\n",
    ")\n",
    "\n",
    "\n",
    "# define spectra with variable names\n",
    "spectra_cb = \"(w > 0) * \" + JT_p + \"+ (w < 0) * \" + JT_m\n",
    "\n",
    "# add a check for min size of w to avoid numerical problems\n",
    "spectra_cb = \"0 if (w > -1e-4 and w < 1e-4) else \" + spectra_cb\n",
    "\n",
    "# define string with numerical values expect for w\n",
    "constants = [\"ah\", \"ae\", \"De\", \"Dh\", \"v\", \"rho_m\", \"hbar\", \"T\", \"t1\", \"t2\"]\n",
    "spectra_cb_numerical = spectra_cb\n",
    "for c in constants:\n",
    "    # replace constants with numerical value\n",
    "    spectra_cb_numerical = spectra_cb_numerical.replace(c, str(eval(c)))"
   ]
  },
  {
   "cell_type": "markdown",
   "id": "aa9a105d",
   "metadata": {},
   "source": [
    "## Visualize the dot-phonon interaction spectrum\n",
    "\n",
    "$J(\\omega)$ has two components that give rise to its shape: a rising component due to the increasing acoustic phonon density of states and a roll-off that occurs due to the physical size of the quantum dot."
   ]
  },
  {
   "cell_type": "code",
   "execution_count": null,
   "id": "3ea72a3c",
   "metadata": {},
   "outputs": [],
   "source": [
    "# frequency list\n",
    "spec_list = np.linspace(-5, 10, 200)\n",
    "\n",
    "# define shortcuts to evaluate string\n",
    "pi = np.pi\n",
    "exp = np.exp\n",
    "\n",
    "# plot the spectrum J(w)\n",
    "plt.figure(figsize=(8, 5))\n",
    "plt.plot(spec_list, [eval(spectra_cb.replace(\"w\", str(_))) for _ in spec_list])\n",
    "plt.xlim(-5, 10)\n",
    "plt.xlabel(\"$\\\\omega$ [THz]\")\n",
    "plt.ylabel(\"$J(\\\\omega)$ [THz]\")\n",
    "plt.title(\"Quantum-dot-phonon interaction spectrum\");"
   ]
  },
  {
   "cell_type": "markdown",
   "id": "4ad8b716",
   "metadata": {},
   "source": [
    "## Calculate the pulse-system interaction dynamics\n",
    "\n",
    "The Bloch-Redfield master equation solver takes the Hamiltonian time-dependence in list-string format. We calculate the final population at the end of the interaction of the pulse with the system, which represents the population initialized into the excited state."
   ]
  },
  {
   "cell_type": "code",
   "execution_count": null,
   "id": "4c4231a4",
   "metadata": {},
   "outputs": [],
   "source": [
    "# we will calculate the dot population expectation value\n",
    "e_ops = [sm.dag() * sm]\n",
    "\n",
    "\n",
    "# initialize BRSolver\n",
    "H = QobjEvo([[H_S, 'wd'], [H_I, 'Om * ' + pulse_shape]],\n",
    "            args={'wd': 0.0, 'Om': 0.0})\n",
    "\n",
    "spectrum = coefficient(spectra_cb_numerical, args={'w': 0})\n",
    "solver = BRSolver(H, [[a_op, spectrum]])\n",
    "\n",
    "\n",
    "# define callback for parallelization\n",
    "def brme_step(args):\n",
    "    # extract coefficients for the Hamiltonian\n",
    "    args = {'wd': args[0], 'Om': args[1]}\n",
    "\n",
    "    # run the solver\n",
    "    res = solver.run(psi0, tlist, e_ops=e_ops, args=args)\n",
    "\n",
    "    # return population after the pulse interaction\n",
    "    return res.expect[0][-1]\n",
    "\n",
    "\n",
    "# use QuTiP's builtin parallelized for loop: parallel_map\n",
    "results = parallel_map(brme_step, list(itertools.product(wd_list, Om_list)))\n",
    "\n",
    "# unwrap the results into a 2d array\n",
    "inv_mat_X = np.array(results).reshape((len(wd_list), len(Om_list)))"
   ]
  },
  {
   "cell_type": "markdown",
   "id": "fd5b430e",
   "metadata": {},
   "source": [
    "### Visualize the quantum dot's initialization fidelity\n",
    "\n",
    "Below, consider the trace of excited state occupation for increasing pulse area at a detuning of $\\omega_d-\\omega_L=0$. Here, the oscillations represent the standard Rabi oscillations of a driven two-level system, damped for increasing pulse area by a Markovian-like dephasing. This damping could be represented with a power-dependent collapse operator in the normal quantum-optical master equation. However, for nonzero pulse detunings, the results are quite nontrivial and difficult to model with a collapse operator. Herein lies the power of the Bloch-Redfield approach: it captures the dephasing in a more natural basis, the dressed atom basis, from first principles.\n",
    "\n",
    "In this basis, the dispersive phonon-induced dephasing drives a population difference between the dressed states. This amounts to driving the system towards a dissipative quasi-steady state that initializes the population into the excited state with almost unity fidelity. The initialization effect is very insensitive to precise pulse area or laser detuning, as discussed in our paper, and hence is a powerfully robust way to pump a quantum dot into its excited state. Below is an example trace showing this dissipative initialization for a +1meV laser detuning. The high fidelity of the initialization relies on a low temperature bath that prefers phonon emission over absorption. As a complement, for a laser detuning of -1meV, the excited state is barely populated."
   ]
  },
  {
   "cell_type": "code",
   "execution_count": null,
   "id": "fb008c66",
   "metadata": {},
   "outputs": [],
   "source": [
    "plt.figure(figsize=(8, 5))\n",
    "\n",
    "plt.plot(Om_list, inv_mat_X[0])\n",
    "plt.plot(Om_list, inv_mat_X[1])\n",
    "plt.plot(Om_list, inv_mat_X[2])\n",
    "\n",
    "plt.legend([\"laser detuning, -1 meV\", \"laser detuning, 0 meV\",\n",
    "            \"laser detuning, +1 meV\"], loc=4)\n",
    "\n",
    "plt.xlim(0, 13)\n",
    "plt.xlabel(\"Pulse area [$\\\\pi$]\")\n",
    "plt.ylabel(\"Excited state population\")\n",
    "plt.title(\"Effects of phonon dephasing for different pulse detunings\");"
   ]
  },
  {
   "cell_type": "markdown",
   "id": "f28e77bc",
   "metadata": {},
   "source": [
    "## Versions"
   ]
  },
  {
   "cell_type": "code",
   "execution_count": null,
   "id": "df1968f0",
   "metadata": {},
   "outputs": [],
   "source": [
    "about()"
   ]
  },
  {
   "cell_type": "markdown",
   "id": "334970d3",
   "metadata": {},
   "source": [
    "### Testing"
   ]
  },
  {
   "cell_type": "code",
   "execution_count": null,
   "id": "8a28a715",
   "metadata": {},
   "outputs": [],
   "source": [
    "# monotone increasing of population expectation for +1meV detune\n",
    "assert np.all(np.diff(inv_mat_X[2]) > 0)\n",
    "\n",
    "# assert for +1meV detuning steadystate close to excited state\n",
    "assert inv_mat_X[2][-1] > 0.9\n",
    "# for -1meV detuning steadystate close to ground state\n",
    "assert inv_mat_X[0][-1] < 0.1"
   ]
  }
 ],
 "metadata": {
  "jupytext": {
   "cell_metadata_filter": "-all",
   "notebook_metadata_filter": "-jupytext.cell_metadata_filter,-jupytext.notebook_metadata_filter"
  },
  "kernelspec": {
   "display_name": "Python 3 (ipykernel)",
   "language": "python",
   "name": "python3"
  }
 },
 "nbformat": 4,
 "nbformat_minor": 5
}
