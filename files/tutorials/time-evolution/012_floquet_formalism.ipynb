{
 "cells": [
  {
   "cell_type": "markdown",
   "id": "ab1d2bb8",
   "metadata": {},
   "source": [
    "# Floquet Formalism\n",
    "\n",
    "Author: C. Staufenbiel, 2022\n",
    "\n",
    "Inspirations taken from the [floquet notebook](https://github.com/qutip/qutip-notebooks/blob/master/examples/floquet-dynamics.ipynb) by P.D. Nation and J.R. Johannson, and the [qutip documentation](https://qutip.readthedocs.io/en/latest/guide/dynamics/dynamics-floquet.html).\n",
    "\n",
    "### Introduction\n",
    "\n",
    "In the [floquet_solver notebook](011_floquet_solver.md) we introduced the two functions to solve the Schrödinger and Master equation using the Floquet formalism (i.e. `fsesolve` and  `fmmesolve`). In this notebook, we will work with on `FloquetBasis` class which is used by solvers. In particular, we will focus on the Floquet modes and quasi-energies.\n",
    "\n",
    "More information on the implementation of the Floquet Formalism in QuTiP can be found in the [documentation](https://qutip.readthedocs.io/en/latest/guide/dynamics/dynamics-floquet.html).\n",
    "\n",
    "### Imports "
   ]
  },
  {
   "cell_type": "code",
   "execution_count": null,
   "id": "ae92dd2f",
   "metadata": {},
   "outputs": [],
   "source": [
    "import matplotlib.pyplot as plt\n",
    "import numpy as np\n",
    "from qutip import (about, expect, FloquetBasis,\n",
    "                   num, plot_wigner, ket, sesolve, sigmax, sigmaz)"
   ]
  },
  {
   "cell_type": "markdown",
   "id": "d1e2c893",
   "metadata": {},
   "source": [
    "### System setup\n",
    "For consistency with the documentation we consider the driven system with the following Hamiltonian: \n",
    "\n",
    "$$ H = - \\frac{\\Delta}{2} \\sigma_x - \\frac{\\epsilon_0}{2} \\sigma_z + \\frac{A}{2} \\sigma_x sin(\\omega t) $$"
   ]
  },
  {
   "cell_type": "code",
   "execution_count": null,
   "id": "2a20f6ab",
   "metadata": {},
   "outputs": [],
   "source": [
    "# Constants\n",
    "delta = 0.2 * 2 * np.pi\n",
    "eps0 = 1 * 2 * np.pi\n",
    "A = 2.5 * 2 * np.pi\n",
    "omega = 1.0 * 2 * np.pi\n",
    "T = 2 * np.pi / omega\n",
    "\n",
    "# Hamiltonian\n",
    "H = [\n",
    "    -delta / 2.0 * sigmax() - eps0 / 2.0 * sigmaz(),\n",
    "    [A / 2 * sigmax(), \"sin({w}*t)\".format(w=omega)],\n",
    "]"
   ]
  },
  {
   "cell_type": "markdown",
   "id": "5dc970c7",
   "metadata": {},
   "source": [
    "### Floquet modes and quasienergies\n",
    "For periodic Hamiltonians the solution to the Schrödinger equation can be represented by the Floquet modes $\\phi_\\alpha(t)$ and the quasienergies $\\epsilon_\\alpha$. We can obtain these for the initial time $t=0$ by using the class `FloquetBasis(H, T)` and its method `.mode(t=0)`.\n",
    "\n",
    "For example, we can display the first Floquet mode at $t=0$ using a Wigner distribution:"
   ]
  },
  {
   "cell_type": "code",
   "execution_count": null,
   "id": "7de6d30d",
   "metadata": {},
   "outputs": [],
   "source": [
    "fbasis = FloquetBasis(H, T)\n",
    "f_modes_t0 = fbasis.mode(t=0)\n",
    "plot_wigner(f_modes_t0[0]);"
   ]
  },
  {
   "cell_type": "markdown",
   "id": "3a1672cd",
   "metadata": {},
   "source": [
    "For the system defined above there are two eigenenergies. We can plot these two quasienergies for varying strength of driving $A$.\n",
    "\n",
    "We access the eigenenergies via the `.e_quasi` attribute of `FloquetBasis` while passing `sort=True` to ensure that the energies are sorted from lowest to highest:"
   ]
  },
  {
   "cell_type": "code",
   "execution_count": null,
   "id": "cfa4ee04",
   "metadata": {},
   "outputs": [],
   "source": [
    "A_list = np.linspace(1.0 * omega, 4.5 * omega, 20)\n",
    "quasienergies1, quasienergies2 = [], []\n",
    "for A_tmp in A_list:\n",
    "    # temporary Hamiltonian\n",
    "    H_tmp = [\n",
    "        -delta / 2.0 * sigmax() - eps0 / 2.0 * sigmaz(),\n",
    "        [A_tmp / 2 * sigmax(), \"sin({w}*t)\".format(w=omega)],\n",
    "    ]\n",
    "    # floquet modes and quasienergies\n",
    "    e1, e2 = FloquetBasis(H_tmp, T, sort=True).e_quasi\n",
    "    quasienergies1.append(e1), quasienergies2.append(e2)"
   ]
  },
  {
   "cell_type": "code",
   "execution_count": null,
   "id": "e161a199",
   "metadata": {},
   "outputs": [],
   "source": [
    "plt.scatter(A_list / omega, quasienergies1, label=\"e1\")\n",
    "plt.scatter(A_list / omega, quasienergies2, label=\"e2\")\n",
    "plt.xlabel(\"A / w\"), plt.ylabel(\"Quasienergies\")\n",
    "plt.legend();"
   ]
  },
  {
   "cell_type": "markdown",
   "id": "caf88604",
   "metadata": {},
   "source": [
    "### Time evolution with Floquet mode\n",
    "To calculate the time evolution of a random initial state $\\psi(0)$, we have to decompose the state in the Floquet basis (formed by the Floquet modes):\n",
    "\n",
    "$$ \\psi(0) = \\sum_\\alpha c_\\alpha \\phi_\\alpha(0) $$\n",
    "\n",
    "The $c_\\alpha$ are calculated using the `.to_floquet_basis` method:"
   ]
  },
  {
   "cell_type": "code",
   "execution_count": null,
   "id": "60e142f5",
   "metadata": {},
   "outputs": [],
   "source": [
    "# Define an initial state:\n",
    "psi0 = ket(\"0\") + ket(\"1\")\n",
    "psi0 = psi0.unit()\n",
    "\n",
    "# Decompose the initial state into its components in the Floquet modes:\n",
    "f_coeff = fbasis.to_floquet_basis(psi0, t=0)\n",
    "f_coeff"
   ]
  },
  {
   "cell_type": "markdown",
   "id": "3a71eb36",
   "metadata": {},
   "source": [
    "The Floquet mode $\\phi_\\alpha(t)$ for later times $t>0$ can be calculated using the wave function propagator $U(t,0)$ by:\n",
    "\n",
    "$$ \\phi_\\alpha(t) = exp(-i\\epsilon_\\alpha t / \\hbar) \\, U(t,0) \\, \\phi_\\alpha(0) $$\n",
    "\n",
    "In QuTiP this is done by the `FloquetBasis.mode(t=t)` function. Here we propagate the initial state to the state at $t=1$:"
   ]
  },
  {
   "cell_type": "code",
   "execution_count": null,
   "id": "57c843df",
   "metadata": {},
   "outputs": [],
   "source": [
    "t = 1.0\n",
    "f_modes_t1 = fbasis.mode(t=t)\n",
    "f_modes_t1"
   ]
  },
  {
   "cell_type": "markdown",
   "id": "2bae7f2e",
   "metadata": {},
   "source": [
    "The propagated Floquet modes $\\phi_\\alpha(t)$ can be combined to describe the full system state $\\psi(t)$ at the time `t`.\n",
    "\n",
    "The method `.from_floquet_basis(f_coeff, t)` is used to calculate the new state in this manner:"
   ]
  },
  {
   "cell_type": "code",
   "execution_count": null,
   "id": "1b2d3272",
   "metadata": {},
   "outputs": [],
   "source": [
    "psi_t = fbasis.from_floquet_basis(f_coeff, t)\n",
    "psi_t"
   ]
  },
  {
   "cell_type": "markdown",
   "id": "8415a532",
   "metadata": {},
   "source": [
    "### Precomputing and reusing the Floquet modes of one period\n",
    "\n",
    "The Floquet modes have the same periodicity as the Hamiltonian: \n",
    "\n",
    "$$ \\phi_\\alpha(t + T) = \\phi_\\alpha(t) $$\n",
    "\n",
    "Hence it is enough to evaluate the modes at times $t \\in [0,T]$. From these modes we can extrapolate the system state $\\psi(t)$ for any time $t$. \n",
    "\n",
    "The class `FloquetBasis` allows one to calculate the Floquet mode propagators for multiple times in the first period by specifying a list of times to `precompute`:"
   ]
  },
  {
   "cell_type": "code",
   "execution_count": null,
   "id": "32e1c31a",
   "metadata": {},
   "outputs": [],
   "source": [
    "tlist = np.linspace(0, T, 50)\n",
    "fbasis = FloquetBasis(H, T, precompute=tlist)"
   ]
  },
  {
   "cell_type": "markdown",
   "id": "64ecec51",
   "metadata": {},
   "source": [
    "We can now again use `FloquetBasis.from_floquet_basis(...)` to build the wavefunction $\\psi(t)$, but now the Floquet modes at each $t$ have been precomputed.\n",
    "\n",
    "Below, we calculate the expectation value for the number operator in the first period using the precomputed modes:"
   ]
  },
  {
   "cell_type": "code",
   "execution_count": null,
   "id": "4e9c65e1",
   "metadata": {},
   "outputs": [],
   "source": [
    "p_ex_period = []\n",
    "for t in tlist:\n",
    "    psi_t = fbasis.from_floquet_basis(f_coeff, t)\n",
    "    p_ex_period.append(expect(num(2), psi_t))\n",
    "\n",
    "plt.plot(tlist, p_ex_period)\n",
    "plt.ylabel(\"Occupation prob.\"), plt.xlabel(\"Time\");"
   ]
  },
  {
   "cell_type": "markdown",
   "id": "60584f0c",
   "metadata": {},
   "source": [
    "The pre-computed modes for the first period can be used by the `FloquetBasis` class to calculate Floquet modes and states in later periods too. However if a time $t'$ is not exactly $t' = t + nT$ (where $t$ is a time used in the pre-computation) the Floquet modes for time $t'$ will be computed and one of the precomputed modes will be forgotten.\n",
    "\n",
    "Under the hood, `FloquetBasis` uses `qutip.Propagator` to manage the precomputed modes. The documentation for `Propagator` describes the details. The propagator is directly available as `FloquetBasis.U` if needed.\n",
    "\n",
    "Below we show how this works in practice over the first ten periods. If the times in `tlist` correspond to those in the first period that we have already been precomputed, calculating the expecations in later periods should be fast:"
   ]
  },
  {
   "cell_type": "code",
   "execution_count": null,
   "id": "115cca95",
   "metadata": {},
   "outputs": [],
   "source": [
    "p_ex = []\n",
    "tlist_10_periods = np.linspace(0, 10 * T, 10 * len(tlist))\n",
    "for t in tlist_10_periods:\n",
    "    psi_t = fbasis.from_floquet_basis(f_coeff, t)\n",
    "    p_ex.append(expect(num(2), psi_t))\n",
    "\n",
    "# Plot the occupation Probability\n",
    "plt.plot(tlist_10_periods, p_ex, label=\"Ten periods - precomputed\")\n",
    "plt.plot(tlist, p_ex_period, label=\"First period - precomputed\")\n",
    "plt.legend(loc=\"upper right\")\n",
    "plt.xlabel(\"Time\"), plt.ylabel(\"Occupation prob.\");"
   ]
  },
  {
   "cell_type": "markdown",
   "id": "ec823759",
   "metadata": {},
   "source": [
    "### About"
   ]
  },
  {
   "cell_type": "code",
   "execution_count": null,
   "id": "9677b09e",
   "metadata": {},
   "outputs": [],
   "source": [
    "about()"
   ]
  },
  {
   "cell_type": "markdown",
   "id": "24afc42b",
   "metadata": {},
   "source": [
    "## Testing"
   ]
  },
  {
   "cell_type": "code",
   "execution_count": null,
   "id": "6837761f",
   "metadata": {},
   "outputs": [],
   "source": [
    "# compute prediction using sesolve\n",
    "res_sesolve = sesolve(H, psi0, tlist_10_periods, [num(2)])\n",
    "assert np.allclose(res_sesolve.expect[0], p_ex, atol=0.15)"
   ]
  }
 ],
 "metadata": {
  "jupytext": {
   "cell_metadata_filter": "-all",
   "notebook_metadata_filter": "-jupytext.cell_metadata_filter,-jupytext.notebook_metadata_filter"
  },
  "kernelspec": {
   "display_name": "Python 3 (ipykernel)",
   "language": "python",
   "name": "python3"
  }
 },
 "nbformat": 4,
 "nbformat_minor": 5
}
