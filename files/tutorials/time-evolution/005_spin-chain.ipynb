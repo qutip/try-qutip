{
 "cells": [
  {
   "cell_type": "markdown",
   "id": "09762f4d",
   "metadata": {},
   "source": [
    "# Master Equation Solver: Dynamics of a Spin Chain"
   ]
  },
  {
   "cell_type": "markdown",
   "id": "c46ac16e",
   "metadata": {},
   "source": [
    "Authors: J.R. Johansson and P.D. Nation\n",
    "\n",
    "Modifications: C. Staufenbiel (2022)\n",
    "\n",
    "### Introduction\n",
    "\n",
    "In this tutorial we will simulate a spin chain (also called the Heisenberg model), which consists of $N$ $\\frac{1}{2}-$spins/qubits in a magnetic field. Each spin can interact with its direct neighbors. This model is often used for the study of magnetic systems.\n",
    "\n",
    "The one dimensional Heisenberg model, which we consider here, can be solved exactly using the Bethe Ansatz (i.e. we can calculate the spectrum of the Hamiltonian).\n",
    "### Imports"
   ]
  },
  {
   "cell_type": "code",
   "execution_count": null,
   "id": "2b6853dc",
   "metadata": {},
   "outputs": [],
   "source": [
    "import matplotlib.pyplot as plt\n",
    "import numpy as np\n",
    "from qutip import (about, basis, expect, mesolve, qeye, sigmax, sigmay, sigmaz,\n",
    "                   tensor)\n",
    "\n",
    "%matplotlib inline"
   ]
  },
  {
   "cell_type": "markdown",
   "id": "a2cfa01e",
   "metadata": {},
   "source": [
    "### Setup System\n",
    "The Hamiltonian of the spin-chain consists of the interaction part between the spins and the magnetic field. We assume that the magnetic field acts along the $z$-axis of the spin and its strength is defined by $h_n$ for the $n$-th spin. Hence the field strength can vary per spin. \n",
    "\n",
    "The spins interact in each direction. Therefore we define the three coefficients $J_x^{(n)}, J_y^{(n)}, J_z^{(n)}$, where the $n$-th coefficient defines the interaction between the spin $n$ and spin $(n+1)$. The Hamiltonian of the Heisenberg model can then be written as:\n",
    "\n",
    "$\\displaystyle H = - \\frac{1}{2}\\sum_n^N h_n \\sigma_z(n) - \\frac{1}{2} \\sum_n^{N-1} [ J_x^{(n)} \\sigma_x(n) \\sigma_x(n+1) + J_y^{(n)} \\sigma_y(n) \\sigma_y(n+1) +J_z^{(n)} \\sigma_z(n) \\sigma_z(n+1)]$\n",
    "\n",
    "Below we define the size, initial state and the interaction coefficients for the system. We choose an initial state where the first spin is in the *up* state, while all others are in the *down* state. Furthermore, we select a uniform magnetic field and set $J_x = J_y = J_z$. You can modify these settings to simulate a different spin chain."
   ]
  },
  {
   "cell_type": "code",
   "execution_count": null,
   "id": "47a5e79b",
   "metadata": {},
   "outputs": [],
   "source": [
    "# Set the system parameters\n",
    "N = 5\n",
    "\n",
    "# initial state\n",
    "state_list = [basis(2, 1)] + [basis(2, 0)] * (N - 1)\n",
    "psi0 = tensor(state_list)\n",
    "\n",
    "# Energy splitting term\n",
    "h = 2 * np.pi * np.ones(N)\n",
    "\n",
    "# Interaction coefficients\n",
    "Jx = 0.2 * np.pi * np.ones(N)\n",
    "Jy = 0.2 * np.pi * np.ones(N)\n",
    "Jz = 0.2 * np.pi * np.ones(N)"
   ]
  },
  {
   "cell_type": "markdown",
   "id": "b285cf34",
   "metadata": {},
   "source": [
    "For each qubit we setup an operator $\\sigma_i$, which is the tensor product of identities and $\\sigma_i$ at the position of the qubit. We can then generate the Hamiltonian using these tensor product operators and the coefficients defined above. "
   ]
  },
  {
   "cell_type": "code",
   "execution_count": null,
   "id": "ff39884c",
   "metadata": {},
   "outputs": [],
   "source": [
    "# Setup operators for individual qubits\n",
    "sx_list, sy_list, sz_list = [], [], []\n",
    "for i in range(N):\n",
    "    op_list = [qeye(2)] * N\n",
    "    op_list[i] = sigmax()\n",
    "    sx_list.append(tensor(op_list))\n",
    "    op_list[i] = sigmay()\n",
    "    sy_list.append(tensor(op_list))\n",
    "    op_list[i] = sigmaz()\n",
    "    sz_list.append(tensor(op_list))\n",
    "\n",
    "# Hamiltonian - Energy splitting terms\n",
    "H = 0\n",
    "for i in range(N):\n",
    "    H -= 0.5 * h[i] * sz_list[i]\n",
    "\n",
    "# Interaction terms\n",
    "for n in range(N - 1):\n",
    "    H += -0.5 * Jx[n] * sx_list[n] * sx_list[n + 1]\n",
    "    H += -0.5 * Jy[n] * sy_list[n] * sy_list[n + 1]\n",
    "    H += -0.5 * Jz[n] * sz_list[n] * sz_list[n + 1]"
   ]
  },
  {
   "cell_type": "markdown",
   "id": "895f92ec",
   "metadata": {},
   "source": [
    "### Time evolution\n",
    "We can simulate the system using the `qutip.mesolve` function. Here, we don't pass any collapse or expectation operators. This results in the function returning the states at each given time step. We convert these states into the density matrices for simple usage in the following."
   ]
  },
  {
   "cell_type": "code",
   "execution_count": null,
   "id": "a56a9d74",
   "metadata": {},
   "outputs": [],
   "source": [
    "times = np.linspace(0, 100, 200)\n",
    "result = mesolve(H, psi0, times, [], [])\n",
    "# Convert states to density matrices\n",
    "states = [s * s.dag() for s in result.states]"
   ]
  },
  {
   "cell_type": "markdown",
   "id": "24c3ff53",
   "metadata": {},
   "source": [
    "To visualize the dynamics of the spin chain we calculate the expectation value of $\\sigma_z$ for each qubit. For a better overview we only plot the expectation value for the first and the last qubit. We can see that the first spin starts with expecation value $-1$ while the last starts with expecation value $+1$, which is due to the intial state. Over time we can observe the constant transfer of spin momentum between the spins."
   ]
  },
  {
   "cell_type": "code",
   "execution_count": null,
   "id": "9c32bac1",
   "metadata": {},
   "outputs": [],
   "source": [
    "# Expectation value\n",
    "exp_sz = np.array(expect(states, sz_list))\n",
    "\n",
    "# Plot the expecation value\n",
    "plt.plot(times, exp_sz[:, 0], label=r\"$\\langle \\sigma_z^{0} \\rangle$\")\n",
    "plt.plot(times, exp_sz[:, -1], label=r\"$\\langle \\sigma_z^{-1} \\rangle$\")\n",
    "plt.legend(loc=\"lower right\")\n",
    "plt.xlabel(\"Time\"), plt.ylabel(r\"$\\langle \\sigma_z \\rangle$\")\n",
    "plt.title(\"Dynamics of spin chain\");"
   ]
  },
  {
   "cell_type": "markdown",
   "id": "191e6ccc",
   "metadata": {},
   "source": [
    "### Dephasing\n",
    "\n",
    "The master equation solver `qutip.mesolve` allows us to define collapse operators, which describe a dissipation process. Here, we add the dephasing of all spins by defining the collapse operator:\n",
    "\n",
    "$C = \\sum_{i=1}^N \\; \\sqrt{\\gamma_i} \\, \\sigma_z(i)$\n",
    "\n",
    "We simulate the system using this dissipation process. As we see in the plot below the expectation values of $\\sigma_z$ relax to a constant value, which is due to the loss of coherence in the system."
   ]
  },
  {
   "cell_type": "code",
   "execution_count": null,
   "id": "5d2af57d",
   "metadata": {},
   "outputs": [],
   "source": [
    "# dephasing rate\n",
    "gamma = 0.02 * np.ones(N)\n",
    "\n",
    "# collapse operators\n",
    "c_ops = [np.sqrt(gamma[i]) * sz_list[i] for i in range(N)]\n",
    "\n",
    "# evolution\n",
    "result = result = mesolve(H, psi0, times, c_ops, [])\n",
    "\n",
    "# Expectation value\n",
    "exp_sz_dephase = expect(sz_list, result.states)\n",
    "\n",
    "# Plot the expecation value\n",
    "plt.plot(times, exp_sz_dephase[0], label=r\"$\\langle \\sigma_z^{0} \\rangle$\")\n",
    "plt.plot(times, exp_sz_dephase[-1], label=r\"$\\langle \\sigma_z^{-1} \\rangle$\")\n",
    "plt.legend()\n",
    "plt.xlabel(\"Time\"), plt.ylabel(r\"$\\langle \\sigma_z \\rangle$\")\n",
    "plt.title(\"Dynamics of spin chain with qubit dephasing\");"
   ]
  },
  {
   "cell_type": "markdown",
   "id": "6c0c57d0",
   "metadata": {},
   "source": [
    "### About"
   ]
  },
  {
   "cell_type": "code",
   "execution_count": null,
   "id": "dae07bda",
   "metadata": {},
   "outputs": [],
   "source": [
    "about()"
   ]
  },
  {
   "cell_type": "markdown",
   "id": "257004da",
   "metadata": {},
   "source": [
    "### Testing"
   ]
  },
  {
   "cell_type": "code",
   "execution_count": null,
   "id": "05300c3b",
   "metadata": {},
   "outputs": [],
   "source": [
    "assert np.allclose(np.array(exp_sz_dephase)[:, -1], 0.6, atol=0.01)"
   ]
  }
 ],
 "metadata": {
  "jupytext": {
   "cell_metadata_filter": "-all",
   "notebook_metadata_filter": "-jupytext.cell_metadata_filter,-jupytext.notebook_metadata_filter"
  },
  "kernelspec": {
   "display_name": "Python 3 (ipykernel)",
   "language": "python",
   "name": "python3"
  }
 },
 "nbformat": 4,
 "nbformat_minor": 5
}
