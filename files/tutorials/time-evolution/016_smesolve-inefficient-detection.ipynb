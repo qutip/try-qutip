{
 "cells": [
  {
   "cell_type": "markdown",
   "id": "0669773f",
   "metadata": {},
   "source": [
    "# Stochastic Solver: Mixing stochastic and deterministic equations"
   ]
  },
  {
   "cell_type": "markdown",
   "id": "32059ea5",
   "metadata": {},
   "source": [
    "Copyright (C) 2011 and later, Paul D. Nation & Robert J. Johansson"
   ]
  },
  {
   "cell_type": "code",
   "execution_count": null,
   "id": "06f0fb49",
   "metadata": {},
   "outputs": [],
   "source": [
    "import matplotlib.pyplot as plt\n",
    "import numpy as np\n",
    "from matplotlib import rcParams\n",
    "from qutip import (\n",
    "    about,\n",
    "    coherent,\n",
    "    destroy,\n",
    "    fock,\n",
    "    liouvillian,\n",
    "    mcsolve,\n",
    "    mesolve,\n",
    "    plot_expectation_values,\n",
    "    smesolve,\n",
    ")\n",
    "\n",
    "%matplotlib inline\n",
    "\n",
    "rcParams[\"font.family\"] = \"STIXGeneral\"\n",
    "rcParams[\"mathtext.fontset\"] = \"stix\"\n",
    "rcParams[\"font.size\"] = \"14\""
   ]
  },
  {
   "cell_type": "markdown",
   "id": "ffd38d5e",
   "metadata": {},
   "source": [
    "## Direct photo-detection"
   ]
  },
  {
   "cell_type": "markdown",
   "id": "1907ae7b",
   "metadata": {},
   "source": [
    "Here we follow an example from Wiseman and Milburn, *Quantum measurement and control*, section. 4.8.1.\n",
    "\n",
    "Consider cavity that leaks photons with a rate $\\kappa$. The dissipated photons are detected with an inefficient photon detector,\n",
    "with photon-detection efficiency $\\eta$. The master equation describing this scenario, where a separate dissipation channel has been added for detections and missed detections, is\n",
    "\n",
    "$\\dot\\rho = -i[H, \\rho] + \\mathcal{D}[\\sqrt{1-\\eta} \\sqrt{\\kappa} a] + \\mathcal{D}[\\sqrt{\\eta} \\sqrt{\\kappa}a]$\n",
    "\n",
    "To describe the photon measurement stochastically, we can unravelling only the dissipation term that corresponds to detections, and leaving the missed detections as a deterministic dissipation term, we obtain [Eq. (4.235) in W&M]\n",
    "\n",
    "$d\\rho = \\mathcal{H}[-iH -\\eta\\frac{1}{2}a^\\dagger a] \\rho dt + \\mathcal{D}[\\sqrt{1-\\eta} a] \\rho dt + \\mathcal{G}[\\sqrt{\\eta}a] \\rho dN(t)$\n",
    "\n",
    "or\n",
    "\n",
    "$d\\rho = -i[H, \\rho] dt + \\mathcal{D}[\\sqrt{1-\\eta} a] \\rho dt -\\mathcal{H}[\\eta\\frac{1}{2}a^\\dagger a] \\rho dt + \\mathcal{G}[\\sqrt{\\eta}a] \\rho dN(t)$\n",
    "\n",
    "where\n",
    "\n",
    "$\\displaystyle \\mathcal{G}[A] \\rho = \\frac{A\\rho A^\\dagger}{\\mathrm{Tr}[A\\rho A^\\dagger]} - \\rho$\n",
    "\n",
    "$\\displaystyle \\mathcal{H}[A] \\rho = A\\rho + \\rho A^\\dagger - \\mathrm{Tr}[A\\rho + \\rho A^\\dagger] \\rho $\n",
    "\n",
    "and $dN(t)$ is a Poisson distributed increment with $E[dN(t)] = \\eta \\langle a^\\dagger a\\rangle (t)$."
   ]
  },
  {
   "cell_type": "markdown",
   "id": "3ff33293",
   "metadata": {},
   "source": [
    "### Formulation in QuTiP\n",
    "\n",
    "The photocurrent stochastic master equation is written in the form:\n",
    "\n",
    "$\\displaystyle d\\rho(t) = -i[H, \\rho] dt + \\mathcal{D}[B] \\rho dt \n",
    "- \\frac{1}{2}\\mathcal{H}[A^\\dagger A] \\rho(t) dt \n",
    "+ \\mathcal{G}[A]\\rho(t) d\\xi$\n",
    "\n",
    "where the first two term gives the deterministic master equation (Lindblad form with collapse operator $B$ (c_ops)) and $A$ the stochastic collapse operator (sc_ops). \n",
    "\n",
    "Here $A = \\sqrt{\\eta\\gamma} a$ and $B = \\sqrt{(1-\\eta)\\gamma} $a.\n",
    "\n",
    "In QuTiP, the monte carlo solver can solve this equation when the deterministic part is passed as a liouvillian."
   ]
  },
  {
   "cell_type": "code",
   "execution_count": null,
   "id": "c23bd297",
   "metadata": {},
   "outputs": [],
   "source": [
    "N = 15\n",
    "w0 = 0.5 * 2 * np.pi\n",
    "times = np.linspace(0, 15, 150)\n",
    "dt = times[1] - times[0]\n",
    "gamma = 0.1\n",
    "\n",
    "a = destroy(N)\n",
    "\n",
    "H = w0 * a.dag() * a\n",
    "\n",
    "rho0 = fock(N, 5)\n",
    "\n",
    "e_ops = [a.dag() * a, a + a.dag()]"
   ]
  },
  {
   "cell_type": "markdown",
   "id": "76fe4ed7",
   "metadata": {},
   "source": [
    "### Highly efficient detection"
   ]
  },
  {
   "cell_type": "code",
   "execution_count": null,
   "id": "d877afa3",
   "metadata": {},
   "outputs": [],
   "source": [
    "eta = 0.7\n",
    "c_ops = [np.sqrt(1 - eta) * np.sqrt(gamma) * a]  # collapse operator B\n",
    "sc_ops = [np.sqrt(eta) * np.sqrt(gamma) * a]  # stochastic collapse operator A"
   ]
  },
  {
   "cell_type": "code",
   "execution_count": null,
   "id": "03a55a0d",
   "metadata": {},
   "outputs": [],
   "source": [
    "result_ref = mesolve(H, rho0, times, c_ops + sc_ops, e_ops)"
   ]
  },
  {
   "cell_type": "code",
   "execution_count": null,
   "id": "3418ab9e",
   "metadata": {},
   "outputs": [],
   "source": [
    "result1 = mcsolve(\n",
    "    liouvillian(H, c_ops),\n",
    "    rho0,\n",
    "    times,\n",
    "    sc_ops,\n",
    "    e_ops=e_ops,\n",
    "    ntraj=1,\n",
    ")"
   ]
  },
  {
   "cell_type": "code",
   "execution_count": null,
   "id": "e8df9d69",
   "metadata": {},
   "outputs": [],
   "source": [
    "result2 = mcsolve(\n",
    "    liouvillian(H, c_ops),\n",
    "    rho0,\n",
    "    times,\n",
    "    sc_ops,\n",
    "    e_ops=e_ops,\n",
    "    ntraj=10,\n",
    ")"
   ]
  },
  {
   "cell_type": "code",
   "execution_count": null,
   "id": "41604efd",
   "metadata": {},
   "outputs": [],
   "source": [
    "np.array(result2.runs_photocurrent).dtype"
   ]
  },
  {
   "cell_type": "code",
   "execution_count": null,
   "id": "bbd3cc1a",
   "metadata": {},
   "outputs": [],
   "source": [
    "fig, axes = plt.subplots(2, 2, figsize=(12, 8), sharex=True)\n",
    "\n",
    "axes[0, 0].plot(\n",
    "    times, result1.expect[0], label=r\"Stochastic ME (ntraj = 1)\", lw=2\n",
    ")\n",
    "axes[0, 0].plot(times, result_ref.expect[0], label=r\"Lindblad ME\", lw=2)\n",
    "axes[0, 0].set_title(\"Cavity photon number (ntraj = 1)\")\n",
    "axes[0, 0].legend()\n",
    "\n",
    "axes[0, 1].plot(\n",
    "    times, result2.expect[0], label=r\"Stochatic ME (ntraj = 10)\", lw=2\n",
    ")\n",
    "axes[0, 1].plot(times, result_ref.expect[0], label=r\"Lindblad ME\", lw=2)\n",
    "axes[0, 1].set_title(\"Cavity photon number (ntraj = 10)\")\n",
    "axes[0, 1].legend()\n",
    "\n",
    "axes[1, 0].step(times[1:], dt * np.cumsum(result1.photocurrent), lw=2)\n",
    "axes[1, 0].set_title(\"Cummulative photon detections (ntraj = 1)\")\n",
    "axes[1, 1].step(times[1:], dt * np.cumsum(result2.photocurrent), lw=2)\n",
    "axes[1, 1].set_title(\"Cummulative avg. photon detections (ntraj = 10)\")\n",
    "\n",
    "fig.tight_layout()"
   ]
  },
  {
   "cell_type": "markdown",
   "id": "7d8db041",
   "metadata": {},
   "source": [
    "### Highly inefficient photon detection"
   ]
  },
  {
   "cell_type": "code",
   "execution_count": null,
   "id": "fe9e8ca8",
   "metadata": {},
   "outputs": [],
   "source": [
    "eta = 0.1\n",
    "c_ops = [np.sqrt(1 - eta) * np.sqrt(gamma) * a]  # collapse operator B\n",
    "sc_ops = [np.sqrt(eta) * np.sqrt(gamma) * a]  # stochastic collapse operator A"
   ]
  },
  {
   "cell_type": "code",
   "execution_count": null,
   "id": "4d7b7b9a",
   "metadata": {},
   "outputs": [],
   "source": [
    "result_ref = mesolve(H, rho0, times, c_ops + sc_ops, e_ops)"
   ]
  },
  {
   "cell_type": "code",
   "execution_count": null,
   "id": "78aed638",
   "metadata": {},
   "outputs": [],
   "source": [
    "result1 = mcsolve(\n",
    "    liouvillian(H, c_ops),\n",
    "    rho0,\n",
    "    times,\n",
    "    sc_ops,\n",
    "    e_ops=e_ops,\n",
    "    ntraj=1,\n",
    ")"
   ]
  },
  {
   "cell_type": "code",
   "execution_count": null,
   "id": "c6d96e73",
   "metadata": {},
   "outputs": [],
   "source": [
    "result2 = mcsolve(\n",
    "    liouvillian(H, c_ops),\n",
    "    rho0,\n",
    "    times,\n",
    "    sc_ops,\n",
    "    e_ops=e_ops,\n",
    "    ntraj=10,\n",
    ")"
   ]
  },
  {
   "cell_type": "code",
   "execution_count": null,
   "id": "1298554f",
   "metadata": {},
   "outputs": [],
   "source": [
    "fig, axes = plt.subplots(2, 2, figsize=(12, 8), sharex=True)\n",
    "\n",
    "axes[0, 0].plot(\n",
    "    times, result1.expect[0], label=r\"Stochastic ME (ntraj = 1)\", lw=2\n",
    ")\n",
    "axes[0, 0].plot(times, result_ref.expect[0], label=r\"Lindblad ME\", lw=2)\n",
    "axes[0, 0].set_title(\"Cavity photon number (ntraj = 1)\")\n",
    "axes[0, 0].legend()\n",
    "\n",
    "axes[0, 1].plot(\n",
    "    times, result2.expect[0], label=r\"Stochatic ME (ntraj = 10)\", lw=2\n",
    ")\n",
    "axes[0, 1].plot(times, result_ref.expect[0], label=r\"Lindblad ME\", lw=2)\n",
    "axes[0, 1].set_title(\"Cavity photon number (ntraj = 10)\")\n",
    "axes[0, 1].legend()\n",
    "\n",
    "axes[1, 0].step(times[1:], dt * np.cumsum(result1.photocurrent[0]), lw=2)\n",
    "axes[1, 0].set_title(\"Cummulative photon detections (ntraj = 1)\")\n",
    "axes[1, 1].step(times[1:], dt * np.cumsum(result2.photocurrent[0]), lw=2)\n",
    "axes[1, 1].set_title(\"Cummulative avg. photon detections (ntraj = 10)\")\n",
    "\n",
    "fig.tight_layout()"
   ]
  },
  {
   "cell_type": "markdown",
   "id": "2259bd07",
   "metadata": {},
   "source": [
    "## Efficient homodyne detection"
   ]
  },
  {
   "cell_type": "markdown",
   "id": "dddcffcb",
   "metadata": {},
   "source": [
    "The stochastic master equation for inefficient homodyne detection, when unravaling the detection part of the master equation\n",
    "\n",
    "$\\dot\\rho = -i[H, \\rho] + \\mathcal{D}[\\sqrt{1-\\eta} \\sqrt{\\kappa} a] + \\mathcal{D}[\\sqrt{\\eta} \\sqrt{\\kappa}a]$,\n",
    "\n",
    "is given in W&M as\n",
    "\n",
    "$d\\rho = -i[H, \\rho]dt + \\mathcal{D}[\\sqrt{1-\\eta} \\sqrt{\\kappa} a] \\rho dt \n",
    "+\n",
    "\\mathcal{D}[\\sqrt{\\eta} \\sqrt{\\kappa}a] \\rho dt\n",
    "+\n",
    "\\mathcal{H}[\\sqrt{\\eta} \\sqrt{\\kappa}a] \\rho d\\xi$\n",
    "\n",
    "where $d\\xi$ is the Wiener increment. This can be described as a standard homodyne detection with efficiency $\\eta$ together with a stochastic dissipation process with collapse operator $\\sqrt{(1-\\eta)\\kappa} a$. Alternatively we can combine the two deterministic terms on standard Lindblad for and obtain the stochastic equation (which is the form given in W&M)\n",
    "\n",
    "$d\\rho = -i[H, \\rho]dt + \\mathcal{D}[\\sqrt{\\kappa} a]\\rho dt + \\sqrt{\\eta}\\mathcal{H}[\\sqrt{\\kappa}a] \\rho d\\xi$"
   ]
  },
  {
   "cell_type": "code",
   "execution_count": null,
   "id": "c2bca92f",
   "metadata": {},
   "outputs": [],
   "source": [
    "rho0 = coherent(N, np.sqrt(5))"
   ]
  },
  {
   "cell_type": "markdown",
   "id": "737dcd38",
   "metadata": {},
   "source": [
    "### Standard homodyne with deterministic dissipation on Lindblad form"
   ]
  },
  {
   "cell_type": "code",
   "execution_count": null,
   "id": "70324d36",
   "metadata": {},
   "outputs": [],
   "source": [
    "eta = 0.95\n",
    "c_ops = [np.sqrt(1 - eta) * np.sqrt(gamma) * a]  # collapse operator B\n",
    "sc_ops = [np.sqrt(eta) * np.sqrt(gamma) * a]  # stochastic collapse operator A"
   ]
  },
  {
   "cell_type": "code",
   "execution_count": null,
   "id": "5c9fc191",
   "metadata": {},
   "outputs": [],
   "source": [
    "result_ref = mesolve(H, rho0, times, c_ops + sc_ops, e_ops)"
   ]
  },
  {
   "cell_type": "code",
   "execution_count": null,
   "id": "db9e78db",
   "metadata": {},
   "outputs": [],
   "source": [
    "options = {\n",
    "    \"method\": \"platen\",\n",
    "    \"store_measurement\": True,\n",
    "    \"map\": \"parallel\",\n",
    "}\n",
    "\n",
    "result = smesolve(\n",
    "    H,\n",
    "    rho0,\n",
    "    times,\n",
    "    c_ops=c_ops,\n",
    "    sc_ops=sc_ops,\n",
    "    e_ops=e_ops,\n",
    "    ntraj=75,\n",
    "    options=options,\n",
    ")"
   ]
  },
  {
   "cell_type": "code",
   "execution_count": null,
   "id": "fafc4fd9",
   "metadata": {},
   "outputs": [],
   "source": [
    "plot_expectation_values([result, result_ref])"
   ]
  },
  {
   "cell_type": "code",
   "execution_count": null,
   "id": "1fa430de",
   "metadata": {},
   "outputs": [],
   "source": [
    "fig, ax = plt.subplots(figsize=(8, 4))\n",
    "\n",
    "M = np.sqrt(eta * gamma)\n",
    "\n",
    "for m in result.measurement:\n",
    "    ax.plot(times[1:], m[0, :].real / M, \"b\", alpha=0.025)\n",
    "\n",
    "ax.plot(times, result_ref.expect[1], \"k\", lw=2)\n",
    "\n",
    "ax.set_ylim(-25, 25)\n",
    "ax.set_xlim(0, times.max())\n",
    "ax.set_xlabel(\"time\", fontsize=12)\n",
    "ax.plot(\n",
    "    times[1:], np.mean(result.measurement, axis=0)[0, :].real / M, \"b\", lw=2\n",
    ")"
   ]
  },
  {
   "cell_type": "markdown",
   "id": "76d3f319",
   "metadata": {},
   "source": [
    "## Versions"
   ]
  },
  {
   "cell_type": "code",
   "execution_count": null,
   "id": "8342a752",
   "metadata": {},
   "outputs": [],
   "source": [
    "about()"
   ]
  }
 ],
 "metadata": {
  "jupytext": {
   "cell_metadata_filter": "-all",
   "notebook_metadata_filter": "-jupytext.cell_metadata_filter,-jupytext.notebook_metadata_filter"
  },
  "kernelspec": {
   "display_name": "Python 3 (ipykernel)",
   "language": "python",
   "name": "python3"
  }
 },
 "nbformat": 4,
 "nbformat_minor": 5
}
