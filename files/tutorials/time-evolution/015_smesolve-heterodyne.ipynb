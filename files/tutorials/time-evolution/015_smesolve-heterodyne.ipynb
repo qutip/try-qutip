{
 "cells": [
  {
   "cell_type": "markdown",
   "id": "5829d3c3",
   "metadata": {},
   "source": [
    "# Stochastic Solver: Heterodyne Detection"
   ]
  },
  {
   "cell_type": "markdown",
   "id": "5071a8f1",
   "metadata": {},
   "source": [
    "Copyright (C) 2011 and later, Paul D. Nation & Robert J. Johansson"
   ]
  },
  {
   "cell_type": "code",
   "execution_count": null,
   "id": "7b445b00",
   "metadata": {},
   "outputs": [],
   "source": [
    "import matplotlib.pyplot as plt\n",
    "import numpy as np\n",
    "import scipy as sp\n",
    "from qutip import (\n",
    "    SMESolver,\n",
    "    about,\n",
    "    coherent,\n",
    "    destroy,\n",
    "    mesolve,\n",
    "    plot_expectation_values,\n",
    "    smesolve,\n",
    ")\n",
    "\n",
    "%matplotlib inline"
   ]
  },
  {
   "cell_type": "markdown",
   "id": "ce7b2790",
   "metadata": {},
   "source": [
    "## Introduction"
   ]
  },
  {
   "cell_type": "markdown",
   "id": "ada88720",
   "metadata": {},
   "source": [
    "Homodyne and hetrodyne detection are techniques for measuring the quadratures of a field using photocounters. Homodyne detection (on-resonant) measures one quadrature and with heterodyne detection (off-resonant) both quadratures can be detected simulateously.\n",
    "\n",
    "The evolution of a quantum system that is coupled to a field that is monitored with homodyne and heterodyne detector can be described with stochastic master equations. This notebook compares two different ways to implement the heterodyne detection stochastic master equation in QuTiP."
   ]
  },
  {
   "cell_type": "markdown",
   "id": "61ffc3b2",
   "metadata": {},
   "source": [
    "## Deterministic reference"
   ]
  },
  {
   "cell_type": "code",
   "execution_count": null,
   "id": "f4a4af8b",
   "metadata": {},
   "outputs": [],
   "source": [
    "N = 15\n",
    "w0 = 1.0 * 2 * np.pi\n",
    "A = 0.1 * 2 * np.pi\n",
    "times = np.linspace(0, 10, 201)\n",
    "gamma = 0.25\n",
    "ntraj = 50\n",
    "\n",
    "a = destroy(N)\n",
    "x = a + a.dag()\n",
    "y = -1.0j * (a - a.dag())\n",
    "\n",
    "H = w0 * a.dag() * a + A * (a + a.dag())\n",
    "\n",
    "rho0 = coherent(N, np.sqrt(5.0), method=\"analytic\")\n",
    "c_ops = [np.sqrt(gamma) * a]\n",
    "e_ops = [a.dag() * a, x, y]"
   ]
  },
  {
   "cell_type": "code",
   "execution_count": null,
   "id": "483d579d",
   "metadata": {},
   "outputs": [],
   "source": [
    "result_ref = mesolve(H, rho0, times, c_ops, e_ops)"
   ]
  },
  {
   "cell_type": "code",
   "execution_count": null,
   "id": "08416af5",
   "metadata": {},
   "outputs": [],
   "source": [
    "plot_expectation_values(result_ref);"
   ]
  },
  {
   "cell_type": "markdown",
   "id": "83f234ce",
   "metadata": {},
   "source": [
    "## Heterodyne implementation #1"
   ]
  },
  {
   "cell_type": "markdown",
   "id": "97e86bd8",
   "metadata": {},
   "source": [
    "Stochastic master equation for heterodyne in Milburn's formulation\n",
    "\n",
    "$\\displaystyle d\\rho(t) = -i[H, \\rho(t)]dt + \\gamma\\mathcal{D}[a]\\rho(t) dt + \\frac{1}{\\sqrt{2}} dW_1(t) \\sqrt{\\gamma} \\mathcal{H}[a] \\rho(t) + \\frac{1}{\\sqrt{2}} dW_2(t) \\sqrt{\\gamma} \\mathcal{H}[-ia] \\rho(t)$\n",
    "\n",
    "where $\\mathcal{D}$ is the standard Lindblad dissipator superoperator, and $\\mathcal{H}$ is defined as above,\n",
    "and $dW_i(t)$ is a normal distributed increment with $E[dW_i(t)] = \\sqrt{dt}$.\n",
    "\n",
    "\n",
    "In QuTiP, this is available with the stochactic master equation solver ``smesolve`` and ``SMESolver`` with heterodyne detection."
   ]
  },
  {
   "cell_type": "markdown",
   "id": "a274b215",
   "metadata": {},
   "source": [
    "The heterodyne currents for the $x$ and $y$ quadratures are\n",
    "\n",
    "$J_x(t) = \\sqrt{\\gamma}\\left<x\\right> + \\sqrt{2} \\xi(t)$\n",
    "\n",
    "$J_y(t) = \\sqrt{\\gamma}\\left<y\\right> + \\sqrt{2} \\xi(t)$\n",
    "\n",
    "where $\\xi(t) = \\frac{dW}{dt}$.\n",
    "\n",
    "In qutip, these measurements are build from the operators passed as ``sc_ops``."
   ]
  },
  {
   "cell_type": "code",
   "execution_count": null,
   "id": "364c9d76",
   "metadata": {},
   "outputs": [],
   "source": [
    "options = {\"store_measurement\": True, \"map\": \"parallel\"}\n",
    "\n",
    "result = smesolve(\n",
    "    H,\n",
    "    rho0,\n",
    "    times,\n",
    "    sc_ops=c_ops,\n",
    "    heterodyne=True,\n",
    "    e_ops=e_ops,\n",
    "    ntraj=ntraj,\n",
    "    options=options,\n",
    ")"
   ]
  },
  {
   "cell_type": "code",
   "execution_count": null,
   "id": "b5366905",
   "metadata": {},
   "outputs": [],
   "source": [
    "plot_expectation_values([result, result_ref])"
   ]
  },
  {
   "cell_type": "code",
   "execution_count": null,
   "id": "7fe012dd",
   "metadata": {},
   "outputs": [],
   "source": [
    "fig, ax = plt.subplots(figsize=(8, 4))\n",
    "\n",
    "for m in result.measurement:\n",
    "    ax.plot(times[1:], m[0, 0, :].real, \"b\", alpha=0.05)\n",
    "    ax.plot(times[1:], m[0, 1, :].real, \"r\", alpha=0.05)\n",
    "\n",
    "ax.plot(times, result_ref.expect[1], \"b\", lw=2)\n",
    "ax.plot(times, result_ref.expect[2], \"r\", lw=2)\n",
    "\n",
    "ax.set_ylim(-10, 10)\n",
    "ax.set_xlim(0, times.max())\n",
    "ax.set_xlabel(\"time\", fontsize=12)\n",
    "ax.plot(times[1:], np.mean(result.measurement, axis=0)[0, 0, :].real, \"k\", lw=2)\n",
    "ax.plot(times[1:], np.mean(result.measurement, axis=0)[0, 1, :].real, \"k\", lw=2)"
   ]
  },
  {
   "cell_type": "markdown",
   "id": "f9858c0b",
   "metadata": {},
   "source": [
    "## Heterodyne implementation #2: using two homodyne measurements"
   ]
  },
  {
   "cell_type": "markdown",
   "id": "1586b3fd",
   "metadata": {},
   "source": [
    "We can also write the heterodyne equation as\n",
    "\n",
    "$\\displaystyle d\\rho(t) = -i[H, \\rho(t)]dt + \\frac{1}{2}\\gamma\\mathcal{D}[a]\\rho(t) dt + \\frac{1}{\\sqrt{2}} dW_1(t) \\sqrt{\\gamma} \\mathcal{H}[a] \\rho(t) + \\frac{1}{2}\\gamma\\mathcal{D}[a]\\rho(t) dt + \\frac{1}{\\sqrt{2}} dW_2(t) \\sqrt{\\gamma} \\mathcal{H}[-ia] \\rho(t)$\n",
    "\n",
    "\n",
    "Which correspond to the homodyne detection with two stochastic collapse operators:  $A_1 = \\sqrt{\\gamma} a / \\sqrt{2}$ and $A_2 = -i \\sqrt{\\gamma} a / \\sqrt{2}$."
   ]
  },
  {
   "cell_type": "markdown",
   "id": "019bb5c9",
   "metadata": {},
   "source": [
    "Here the two homodyne currents associated to this problem are\n",
    "\n",
    "$J_x(t) = \\sqrt{\\gamma/2}\\left<x\\right> + \\xi(t)$\n",
    "\n",
    "$J_y(t) = \\sqrt{\\gamma/2}\\left<y\\right> + \\xi(t)$\n",
    "\n",
    "where $\\xi(t) = \\frac{dW}{dt}$.\n",
    "\n",
    "However, we desire the homodyne currents for the $x$ and $y$ quadratures:\n",
    "\n",
    "$J_x(t) = \\sqrt{\\gamma}\\left<x\\right> + \\sqrt{2}\\xi(t)$\n",
    "\n",
    "$J_y(t) = \\sqrt{\\gamma}\\left<y\\right> + \\sqrt{2}\\xi(t)$\n",
    "\n",
    "In qutip we can use the predefined homodyne solver for solving this problem, but rescale the `m_ops` and `dW_factors`."
   ]
  },
  {
   "cell_type": "code",
   "execution_count": null,
   "id": "8d3dc97f",
   "metadata": {},
   "outputs": [],
   "source": [
    "options = {\n",
    "    \"method\": \"platen\",\n",
    "    \"dt\": 0.001,\n",
    "    \"store_measurement\": True,\n",
    "    \"map\": \"parallel\",\n",
    "}\n",
    "sc_ops = [np.sqrt(gamma / 2) * a, -1.0j * np.sqrt(gamma / 2) * a]\n",
    "\n",
    "solver = SMESolver(H, sc_ops=sc_ops, heterodyne=False, options=options)\n",
    "solver.m_ops = [np.sqrt(gamma) * x, np.sqrt(gamma) * y]\n",
    "solver.dW_factors = [np.sqrt(2), np.sqrt(2)]\n",
    "result = solver.run(rho0, times, e_ops=e_ops, ntraj=ntraj)"
   ]
  },
  {
   "cell_type": "code",
   "execution_count": null,
   "id": "2957a48a",
   "metadata": {},
   "outputs": [],
   "source": [
    "plot_expectation_values([result, result_ref])"
   ]
  },
  {
   "cell_type": "code",
   "execution_count": null,
   "id": "d7a38afa",
   "metadata": {},
   "outputs": [],
   "source": [
    "fig, ax = plt.subplots(figsize=(8, 4))\n",
    "\n",
    "for m in result.measurement:\n",
    "    ax.plot(times[1:], m[0, :].real, \"b\", alpha=0.05)\n",
    "    ax.plot(times[1:], m[1, :].real, \"r\", alpha=0.05)\n",
    "\n",
    "ax.plot(times, result_ref.expect[1], \"b\", lw=2)\n",
    "ax.plot(times, result_ref.expect[2], \"r\", lw=2)\n",
    "\n",
    "ax.set_xlim(0, times.max())\n",
    "ax.set_ylim(-25, 25)\n",
    "ax.set_xlabel(\"time\", fontsize=12)\n",
    "ax.plot(\n",
    "    times[1:], np.array(result.measurement).mean(axis=0)[0, :].real, \"k\", lw=2\n",
    ")\n",
    "ax.plot(\n",
    "    times[1:], np.array(result.measurement).mean(axis=0)[1, :].real, \"k\", lw=2\n",
    ")"
   ]
  },
  {
   "cell_type": "markdown",
   "id": "afef282c",
   "metadata": {},
   "source": [
    "## Common problem\n",
    "\n",
    "For some systems, the resulting density matrix can become unphysical due to the accumulation of computation error."
   ]
  },
  {
   "cell_type": "code",
   "execution_count": null,
   "id": "a7409342",
   "metadata": {},
   "outputs": [],
   "source": [
    "options = {\n",
    "    \"method\": \"euler\",\n",
    "    \"dt\": 0.1,\n",
    "    \"store_states\": True,\n",
    "    \"store_measurement\": True,\n",
    "    \"map\": \"parallel\",\n",
    "}\n",
    "\n",
    "result = smesolve(\n",
    "    H,\n",
    "    rho0,\n",
    "    np.linspace(0, 2, 21),\n",
    "    sc_ops=c_ops,\n",
    "    heterodyne=True,\n",
    "    e_ops=e_ops,\n",
    "    ntraj=ntraj,\n",
    "    options=options,\n",
    ")\n",
    "\n",
    "result.expect"
   ]
  },
  {
   "cell_type": "code",
   "execution_count": null,
   "id": "31623c50",
   "metadata": {},
   "outputs": [],
   "source": [
    "result.states[-1].full()"
   ]
  },
  {
   "cell_type": "code",
   "execution_count": null,
   "id": "6e49bfff",
   "metadata": {},
   "outputs": [],
   "source": [
    "sp.linalg.eigh(result.states[10].full(), eigvals_only=True)"
   ]
  },
  {
   "cell_type": "markdown",
   "id": "27cf0358",
   "metadata": {},
   "source": [
    "Using smaller integration steps by lowering the ``dt`` option will lower the numerical errors.\n",
    "The solver algorithm used affect the convergence and numerical error.\n",
    "Notable solvers are:  \n",
    "- euler: order 0.5 fastest, but lowest order. Only solver that accept non-commuting sc_ops.\n",
    "- rouchon: order 1.0?, build to keep the density matrix physical,\n",
    "- taylor1.5: order 1.5, reasonably fast for good convergence.\n",
    "\n",
    "To list list all available solver, use ``SMESolver.avail_integrators()``"
   ]
  },
  {
   "cell_type": "code",
   "execution_count": null,
   "id": "1a5dfdfa",
   "metadata": {},
   "outputs": [],
   "source": [
    "SMESolver.avail_integrators()"
   ]
  },
  {
   "cell_type": "markdown",
   "id": "a66ba069",
   "metadata": {},
   "source": [
    "## About"
   ]
  },
  {
   "cell_type": "code",
   "execution_count": null,
   "id": "357a6a15",
   "metadata": {},
   "outputs": [],
   "source": [
    "about()"
   ]
  },
  {
   "cell_type": "code",
   "execution_count": null,
   "id": "721e8ff9",
   "metadata": {},
   "outputs": [],
   "source": []
  }
 ],
 "metadata": {
  "jupytext": {
   "cell_metadata_filter": "-all",
   "notebook_metadata_filter": "-jupytext.cell_metadata_filter,-jupytext.notebook_metadata_filter"
  },
  "kernelspec": {
   "display_name": "Python 3 (ipykernel)",
   "language": "python",
   "name": "python3"
  }
 },
 "nbformat": 4,
 "nbformat_minor": 5
}
