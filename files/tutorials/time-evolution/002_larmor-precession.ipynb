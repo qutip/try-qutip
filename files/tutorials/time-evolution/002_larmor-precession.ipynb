{
 "cells": [
  {
   "cell_type": "markdown",
   "id": "6132bf1b",
   "metadata": {
    "lines_to_next_cell": 0
   },
   "source": [
    "# Schrödinger Equation Solver: Larmor precession\n",
    "\n",
    "Author: C. Staufenbiel, 2022\n",
    "\n",
    "### Introduction\n",
    "\n",
    "This notebook guides you through the process of setting up a Schrödinger \n",
    "equation in QuTiP and using the corresponding solver to obtain the time \n",
    "evolution. We will investigate the example of the Larmor precession to \n",
    "explore the functionality of [`qutip.sesolve()`](https://qutip.readthedocs.io/en/latest/apidoc/solver.html#module-qutip.solver.sesolve).\n",
    "\n",
    "You can also find more on time evolutions with QuTiP [here](https://qutip.readthedocs.io/en/latest/guide/guide-dynamics.html).\n",
    "\n",
    "### Setup\n",
    "\n",
    "First thing is to import the required functions, classes and modules."
   ]
  },
  {
   "cell_type": "code",
   "execution_count": null,
   "id": "84cb0e40",
   "metadata": {},
   "outputs": [],
   "source": [
    "import matplotlib.pyplot as plt\n",
    "import numpy as np\n",
    "import qutip\n",
    "from qutip import Bloch, QobjEvo, basis, sesolve, sigmay, sigmaz\n",
    "\n",
    "%matplotlib inline"
   ]
  },
  {
   "cell_type": "markdown",
   "id": "01dbd40c",
   "metadata": {},
   "source": [
    "We setup a arbitrary qubit state, which is in a superposition of the two qubit states. We use the `qutip.Bloch` class to visualize the state on the Bloch sphere."
   ]
  },
  {
   "cell_type": "code",
   "execution_count": null,
   "id": "e824e95a",
   "metadata": {},
   "outputs": [],
   "source": [
    "psi = (2.0 * basis(2, 0) + basis(2, 1)).unit()\n",
    "b = Bloch()\n",
    "b.add_states(psi)\n",
    "b.show()"
   ]
  },
  {
   "cell_type": "markdown",
   "id": "1bdf579c",
   "metadata": {},
   "source": [
    "### Simulation with constant magnetic field\n",
    "\n",
    "Let's define a simple Hamiltonian and use `qutip.sesolve` to solve the\n",
    "Schrödinger equation. The Hamiltonian describes a constant magnetic field \n",
    "along the z-axis. We can describe this magnetic field by the corresponding \n",
    "Pauli matrix, which is defined as `qutip.sigmaz()` in QuTiP.\n",
    "\n",
    "To solve the Schrödinger equation for this particular Hamiltonian, we have to pass the Hamiltonian, the initial state, the times for which we want to simulate the system, and a set of observables that we evaluate at these times.\n",
    "\n",
    "Here, we are for example interested in the time evolution of the expectation value for $\\sigma_y$. We pass these properties to `sesolve` in the following."
   ]
  },
  {
   "cell_type": "code",
   "execution_count": null,
   "id": "5f70dae7",
   "metadata": {},
   "outputs": [],
   "source": [
    "# simulate the unitary dynamics\n",
    "H = sigmaz()\n",
    "times = np.linspace(0, 10, 100)\n",
    "result = sesolve(H, psi, times, [sigmay()])"
   ]
  },
  {
   "cell_type": "markdown",
   "id": "73930e75",
   "metadata": {},
   "source": [
    "`result.expect` holds the expecation values for the times that we passed to `sesolve`. `result.expect` is a two dimensional array, where the first dimension refers to the different expectation operators that we passed to `sesolve` before. \n",
    "\n",
    "Above we passed `sigmay()` as the only expectation operator and therefore we can access its values by `result.expect[0]`. Below we plot the evolution of the expecation value."
   ]
  },
  {
   "cell_type": "code",
   "execution_count": null,
   "id": "702c8cb7",
   "metadata": {},
   "outputs": [],
   "source": [
    "plt.plot(times, result.expect[0])\n",
    "plt.xlabel(\"Time\"), plt.ylabel(\"<sigma_y>\")\n",
    "plt.show()"
   ]
  },
  {
   "cell_type": "markdown",
   "id": "881d2511",
   "metadata": {},
   "source": [
    "Above we gave `sigmay()` as an operator to `sesolve` to directly calculate it's expectation value. If we pass an empty list at this argument to `sesolve` it will return the quantum state of the system for each time step in `times`. We can access the states by `result.states` and use them for example to plot the states on the Bloch sphere to see the precession. If the solver take a long time to run, it is also a good idea to return the states, so you can calculate different things, without specifying before the calculation."
   ]
  },
  {
   "cell_type": "code",
   "execution_count": null,
   "id": "fdcea52a",
   "metadata": {},
   "outputs": [],
   "source": [
    "res = sesolve(H, psi, times, [])\n",
    "b = Bloch()\n",
    "b.add_states(res.states[1:30])\n",
    "b.show()"
   ]
  },
  {
   "cell_type": "markdown",
   "id": "66e3b171",
   "metadata": {},
   "source": [
    "## Simulation with varying magnetic field\n",
    "\n",
    "Above we passed a constant Hamiltonian to `sesolve`. In QuTiP these constant operators are represented by `Qobj`. However, `sesolve` can also take time-dependent operators as an argument, which are represented by [`QobjEvo`](https://qutip.readthedocs.io/en/latest/apidoc/time_dep.html#qutip.core.cy.qobjevo.QobjEvo) in QuTiP. In this section we define the magnetic field with a linear and a periodic field strength, and observe the changes in the expecation value of $\\sigma_y$.\n",
    "You can find more information on `QobjEvo` in [this notebook](https://nbviewer.jupyter.org/github/qutip/qutip-notebooks/blob/master/examples/qobjevo.ipynb).\n",
    "\n",
    "We start by defining two functions for the field strength of the magnetic field. To be passed on to `QobjEvo` the functions need two arguments: the times and optional arguments.\n"
   ]
  },
  {
   "cell_type": "code",
   "execution_count": null,
   "id": "d48c1191",
   "metadata": {},
   "outputs": [],
   "source": [
    "def linear(t, args):\n",
    "    return 0.3 * t\n",
    "\n",
    "\n",
    "def periodic(t, args):\n",
    "    return np.cos(0.5 * t)\n",
    "\n",
    "\n",
    "# Define QobjEvos\n",
    "H_lin = QobjEvo([[sigmaz(), linear]], tlist=times)\n",
    "H_per = QobjEvo([[sigmaz(), periodic]], tlist=times)"
   ]
  },
  {
   "cell_type": "markdown",
   "id": "7aa74586",
   "metadata": {},
   "source": [
    "We can now continue as in the previous section and use `sesolve` to solve the Schrödinger equation."
   ]
  },
  {
   "cell_type": "code",
   "execution_count": null,
   "id": "a79bb831",
   "metadata": {},
   "outputs": [],
   "source": [
    "result_lin = sesolve(H_lin, psi, times, [sigmay()])\n",
    "result_per = sesolve(H_per, psi, times, [sigmay()])\n",
    "\n",
    "\n",
    "# Plot <sigma_y> for linear increasing field strength\n",
    "plt.plot(times, result_lin.expect[0])\n",
    "plt.xlabel(\"Time\"), plt.ylabel(\"<sigma_y>\")\n",
    "plt.show()"
   ]
  },
  {
   "cell_type": "markdown",
   "id": "832ccbe0",
   "metadata": {},
   "source": [
    "We can see that the frequency of the Larmor precession increases with the time. This is a direct result of the time-dependent Hamiltonian. We can generate the same plot for the periodically varying field strength."
   ]
  },
  {
   "cell_type": "code",
   "execution_count": null,
   "id": "6e1f0154",
   "metadata": {},
   "outputs": [],
   "source": [
    "plt.plot(times, result_per.expect[0])\n",
    "plt.xlabel(\"Time\"), plt.ylabel(\"<sigma_y>\")\n",
    "plt.show()"
   ]
  },
  {
   "cell_type": "markdown",
   "id": "94abf2c6",
   "metadata": {},
   "source": [
    "### Conclusion\n",
    "We can use `sesolve` to solve unitary time evolutions. This is not only \n",
    "limited to constant Hamiltonians, but we can also make use of time-dependent Hamiltonians using `QobjEvo`. \n",
    "\n",
    "### About"
   ]
  },
  {
   "cell_type": "code",
   "execution_count": null,
   "id": "f92b2af1",
   "metadata": {},
   "outputs": [],
   "source": [
    "qutip.about()"
   ]
  },
  {
   "cell_type": "markdown",
   "id": "b76289ff",
   "metadata": {},
   "source": [
    "### Testing\n",
    "\n",
    "This section can include some tests to verify that the expected outputs are\n",
    "generated within the notebook. We put this section at the end of the notebook,\n",
    "so it's not interfering with the user experience. Please, define the tests\n",
    "using `assert`, so that the cell execution fails if a wrong output is generated."
   ]
  },
  {
   "cell_type": "code",
   "execution_count": null,
   "id": "0341da46",
   "metadata": {},
   "outputs": [],
   "source": [
    "assert np.allclose(result.expect[0][0], 0)\n",
    "assert np.allclose(result_lin.expect[0][0], 0)\n",
    "assert np.allclose(result_per.expect[0][0], 0)\n",
    "assert 1 == 1"
   ]
  }
 ],
 "metadata": {
  "jupytext": {
   "cell_metadata_filter": "-all",
   "notebook_metadata_filter": "-jupytext.cell_metadata_filter,-jupytext.notebook_metadata_filter"
  },
  "kernelspec": {
   "display_name": "Python 3 (ipykernel)",
   "language": "python",
   "name": "python3"
  }
 },
 "nbformat": 4,
 "nbformat_minor": 5
}
