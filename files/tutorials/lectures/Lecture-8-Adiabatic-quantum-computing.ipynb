{
 "cells": [
  {
   "cell_type": "markdown",
   "id": "7398291a",
   "metadata": {},
   "source": [
    "# Lecture 8 - Adiabatic sweep\n",
    "\n",
    "Author: J. R. Johansson (robert@riken.jp), https://jrjohansson.github.io/\n",
    "\n",
    "This lecture series was developed by J.R. Johannson. The original lecture notebooks are available [here](https://github.com/jrjohansson/qutip-lectures).\n",
    "\n",
    "This is a slightly modified version of the lectures, to work with the current release of QuTiP. You can find these lectures as a part of the [qutip-tutorials repository](https://github.com/qutip/qutip-tutorials). This lecture and other tutorial notebooks are indexed at the [QuTiP Tutorial webpage](https://qutip.org/tutorials.html)."
   ]
  },
  {
   "cell_type": "markdown",
   "id": "b0375777",
   "metadata": {},
   "source": [
    "## Introduction\n",
    "\n",
    "In adiabatic quantum computing, an easy to prepare ground state of a Hamiltonian $H_0$ is prepared, and then the Hamiltonian is gradually transformed into $H_1$, which is constructed in such a way that the groundstate of $H_1$ encodes the solution to a difficult problem. The transformation of $H_0$ to $H_1$ can for example be written on the form\n",
    "\n",
    "$\\displaystyle H(t) = \\lambda(t) H_0 + (1 - \\lambda(t)) H_1$\n",
    "\n",
    "where $\\lambda(t)$ is a function that goes from goes from $0$ to $1$ when $t$ goes from $0$ to $t_{\\rm final}$.\n",
    "\n",
    "If this gradual tranformation is slow enough (satisfying the adiabicity critera), the evolution of the system will remain in its ground state.\n",
    "\n",
    "If the Hamiltonian is transformed from $H_0$ to $H_1$ too quickly, the system will get excited from the ground state the adiabatic computing algorithm fails.\n",
    "\n",
    "In this notebook we explore the dynamics of a spin Hamiltonian that is transformed from a simple Hamiltonian with an easy to prepare ground state, into a random spin Hamiltonian with a complicated ground state."
   ]
  },
  {
   "cell_type": "code",
   "execution_count": null,
   "id": "326198b2",
   "metadata": {},
   "outputs": [],
   "source": [
    "import matplotlib.pyplot as plt\n",
    "import numpy as np\n",
    "from qutip import (QobjEvo, about, basis, mesolve, qeye, sigmax, sigmay,\n",
    "                   sigmaz, tensor)\n",
    "\n",
    "%matplotlib inline"
   ]
  },
  {
   "cell_type": "markdown",
   "id": "bd217eb0",
   "metadata": {},
   "source": [
    "### Parameters"
   ]
  },
  {
   "cell_type": "code",
   "execution_count": null,
   "id": "3f324756",
   "metadata": {},
   "outputs": [],
   "source": [
    "N = 6  # number of spins\n",
    "M = 20  # number of eigenenergies to plot\n",
    "\n",
    "# array of spin energy splittings and coupling strengths (random values).\n",
    "h = 1.0 * 2 * np.pi * (1 - 2 * np.random.rand(N))\n",
    "Jz = 1.0 * 2 * np.pi * (1 - 2 * np.random.rand(N))\n",
    "Jx = 1.0 * 2 * np.pi * (1 - 2 * np.random.rand(N))\n",
    "Jy = 1.0 * 2 * np.pi * (1 - 2 * np.random.rand(N))\n",
    "\n",
    "# increase taumax to get make the sweep more adiabatic\n",
    "taumax = 5.0\n",
    "taulist = np.linspace(0, taumax, 100)"
   ]
  },
  {
   "cell_type": "markdown",
   "id": "9a25cde1",
   "metadata": {},
   "source": [
    "### Precalculate operators"
   ]
  },
  {
   "cell_type": "code",
   "execution_count": null,
   "id": "257ce557",
   "metadata": {},
   "outputs": [],
   "source": [
    "# pre-allocate operators\n",
    "si = qeye(2)\n",
    "sx = sigmax()\n",
    "sy = sigmay()\n",
    "sz = sigmaz()\n",
    "\n",
    "sx_list = []\n",
    "sy_list = []\n",
    "sz_list = []\n",
    "\n",
    "for n in range(N):\n",
    "    op_list = []\n",
    "    for m in range(N):\n",
    "        op_list.append(si)\n",
    "\n",
    "    op_list[n] = sx\n",
    "    sx_list.append(tensor(op_list))\n",
    "\n",
    "    op_list[n] = sy\n",
    "    sy_list.append(tensor(op_list))\n",
    "\n",
    "    op_list[n] = sz\n",
    "    sz_list.append(tensor(op_list))"
   ]
  },
  {
   "cell_type": "markdown",
   "id": "72f29052",
   "metadata": {},
   "source": [
    "### Construct the initial state"
   ]
  },
  {
   "cell_type": "code",
   "execution_count": null,
   "id": "bb9e9443",
   "metadata": {},
   "outputs": [],
   "source": [
    "psi_list = [basis(2, 0) for n in range(N)]\n",
    "psi0 = tensor(psi_list)\n",
    "H0 = 0\n",
    "for n in range(N):\n",
    "    H0 += -0.5 * 2.5 * sz_list[n]"
   ]
  },
  {
   "cell_type": "markdown",
   "id": "f61e8580",
   "metadata": {},
   "source": [
    "### Construct the Hamiltonian"
   ]
  },
  {
   "cell_type": "code",
   "execution_count": null,
   "id": "3a8fab62",
   "metadata": {},
   "outputs": [],
   "source": [
    "# energy splitting terms\n",
    "H1 = 0\n",
    "for n in range(N):\n",
    "    H1 += -0.5 * h[n] * sz_list[n]\n",
    "\n",
    "H1 = 0\n",
    "for n in range(N - 1):\n",
    "    # interaction terms\n",
    "    H1 += -0.5 * Jx[n] * sx_list[n] * sx_list[n + 1]\n",
    "    H1 += -0.5 * Jy[n] * sy_list[n] * sy_list[n + 1]\n",
    "    H1 += -0.5 * Jz[n] * sz_list[n] * sz_list[n + 1]\n",
    "\n",
    "# the time-dependent hamiltonian in list-function format\n",
    "args = {\"t_max\": max(taulist)}\n",
    "h_t = [\n",
    "    [H0, lambda t, args: (args[\"t_max\"] - t) / args[\"t_max\"]],\n",
    "    [H1, lambda t, args: t / args[\"t_max\"]],\n",
    "]\n",
    "\n",
    "# transform Hamiltonian to QobjEvo\n",
    "h_t = QobjEvo(h_t, args=args)"
   ]
  },
  {
   "cell_type": "markdown",
   "id": "f82ed79c",
   "metadata": {},
   "source": [
    "### Evolve the system in time"
   ]
  },
  {
   "cell_type": "code",
   "execution_count": null,
   "id": "a4e5e142",
   "metadata": {},
   "outputs": [],
   "source": [
    "#\n",
    "# callback function for each time-step\n",
    "#\n",
    "evals_mat = np.zeros((len(taulist), M))\n",
    "P_mat = np.zeros((len(taulist), M))\n",
    "\n",
    "idx = [0]\n",
    "\n",
    "\n",
    "def process_rho(tau, psi):\n",
    "\n",
    "    # evaluate the Hamiltonian with gradually switched on interaction\n",
    "    H = h_t(tau)\n",
    "\n",
    "    # find the M lowest eigenvalues of the system\n",
    "    evals, ekets = H.eigenstates(eigvals=M)\n",
    "\n",
    "    evals_mat[idx[0], :] = np.real(evals)\n",
    "\n",
    "    # find the overlap between the eigenstates and psi\n",
    "    for n, eket in enumerate(ekets):\n",
    "        P_mat[idx[0], n] = abs((eket.dag() * psi)) ** 2\n",
    "\n",
    "    idx[0] += 1"
   ]
  },
  {
   "cell_type": "code",
   "execution_count": null,
   "id": "71da78ea",
   "metadata": {},
   "outputs": [],
   "source": [
    "# Evolve the system, request the solver to call process_rho at each time step.\n",
    "\n",
    "mesolve(h_t, psi0, taulist, [], process_rho, args)"
   ]
  },
  {
   "cell_type": "markdown",
   "id": "337d037c",
   "metadata": {},
   "source": [
    "## Visualize the results\n",
    "\n",
    "Plot the energy levels and the corresponding occupation probabilities (encoded as the width of each line in the energy-level diagram)."
   ]
  },
  {
   "cell_type": "code",
   "execution_count": null,
   "id": "d8ae31de",
   "metadata": {},
   "outputs": [],
   "source": [
    "# rc('font', family='serif')\n",
    "# rc('font', size='10')\n",
    "\n",
    "fig, axes = plt.subplots(2, 1, figsize=(12, 10))\n",
    "\n",
    "#\n",
    "# plot the energy eigenvalues\n",
    "#\n",
    "\n",
    "# first draw thin lines outlining the energy spectrum\n",
    "for n in range(len(evals_mat[0, :])):\n",
    "    ls, lw = (\"b\", 1) if n == 0 else (\"k\", 0.25)\n",
    "    axes[0].plot(taulist / max(taulist), evals_mat[:, n] / (2 * np.pi),\n",
    "                 ls, lw=lw)\n",
    "\n",
    "# second, draw line that encode the occupation probability of each state in\n",
    "# its linewidth. thicker line => high occupation probability.\n",
    "for idx in range(len(taulist) - 1):\n",
    "    for n in range(len(P_mat[0, :])):\n",
    "        lw = 0.5 + 4 * P_mat[idx, n]\n",
    "        if lw > 0.55:\n",
    "            axes[0].plot(\n",
    "                np.array([taulist[idx], taulist[idx + 1]]) / taumax,\n",
    "                np.array([evals_mat[idx, n],\n",
    "                          evals_mat[idx + 1, n]]) / (2 * np.pi),\n",
    "                \"r\",\n",
    "                linewidth=lw,\n",
    "            )\n",
    "\n",
    "axes[0].set_xlabel(r\"$\\tau$\")\n",
    "axes[0].set_ylabel(\"Eigenenergies\")\n",
    "axes[0].set_title(\n",
    "    \"Energyspectrum (%d lowest values) of a chain of %d spins.\\n \" % (M, N)\n",
    "    + \"The occupation probabilities are encoded in the red line widths.\"\n",
    ")\n",
    "\n",
    "#\n",
    "# plot the occupation probabilities for the few lowest eigenstates\n",
    "#\n",
    "for n in range(len(P_mat[0, :])):\n",
    "    if n == 0:\n",
    "        axes[1].plot(taulist / max(taulist), 0 + P_mat[:, n], \"r\", linewidth=2)\n",
    "    else:\n",
    "        axes[1].plot(taulist / max(taulist), 0 + P_mat[:, n])\n",
    "\n",
    "axes[1].set_xlabel(r\"$\\tau$\")\n",
    "axes[1].set_ylabel(\"Occupation probability\")\n",
    "axes[1].set_title(\n",
    "    \"Occupation probability of the %d lowest \" % M\n",
    "    + \"eigenstates for a chain of %d spins\" % N\n",
    ")\n",
    "axes[1].legend((\"Ground state\",));"
   ]
  },
  {
   "cell_type": "markdown",
   "id": "b7b204d6",
   "metadata": {},
   "source": [
    "### Software versions:"
   ]
  },
  {
   "cell_type": "code",
   "execution_count": null,
   "id": "b7483d5e",
   "metadata": {},
   "outputs": [],
   "source": [
    "about()"
   ]
  }
 ],
 "metadata": {
  "jupytext": {
   "cell_metadata_filter": "-all",
   "notebook_metadata_filter": "-jupytext.cell_metadata_filter,-jupytext.notebook_metadata_filter"
  },
  "kernelspec": {
   "display_name": "Python 3 (ipykernel)",
   "language": "python",
   "name": "python3"
  }
 },
 "nbformat": 4,
 "nbformat_minor": 5
}
