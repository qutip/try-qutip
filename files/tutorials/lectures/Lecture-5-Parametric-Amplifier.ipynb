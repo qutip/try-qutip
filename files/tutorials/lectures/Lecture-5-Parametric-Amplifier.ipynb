{
 "cells": [
  {
   "cell_type": "markdown",
   "id": "0e0799c4",
   "metadata": {},
   "source": [
    "# Lecture 5 - Evolution and quantum statistics of a quantum parameter amplifier\n",
    "\n",
    "Author: J. R. Johansson (robert@riken.jp), https://jrjohansson.github.io/\n",
    "\n",
    "This lecture series was developed by J.R. Johannson. The original lecture notebooks are available [here](https://github.com/jrjohansson/qutip-lectures).\n",
    "\n",
    "This is a slightly modified version of the lectures, to work with the current release of QuTiP. You can find these lectures as a part of the [qutip-tutorials repository](https://github.com/qutip/qutip-tutorials). This lecture and other tutorial notebooks are indexed at the [QuTiP Tutorial webpage](https://qutip.org/tutorials.html)."
   ]
  },
  {
   "cell_type": "code",
   "execution_count": null,
   "id": "abbeae6d",
   "metadata": {},
   "outputs": [],
   "source": [
    "import matplotlib as mpl\n",
    "import matplotlib.pyplot as plt\n",
    "import numpy as np\n",
    "from matplotlib import cm\n",
    "from qutip import (about, basis, correlation_matrix_quadrature, destroy,\n",
    "                   expect, logarithmic_negativity, mesolve, num, ptrace, qeye,\n",
    "                   tensor, wigner, wigner_covariance_matrix)\n",
    "\n",
    "%matplotlib inline"
   ]
  },
  {
   "cell_type": "markdown",
   "id": "e0bb759a",
   "metadata": {},
   "source": [
    "Parameters\n",
    "----------"
   ]
  },
  {
   "cell_type": "code",
   "execution_count": null,
   "id": "84d4c1aa",
   "metadata": {},
   "outputs": [],
   "source": [
    "chi = 0.2\n",
    "N1 = 75\n",
    "N2 = 75"
   ]
  },
  {
   "cell_type": "markdown",
   "id": "1c6a3a13",
   "metadata": {},
   "source": [
    "Operators and Hamiltonian\n",
    "-------------------------"
   ]
  },
  {
   "cell_type": "code",
   "execution_count": null,
   "id": "6570b389",
   "metadata": {},
   "outputs": [],
   "source": [
    "a = tensor(destroy(N1), qeye(N2))\n",
    "na = tensor(num(N1), qeye(N2))\n",
    "b = tensor(qeye(N1), destroy(N2))\n",
    "nb = tensor(qeye(N1), num(N2))"
   ]
  },
  {
   "cell_type": "code",
   "execution_count": null,
   "id": "c786435d",
   "metadata": {},
   "outputs": [],
   "source": [
    "H = -chi * (a * b + a.dag() * b.dag())"
   ]
  },
  {
   "cell_type": "code",
   "execution_count": null,
   "id": "15dca7dd",
   "metadata": {},
   "outputs": [],
   "source": [
    "# start in the ground (vacuum) state\n",
    "psi0 = tensor(basis(N1, 0), basis(N2, 0))"
   ]
  },
  {
   "cell_type": "markdown",
   "id": "960863d8",
   "metadata": {},
   "source": [
    "Evolution\n",
    "---------"
   ]
  },
  {
   "cell_type": "code",
   "execution_count": null,
   "id": "21e69b3b",
   "metadata": {},
   "outputs": [],
   "source": [
    "tlist = np.linspace(0, 10, 100)"
   ]
  },
  {
   "cell_type": "code",
   "execution_count": null,
   "id": "6ea860cd",
   "metadata": {},
   "outputs": [],
   "source": [
    "c_ops = []"
   ]
  },
  {
   "cell_type": "code",
   "execution_count": null,
   "id": "9717ed99",
   "metadata": {},
   "outputs": [],
   "source": [
    "e_ops = []"
   ]
  },
  {
   "cell_type": "code",
   "execution_count": null,
   "id": "6fbb7f03",
   "metadata": {},
   "outputs": [],
   "source": [
    "output = mesolve(H, psi0, tlist, c_ops, e_ops)\n",
    "output"
   ]
  },
  {
   "cell_type": "markdown",
   "id": "dc5fa92b",
   "metadata": {},
   "source": [
    "## Expectation values and standard deviations\n"
   ]
  },
  {
   "cell_type": "code",
   "execution_count": null,
   "id": "2e0dd347",
   "metadata": {},
   "outputs": [],
   "source": [
    "na_e = np.zeros(tlist.shape)\n",
    "na_s = np.zeros(tlist.shape)\n",
    "nb_e = np.zeros(tlist.shape)\n",
    "nb_s = np.zeros(tlist.shape)\n",
    "\n",
    "for idx, psi in enumerate(output.states):\n",
    "    na_e[idx] = expect(na, psi)\n",
    "    na_s[idx] = expect(na * na, psi)\n",
    "    nb_e[idx] = expect(nb, psi)\n",
    "    nb_s[idx] = expect(nb * nb, psi)\n",
    "\n",
    "# substract the average squared to obtain variances\n",
    "na_s = na_s - na_e**2\n",
    "nb_s = nb_s - nb_e**2"
   ]
  },
  {
   "cell_type": "code",
   "execution_count": null,
   "id": "48b84c1b",
   "metadata": {},
   "outputs": [],
   "source": [
    "fig, axes = plt.subplots(2, 2, sharex=True, figsize=(8, 5))\n",
    "\n",
    "line1 = axes[0, 0].plot(tlist, na_e, \"r\", linewidth=2)\n",
    "axes[0, 0].set_ylabel(r\"$\\langle a^\\dagger a \\rangle$\", fontsize=18)\n",
    "\n",
    "line2 = axes[0, 1].plot(tlist, nb_e, \"b\", linewidth=2)\n",
    "\n",
    "line3 = axes[1, 0].plot(tlist, na_s, \"r\", linewidth=2)\n",
    "axes[1, 0].set_xlabel(\"$t$\", fontsize=18)\n",
    "axes[1, 0].set_ylabel(r\"$Std[a^\\dagger a]$, $Std[b^\\dagger b]$\", fontsize=18)\n",
    "\n",
    "line4 = axes[1, 1].plot(tlist, nb_s, \"b\", linewidth=2)\n",
    "axes[1, 1].set_xlabel(\"$t$\", fontsize=18)\n",
    "\n",
    "fig.tight_layout()"
   ]
  },
  {
   "cell_type": "markdown",
   "id": "dbe7b893",
   "metadata": {},
   "source": [
    "Wigner functions\n",
    "----------------"
   ]
  },
  {
   "cell_type": "code",
   "execution_count": null,
   "id": "85451b26",
   "metadata": {},
   "outputs": [],
   "source": [
    "# pick an arbitrary time and calculate the wigner functions for each mode\n",
    "xvec = np.linspace(-5, 5, 200)\n",
    "t_idx_vec = [0, 10, 20, 30]\n",
    "\n",
    "fig, axes = plt.subplots(\n",
    "    len(t_idx_vec), 2, sharex=True, sharey=True,\n",
    "    figsize=(8, 4 * len(t_idx_vec))\n",
    ")\n",
    "\n",
    "for idx, t_idx in enumerate(t_idx_vec):\n",
    "    psi_a = ptrace(output.states[t_idx], 0)\n",
    "    psi_b = ptrace(output.states[t_idx], 1)\n",
    "    W_a = wigner(psi_a, xvec, xvec)\n",
    "    W_b = wigner(psi_b, xvec, xvec)\n",
    "\n",
    "    cont1 = axes[idx, 0].contourf(xvec, xvec, W_a, 100)\n",
    "    cont2 = axes[idx, 1].contourf(xvec, xvec, W_b, 100)"
   ]
  },
  {
   "cell_type": "markdown",
   "id": "d0c422cf",
   "metadata": {},
   "source": [
    "Fock-state distribution\n",
    "-----------------------\n"
   ]
  },
  {
   "cell_type": "code",
   "execution_count": null,
   "id": "aca52953",
   "metadata": {},
   "outputs": [],
   "source": [
    "# pick arbitrary times and plot the photon distributions at those times\n",
    "# t_idx_vec = [0, 10, 20, 30]\n",
    "t_idx_vec = range(0, len(tlist), 25)\n",
    "\n",
    "fig, axes = plt.subplots(\n",
    "    len(t_idx_vec), 2, sharex=True, sharey=True,\n",
    "    figsize=(8, 2 * len(t_idx_vec))\n",
    ")\n",
    "\n",
    "for idx, t_idx in enumerate(t_idx_vec):\n",
    "    psi_a = ptrace(output.states[t_idx], 0)\n",
    "    psi_b = ptrace(output.states[t_idx], 1)\n",
    "\n",
    "    cont1 = axes[idx, 0].bar(range(0, N1), np.real(psi_a.diag()))\n",
    "    cont2 = axes[idx, 1].bar(range(0, N2), np.real(psi_b.diag()))\n",
    "\n",
    "fig.tight_layout()"
   ]
  },
  {
   "cell_type": "markdown",
   "id": "2549b829",
   "metadata": {},
   "source": [
    "## Nonclassical correlations"
   ]
  },
  {
   "cell_type": "code",
   "execution_count": null,
   "id": "da916822",
   "metadata": {},
   "outputs": [],
   "source": [
    "# second-order photon correlations\n",
    "g2_1 = np.zeros(tlist.shape)\n",
    "g2_2 = np.zeros(tlist.shape)\n",
    "g2_12 = np.zeros(tlist.shape)\n",
    "\n",
    "ad_ad_a_a = a.dag() * a.dag() * a * a\n",
    "bd_bd_b_b = b.dag() * b.dag() * b * b\n",
    "ad_a_bd_b = a.dag() * a * b.dag() * b\n",
    "\n",
    "cs_rhs = np.zeros(tlist.shape)\n",
    "cs_lhs = np.zeros(tlist.shape)\n",
    "\n",
    "for idx, psi in enumerate(output.states):\n",
    "    # g2 correlations\n",
    "    g2_1[idx] = expect(ad_ad_a_a, psi)\n",
    "    g2_2[idx] = expect(bd_bd_b_b, psi)\n",
    "    g2_12[idx] = expect(ad_a_bd_b, psi)\n",
    "\n",
    "    # cauchy-schwarz\n",
    "    cs_lhs[idx] = expect(ad_a_bd_b, psi)\n",
    "    cs_rhs[idx] = expect(ad_ad_a_a, psi)\n",
    "\n",
    "# normalize the correlation functions\n",
    "g2_1 = g2_1 / (na_e**2)\n",
    "g2_2 = g2_2 / (nb_e**2)\n",
    "g2_12 = g2_12 / (na_e * nb_e)"
   ]
  },
  {
   "cell_type": "markdown",
   "id": "2dff5a60",
   "metadata": {},
   "source": [
    "### Second-order coherence functions: Cauchy-Schwarz inequality\n",
    "\n",
    "Walls and Milburn, page 78: Classical states satisfy\n",
    "\n",
    "$[g_{12}^{(2)}]^2 \\leq g_{1}^{(2)}g_{2}^{(2)}$\n",
    "\n",
    "(variant of the Cauchy-Schwarz inequality)"
   ]
  },
  {
   "cell_type": "code",
   "execution_count": null,
   "id": "6149c8a7",
   "metadata": {},
   "outputs": [],
   "source": [
    "fig, axes = plt.subplots(2, 2, figsize=(8, 5))\n",
    "\n",
    "line1 = axes[0, 0].plot(tlist, g2_1, \"r\", linewidth=2)\n",
    "axes[0, 0].set_xlabel(\"$t$\", fontsize=18)\n",
    "axes[0, 0].set_ylabel(r\"$g_1^{(2)}(t)$\", fontsize=18)\n",
    "axes[0, 0].set_ylim(0, 3)\n",
    "\n",
    "line2 = axes[0, 1].plot(tlist, g2_2, \"b\", linewidth=2)\n",
    "axes[0, 1].set_xlabel(\"$t$\", fontsize=18)\n",
    "axes[0, 1].set_ylabel(r\"$g_2^{(2)}(t)$\", fontsize=18)\n",
    "axes[0, 1].set_ylim(0, 3)\n",
    "\n",
    "line3 = axes[1, 0].plot(tlist[10:], g2_12[10:], \"b\", linewidth=2)\n",
    "axes[1, 0].set_xlabel(\"$t$\", fontsize=18)\n",
    "axes[1, 0].set_ylabel(r\"$g_{12}^{(2)}(t)$\", fontsize=18)\n",
    "\n",
    "\n",
    "line4 = axes[1, 1].plot(tlist[20:], abs(g2_12[20:]) ** 2, \"b\", linewidth=2)\n",
    "line5 = axes[1, 1].plot(tlist, g2_1 * g2_2, \"r\", linewidth=2)\n",
    "axes[1, 1].set_xlabel(\"$t$\", fontsize=18)\n",
    "axes[1, 1].set_ylabel(r\"$|g_{12}^{(2)}(t)|^2$\", fontsize=18)\n",
    "\n",
    "fig.tight_layout()"
   ]
  },
  {
   "cell_type": "markdown",
   "id": "2daecec8",
   "metadata": {},
   "source": [
    "Clearly the two-mode squeezed state from the parameteric amplifier does not satisfy this inequality, and is therefore not classical."
   ]
  },
  {
   "cell_type": "markdown",
   "id": "b6773024",
   "metadata": {},
   "source": [
    "Cauchy-Schwarz inequality\n",
    "-------------------------\n",
    "\n",
    "Walls and Milburn, page 78: the Cauchy-Schwarz inequality for symmetric modes\n",
    "\n",
    "$\\langle a^\\dagger a b^\\dagger b\\rangle \\leq \\langle(a^\\dagger)^2a^2\\rangle$\n"
   ]
  },
  {
   "cell_type": "code",
   "execution_count": null,
   "id": "b3138a26",
   "metadata": {},
   "outputs": [],
   "source": [
    "fig, axes = plt.subplots(1, 2, figsize=(10, 4))\n",
    "\n",
    "line1 = axes[0].plot(tlist, cs_lhs, \"b\", tlist, cs_rhs, \"r\", linewidth=2)\n",
    "axes[0].set_xlabel(\"$t$\", fontsize=18)\n",
    "axes[0].set_title(r\"Cauchy-Schwarz inequality\", fontsize=18)\n",
    "\n",
    "line1 = axes[1].plot(tlist, cs_lhs / (cs_rhs), \"k\", linewidth=2)\n",
    "axes[1].set_xlabel(\"$t$\", fontsize=18)\n",
    "axes[1].set_title(r\"Cauchy-Schwarz ratio inequality\", fontsize=18)\n",
    "\n",
    "fig.tight_layout()"
   ]
  },
  {
   "cell_type": "markdown",
   "id": "79074d3e",
   "metadata": {},
   "source": [
    "Two-mode squeezing correlations\n",
    "-------------------------------\n",
    "\n",
    "The two-mode squeezing can be characterized by the parameter $\\sigma_2$ defined as\n",
    "\n",
    "$\\sigma_2 = \\frac{2\\sqrt{\\omega_a\\omega_b}\\left[\\langle a b\\rangle e^{i2\\theta_\\Sigma} + \\langle a^\\dagger b^\\dagger\\rangle e^{-i2\\theta_\\Sigma}\\right]}{\\omega_a\\langle a^\\dagger a + a a^\\dagger \\rangle +\\omega_b\\langle b^\\dagger b + b b^\\dagger \\rangle}$\n",
    "\n"
   ]
  },
  {
   "cell_type": "code",
   "execution_count": null,
   "id": "d8ae9349",
   "metadata": {},
   "outputs": [],
   "source": [
    "# pre-compute operators outside the loop\n",
    "op_a_b = a * b\n",
    "op_ad_bd = a.dag() * b.dag()\n",
    "op_ad_a_p_a_ad = a.dag() * a + a * a.dag()\n",
    "op_bd_b_p_b_bd = b.dag() * b + b * b.dag()\n",
    "\n",
    "e_a_b = np.zeros(tlist.shape, dtype=complex)\n",
    "e_ad_bd = np.zeros(tlist.shape, dtype=complex)\n",
    "e_ad_a_p_a_ad = np.zeros(tlist.shape, dtype=complex)\n",
    "e_bd_b_p_b_bd = np.zeros(tlist.shape, dtype=complex)\n",
    "\n",
    "for idx, psi in enumerate(output.states):\n",
    "\n",
    "    e_a_b[idx] = expect(op_a_b, psi)\n",
    "    e_ad_bd[idx] = expect(op_ad_bd, psi)\n",
    "    e_ad_a_p_a_ad[idx] = expect(op_ad_a_p_a_ad, psi)\n",
    "    e_bd_b_p_b_bd[idx] = expect(op_bd_b_p_b_bd, psi)\n",
    "\n",
    "# calculate the sigma_2\n",
    "theta = 3 * np.pi / 4\n",
    "w_a = w_b = 1\n",
    "sigma2 = (\n",
    "    2\n",
    "    * np.sqrt(w_a * w_b)\n",
    "    * (e_a_b * np.exp(2j * theta) + e_ad_bd * np.exp(-2j * theta))\n",
    "    / (w_a * e_ad_a_p_a_ad + w_b * e_bd_b_p_b_bd)\n",
    ")"
   ]
  },
  {
   "cell_type": "code",
   "execution_count": null,
   "id": "4d75d719",
   "metadata": {},
   "outputs": [],
   "source": [
    "fig, axes = plt.subplots(1, 1, figsize=(8, 4))\n",
    "\n",
    "line1 = axes.plot(\n",
    "    tlist, np.real(sigma2), \"b\", tlist, np.imag(sigma2), \"r--\", linewidth=2\n",
    ")\n",
    "axes.set_xlabel(\"$t$\", fontsize=18)\n",
    "axes.set_ylabel(r\"$\\sigma_2(t)$\", fontsize=18)\n",
    "axes.set_ylim(-1, 1)\n",
    "fig.tight_layout()"
   ]
  },
  {
   "cell_type": "markdown",
   "id": "fba1c17d",
   "metadata": {},
   "source": [
    "Quantum-classical indicator $\\langle:f^\\dagger f:\\rangle$\n",
    "---------------------------------------------------------\n",
    "\n",
    "Using $\\langle:f^\\dagger f:\\rangle$ we can again show that the output of the parametric amplifier is nonclassical. If we choose\n",
    "\n",
    "$f_\\theta = e^{i\\theta}b_- + e^{-i\\theta}b_-^\\dagger + ie^{i\\theta}b_+ -i e^{-i\\theta}b_+^\\dagger$\n",
    "\n",
    "we get\n",
    "\n",
    "$F_\\theta = \\langle:f_\\theta^\\dagger f_\\theta:\\rangle = 2\\langle a^\\dagger a\\rangle + 2\\langle b^\\dagger b\\rangle + 2i\\left(e^{2i\\theta} \\langle a b\\rangle - e^{-2i\\theta} \\langle a^\\dagger b^\\dagger\\rangle \\right)$"
   ]
  },
  {
   "cell_type": "code",
   "execution_count": null,
   "id": "be8d002a",
   "metadata": {},
   "outputs": [],
   "source": [
    "# pre-compute operators outside the loop\n",
    "op_ad_a = a.dag() * a\n",
    "op_bd_b = b.dag() * b\n",
    "op_a_b = a * b\n",
    "op_ad_bd = a.dag() * b.dag()\n",
    "\n",
    "e_ad_a = np.zeros(tlist.shape, dtype=complex)\n",
    "e_bd_b = np.zeros(tlist.shape, dtype=complex)\n",
    "e_a_b = np.zeros(tlist.shape, dtype=complex)\n",
    "e_ad_bd = np.zeros(tlist.shape, dtype=complex)\n",
    "\n",
    "for idx, psi in enumerate(output.states):\n",
    "\n",
    "    e_ad_a[idx] = expect(op_ad_a, psi)\n",
    "    e_bd_b[idx] = expect(op_bd_b, psi)\n",
    "    e_a_b[idx] = expect(op_a_b, psi)\n",
    "    e_ad_bd[idx] = expect(op_ad_bd, psi)\n",
    "\n",
    "# calculate the sigma_2, function of the angle parameter theta\n",
    "\n",
    "\n",
    "def F_theta(theta):\n",
    "    return (\n",
    "        2 * e_ad_a\n",
    "        + 2 * e_bd_b\n",
    "        + 2j * (np.exp(2j * theta) * e_a_b - np.exp(-2j * theta) * e_ad_bd)\n",
    "    )"
   ]
  },
  {
   "cell_type": "code",
   "execution_count": null,
   "id": "5b3eea4f",
   "metadata": {},
   "outputs": [],
   "source": [
    "fig, axes = plt.subplots(1, 1, figsize=(8, 3))\n",
    "\n",
    "for theta in np.linspace(0.0, 2 * np.pi, 100):\n",
    "    line1 = axes.plot(\n",
    "        tlist,\n",
    "        np.real(F_theta(theta)),\n",
    "        \"b\",\n",
    "        tlist,\n",
    "        np.imag(F_theta(theta)),\n",
    "        \"g--\",\n",
    "        linewidth=2,\n",
    "    )\n",
    "\n",
    "line = axes.plot(tlist, np.real(F_theta(0)), \"r\", linewidth=4)\n",
    "\n",
    "axes.set_xlabel(\"$t$\", fontsize=18)\n",
    "axes.set_ylabel(r\"$\\langle:f_\\theta^\\dagger f_\\theta:\\rangle$\", fontsize=18)\n",
    "axes.set_ylim(-2, 5)\n",
    "fig.tight_layout()"
   ]
  },
  {
   "cell_type": "markdown",
   "id": "2773fff5",
   "metadata": {},
   "source": [
    "Entanglement: logarithmic negativity\n",
    "------------------------------------"
   ]
  },
  {
   "cell_type": "markdown",
   "id": "0cd8d464",
   "metadata": {},
   "source": [
    "#### Wigner covariance matrix:\n",
    "\n",
    "In order to evaluate the logarithmic negativity we first need to construct the Wigner covariance matrix:\n",
    "\n",
    "$V_{ij} = \\frac{1}{2}\\langle R_iR_j+R_jR_i \\rangle$\n",
    "\n",
    "where \n",
    "\n",
    "$R^T = (q_1, p_1, q_2, p_2) = (q_a, p_a, q_b, p_b)$\n",
    "\n",
    "is a vector with the quadratures for the two modes $a$ and $b$:\n",
    "\n",
    "$q_a = e^{i\\theta_a}a + e^{-i\\theta_a}a^\\dagger$ \n",
    "\n",
    "$p_a = -i(e^{i\\theta_a}a - e^{-i\\theta_a}a^\\dagger)$\n",
    "\n",
    "and likewise for mode $b$.\n"
   ]
  },
  {
   "cell_type": "code",
   "execution_count": null,
   "id": "d4d603f3",
   "metadata": {},
   "outputs": [],
   "source": [
    "R_op = correlation_matrix_quadrature(a, b)"
   ]
  },
  {
   "cell_type": "code",
   "execution_count": null,
   "id": "d7828094",
   "metadata": {},
   "outputs": [],
   "source": [
    "def plot_covariance_matrix(V, ax):\n",
    "    \"\"\"\n",
    "    Plot a matrix-histogram representation of the\n",
    "    supplied Wigner covariance matrix.\n",
    "    \"\"\"\n",
    "    num_elem = 16\n",
    "    xpos, ypos = np.meshgrid(range(4), range(4))\n",
    "    xpos = xpos.T.flatten() - 0.5\n",
    "    ypos = ypos.T.flatten() - 0.5\n",
    "    zpos = np.zeros(num_elem)\n",
    "    dx = 0.75 * np.ones(num_elem)\n",
    "    dy = dx.copy()\n",
    "    dz = V.flatten()\n",
    "\n",
    "    nrm = mpl.colors.Normalize(-0.5, 0.5)\n",
    "    colors = cm.jet(nrm((np.sign(dz) * abs(dz) ** 0.75)))\n",
    "\n",
    "    ax.view_init(azim=-40, elev=60)\n",
    "    ax.bar3d(xpos, ypos, zpos, dx, dy, dz, color=colors)\n",
    "    ax.axes.xaxis.set_major_locator(plt.IndexLocator(1, -0.5))\n",
    "    ax.axes.yaxis.set_major_locator(plt.IndexLocator(1, -0.5))\n",
    "    ax.axes.xaxis.set_ticklabels((\"$q_-$\", \"$p_-$\", \"$q_+$\", \"$p_+$\"),\n",
    "                                 fontsize=12)\n",
    "    ax.axes.yaxis.set_ticklabels((\"$q_-$\", \"$p_-$\", \"$q_+$\", \"$p_+$\"),\n",
    "                                 fontsize=12)"
   ]
  },
  {
   "cell_type": "code",
   "execution_count": null,
   "id": "819a2204",
   "metadata": {},
   "outputs": [],
   "source": [
    "# pick arbitrary times and plot the photon distributions at those times\n",
    "t_idx_vec = [0, 20, 40]\n",
    "\n",
    "fig, axes = plt.subplots(\n",
    "    len(t_idx_vec), 1, subplot_kw={\"projection\": \"3d\"},\n",
    "    figsize=(10, 3 * len(t_idx_vec))\n",
    ")\n",
    "\n",
    "for idx, t_idx in enumerate(t_idx_vec):\n",
    "\n",
    "    # calculate the wigner covariance matrix\n",
    "    V = wigner_covariance_matrix(R=R_op, rho=output.states[idx])\n",
    "\n",
    "    plot_covariance_matrix(V, axes[idx])\n",
    "\n",
    "fig.tight_layout()"
   ]
  },
  {
   "cell_type": "code",
   "execution_count": null,
   "id": "0933ffb9",
   "metadata": {},
   "outputs": [],
   "source": [
    "\"\"\"\n",
    "Calculate the wigner covariance matrix logarithmic negativity\n",
    "for each time step\n",
    "\"\"\"\n",
    "logneg = np.zeros(tlist.shape)\n",
    "\n",
    "for idx, t_idx in enumerate(tlist):\n",
    "\n",
    "    V = wigner_covariance_matrix(R=R_op, rho=output.states[idx])\n",
    "\n",
    "    logneg[idx] = logarithmic_negativity(V)\n",
    "\n",
    "fig, axes = plt.subplots(1, 1, figsize=(8, 4))\n",
    "axes.plot(tlist, logneg, \"r\")\n",
    "axes.set_xlabel(\"$t$\", fontsize=18)\n",
    "axes.set_ylabel(\"Logarithmic negativity\", fontsize=18)\n",
    "fig.tight_layout()"
   ]
  },
  {
   "cell_type": "markdown",
   "id": "ebdd5b24",
   "metadata": {},
   "source": [
    "### Software versions:"
   ]
  },
  {
   "cell_type": "code",
   "execution_count": null,
   "id": "a04466c1",
   "metadata": {},
   "outputs": [],
   "source": [
    "about()"
   ]
  }
 ],
 "metadata": {
  "jupytext": {
   "cell_metadata_filter": "-all",
   "notebook_metadata_filter": "-jupytext.cell_metadata_filter,-jupytext.notebook_metadata_filter"
  },
  "kernelspec": {
   "display_name": "Python 3 (ipykernel)",
   "language": "python",
   "name": "python3"
  }
 },
 "nbformat": 4,
 "nbformat_minor": 5
}
