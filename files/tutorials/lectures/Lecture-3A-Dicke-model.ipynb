{
 "cells": [
  {
   "cell_type": "markdown",
   "id": "344ec917",
   "metadata": {},
   "source": [
    "# Lecture 3A - The Dicke model \n",
    "\n",
    "Author: J. R. Johansson (robert@riken.jp), https://jrjohansson.github.io/\n",
    "\n",
    "This lecture series was developed by J.R. Johannson. The original lecture notebooks are available [here](https://github.com/jrjohansson/qutip-lectures).\n",
    "\n",
    "This is a slightly modified version of the lectures, to work with the current release of QuTiP. You can find these lectures as a part of the [qutip-tutorials repository](https://github.com/qutip/qutip-tutorials). This lecture and other tutorial notebooks are indexed at the [QuTiP Tutorial webpage](https://qutip.org/tutorials.html)."
   ]
  },
  {
   "cell_type": "code",
   "execution_count": null,
   "id": "0e6ed87b",
   "metadata": {},
   "outputs": [],
   "source": [
    "import matplotlib.pyplot as plt\n",
    "import numpy as np\n",
    "from qutip import (about, destroy, entropy_vn, expect, hinton, jmat, ptrace,\n",
    "                   qeye, steadystate, tensor, wigner)\n",
    "\n",
    "%matplotlib inline"
   ]
  },
  {
   "cell_type": "markdown",
   "id": "6573f866",
   "metadata": {},
   "source": [
    "## Introduction\n",
    "\n",
    "The Dicke Hamiltonian consists of a cavity mode and $N$ spin-1/2 coupled to the cavity:\n",
    "\n",
    "<center>\n",
    "$\\displaystyle H_D = \\omega_0 \\sum_{i=1}^N \\sigma_z^{(i)} + \\omega a^\\dagger a + \\sum_{i}^N \\frac{\\lambda}{\\sqrt{N}}(a + a^\\dagger)(\\sigma_+^{(i)}+\\sigma_-^{(i)})$\n",
    "\n",
    "$\\displaystyle H_D = \\omega_0 J_z + \\omega a^\\dagger a +  \\frac{\\lambda}{\\sqrt{N}}(a + a^\\dagger)(J_+ + J_-)$\n",
    "</center>\n",
    "    \n",
    "where $J_z$ and $J_\\pm$ are the collective angular momentum operators for a pseudospin of length $j=N/2$ :\n",
    "\n",
    "<center>\n",
    "$\\displaystyle J_z = \\sum_{i=1}^N \\sigma_z^{(i)}$\n",
    "\n",
    "$\\displaystyle J_\\pm = \\sum_{i=1}^N \\sigma_\\pm^{(i)}$\n",
    "</center>\n",
    "\n",
    "### References\n",
    "\n",
    " * [R.H. Dicke, Phys. Rev. 93, 99–110 (1954)](https://journals.aps.org/pr/abstract/10.1103/PhysRev.93.99)"
   ]
  },
  {
   "cell_type": "markdown",
   "id": "b9a6cd29",
   "metadata": {},
   "source": [
    "## Setup problem in QuTiP"
   ]
  },
  {
   "cell_type": "code",
   "execution_count": null,
   "id": "59cf7d25",
   "metadata": {},
   "outputs": [],
   "source": [
    "w = 1.0\n",
    "w0 = 1.0\n",
    "\n",
    "g = 1.0\n",
    "gc = np.sqrt(w * w0) / 2  # critical coupling strength\n",
    "\n",
    "kappa = 0.05\n",
    "gamma = 0.15"
   ]
  },
  {
   "cell_type": "code",
   "execution_count": null,
   "id": "890cf544",
   "metadata": {},
   "outputs": [],
   "source": [
    "M = 16\n",
    "N = 4\n",
    "j = N / 2\n",
    "n = 2 * j + 1\n",
    "\n",
    "a = tensor(destroy(M), qeye(int(n)))\n",
    "Jp = tensor(qeye(M), jmat(j, \"+\"))\n",
    "Jm = tensor(qeye(M), jmat(j, \"-\"))\n",
    "Jz = tensor(qeye(M), jmat(j, \"z\"))\n",
    "\n",
    "H0 = w * a.dag() * a + w0 * Jz\n",
    "H1 = 1.0 / np.sqrt(N) * (a + a.dag()) * (Jp + Jm)\n",
    "H = H0 + g * H1\n",
    "\n",
    "H"
   ]
  },
  {
   "cell_type": "markdown",
   "id": "9612ae08",
   "metadata": {},
   "source": [
    "### Structure of the Hamiltonian"
   ]
  },
  {
   "cell_type": "code",
   "execution_count": null,
   "id": "62612ef6",
   "metadata": {},
   "outputs": [],
   "source": [
    "fig, ax = plt.subplots(1, 1, figsize=(10, 10))\n",
    "hinton(H, ax=ax);"
   ]
  },
  {
   "cell_type": "markdown",
   "id": "8e1cd7c7",
   "metadata": {},
   "source": [
    "## Find the ground state as a function of cavity-spin interaction strength"
   ]
  },
  {
   "cell_type": "code",
   "execution_count": null,
   "id": "143b0816",
   "metadata": {},
   "outputs": [],
   "source": [
    "g_vec = np.linspace(0.01, 1.0, 20)\n",
    "\n",
    "# Ground state and steady state for the Hamiltonian: H = H0 + g * H1\n",
    "psi_gnd_list = [(H0 + g * H1).groundstate()[1] for g in g_vec]"
   ]
  },
  {
   "cell_type": "markdown",
   "id": "490cf211",
   "metadata": {},
   "source": [
    "## Cavity ground state occupation probability"
   ]
  },
  {
   "cell_type": "code",
   "execution_count": null,
   "id": "29af843f",
   "metadata": {},
   "outputs": [],
   "source": [
    "n_gnd_vec = expect(a.dag() * a, psi_gnd_list)\n",
    "Jz_gnd_vec = expect(Jz, psi_gnd_list)"
   ]
  },
  {
   "cell_type": "code",
   "execution_count": null,
   "id": "c553fcc3",
   "metadata": {},
   "outputs": [],
   "source": [
    "fig, axes = plt.subplots(1, 2, sharex=True, figsize=(12, 4))\n",
    "\n",
    "axes[0].plot(g_vec, n_gnd_vec, \"b\", linewidth=2, label=\"cavity occupation\")\n",
    "axes[0].set_ylim(0, max(n_gnd_vec))\n",
    "axes[0].set_ylabel(\"Cavity gnd occ. prob.\", fontsize=16)\n",
    "axes[0].set_xlabel(\"interaction strength\", fontsize=16)\n",
    "\n",
    "axes[1].plot(g_vec, Jz_gnd_vec, \"b\", linewidth=2, label=\"cavity occupation\")\n",
    "axes[1].set_ylim(-j, j)\n",
    "axes[1].set_ylabel(r\"$\\langle J_z\\rangle$\", fontsize=16)\n",
    "axes[1].set_xlabel(\"interaction strength\", fontsize=16)\n",
    "\n",
    "fig.tight_layout()"
   ]
  },
  {
   "cell_type": "markdown",
   "id": "c3ef4c3c",
   "metadata": {},
   "source": [
    "## Cavity Wigner function and Fock distribution as a function of coupling strength"
   ]
  },
  {
   "cell_type": "code",
   "execution_count": null,
   "id": "53ab94fc",
   "metadata": {},
   "outputs": [],
   "source": [
    "psi_gnd_sublist = psi_gnd_list[::4]\n",
    "\n",
    "xvec = np.linspace(-7, 7, 200)\n",
    "\n",
    "fig_grid = (3, len(psi_gnd_sublist))\n",
    "fig = plt.figure(figsize=(3 * len(psi_gnd_sublist), 9))\n",
    "\n",
    "for idx, psi_gnd in enumerate(psi_gnd_sublist):\n",
    "\n",
    "    # trace out the cavity density matrix\n",
    "    rho_gnd_cavity = ptrace(psi_gnd, 0)\n",
    "\n",
    "    # calculate its wigner function\n",
    "    W = wigner(rho_gnd_cavity, xvec, xvec)\n",
    "\n",
    "    # plot its wigner function\n",
    "    ax = plt.subplot2grid(fig_grid, (0, idx))\n",
    "    ax.contourf(xvec, xvec, W, 100)\n",
    "\n",
    "    # plot its fock-state distribution\n",
    "    ax = plt.subplot2grid(fig_grid, (1, idx))\n",
    "    ax.bar(np.arange(0, M), np.real(rho_gnd_cavity.diag()),\n",
    "           color=\"blue\", alpha=0.6)\n",
    "    ax.set_ylim(0, 1)\n",
    "    ax.set_xlim(0, M)\n",
    "\n",
    "# plot the cavity occupation probability in the ground state\n",
    "ax = plt.subplot2grid(fig_grid, (2, 0), colspan=fig_grid[1])\n",
    "ax.plot(g_vec, n_gnd_vec, \"r\", linewidth=2, label=\"cavity occupation\")\n",
    "ax.set_xlim(0, max(g_vec))\n",
    "ax.set_ylim(0, max(n_gnd_vec) * 1.2)\n",
    "ax.set_ylabel(\"Cavity gnd occ. prob.\", fontsize=16)\n",
    "ax.set_xlabel(\"interaction strength\", fontsize=16)\n",
    "\n",
    "for g in g_vec[::4]:\n",
    "    ax.plot([g, g], [0, max(n_gnd_vec) * 1.2], \"b:\", linewidth=2.5)"
   ]
  },
  {
   "cell_type": "markdown",
   "id": "8740df63",
   "metadata": {},
   "source": [
    "### Entropy/Entanglement between spins and cavity"
   ]
  },
  {
   "cell_type": "code",
   "execution_count": null,
   "id": "e529e425",
   "metadata": {},
   "outputs": [],
   "source": [
    "entropy_tot = np.zeros(g_vec.shape)\n",
    "entropy_cavity = np.zeros(g_vec.shape)\n",
    "entropy_spin = np.zeros(g_vec.shape)\n",
    "\n",
    "for idx, psi_gnd in enumerate(psi_gnd_list):\n",
    "\n",
    "    rho_gnd_cavity = ptrace(psi_gnd, 0)\n",
    "    rho_gnd_spin = ptrace(psi_gnd, 1)\n",
    "\n",
    "    entropy_tot[idx] = entropy_vn(psi_gnd, 2)\n",
    "    entropy_cavity[idx] = entropy_vn(rho_gnd_cavity, 2)\n",
    "    entropy_spin[idx] = entropy_vn(rho_gnd_spin, 2)"
   ]
  },
  {
   "cell_type": "code",
   "execution_count": null,
   "id": "79fcb253",
   "metadata": {},
   "outputs": [],
   "source": [
    "fig, axes = plt.subplots(1, 1, figsize=(12, 6))\n",
    "axes.plot(\n",
    "    g_vec, entropy_tot, \"k\", g_vec, entropy_cavity, \"b\", g_vec,\n",
    "    entropy_spin, \"r--\"\n",
    ")\n",
    "\n",
    "axes.set_ylim(0, 1.5)\n",
    "axes.set_ylabel(\"Entropy of subsystems\", fontsize=16)\n",
    "axes.set_xlabel(\"interaction strength\", fontsize=16)\n",
    "\n",
    "fig.tight_layout()"
   ]
  },
  {
   "cell_type": "markdown",
   "id": "cb19a12b",
   "metadata": {},
   "source": [
    "# Entropy as a function interaction strength for increasing N\n",
    "\n",
    "### References\n",
    "\n",
    "* [Lambert et al., Phys. Rev. Lett. 92, 073602 (2004)](https://journals.aps.org/prl/abstract/10.1103/PhysRevLett.92.073602)."
   ]
  },
  {
   "cell_type": "code",
   "execution_count": null,
   "id": "27a4a7f7",
   "metadata": {},
   "outputs": [],
   "source": [
    "def calulcate_entropy(M, N, g_vec):\n",
    "\n",
    "    j = N / 2.0\n",
    "    n = 2 * j + 1\n",
    "\n",
    "    # setup the hamiltonian for the requested hilbert space sizes\n",
    "    a = tensor(destroy(M), qeye(int(n)))\n",
    "    Jp = tensor(qeye(M), jmat(j, \"+\"))\n",
    "    Jm = tensor(qeye(M), jmat(j, \"-\"))\n",
    "    Jz = tensor(qeye(M), jmat(j, \"z\"))\n",
    "\n",
    "    H0 = w * a.dag() * a + w0 * Jz\n",
    "    H1 = 1.0 / np.sqrt(N) * (a + a.dag()) * (Jp + Jm)\n",
    "\n",
    "    # Ground state and steady state for the Hamiltonian: H = H0 + g * H1\n",
    "    psi_gnd_list = [(H0 + g * H1).groundstate()[1] for g in g_vec]\n",
    "\n",
    "    entropy_cavity = np.zeros(g_vec.shape)\n",
    "    entropy_spin = np.zeros(g_vec.shape)\n",
    "\n",
    "    for idx, psi_gnd in enumerate(psi_gnd_list):\n",
    "\n",
    "        rho_gnd_cavity = ptrace(psi_gnd, 0)\n",
    "        rho_gnd_spin = ptrace(psi_gnd, 1)\n",
    "\n",
    "        entropy_cavity[idx] = entropy_vn(rho_gnd_cavity, 2)\n",
    "        entropy_spin[idx] = entropy_vn(rho_gnd_spin, 2)\n",
    "\n",
    "    return entropy_cavity, entropy_spin"
   ]
  },
  {
   "cell_type": "code",
   "execution_count": null,
   "id": "49b5fd5b",
   "metadata": {},
   "outputs": [],
   "source": [
    "g_vec = np.linspace(0.2, 0.8, 60)\n",
    "N_vec = [4, 8, 12, 16, 24, 32]\n",
    "MM = 25\n",
    "\n",
    "fig, axes = plt.subplots(1, 1, figsize=(12, 6))\n",
    "\n",
    "for NN in N_vec:\n",
    "\n",
    "    entropy_cavity, entropy_spin = calulcate_entropy(MM, NN, g_vec)\n",
    "\n",
    "    axes.plot(g_vec, entropy_cavity, \"b\", label=\"N = %d\" % NN)\n",
    "    axes.plot(g_vec, entropy_spin, \"r--\")\n",
    "\n",
    "axes.set_ylim(0, 1.75)\n",
    "axes.set_ylabel(\"Entropy of subsystems\", fontsize=16)\n",
    "axes.set_xlabel(\"interaction strength\", fontsize=16)\n",
    "axes.legend();"
   ]
  },
  {
   "cell_type": "markdown",
   "id": "1233d464",
   "metadata": {},
   "source": [
    "# Dissipative cavity: steady state instead of the ground state"
   ]
  },
  {
   "cell_type": "code",
   "execution_count": null,
   "id": "3831f95f",
   "metadata": {},
   "outputs": [],
   "source": [
    "# average number thermal photons in the bath coupling to the resonator\n",
    "n_th = 0.25\n",
    "\n",
    "c_ops = [np.sqrt(kappa * (n_th + 1)) * a, np.sqrt(kappa * n_th) * a.dag()]\n",
    "# c_ops = [sqrt(kappa) * a, sqrt(gamma) * Jm]"
   ]
  },
  {
   "cell_type": "markdown",
   "id": "e3e3b95e",
   "metadata": {},
   "source": [
    "## Find the ground state as a function of cavity-spin interaction strength"
   ]
  },
  {
   "cell_type": "code",
   "execution_count": null,
   "id": "3545dd53",
   "metadata": {},
   "outputs": [],
   "source": [
    "g_vec = np.linspace(0.01, 1.0, 20)\n",
    "\n",
    "# Ground state for the Hamiltonian: H = H0 + g * H1\n",
    "rho_ss_list = [steadystate(H0 + g * H1, c_ops) for g in g_vec]"
   ]
  },
  {
   "cell_type": "markdown",
   "id": "5e80f589",
   "metadata": {},
   "source": [
    "## Cavity ground state occupation probability"
   ]
  },
  {
   "cell_type": "code",
   "execution_count": null,
   "id": "a8e9fb47",
   "metadata": {},
   "outputs": [],
   "source": [
    "# calculate the expectation value of the number of photons in the cavity\n",
    "n_ss_vec = expect(a.dag() * a, rho_ss_list)"
   ]
  },
  {
   "cell_type": "code",
   "execution_count": null,
   "id": "ffed70c4",
   "metadata": {},
   "outputs": [],
   "source": [
    "fig, axes = plt.subplots(1, 1, sharex=True, figsize=(8, 4))\n",
    "\n",
    "axes.plot(g_vec, n_gnd_vec, \"b\", linewidth=2, label=\"cavity groundstate\")\n",
    "axes.plot(g_vec, n_ss_vec, \"r\", linewidth=2, label=\"cavity steadystate\")\n",
    "axes.set_ylim(0, max(n_ss_vec))\n",
    "axes.set_ylabel(\"Cavity occ. prob.\", fontsize=16)\n",
    "axes.set_xlabel(\"interaction strength\", fontsize=16)\n",
    "axes.legend(loc=0)\n",
    "\n",
    "fig.tight_layout()"
   ]
  },
  {
   "cell_type": "markdown",
   "id": "df96a05d",
   "metadata": {},
   "source": [
    "## Cavity Wigner function and Fock distribution as a function of coupling strength"
   ]
  },
  {
   "cell_type": "code",
   "execution_count": null,
   "id": "2e4bb383",
   "metadata": {},
   "outputs": [],
   "source": [
    "rho_ss_sublist = rho_ss_list[::4]\n",
    "\n",
    "xvec = np.linspace(-6, 6, 200)\n",
    "\n",
    "fig_grid = (3, len(rho_ss_sublist))\n",
    "fig = plt.figure(figsize=(3 * len(rho_ss_sublist), 9))\n",
    "\n",
    "for idx, rho_ss in enumerate(rho_ss_sublist):\n",
    "\n",
    "    # trace out the cavity density matrix\n",
    "    rho_ss_cavity = ptrace(rho_ss, 0)\n",
    "\n",
    "    # calculate its wigner function\n",
    "    W = wigner(rho_ss_cavity, xvec, xvec)\n",
    "\n",
    "    # plot its wigner function\n",
    "    ax = plt.subplot2grid(fig_grid, (0, idx))\n",
    "    ax.contourf(xvec, xvec, W, 100)\n",
    "\n",
    "    # plot its fock-state distribution\n",
    "    ax = plt.subplot2grid(fig_grid, (1, idx))\n",
    "    ax.bar(np.arange(0, M), np.real(rho_ss_cavity.diag()), color=\"blue\",\n",
    "           alpha=0.6)\n",
    "    ax.set_ylim(0, 1)\n",
    "\n",
    "# plot the cavity occupation probability in the ground state\n",
    "ax = plt.subplot2grid(fig_grid, (2, 0), colspan=fig_grid[1])\n",
    "ax.plot(g_vec, n_gnd_vec, \"b\", linewidth=2, label=\"cavity groundstate\")\n",
    "ax.plot(g_vec, n_ss_vec, \"r\", linewidth=2, label=\"cavity steadystate\")\n",
    "ax.set_xlim(0, max(g_vec))\n",
    "ax.set_ylim(0, max(n_ss_vec) * 1.2)\n",
    "ax.set_ylabel(\"Cavity gnd occ. prob.\", fontsize=16)\n",
    "ax.set_xlabel(\"interaction strength\", fontsize=16)\n",
    "\n",
    "for g in g_vec[::4]:\n",
    "    ax.plot([g, g], [0, max(n_ss_vec) * 1.2], \"b:\", linewidth=5)"
   ]
  },
  {
   "cell_type": "markdown",
   "id": "19046a73",
   "metadata": {},
   "source": [
    "## Entropy"
   ]
  },
  {
   "cell_type": "code",
   "execution_count": null,
   "id": "82cfdb9e",
   "metadata": {},
   "outputs": [],
   "source": [
    "entropy_tot = np.zeros(g_vec.shape)\n",
    "entropy_cavity = np.zeros(g_vec.shape)\n",
    "entropy_spin = np.zeros(g_vec.shape)\n",
    "\n",
    "for idx, rho_ss in enumerate(rho_ss_list):\n",
    "\n",
    "    rho_gnd_cavity = ptrace(rho_ss, 0)\n",
    "    rho_gnd_spin = ptrace(rho_ss, 1)\n",
    "\n",
    "    entropy_tot[idx] = entropy_vn(rho_ss, 2)\n",
    "    entropy_cavity[idx] = entropy_vn(rho_gnd_cavity, 2)\n",
    "    entropy_spin[idx] = entropy_vn(rho_gnd_spin, 2)"
   ]
  },
  {
   "cell_type": "code",
   "execution_count": null,
   "id": "fe07f691",
   "metadata": {},
   "outputs": [],
   "source": [
    "fig, axes = plt.subplots(1, 1, figsize=(12, 6))\n",
    "\n",
    "axes.plot(g_vec, entropy_tot, \"k\", label=\"total\")\n",
    "axes.plot(g_vec, entropy_cavity, \"b\", label=\"cavity\")\n",
    "axes.plot(g_vec, entropy_spin, \"r--\", label=\"spin\")\n",
    "\n",
    "axes.set_ylabel(\"Entropy of subsystems\", fontsize=16)\n",
    "axes.set_xlabel(\"interaction strength\", fontsize=16)\n",
    "axes.legend(loc=0)\n",
    "fig.tight_layout()"
   ]
  },
  {
   "cell_type": "markdown",
   "id": "e9232adb",
   "metadata": {},
   "source": [
    "### Software versions"
   ]
  },
  {
   "cell_type": "code",
   "execution_count": null,
   "id": "f18f3ec2",
   "metadata": {},
   "outputs": [],
   "source": [
    "about()"
   ]
  },
  {
   "cell_type": "code",
   "execution_count": null,
   "id": "084b5e1e",
   "metadata": {},
   "outputs": [],
   "source": []
  }
 ],
 "metadata": {
  "jupytext": {
   "cell_metadata_filter": "-all",
   "notebook_metadata_filter": "-jupytext.cell_metadata_filter,-jupytext.notebook_metadata_filter"
  },
  "kernelspec": {
   "display_name": "Python 3 (ipykernel)",
   "language": "python",
   "name": "python3"
  }
 },
 "nbformat": 4,
 "nbformat_minor": 5
}
