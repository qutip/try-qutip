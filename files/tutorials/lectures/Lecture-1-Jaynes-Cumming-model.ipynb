{
 "cells": [
  {
   "cell_type": "markdown",
   "id": "19b5097f",
   "metadata": {},
   "source": [
    "# Lecture 1 - Vacuum Rabi oscillations in the Jaynes-Cummings model"
   ]
  },
  {
   "cell_type": "markdown",
   "id": "0f6c69f6",
   "metadata": {},
   "source": [
    "Author: J. R. Johansson (robert@riken.jp), https://jrjohansson.github.io/\n",
    "\n",
    "This lecture series was developed by J.R. Johannson. The original lecture notebooks are available [here](https://github.com/jrjohansson/qutip-lectures).\n",
    "\n",
    "This is a slightly modified version of the lectures, to work with the current release of QuTiP. You can find these lectures as a part of the [qutip-tutorials repository](https://github.com/qutip/qutip-tutorials). This lecture and other tutorial notebooks are indexed at the [QuTiP Tutorial webpage](https://qutip.org/tutorials.html)."
   ]
  },
  {
   "cell_type": "code",
   "execution_count": null,
   "id": "f1026ebc",
   "metadata": {},
   "outputs": [],
   "source": [
    "import matplotlib as mpl\n",
    "import matplotlib.pyplot as plt\n",
    "import numpy as np\n",
    "from qutip import (about, basis, destroy, mesolve, ptrace, qeye,\n",
    "                   tensor, wigner, anim_wigner)\n",
    "# set a parameter to see animations in line\n",
    "from matplotlib import rc\n",
    "rc('animation', html='jshtml')\n",
    "\n",
    "%matplotlib inline"
   ]
  },
  {
   "cell_type": "markdown",
   "id": "bf158faa",
   "metadata": {},
   "source": [
    "# Introduction\n",
    "\n",
    "The Jaynes-Cumming model is the simplest possible model of quantum mechanical light-matter interaction, describing a single two-level atom interacting with a single electromagnetic cavity mode. The Hamiltonian for this system is (in dipole interaction form)\n",
    "\n",
    "### $H = \\hbar \\omega_c a^\\dagger a + \\frac{1}{2}\\hbar\\omega_a\\sigma_z + \\hbar g(a^\\dagger + a)(\\sigma_- + \\sigma_+)$\n",
    "\n",
    "or with the rotating-wave approximation\n",
    "\n",
    "### $H_{\\rm RWA} = \\hbar \\omega_c a^\\dagger a + \\frac{1}{2}\\hbar\\omega_a\\sigma_z + \\hbar g(a^\\dagger\\sigma_- + a\\sigma_+)$\n",
    "\n",
    "where $\\omega_c$ and $\\omega_a$ are the frequencies of the cavity and atom, respectively, and $g$ is the interaction strength."
   ]
  },
  {
   "cell_type": "markdown",
   "id": "a009db82",
   "metadata": {},
   "source": [
    "### Problem parameters\n",
    "\n",
    "\n",
    "Here we use units where $\\hbar = 1$:"
   ]
  },
  {
   "cell_type": "code",
   "execution_count": null,
   "id": "bdd94712",
   "metadata": {},
   "outputs": [],
   "source": [
    "wc = 1.0 * 2 * np.pi  # cavity frequency\n",
    "wa = 1.0 * 2 * np.pi  # atom frequency\n",
    "g = 0.05 * 2 * np.pi  # coupling strength\n",
    "kappa = 0.005  # cavity dissipation rate\n",
    "gamma = 0.05  # atom dissipation rate\n",
    "N = 15  # number of cavity fock states\n",
    "n_th_a = 0.0  # avg number of thermal bath excitation\n",
    "use_rwa = True\n",
    "\n",
    "tlist = np.linspace(0, 25, 101)"
   ]
  },
  {
   "cell_type": "markdown",
   "id": "8b964312",
   "metadata": {},
   "source": [
    "### Setup the operators, the Hamiltonian and initial state"
   ]
  },
  {
   "cell_type": "code",
   "execution_count": null,
   "id": "1289823a",
   "metadata": {},
   "outputs": [],
   "source": [
    "# intial state\n",
    "psi0 = tensor(basis(N, 0), basis(2, 1))  # start with an excited atom\n",
    "\n",
    "# operators\n",
    "a = tensor(destroy(N), qeye(2))\n",
    "sm = tensor(qeye(N), destroy(2))\n",
    "\n",
    "# Hamiltonian\n",
    "if use_rwa:\n",
    "    H = wc * a.dag() * a + wa * sm.dag() * sm + \\\n",
    "        g * (a.dag() * sm + a * sm.dag())\n",
    "else:\n",
    "    H = wc * a.dag() * a + wa * sm.dag() * sm + \\\n",
    "        g * (a.dag() + a) * (sm + sm.dag())"
   ]
  },
  {
   "cell_type": "markdown",
   "id": "ff274bc1",
   "metadata": {},
   "source": [
    "### Create a list of collapse operators that describe the dissipation"
   ]
  },
  {
   "cell_type": "code",
   "execution_count": null,
   "id": "7b9fbc85",
   "metadata": {},
   "outputs": [],
   "source": [
    "c_ops = []\n",
    "\n",
    "# cavity relaxation\n",
    "rate = kappa * (1 + n_th_a)\n",
    "if rate > 0.0:\n",
    "    c_ops.append(np.sqrt(rate) * a)\n",
    "\n",
    "# cavity excitation, if temperature > 0\n",
    "rate = kappa * n_th_a\n",
    "if rate > 0.0:\n",
    "    c_ops.append(np.sqrt(rate) * a.dag())\n",
    "\n",
    "# qubit relaxation\n",
    "rate = gamma\n",
    "if rate > 0.0:\n",
    "    c_ops.append(np.sqrt(rate) * sm)"
   ]
  },
  {
   "cell_type": "markdown",
   "id": "a899aaa5",
   "metadata": {},
   "source": [
    "### Evolve the system\n",
    "\n",
    "Here we evolve the system with the Lindblad master equation solver, and we request that the expectation values of the operators $a^\\dagger a$ and $\\sigma_+\\sigma_-$ are returned by the solver by passing the list `[a.dag()*a, sm.dag()*sm]` as the fifth argument to the solver."
   ]
  },
  {
   "cell_type": "code",
   "execution_count": null,
   "id": "adb6a2d0",
   "metadata": {},
   "outputs": [],
   "source": [
    "output = mesolve(H, psi0, tlist, c_ops, [a.dag() * a, sm.dag() * sm])"
   ]
  },
  {
   "cell_type": "markdown",
   "id": "97c3be5e",
   "metadata": {},
   "source": [
    "## Visualize the results\n",
    "\n",
    "Here we plot the excitation probabilities of the cavity and the atom (these expectation values were calculated by the `mesolve` above). We can clearly see how energy is being coherently transferred back and forth between the cavity and the atom."
   ]
  },
  {
   "cell_type": "code",
   "execution_count": null,
   "id": "8b83bb1e",
   "metadata": {},
   "outputs": [],
   "source": [
    "n_c = output.expect[0]\n",
    "n_a = output.expect[1]\n",
    "\n",
    "fig, axes = plt.subplots(1, 1, figsize=(10, 6))\n",
    "\n",
    "axes.plot(tlist, n_c, label=\"Cavity\")\n",
    "axes.plot(tlist, n_a, label=\"Atom excited state\")\n",
    "axes.legend(loc=0)\n",
    "axes.set_xlabel(\"Time\")\n",
    "axes.set_ylabel(\"Occupation probability\")\n",
    "axes.set_title(\"Vacuum Rabi oscillations\");"
   ]
  },
  {
   "cell_type": "markdown",
   "id": "41880ab9",
   "metadata": {},
   "source": [
    "## Cavity wigner function\n",
    "\n",
    "In addition to the cavity's and atom's excitation probabilities, we may also be interested in for example the wigner function as a function of time. The Wigner function can give some valuable insight in the nature of the state of the resonators.\n",
    "\n",
    "To calculate the Wigner function in QuTiP, we first recalculte the evolution without specifying any expectation value operators, which will result in that the solver return a list of density matrices for the system for the given time coordinates."
   ]
  },
  {
   "cell_type": "code",
   "execution_count": null,
   "id": "636e6157",
   "metadata": {},
   "outputs": [],
   "source": [
    "output = mesolve(H, psi0, tlist, c_ops, [])"
   ]
  },
  {
   "cell_type": "markdown",
   "id": "cd105eef",
   "metadata": {},
   "source": [
    "Now, `output.states` contains a list of density matrices for the system for the time points specified in the list `tlist`:"
   ]
  },
  {
   "cell_type": "code",
   "execution_count": null,
   "id": "f15a816a",
   "metadata": {},
   "outputs": [],
   "source": [
    "output"
   ]
  },
  {
   "cell_type": "code",
   "execution_count": null,
   "id": "470d8f78",
   "metadata": {},
   "outputs": [],
   "source": [
    "type(output.states)"
   ]
  },
  {
   "cell_type": "code",
   "execution_count": null,
   "id": "712c4bee",
   "metadata": {},
   "outputs": [],
   "source": [
    "len(output.states)"
   ]
  },
  {
   "cell_type": "code",
   "execution_count": null,
   "id": "08f04f25",
   "metadata": {},
   "outputs": [],
   "source": [
    "# indexing the list with -1 results in the last element in the list\n",
    "output.states[-1]"
   ]
  },
  {
   "cell_type": "markdown",
   "id": "e2fd8e53",
   "metadata": {},
   "source": [
    "Now let's look at the Wigner functions at the point in time when atom is in its ground state: $t = \\\\{5, 15, 25\\\\}$ (see the plot above).\n",
    "\n",
    "For each of these points in time we need to:\n",
    "\n",
    " 1. Find the system density matrix for the points in time that we are interested in.\n",
    " 2. Trace out the atom and obtain the reduced density matrix for the cavity.\n",
    " 3. Calculate and visualize the Wigner function fo the reduced cavity density matrix."
   ]
  },
  {
   "cell_type": "code",
   "execution_count": null,
   "id": "74d696b9",
   "metadata": {},
   "outputs": [],
   "source": [
    "# find the indices of the density matrices for the times we are interested in\n",
    "t_idx = np.where([tlist == t for t in [0.0, 5.0, 15.0, 25.0]])[1]\n",
    "tlist[t_idx]"
   ]
  },
  {
   "cell_type": "code",
   "execution_count": null,
   "id": "70233cce",
   "metadata": {},
   "outputs": [],
   "source": [
    "# get a list density matrices\n",
    "rho_list = [output.states[i] for i in t_idx]"
   ]
  },
  {
   "cell_type": "code",
   "execution_count": null,
   "id": "a51e0600",
   "metadata": {},
   "outputs": [],
   "source": [
    "# loop over the list of density matrices\n",
    "\n",
    "xvec = np.linspace(-3, 3, 200)\n",
    "\n",
    "fig, axes = plt.subplots(1, len(rho_list), sharex=True,\n",
    "                         figsize=(3 * len(rho_list), 3))\n",
    "\n",
    "for idx, rho in enumerate(rho_list):\n",
    "\n",
    "    # trace out the atom from the density matrix, to obtain\n",
    "    # the reduced density matrix for the cavity\n",
    "    rho_cavity = ptrace(rho, 0)\n",
    "\n",
    "    # calculate its wigner function\n",
    "    W = wigner(rho_cavity, xvec, xvec)\n",
    "\n",
    "    # plot its wigner function\n",
    "    axes[idx].contourf(\n",
    "        xvec,\n",
    "        xvec,\n",
    "        W,\n",
    "        100,\n",
    "        norm=mpl.colors.Normalize(-0.25, 0.25),\n",
    "        cmap=plt.get_cmap(\"RdBu\"),\n",
    "    )\n",
    "\n",
    "    axes[idx].set_title(r\"$t = %.1f$\" % tlist[t_idx][idx], fontsize=16)"
   ]
  },
  {
   "cell_type": "markdown",
   "id": "8fcb6980",
   "metadata": {},
   "source": [
    "At $t =0$, the cavity is in it's ground state. At $t = 5, 15, 25$ it reaches it's maxium occupation in this Rabi-vacuum oscillation process. We can note that for $t=5$ and $t=15$ the Wigner function has negative values, indicating a truely quantum mechanical state. At $t=25$, however, the wigner function no longer has negative values and can therefore be considered a classical state.\n",
    "\n",
    "Also, `qutip.anim_wigner` is useful to visualize the oscillation. It calculates the wigner function inside it so all you need to do is pass the reduced density matrices. You can pass options to it. For example, `projection='3d'` produces a 3d plot. You can see the oscillation easily with the 3d plot."
   ]
  },
  {
   "cell_type": "code",
   "execution_count": null,
   "id": "901290db",
   "metadata": {},
   "outputs": [],
   "source": [
    "fig = plt.figure(figsize=(6, 6))\n",
    "ax = fig.add_subplot(111, projection='3d')\n",
    "ax.view_init(elev=0)\n",
    "\n",
    "rho_cavity = list()\n",
    "\n",
    "xvec = np.linspace(-3, 3, 150)\n",
    "\n",
    "for idx, rho in enumerate(output.states):\n",
    "    rho_cavity.append(ptrace(rho, 0))\n",
    "\n",
    "fig, ani = anim_wigner(rho_cavity, xvec, xvec, projection='3d',\n",
    "                       colorbar=True, fig=fig, ax=ax)\n",
    "\n",
    "# close an auto-generated plot and animation\n",
    "plt.close()\n",
    "ani"
   ]
  },
  {
   "cell_type": "markdown",
   "id": "75392314",
   "metadata": {},
   "source": [
    "### Alternative view of the same thing"
   ]
  },
  {
   "cell_type": "code",
   "execution_count": null,
   "id": "b6b7f427",
   "metadata": {},
   "outputs": [],
   "source": [
    "t_idx = np.where([tlist == t for t in [0.0, 5.0, 10, 15, 20, 25]])[1]\n",
    "rho_list = [output.states[i] for i in t_idx]\n",
    "\n",
    "fig_grid = (2, len(rho_list) * 2)\n",
    "fig = plt.figure(figsize=(2.5 * len(rho_list), 5))\n",
    "\n",
    "for idx, rho in enumerate(rho_list):\n",
    "    rho_cavity = ptrace(rho, 0)\n",
    "    W = wigner(rho_cavity, xvec, xvec)\n",
    "    ax = plt.subplot2grid(fig_grid, (0, 2 * idx), colspan=2)\n",
    "    ax.contourf(\n",
    "        xvec,\n",
    "        xvec,\n",
    "        W,\n",
    "        100,\n",
    "        norm=mpl.colors.Normalize(-0.25, 0.25),\n",
    "        cmap=plt.get_cmap(\"RdBu\"),\n",
    "    )\n",
    "    ax.set_title(r\"$t = %.1f$\" % tlist[t_idx][idx], fontsize=16)\n",
    "\n",
    "# plot the cavity occupation probability in the ground state\n",
    "ax = plt.subplot2grid(fig_grid, (1, 1), colspan=(fig_grid[1] - 2))\n",
    "ax.plot(tlist, n_c, label=\"Cavity\")\n",
    "ax.plot(tlist, n_a, label=\"Atom excited state\")\n",
    "ax.legend()\n",
    "ax.set_xlabel(\"Time\")\n",
    "ax.set_ylabel(\"Occupation probability\");"
   ]
  },
  {
   "cell_type": "markdown",
   "id": "9a77bbaf",
   "metadata": {},
   "source": [
    "### Software versions"
   ]
  },
  {
   "cell_type": "code",
   "execution_count": null,
   "id": "8fca715f",
   "metadata": {},
   "outputs": [],
   "source": [
    "about()"
   ]
  },
  {
   "cell_type": "code",
   "execution_count": null,
   "id": "636fc404",
   "metadata": {},
   "outputs": [],
   "source": []
  }
 ],
 "metadata": {
  "jupytext": {
   "cell_metadata_filter": "-all",
   "notebook_metadata_filter": "-jupytext.cell_metadata_filter,-jupytext.notebook_metadata_filter"
  },
  "kernelspec": {
   "display_name": "Python 3 (ipykernel)",
   "language": "python",
   "name": "python3"
  }
 },
 "nbformat": 4,
 "nbformat_minor": 5
}
