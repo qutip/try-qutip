{
 "cells": [
  {
   "cell_type": "markdown",
   "id": "1aa3a90b",
   "metadata": {},
   "source": [
    "# Lecture 2B - Single-Atom-Lasing"
   ]
  },
  {
   "cell_type": "markdown",
   "id": "71480c59",
   "metadata": {},
   "source": [
    "Author: J. R. Johansson (robert@riken.jp), https://jrjohansson.github.io/\n",
    "\n",
    "This lecture series was developed by J.R. Johannson. The original lecture notebooks are available [here](https://github.com/jrjohansson/qutip-lectures).\n",
    "\n",
    "This is a slightly modified version of the lectures, to work with the current release of QuTiP. You can find these lectures as a part of the [qutip-tutorials repository](https://github.com/qutip/qutip-tutorials). This lecture and other tutorial notebooks are indexed at the [QuTiP Tutorial webpage](https://qutip.org/tutorials.html)."
   ]
  },
  {
   "cell_type": "code",
   "execution_count": null,
   "id": "d77a73b8",
   "metadata": {},
   "outputs": [],
   "source": [
    "# setup the matplotlib graphics library and configure it to show\n",
    "# figures inline in the notebook\n",
    "import matplotlib as mpl\n",
    "import matplotlib.pyplot as plt\n",
    "import numpy as np\n",
    "from IPython.display import Image\n",
    "from qutip import (SolverOptions, about, basis, destroy, expect, mesolve,\n",
    "                   ptrace, qeye, sigmax, steadystate, tensor, wigner)\n",
    "\n",
    "%matplotlib inline"
   ]
  },
  {
   "cell_type": "markdown",
   "id": "d31e8597",
   "metadata": {},
   "source": [
    "# Introduction and model\n",
    "\n",
    "Consider a single atom coupled to a single cavity mode, as illustrated in the figure below. If there atom excitation rate $\\Gamma$ exceeds the relaxation rate, a population inversion can occur in the atom, and if coupled to the cavity the atom can then act as a photon pump on the cavity."
   ]
  },
  {
   "cell_type": "code",
   "execution_count": null,
   "id": "75caf9b8",
   "metadata": {},
   "outputs": [],
   "source": [
    "Image(filename=\"images/schematic-lasing-model.png\")"
   ]
  },
  {
   "cell_type": "markdown",
   "id": "885906aa",
   "metadata": {},
   "source": [
    "The coherent dynamics in this model is described by the Hamiltonian\n",
    "\n",
    "$H = \\hbar \\omega_0 a^\\dagger a + \\frac{1}{2}\\hbar\\omega_a\\sigma_z + \\hbar g\\sigma_x(a^\\dagger + a)$\n",
    "\n",
    "where $\\omega_0$ is the cavity energy splitting, $\\omega_a$ is the atom energy splitting and $g$ is the atom-cavity interaction strength.\n",
    "\n",
    "In addition to the coherent dynamics the following incoherent processes are also present: \n",
    "\n",
    "1. $\\kappa$ relaxation and thermal excitations of the cavity, \n",
    "2. $\\Gamma$ atomic excitation rate (pumping process).\n",
    "\n",
    "The Lindblad master equation for the model is:\n",
    "\n",
    "$$\\frac{d}{dt}\\rho = -i[H, \\rho] + \\Gamma\\left(\\sigma_+\\rho\\sigma_- - \\frac{1}{2}\\sigma_-\\sigma_+\\rho - \\frac{1}{2}\\rho\\sigma_-\\sigma_+\\right)\n",
    "+ \\kappa (1 + n_{\\rm th}) \\left(a\\rho a^\\dagger - \\frac{1}{2}a^\\dagger a\\rho - \\frac{1}{2}\\rho a^\\dagger a\\right)\n",
    "+ \\kappa n_{\\rm th} \\left(a^\\dagger\\rho a - \\frac{1}{2}a a^\\dagger \\rho - \\frac{1}{2}\\rho a a^\\dagger\\right)$$\n",
    "\n",
    "in units where $\\hbar = 1$.\n",
    "\n",
    "References:\n",
    "\n",
    " * [Yi Mu, C.M. Savage, Phys. Rev. A 46, 5944 (1992)](https://journals.aps.org/pra/abstract/10.1103/PhysRevA.46.5944)\n",
    "\n",
    " * [D.A. Rodrigues, J. Imbers, A.D. Armour, Phys. Rev. Lett. 98, 067204 (2007)](https://journals.aps.org/prl/abstract/10.1103/PhysRevLett.98.067204)\n",
    "\n",
    " * [S. Ashhab, J.R. Johansson, A.M. Zagoskin, F. Nori, New J. Phys. 11, 023030 (2009)](http://dx.doi.org/10.1088/1367-2630/11/2/023030)"
   ]
  },
  {
   "cell_type": "markdown",
   "id": "368f69a6",
   "metadata": {},
   "source": [
    "### Problem parameters"
   ]
  },
  {
   "cell_type": "code",
   "execution_count": null,
   "id": "6fdbccd9",
   "metadata": {},
   "outputs": [],
   "source": [
    "w0 = 1.0 * 2 * np.pi  # cavity frequency\n",
    "wa = 1.0 * 2 * np.pi  # atom frequency\n",
    "g = 0.05 * 2 * np.pi  # coupling strength\n",
    "\n",
    "kappa = 0.04  # cavity dissipation rate\n",
    "gamma = 0.00  # atom dissipation rate\n",
    "Gamma = 0.35  # atom pump rate\n",
    "\n",
    "N = 50  # number of cavity fock states\n",
    "n_th_a = 0.0  # avg number of thermal bath excitation\n",
    "\n",
    "tlist = np.linspace(0, 150, 101)"
   ]
  },
  {
   "cell_type": "markdown",
   "id": "c1a891b4",
   "metadata": {},
   "source": [
    "### Setup the operators, the Hamiltonian and initial state"
   ]
  },
  {
   "cell_type": "code",
   "execution_count": null,
   "id": "22f0934f",
   "metadata": {},
   "outputs": [],
   "source": [
    "# intial state\n",
    "psi0 = tensor(basis(N, 0), basis(2, 0))  # start without excitations\n",
    "\n",
    "# operators\n",
    "a = tensor(destroy(N), qeye(2))\n",
    "sm = tensor(qeye(N), destroy(2))\n",
    "sx = tensor(qeye(N), sigmax())\n",
    "\n",
    "# Hamiltonian\n",
    "H = w0 * a.dag() * a + wa * sm.dag() * sm + g * (a.dag() + a) * sx"
   ]
  },
  {
   "cell_type": "markdown",
   "id": "bf3a2525",
   "metadata": {},
   "source": [
    "### Create a list of collapse operators that describe the dissipation"
   ]
  },
  {
   "cell_type": "code",
   "execution_count": null,
   "id": "77272fe8",
   "metadata": {},
   "outputs": [],
   "source": [
    "# collapse operators\n",
    "c_ops = []\n",
    "\n",
    "rate = kappa * (1 + n_th_a)\n",
    "if rate > 0.0:\n",
    "    c_ops.append(np.sqrt(rate) * a)\n",
    "\n",
    "rate = kappa * n_th_a\n",
    "if rate > 0.0:\n",
    "    c_ops.append(np.sqrt(rate) * a.dag())\n",
    "\n",
    "rate = gamma\n",
    "if rate > 0.0:\n",
    "    c_ops.append(np.sqrt(rate) * sm)\n",
    "\n",
    "rate = Gamma\n",
    "if rate > 0.0:\n",
    "    c_ops.append(np.sqrt(rate) * sm.dag())"
   ]
  },
  {
   "cell_type": "markdown",
   "id": "224db4dd",
   "metadata": {},
   "source": [
    "### Evolve the system\n",
    "\n",
    "Here we evolve the system with the Lindblad master equation solver, and we request that the expectation values of the operators $a^\\dagger a$ and $\\sigma_+\\sigma_-$ are returned by the solver by passing the list `[a.dag()*a, sm.dag()*sm]` as the fifth argument to the solver."
   ]
  },
  {
   "cell_type": "code",
   "execution_count": null,
   "id": "3c42deb1",
   "metadata": {},
   "outputs": [],
   "source": [
    "opt = SolverOptions(nsteps=2000)  # allow extra time-steps\n",
    "output = mesolve(H, psi0, tlist, c_ops, [a.dag() * a, sm.dag() * sm],\n",
    "                 options=opt)"
   ]
  },
  {
   "cell_type": "markdown",
   "id": "a5db6eb4",
   "metadata": {},
   "source": [
    "## Visualize the results\n",
    "\n",
    "Here we plot the excitation probabilities of the cavity and the atom (these expectation values were calculated by the `mesolve` above)."
   ]
  },
  {
   "cell_type": "code",
   "execution_count": null,
   "id": "15f917f1",
   "metadata": {},
   "outputs": [],
   "source": [
    "n_c = output.expect[0]\n",
    "n_a = output.expect[1]\n",
    "\n",
    "fig, axes = plt.subplots(1, 1, figsize=(8, 6))\n",
    "\n",
    "axes.plot(tlist, n_c, label=\"Cavity\")\n",
    "axes.plot(tlist, n_a, label=\"Atom excited state\")\n",
    "axes.set_xlim(0, 150)\n",
    "axes.legend(loc=0)\n",
    "axes.set_xlabel(\"Time\")\n",
    "axes.set_ylabel(\"Occupation probability\");"
   ]
  },
  {
   "cell_type": "markdown",
   "id": "d34c92e7",
   "metadata": {},
   "source": [
    "## Steady state: cavity fock-state distribution and wigner function"
   ]
  },
  {
   "cell_type": "code",
   "execution_count": null,
   "id": "91854e57",
   "metadata": {},
   "outputs": [],
   "source": [
    "rho_ss = steadystate(H, c_ops)"
   ]
  },
  {
   "cell_type": "code",
   "execution_count": null,
   "id": "3170ae9c",
   "metadata": {},
   "outputs": [],
   "source": [
    "fig, axes = plt.subplots(1, 2, figsize=(12, 6))\n",
    "\n",
    "xvec = np.linspace(-5, 5, 200)\n",
    "\n",
    "rho_cavity = ptrace(rho_ss, 0)\n",
    "W = wigner(rho_cavity, xvec, xvec)\n",
    "wlim = abs(W).max()\n",
    "\n",
    "axes[1].contourf(\n",
    "    xvec,\n",
    "    xvec,\n",
    "    W,\n",
    "    100,\n",
    "    norm=mpl.colors.Normalize(-wlim, wlim),\n",
    "    cmap=plt.get_cmap(\"RdBu\"),\n",
    ")\n",
    "axes[1].set_xlabel(r\"Im $\\alpha$\", fontsize=18)\n",
    "axes[1].set_ylabel(r\"Re $\\alpha$\", fontsize=18)\n",
    "\n",
    "axes[0].bar(np.arange(0, N), np.real(rho_cavity.diag()), color=\"blue\",\n",
    "            alpha=0.6)\n",
    "axes[0].set_ylim(0, 1)\n",
    "axes[0].set_xlim(0, N)\n",
    "axes[0].set_xlabel(\"Fock number\", fontsize=18)\n",
    "axes[0].set_ylabel(\"Occupation probability\", fontsize=18);"
   ]
  },
  {
   "cell_type": "markdown",
   "id": "e22d4870",
   "metadata": {},
   "source": [
    "## Cavity fock-state distribution and Wigner function as a function of time"
   ]
  },
  {
   "cell_type": "code",
   "execution_count": null,
   "id": "7432675d",
   "metadata": {},
   "outputs": [],
   "source": [
    "tlist = np.linspace(0, 25, 5)\n",
    "output = mesolve(H, psi0, tlist, c_ops, [],\n",
    "                 options=SolverOptions(nsteps=5000))"
   ]
  },
  {
   "cell_type": "code",
   "execution_count": null,
   "id": "83356c98",
   "metadata": {},
   "outputs": [],
   "source": [
    "rho_ss_sublist = output.states\n",
    "\n",
    "xvec = np.linspace(-5, 5, 200)\n",
    "\n",
    "fig, axes = plt.subplots(2, len(rho_ss_sublist),\n",
    "                         figsize=(3 * len(rho_ss_sublist), 6))\n",
    "\n",
    "for idx, rho_ss in enumerate(rho_ss_sublist):\n",
    "\n",
    "    # trace out the cavity density matrix\n",
    "    rho_ss_cavity = ptrace(rho_ss, 0)\n",
    "\n",
    "    # calculate its wigner function\n",
    "    W = wigner(rho_ss_cavity, xvec, xvec)\n",
    "\n",
    "    # plot its wigner function\n",
    "    wlim = abs(W).max()\n",
    "    axes[0, idx].contourf(\n",
    "        xvec,\n",
    "        xvec,\n",
    "        W,\n",
    "        100,\n",
    "        norm=mpl.colors.Normalize(-wlim, wlim),\n",
    "        cmap=plt.get_cmap(\"RdBu\"),\n",
    "    )\n",
    "    axes[0, idx].set_title(r\"$t = %.1f$\" % tlist[idx])\n",
    "\n",
    "    # plot its fock-state distribution\n",
    "    axes[1, idx].bar(np.arange(0, N), np.real(rho_ss_cavity.diag()),\n",
    "                     color=\"blue\", alpha=0.8)\n",
    "    axes[1, idx].set_ylim(0, 1)\n",
    "    axes[1, idx].set_xlim(0, 15)"
   ]
  },
  {
   "cell_type": "markdown",
   "id": "0b620317",
   "metadata": {},
   "source": [
    "## Steady state average photon occupation in cavity as a function of pump rate\n",
    "\n",
    "References:\n",
    "\n",
    " * [S. Ashhab, J.R. Johansson, A.M. Zagoskin, F. Nori, New J. Phys. 11, 023030 (2009)](http://dx.doi.org/10.1088/1367-2630/11/2/023030)"
   ]
  },
  {
   "cell_type": "code",
   "execution_count": null,
   "id": "5aeb8a9e",
   "metadata": {},
   "outputs": [],
   "source": [
    "def calulcate_avg_photons(N, Gamma):\n",
    "\n",
    "    # collapse operators\n",
    "    c_ops = []\n",
    "\n",
    "    rate = kappa * (1 + n_th_a)\n",
    "    if rate > 0.0:\n",
    "        c_ops.append(np.sqrt(rate) * a)\n",
    "\n",
    "    rate = kappa * n_th_a\n",
    "    if rate > 0.0:\n",
    "        c_ops.append(np.sqrt(rate) * a.dag())\n",
    "\n",
    "    rate = gamma\n",
    "    if rate > 0.0:\n",
    "        c_ops.append(np.sqrt(rate) * sm)\n",
    "\n",
    "    rate = Gamma\n",
    "    if rate > 0.0:\n",
    "        c_ops.append(np.sqrt(rate) * sm.dag())\n",
    "\n",
    "    # Ground state and steady state for the Hamiltonian: H = H0 + g * H1\n",
    "    rho_ss = steadystate(H, c_ops)\n",
    "\n",
    "    # cavity photon number\n",
    "    n_cavity = expect(a.dag() * a, rho_ss)\n",
    "\n",
    "    # cavity second order coherence function\n",
    "    g2_cavity = expect(a.dag() * a.dag() * a * a, rho_ss) / (n_cavity**2)\n",
    "\n",
    "    return n_cavity, g2_cavity"
   ]
  },
  {
   "cell_type": "code",
   "execution_count": null,
   "id": "de0abc52",
   "metadata": {},
   "outputs": [],
   "source": [
    "Gamma_max = 2 * (4 * g**2) / kappa\n",
    "Gamma_vec = np.linspace(0.1, Gamma_max, 50)\n",
    "\n",
    "n_avg_vec = []\n",
    "g2_vec = []\n",
    "\n",
    "for Gamma in Gamma_vec:\n",
    "    n_avg, g2 = calulcate_avg_photons(N, Gamma)\n",
    "    n_avg_vec.append(n_avg)\n",
    "    g2_vec.append(g2)"
   ]
  },
  {
   "cell_type": "code",
   "execution_count": null,
   "id": "5dc3b633",
   "metadata": {},
   "outputs": [],
   "source": [
    "fig, axes = plt.subplots(1, 1, figsize=(12, 6))\n",
    "\n",
    "axes.plot(\n",
    "    Gamma_vec * kappa / (4 * g**2),\n",
    "    n_avg_vec,\n",
    "    color=\"blue\",\n",
    "    alpha=0.6,\n",
    "    label=\"numerical\",\n",
    ")\n",
    "\n",
    "axes.set_xlabel(r\"$\\Gamma\\kappa/(4g^2)$\", fontsize=18)\n",
    "axes.set_ylabel(r\"Occupation probability $\\langle n \\rangle$\",\n",
    "                fontsize=18)\n",
    "axes.set_xlim(0, 2);"
   ]
  },
  {
   "cell_type": "code",
   "execution_count": null,
   "id": "6317449f",
   "metadata": {},
   "outputs": [],
   "source": [
    "fig, axes = plt.subplots(1, 1, figsize=(12, 6))\n",
    "\n",
    "axes.plot(Gamma_vec * kappa / (4 * g**2), g2_vec, color=\"blue\", alpha=0.6,\n",
    "          label=\"numerical\")\n",
    "\n",
    "axes.set_xlabel(r\"$\\Gamma\\kappa/(4g^2)$\", fontsize=18)\n",
    "axes.set_ylabel(r\"$g^{(2)}(0)$\", fontsize=18)\n",
    "axes.set_xlim(0, 2)\n",
    "axes.text(0.1, 1.1, \"Lasing regime\", fontsize=16)\n",
    "axes.text(1.5, 1.8, \"Thermal regime\", fontsize=16);"
   ]
  },
  {
   "cell_type": "markdown",
   "id": "e1c883db",
   "metadata": {},
   "source": [
    "Here we see that lasing is suppressed for $\\Gamma\\kappa/(4g^2) > 1$. \n",
    "\n",
    "\n",
    "Let's look at the fock-state distribution at $\\Gamma\\kappa/(4g^2) = 0.5$  (lasing regime) and $\\Gamma\\kappa/(4g^2) = 1.5$ (suppressed regime):"
   ]
  },
  {
   "cell_type": "markdown",
   "id": "889cb55e",
   "metadata": {},
   "source": [
    "### Case 1: $\\Gamma\\kappa/(4g^2) = 0.5$"
   ]
  },
  {
   "cell_type": "code",
   "execution_count": null,
   "id": "f591ec01",
   "metadata": {},
   "outputs": [],
   "source": [
    "Gamma = 0.5 * (4 * g**2) / kappa"
   ]
  },
  {
   "cell_type": "code",
   "execution_count": null,
   "id": "7c03f9fa",
   "metadata": {},
   "outputs": [],
   "source": [
    "c_ops = [\n",
    "    np.sqrt(kappa * (1 + n_th_a)) * a,\n",
    "    np.sqrt(kappa * n_th_a) * a.dag(),\n",
    "    np.sqrt(gamma) * sm,\n",
    "    np.sqrt(Gamma) * sm.dag(),\n",
    "]\n",
    "\n",
    "rho_ss = steadystate(H, c_ops)"
   ]
  },
  {
   "cell_type": "code",
   "execution_count": null,
   "id": "00e2972a",
   "metadata": {},
   "outputs": [],
   "source": [
    "fig, axes = plt.subplots(1, 2, figsize=(16, 6))\n",
    "\n",
    "xvec = np.linspace(-10, 10, 200)\n",
    "\n",
    "rho_cavity = ptrace(rho_ss, 0)\n",
    "W = wigner(rho_cavity, xvec, xvec)\n",
    "wlim = abs(W).max()\n",
    "axes[1].contourf(\n",
    "    xvec,\n",
    "    xvec,\n",
    "    W,\n",
    "    100,\n",
    "    norm=mpl.colors.Normalize(-wlim, wlim),\n",
    "    cmap=plt.get_cmap(\"RdBu\"),\n",
    ")\n",
    "axes[1].set_xlabel(r\"Im $\\alpha$\", fontsize=18)\n",
    "axes[1].set_ylabel(r\"Re $\\alpha$\", fontsize=18)\n",
    "\n",
    "axes[0].bar(np.arange(0, N), np.real(rho_cavity.diag()), color=\"blue\",\n",
    "            alpha=0.6)\n",
    "axes[0].set_xlabel(r\"$n$\", fontsize=18)\n",
    "axes[0].set_ylabel(r\"Occupation probability\", fontsize=18)\n",
    "axes[0].set_ylim(0, 1)\n",
    "axes[0].set_xlim(0, N);"
   ]
  },
  {
   "cell_type": "markdown",
   "id": "9f9cce48",
   "metadata": {},
   "source": [
    "### Case 2: $\\Gamma\\kappa/(4g^2) = 1.5$"
   ]
  },
  {
   "cell_type": "code",
   "execution_count": null,
   "id": "2331be16",
   "metadata": {},
   "outputs": [],
   "source": [
    "Gamma = 1.5 * (4 * g**2) / kappa"
   ]
  },
  {
   "cell_type": "code",
   "execution_count": null,
   "id": "0a174996",
   "metadata": {},
   "outputs": [],
   "source": [
    "c_ops = [\n",
    "    np.sqrt(kappa * (1 + n_th_a)) * a,\n",
    "    np.sqrt(kappa * n_th_a) * a.dag(),\n",
    "    np.sqrt(gamma) * sm,\n",
    "    np.sqrt(Gamma) * sm.dag(),\n",
    "]\n",
    "\n",
    "rho_ss = steadystate(H, c_ops)"
   ]
  },
  {
   "cell_type": "code",
   "execution_count": null,
   "id": "171eedfc",
   "metadata": {},
   "outputs": [],
   "source": [
    "fig, axes = plt.subplots(1, 2, figsize=(16, 6))\n",
    "\n",
    "xvec = np.linspace(-10, 10, 200)\n",
    "\n",
    "rho_cavity = ptrace(rho_ss, 0)\n",
    "W = wigner(rho_cavity, xvec, xvec)\n",
    "wlim = abs(W).max()\n",
    "axes[1].contourf(\n",
    "    xvec,\n",
    "    xvec,\n",
    "    W,\n",
    "    100,\n",
    "    norm=mpl.colors.Normalize(-wlim, wlim),\n",
    "    cmap=plt.get_cmap(\"RdBu\"),\n",
    ")\n",
    "axes[1].set_xlabel(r\"Im $\\alpha$\", fontsize=18)\n",
    "axes[1].set_ylabel(r\"Re $\\alpha$\", fontsize=18)\n",
    "\n",
    "axes[0].bar(np.arange(0, N), np.real(rho_cavity.diag()), color=\"blue\",\n",
    "            alpha=0.6)\n",
    "axes[0].set_xlabel(r\"$n$\", fontsize=18)\n",
    "axes[0].set_ylabel(r\"Occupation probability\", fontsize=18)\n",
    "axes[0].set_ylim(0, 1)\n",
    "axes[0].set_xlim(0, N);"
   ]
  },
  {
   "cell_type": "markdown",
   "id": "6c3d6573",
   "metadata": {},
   "source": [
    "Too large pumping rate $\\Gamma$ kills the lasing process: reversed threshold."
   ]
  },
  {
   "cell_type": "markdown",
   "id": "289fc8d5",
   "metadata": {},
   "source": [
    "### Software version"
   ]
  },
  {
   "cell_type": "code",
   "execution_count": null,
   "id": "70810b63",
   "metadata": {},
   "outputs": [],
   "source": [
    "about()"
   ]
  }
 ],
 "metadata": {
  "jupytext": {
   "cell_metadata_filter": "-all",
   "notebook_metadata_filter": "-jupytext.cell_metadata_filter,-jupytext.notebook_metadata_filter"
  },
  "kernelspec": {
   "display_name": "Python 3 (ipykernel)",
   "language": "python",
   "name": "python3"
  }
 },
 "nbformat": 4,
 "nbformat_minor": 5
}
