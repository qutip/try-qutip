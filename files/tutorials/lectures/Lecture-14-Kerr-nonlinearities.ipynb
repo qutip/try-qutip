{
 "cells": [
  {
   "cell_type": "markdown",
   "id": "0d52d5fd",
   "metadata": {},
   "source": [
    "# Lecture 14 - Kerr nonlinearities\n",
    "\n",
    "Author: J. R. Johansson (robert@riken.jp), https://jrjohansson.github.io/\n",
    "\n",
    "This lecture series was developed by J.R. Johannson. The original lecture notebooks are available [here](https://github.com/jrjohansson/qutip-lectures).\n",
    "\n",
    "This is a slightly modified version of the lectures, to work with the current release of QuTiP. You can find these lectures as a part of the [qutip-tutorials repository](https://github.com/qutip/qutip-tutorials). This lecture and other tutorial notebooks are indexed at the [QuTiP Tutorial webpage](https://qutip.org/tutorials.html)."
   ]
  },
  {
   "cell_type": "code",
   "execution_count": null,
   "id": "6e8950aa",
   "metadata": {},
   "outputs": [],
   "source": [
    "from base64 import b64encode\n",
    "\n",
    "import matplotlib as mpl\n",
    "import matplotlib.pyplot as plt\n",
    "import numpy as np\n",
    "from IPython.display import HTML\n",
    "from matplotlib import animation\n",
    "from qutip import (about, coherent, destroy, expect, isket, ket2dm, mesolve,\n",
    "                   num, variance, wigner)\n",
    "\n",
    "%matplotlib inline"
   ]
  },
  {
   "cell_type": "markdown",
   "id": "2a93b503",
   "metadata": {},
   "source": [
    "## Introduction\n",
    "\n",
    "The Kerr effect describes a self-interaction electromagnetic quantum field which occur in a nonlinear medium. A single mode of the quantum field can be described by the effective Hamiltonian\n",
    "\n",
    "$\\displaystyle H = \\frac{1}{2}\\chi (a^\\dagger)^2a^2$\n",
    "\n",
    "where $\\chi$ is related to the third-order nonlinear suseptibility. The Kerr effect is one of the typical nonlinearities that can occur in quantum optics due to a nonlinear medium.\n",
    "\n",
    "In this notebook we'll see how to setup the model in QuTiP and look at some interesting properties of the states that evolve according to this Hamiltonian."
   ]
  },
  {
   "cell_type": "markdown",
   "id": "ddc3b4a2",
   "metadata": {},
   "source": [
    "## Parameters"
   ]
  },
  {
   "cell_type": "code",
   "execution_count": null,
   "id": "d07b3b30",
   "metadata": {},
   "outputs": [],
   "source": [
    "N = 15\n",
    "chi = 1 * 2 * np.pi  # Kerr-nonlinearity\n",
    "tlist = np.linspace(0, 1.0, 51)  # time"
   ]
  },
  {
   "cell_type": "code",
   "execution_count": null,
   "id": "dca6d97e",
   "metadata": {},
   "outputs": [],
   "source": [
    "# operators: the annihilation operator of the field\n",
    "a = destroy(N)\n",
    "\n",
    "# and we'll also need the following operators in calculation of\n",
    "# expectation values when visualizing the dynamics\n",
    "n = num(N)\n",
    "x = a + a.dag()\n",
    "p = -1j * (a - a.dag())"
   ]
  },
  {
   "cell_type": "code",
   "execution_count": null,
   "id": "701f8b5a",
   "metadata": {},
   "outputs": [],
   "source": [
    "# the Kerr Hamiltonian\n",
    "H = 0.5 * chi * a.dag() * a.dag() * a * a"
   ]
  },
  {
   "cell_type": "markdown",
   "id": "b0c2385b",
   "metadata": {},
   "source": [
    "## Functions for plotting\n",
    "\n",
    "We start by defining some function for visualizing the dynamics. We'll use these further down in the notebook. "
   ]
  },
  {
   "cell_type": "code",
   "execution_count": null,
   "id": "4793c96b",
   "metadata": {},
   "outputs": [],
   "source": [
    "def plot_expect_with_variance(N, op_list, op_title, states):\n",
    "    \"\"\"\n",
    "    Plot the expectation value of an operator (list of operators)\n",
    "    with an envelope that describes the operators variance.\n",
    "    \"\"\"\n",
    "\n",
    "    fig, axes = plt.subplots(1, len(op_list), figsize=(14, 3))\n",
    "\n",
    "    for idx, op in enumerate(op_list):\n",
    "\n",
    "        e_op = expect(op, states)\n",
    "        v_op = variance(op, states)\n",
    "\n",
    "        axes[idx].fill_between(\n",
    "            tlist, e_op - np.sqrt(v_op), e_op + np.sqrt(v_op), color=\"green\",\n",
    "            alpha=0.5\n",
    "        )\n",
    "        axes[idx].plot(tlist, e_op)\n",
    "        axes[idx].set_xlabel(\"Time\")\n",
    "        axes[idx].set_title(op_title[idx])\n",
    "        axes[idx].set_xlim(0, max(tlist))\n",
    "\n",
    "    return fig, axes"
   ]
  },
  {
   "cell_type": "code",
   "execution_count": null,
   "id": "b90eac26",
   "metadata": {},
   "outputs": [],
   "source": [
    "def plot_wigner(rho, fig=None, ax=None):\n",
    "    \"\"\"\n",
    "    Plot the Wigner function and the Fock state distribution given a density\n",
    "    matrix for a harmonic oscillator mode.\n",
    "    \"\"\"\n",
    "\n",
    "    if fig is None or ax is None:\n",
    "        fig, ax = plt.subplots(1, 1, figsize=(8, 8))\n",
    "\n",
    "    if isket(rho):\n",
    "        rho = ket2dm(rho)\n",
    "\n",
    "    xvec = np.linspace(-7.5, 7.5, 200)\n",
    "\n",
    "    W = wigner(rho, xvec, xvec)\n",
    "    wlim = abs(W).max()\n",
    "\n",
    "    ax.contourf(\n",
    "        xvec,\n",
    "        xvec,\n",
    "        W,\n",
    "        100,\n",
    "        norm=mpl.colors.Normalize(-wlim, wlim),\n",
    "        cmap=mpl.cm.get_cmap(\"RdBu\"),\n",
    "    )\n",
    "    ax.set_xlabel(r\"$x_1$\", fontsize=16)\n",
    "    ax.set_ylabel(r\"$x_2$\", fontsize=16)\n",
    "\n",
    "    return fig, ax"
   ]
  },
  {
   "cell_type": "code",
   "execution_count": null,
   "id": "e3ba00f2",
   "metadata": {},
   "outputs": [],
   "source": [
    "def plot_fock_distribution_vs_time(tlist, states, fig=None, ax=None):\n",
    "\n",
    "    Z = np.zeros((len(tlist), states[0].shape[0]))\n",
    "\n",
    "    for state_idx, state in enumerate(states):\n",
    "        Z[state_idx, :] = np.real(ket2dm(state).diag())\n",
    "\n",
    "    if fig is None or ax is None:\n",
    "        fig, ax = plt.subplots(1, 1, figsize=(8, 6))\n",
    "\n",
    "    Y, X = np.meshgrid(tlist, range(states[0].shape[0]))\n",
    "    p = ax.pcolor(\n",
    "        X,\n",
    "        Y,\n",
    "        Z.T,\n",
    "        norm=mpl.colors.Normalize(0, 0.5),\n",
    "        cmap=mpl.cm.get_cmap(\"Reds\"),\n",
    "        edgecolors=\"k\",\n",
    "    )\n",
    "    ax.set_xlabel(r\"$N$\", fontsize=16)\n",
    "    ax.set_ylabel(r\"$t$\", fontsize=16)\n",
    "\n",
    "    cb = fig.colorbar(p)\n",
    "    cb.set_label(\"Probability\")\n",
    "\n",
    "    return fig, ax"
   ]
  },
  {
   "cell_type": "code",
   "execution_count": null,
   "id": "9127fded",
   "metadata": {},
   "outputs": [],
   "source": [
    "def display_embedded_video(filename):\n",
    "    video = open(filename, \"rb\").read()\n",
    "    video_encoded = b64encode(video).decode(\"ascii\")\n",
    "    video_tag = '<video controls alt=\"test\" \\\n",
    "                src=\"data:video/x-m4v;base64,{0}\">'.format(\n",
    "        video_encoded\n",
    "    )\n",
    "    return HTML(video_tag)"
   ]
  },
  {
   "cell_type": "markdown",
   "id": "4a4c2ccd",
   "metadata": {},
   "source": [
    "## Coherent state\n",
    "\n",
    "Let's look at how the coherent state evolves under the influence of the Kerr Hamiltonian."
   ]
  },
  {
   "cell_type": "code",
   "execution_count": null,
   "id": "309979a6",
   "metadata": {},
   "outputs": [],
   "source": [
    "# we start with a coherent state with alpha=2.0\n",
    "psi0 = coherent(N, 2.0)"
   ]
  },
  {
   "cell_type": "code",
   "execution_count": null,
   "id": "f21d6395",
   "metadata": {},
   "outputs": [],
   "source": [
    "# and evolve the state under the influence of the hamiltonian.\n",
    "# by passing an empty list as expecation value operators argument,\n",
    "# we get the full state of the system in result.states\n",
    "result = mesolve(H, psi0, tlist, [], [])"
   ]
  },
  {
   "cell_type": "markdown",
   "id": "3c71490a",
   "metadata": {},
   "source": [
    "First, let's look at how the expecation values and variances of the photon number operator $n$ and the $x$ and $p$ quadratures evolve in time:"
   ]
  },
  {
   "cell_type": "code",
   "execution_count": null,
   "id": "f200b251",
   "metadata": {},
   "outputs": [],
   "source": [
    "plot_expect_with_variance(N, [n, x, p], [r\"n\", r\"x\", r\"p\"], result.states);"
   ]
  },
  {
   "cell_type": "markdown",
   "id": "a6dccc0f",
   "metadata": {},
   "source": [
    "Note that the average photon number $\\langle n \\rangle$ and the corresponding variance is constant, suggesting that the Fock state distribution is preserved. From the plots above we can also see that during the evolution the variance in $x$ and $p$ change as a function of time. \n",
    "\n",
    "To verify that the photon distribution indeed is time-independent, we can plot the fock distribution as a function of time:"
   ]
  },
  {
   "cell_type": "code",
   "execution_count": null,
   "id": "105d12ab",
   "metadata": {},
   "outputs": [],
   "source": [
    "plot_fock_distribution_vs_time(tlist, result.states);"
   ]
  },
  {
   "cell_type": "markdown",
   "id": "5f9724b4",
   "metadata": {},
   "source": [
    "So the fock state distribution is constant, but let's see how the Wigner function of the state evolves in time. To best illustrate the dynamics of the Winger function we make a short movie that show the Wigner function from time $t=0$ to the the final time of the evolution."
   ]
  },
  {
   "cell_type": "code",
   "execution_count": null,
   "id": "31b5ffba",
   "metadata": {},
   "outputs": [],
   "source": [
    "fig, ax = plt.subplots(1, 1, figsize=(8, 8))\n",
    "\n",
    "\n",
    "def update(n):\n",
    "    plot_wigner(result.states[n], fig=fig, ax=ax)\n",
    "    return ax.artists\n",
    "\n",
    "\n",
    "anim = animation.FuncAnimation(fig, update, frames=len(result.states),\n",
    "                               blit=True)\n",
    "\n",
    "anim.save(\"animation-kerr-coherent-state.mp4\", fps=10, writer=\"ffmpeg\")\n",
    "\n",
    "plt.close(fig)"
   ]
  },
  {
   "cell_type": "code",
   "execution_count": null,
   "id": "e04a4364",
   "metadata": {},
   "outputs": [],
   "source": [
    "display_embedded_video(\"animation-kerr-coherent-state.mp4\")"
   ]
  },
  {
   "cell_type": "markdown",
   "id": "75f84543",
   "metadata": {},
   "source": [
    "Isn't that interesting! The dynamics is periodic, and we evolved the state for exactly one period, so that the final state is equal to the initial state.\n",
    "\n",
    "In between there is interesting stuff going on. For example, after half the period the state ends up in something that look very much like a cat-state superposition of coherent states!"
   ]
  },
  {
   "cell_type": "code",
   "execution_count": null,
   "id": "0d10b89e",
   "metadata": {},
   "outputs": [],
   "source": [
    "fig, ax = plt.subplots(1, 1, figsize=(8, 8))\n",
    "\n",
    "\n",
    "def update(n):\n",
    "    plot_wigner(result.states[n], fig=fig, ax=ax)\n",
    "    return ax.artists\n",
    "\n",
    "\n",
    "anim = animation.FuncAnimation(\n",
    "    fig, update, frames=int(len(result.states) / 2 + 1), blit=True\n",
    ")\n",
    "\n",
    "anim.save(\"animation-kerr-coherent-state-half-period.mp4\",\n",
    "          fps=10, writer=\"ffmpeg\")\n",
    "\n",
    "plt.close(fig)"
   ]
  },
  {
   "cell_type": "code",
   "execution_count": null,
   "id": "217c49b0",
   "metadata": {},
   "outputs": [],
   "source": [
    "display_embedded_video(\"animation-kerr-coherent-state-half-period.mp4\")"
   ]
  },
  {
   "cell_type": "markdown",
   "id": "dc02497d",
   "metadata": {},
   "source": [
    "And indeed, evolving a coherent state $|\\alpha\\rangle$ for the time $\\chi t = \\pi$ results in the cat state\n",
    "\n",
    "$\\psi = \\frac{1}{\\sqrt{2}}\\left(e^{i\\pi/4}|-i\\alpha\\rangle + e^{-i\\pi/4}|i\\alpha\\rangle\\right)$\n",
    "\n",
    "(See Walls and Milburn, Quantum Optics, p91)"
   ]
  },
  {
   "cell_type": "code",
   "execution_count": null,
   "id": "5274da34",
   "metadata": {},
   "outputs": [],
   "source": [
    "psi = (\n",
    "    np.exp(1j * np.pi / 4) * coherent(N, -2.0j)\n",
    "    + np.exp(-1j * np.pi / 4) * coherent(N, 2.0j)\n",
    ").unit()"
   ]
  },
  {
   "cell_type": "code",
   "execution_count": null,
   "id": "16fc1408",
   "metadata": {},
   "outputs": [],
   "source": [
    "plot_wigner(psi);"
   ]
  },
  {
   "cell_type": "markdown",
   "id": "d1a509d2",
   "metadata": {},
   "source": [
    "### Software versions"
   ]
  },
  {
   "cell_type": "code",
   "execution_count": null,
   "id": "6f09f73e",
   "metadata": {},
   "outputs": [],
   "source": [
    "about()"
   ]
  },
  {
   "cell_type": "markdown",
   "id": "1bf98405",
   "metadata": {},
   "source": [
    "### Acknowledgements"
   ]
  },
  {
   "cell_type": "markdown",
   "id": "45fb6201",
   "metadata": {},
   "source": [
    "Thanks Sander Konijnenberg for correcting an error in the analytical expression for the Cat state."
   ]
  }
 ],
 "metadata": {
  "jupytext": {
   "cell_metadata_filter": "-all",
   "notebook_metadata_filter": "-jupytext.cell_metadata_filter,-jupytext.notebook_metadata_filter"
  },
  "kernelspec": {
   "display_name": "Python 3 (ipykernel)",
   "language": "python",
   "name": "python3"
  }
 },
 "nbformat": 4,
 "nbformat_minor": 5
}
