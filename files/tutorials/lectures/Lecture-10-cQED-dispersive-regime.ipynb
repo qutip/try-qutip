{
 "cells": [
  {
   "cell_type": "markdown",
   "id": "587ac9bb",
   "metadata": {},
   "source": [
    "# Lecture 10 - Cavity-QED in the dispersive regime\n",
    "\n",
    "Author: J. R. Johansson (robert@riken.jp), https://jrjohansson.github.io/\n",
    "\n",
    "This lecture series was developed by J.R. Johannson. The original lecture notebooks are available [here](https://github.com/jrjohansson/qutip-lectures).\n",
    "\n",
    "This is a slightly modified version of the lectures, to work with the current release of QuTiP. You can find these lectures as a part of the [qutip-tutorials repository](https://github.com/qutip/qutip-tutorials). This lecture and other tutorial notebooks are indexed at the [QuTiP Tutorial webpage](https://qutip.org/tutorials.html)."
   ]
  },
  {
   "cell_type": "code",
   "execution_count": null,
   "id": "3ca13621",
   "metadata": {},
   "outputs": [],
   "source": [
    "import matplotlib as mpl\n",
    "import matplotlib.pyplot as plt\n",
    "import numpy as np\n",
    "from qutip import (SolverOptions, about, basis, coherent, correlation_2op_1t,\n",
    "                   destroy, expect, mesolve, ptrace, qeye, sigmax, sigmaz,\n",
    "                   spectrum_correlation_fft, tensor, wigner)\n",
    "\n",
    "%matplotlib inline"
   ]
  },
  {
   "cell_type": "markdown",
   "id": "94bcdf36",
   "metadata": {},
   "source": [
    "# Introduction\n",
    "\n",
    "A qubit-resonator system can described by the Hamiltonian\n",
    "\n",
    "$\\displaystyle H = \\omega_r a^\\dagger a - \\frac{1}{2} \\omega_q \\sigma_z + g (a^\\dagger + a) \\sigma_x$\n",
    "\n",
    "where $\\omega_r$ and $\\omega_q$ are the the bare frequencies of the resonator and qubit, respectively, and where $g$ is the dipole interaction strength. \n",
    "\n",
    "The dispersive regime occurs when the resonator and qubit is far off resonance, $\\Delta \\gg g$, where $\\Delta = \\omega_r-\\omega_q$ is the detuning between the resonator and the qubit (for example $\\omega_r \\gg \\omega_q$).\n",
    "\n",
    "In the dispersive regime the system can be described by an effective Hamiltonian on the form\n",
    "\n",
    "$\\displaystyle H = \\omega_r a^\\dagger a - \\frac{1}{2}\\omega_q \\sigma_z + \\chi (a^\\dagger a  + 1/2) \\sigma_z$\n",
    "\n",
    "where $\\chi = g^2/\\Delta$ . We can view the last term as a correction of the resonator frequency that depends on the qubit state, or a correction to the qubit frequency that depends on the resonator state.\n",
    "\n",
    "In a beautiful experiment by D. I. Schuster et al., the dispersive regime was used to resolving the photon number states of a microwave resonator by monitoring a qubit that was coupled to the resonator. This notebook shows how to simulate this kind of system numerically in QuTiP.\n",
    "\n",
    "### References\n",
    "\n",
    " * [D. I. Schuster et al., Resolving photon number states in a superconducting circuit, Nature 445, 515 (2007)](http://dx.doi.org/10.1038/nature05461)"
   ]
  },
  {
   "cell_type": "markdown",
   "id": "9c608d7e",
   "metadata": {},
   "source": [
    "## Parameters"
   ]
  },
  {
   "cell_type": "code",
   "execution_count": null,
   "id": "61b5df6c",
   "metadata": {},
   "outputs": [],
   "source": [
    "N = 20\n",
    "\n",
    "wr = 2.0 * 2 * np.pi  # resonator frequency\n",
    "wq = 3.0 * 2 * np.pi  # qubit frequency\n",
    "chi = 0.025 * 2 * np.pi  # parameter in the dispersive hamiltonian\n",
    "\n",
    "delta = abs(wr - wq)  # detuning\n",
    "g = np.sqrt(delta * chi)  # coupling strength that is consistent with chi"
   ]
  },
  {
   "cell_type": "code",
   "execution_count": null,
   "id": "14f5b608",
   "metadata": {},
   "outputs": [],
   "source": [
    "# compare detuning and g, the first should be much larger than the second\n",
    "delta / (2 * np.pi), g / (2 * np.pi)"
   ]
  },
  {
   "cell_type": "code",
   "execution_count": null,
   "id": "d15fde2f",
   "metadata": {},
   "outputs": [],
   "source": [
    "# cavity operators\n",
    "a = tensor(destroy(N), qeye(2))\n",
    "nc = a.dag() * a\n",
    "xc = a + a.dag()\n",
    "\n",
    "# atomic operators\n",
    "sm = tensor(qeye(N), destroy(2))\n",
    "sz = tensor(qeye(N), sigmaz())\n",
    "sx = tensor(qeye(N), sigmax())\n",
    "nq = sm.dag() * sm\n",
    "xq = sm + sm.dag()\n",
    "\n",
    "Id = tensor(qeye(N), qeye(2))"
   ]
  },
  {
   "cell_type": "code",
   "execution_count": null,
   "id": "7b4ac410",
   "metadata": {},
   "outputs": [],
   "source": [
    "# dispersive hamiltonian\n",
    "H = wr * (a.dag() * a + Id / 2.0) + (wq / 2.0) * sz + chi * \\\n",
    "    (a.dag() * a + Id / 2) * sz"
   ]
  },
  {
   "cell_type": "markdown",
   "id": "e8a14a5f",
   "metadata": {},
   "source": [
    "Try different initial state of the resonator, and see how the spectrum further down in the notebook reflects the photon distribution chosen here."
   ]
  },
  {
   "cell_type": "code",
   "execution_count": null,
   "id": "9e522713",
   "metadata": {},
   "outputs": [],
   "source": [
    "# psi0 = tensor(coherent(N, sqrt(6)), (basis(2,0)+basis(2,1)).unit())"
   ]
  },
  {
   "cell_type": "code",
   "execution_count": null,
   "id": "cc632b1d",
   "metadata": {},
   "outputs": [],
   "source": [
    "# psi0 = tensor(thermal_dm(N, 3), ket2dm(basis(2,0)+basis(2,1))).unit()"
   ]
  },
  {
   "cell_type": "code",
   "execution_count": null,
   "id": "3c2fc485",
   "metadata": {},
   "outputs": [],
   "source": [
    "psi0 = tensor(coherent(N, np.sqrt(4)), (basis(2, 0) + basis(2, 1)).unit())"
   ]
  },
  {
   "cell_type": "markdown",
   "id": "34ebdcb8",
   "metadata": {},
   "source": [
    "## Time evolution"
   ]
  },
  {
   "cell_type": "code",
   "execution_count": null,
   "id": "7e009f8f",
   "metadata": {},
   "outputs": [],
   "source": [
    "tlist = np.linspace(0, 250, 1000)"
   ]
  },
  {
   "cell_type": "code",
   "execution_count": null,
   "id": "c8e49aaa",
   "metadata": {},
   "outputs": [],
   "source": [
    "res = mesolve(H, psi0, tlist, [], [], options=SolverOptions(nsteps=5000))"
   ]
  },
  {
   "cell_type": "markdown",
   "id": "da3f9b08",
   "metadata": {},
   "source": [
    "### Excitation numbers\n",
    "\n",
    "We can see that the systems do not exchange any energy, because of they are off resonance with each other."
   ]
  },
  {
   "cell_type": "code",
   "execution_count": null,
   "id": "b40051c0",
   "metadata": {},
   "outputs": [],
   "source": [
    "nc_list = expect(nc, res.states)\n",
    "nq_list = expect(nq, res.states)"
   ]
  },
  {
   "cell_type": "code",
   "execution_count": null,
   "id": "a605035d",
   "metadata": {},
   "outputs": [],
   "source": [
    "fig, ax = plt.subplots(1, 1, sharex=True, figsize=(12, 4))\n",
    "\n",
    "ax.plot(tlist, nc_list, \"r\", linewidth=2, label=\"cavity\")\n",
    "ax.plot(tlist, nq_list, \"b--\", linewidth=2, label=\"qubit\")\n",
    "ax.set_ylim(0, 7)\n",
    "ax.set_ylabel(\"n\", fontsize=16)\n",
    "ax.set_xlabel(\"Time (ns)\", fontsize=16)\n",
    "ax.legend()\n",
    "\n",
    "fig.tight_layout()"
   ]
  },
  {
   "cell_type": "markdown",
   "id": "cb99d153",
   "metadata": {},
   "source": [
    "### Resonator quadrature"
   ]
  },
  {
   "cell_type": "markdown",
   "id": "17b38edf",
   "metadata": {},
   "source": [
    "However, the quadratures of the resonator are oscillating rapidly."
   ]
  },
  {
   "cell_type": "code",
   "execution_count": null,
   "id": "45035a6c",
   "metadata": {},
   "outputs": [],
   "source": [
    "xc_list = expect(xc, res.states)"
   ]
  },
  {
   "cell_type": "code",
   "execution_count": null,
   "id": "22b81048",
   "metadata": {},
   "outputs": [],
   "source": [
    "fig, ax = plt.subplots(1, 1, sharex=True, figsize=(12, 4))\n",
    "\n",
    "ax.plot(tlist, xc_list, \"r\", linewidth=2, label=\"cavity\")\n",
    "ax.set_ylabel(\"x\", fontsize=16)\n",
    "ax.set_xlabel(\"Time (ns)\", fontsize=16)\n",
    "ax.legend()\n",
    "\n",
    "fig.tight_layout()"
   ]
  },
  {
   "cell_type": "markdown",
   "id": "548e63cd",
   "metadata": {},
   "source": [
    "### Correlation function for the resonator"
   ]
  },
  {
   "cell_type": "code",
   "execution_count": null,
   "id": "40ba323c",
   "metadata": {},
   "outputs": [],
   "source": [
    "tlist = np.linspace(0, 100, 1000)"
   ]
  },
  {
   "cell_type": "code",
   "execution_count": null,
   "id": "089b19fe",
   "metadata": {},
   "outputs": [],
   "source": [
    "corr_vec = correlation_2op_1t(H, psi0, tlist, [], a.dag(), a)"
   ]
  },
  {
   "cell_type": "code",
   "execution_count": null,
   "id": "a2b4edba",
   "metadata": {},
   "outputs": [],
   "source": [
    "fig, ax = plt.subplots(1, 1, sharex=True, figsize=(12, 4))\n",
    "\n",
    "ax.plot(tlist, np.real(corr_vec), \"r\", linewidth=2, label=\"resonator\")\n",
    "ax.set_ylabel(\"correlation\", fontsize=16)\n",
    "ax.set_xlabel(\"Time (ns)\", fontsize=16)\n",
    "ax.legend()\n",
    "ax.set_xlim(0, 50)\n",
    "fig.tight_layout()"
   ]
  },
  {
   "cell_type": "markdown",
   "id": "8ac57930",
   "metadata": {},
   "source": [
    "### Spectrum of the resonator"
   ]
  },
  {
   "cell_type": "code",
   "execution_count": null,
   "id": "bb26f80e",
   "metadata": {},
   "outputs": [],
   "source": [
    "w, S = spectrum_correlation_fft(tlist, corr_vec)"
   ]
  },
  {
   "cell_type": "code",
   "execution_count": null,
   "id": "527309fe",
   "metadata": {},
   "outputs": [],
   "source": [
    "fig, ax = plt.subplots(figsize=(9, 3))\n",
    "ax.plot(w / (2 * np.pi), abs(S))\n",
    "ax.set_xlabel(r\"$\\omega$\", fontsize=18)\n",
    "ax.set_xlim(wr / (2 * np.pi) - 0.5, wr / (2 * np.pi) + 0.5);"
   ]
  },
  {
   "cell_type": "markdown",
   "id": "d843cbbf",
   "metadata": {},
   "source": [
    "Here we can see how the resonator peak is split and shiften up and down due to the superposition of 0 and 1 states of the qubit! We can also verify that the splitting is exactly $2\\chi$, as expected:"
   ]
  },
  {
   "cell_type": "code",
   "execution_count": null,
   "id": "ff2032da",
   "metadata": {},
   "outputs": [],
   "source": [
    "fig, ax = plt.subplots(figsize=(9, 3))\n",
    "ax.plot((w - wr) / chi, abs(S))\n",
    "ax.set_xlabel(r\"$(\\omega-\\omega_r)/\\chi$\", fontsize=18)\n",
    "ax.set_xlim(-2, 2);"
   ]
  },
  {
   "cell_type": "markdown",
   "id": "1b588114",
   "metadata": {},
   "source": [
    "### Correlation function of the qubit"
   ]
  },
  {
   "cell_type": "code",
   "execution_count": null,
   "id": "468afde2",
   "metadata": {},
   "outputs": [],
   "source": [
    "corr_vec = correlation_2op_1t(H, psi0, tlist, [], sx, sx)"
   ]
  },
  {
   "cell_type": "code",
   "execution_count": null,
   "id": "7b4395b2",
   "metadata": {},
   "outputs": [],
   "source": [
    "fig, ax = plt.subplots(1, 1, sharex=True, figsize=(12, 4))\n",
    "\n",
    "ax.plot(tlist, np.real(corr_vec), \"r\", linewidth=2, label=\"qubit\")\n",
    "ax.set_ylabel(\"correlation\", fontsize=16)\n",
    "ax.set_xlabel(\"Time (ns)\", fontsize=16)\n",
    "ax.legend()\n",
    "ax.set_xlim(0, 50)\n",
    "fig.tight_layout()"
   ]
  },
  {
   "cell_type": "markdown",
   "id": "17bcb818",
   "metadata": {},
   "source": [
    "### Spectrum of the qubit\n",
    "\n",
    "The spectrum of the qubit has an interesting structure: from it one can see the photon distribution in the resonator mode!"
   ]
  },
  {
   "cell_type": "code",
   "execution_count": null,
   "id": "51edf63f",
   "metadata": {},
   "outputs": [],
   "source": [
    "w, S = spectrum_correlation_fft(tlist, corr_vec)"
   ]
  },
  {
   "cell_type": "code",
   "execution_count": null,
   "id": "eb738949",
   "metadata": {},
   "outputs": [],
   "source": [
    "fig, ax = plt.subplots(figsize=(9, 3))\n",
    "ax.plot(w / (2 * np.pi), abs(S))\n",
    "ax.set_xlabel(r\"$\\omega$\", fontsize=18)"
   ]
  },
  {
   "cell_type": "markdown",
   "id": "eb73c637",
   "metadata": {},
   "source": [
    "It's a bit clearer if we shift the spectrum and scale it with $2\\chi$"
   ]
  },
  {
   "cell_type": "code",
   "execution_count": null,
   "id": "16692448",
   "metadata": {},
   "outputs": [],
   "source": [
    "fig, ax = plt.subplots(figsize=(9, 3))\n",
    "ax.plot((w - wq - chi) / (2 * chi), abs(S))\n",
    "ax.set_xlabel(r\"$(\\omega - \\omega_q - \\chi)/2\\chi$\", fontsize=18)\n",
    "ax.set_xlim(-0.5, N);"
   ]
  },
  {
   "cell_type": "markdown",
   "id": "4e8109ca",
   "metadata": {},
   "source": [
    "Compare to the cavity fock state distribution:"
   ]
  },
  {
   "cell_type": "code",
   "execution_count": null,
   "id": "e90ea0c6",
   "metadata": {},
   "outputs": [],
   "source": [
    "rho_cavity = ptrace(res.states[-1], 0)"
   ]
  },
  {
   "cell_type": "code",
   "execution_count": null,
   "id": "1399cee4",
   "metadata": {},
   "outputs": [],
   "source": [
    "fig, axes = plt.subplots(1, 1, figsize=(9, 3))\n",
    "\n",
    "axes.bar(np.arange(0, N) - 0.4, np.real(rho_cavity.diag()), color=\"blue\",\n",
    "         alpha=0.6)\n",
    "axes.set_ylim(0, 1)\n",
    "axes.set_xlim(-0.5, N)\n",
    "axes.set_xticks(np.arange(0, N))\n",
    "axes.set_xlabel(\"Fock number\", fontsize=12)\n",
    "axes.set_ylabel(\"Occupation probability\", fontsize=12);"
   ]
  },
  {
   "cell_type": "markdown",
   "id": "be1e5cc1",
   "metadata": {},
   "source": [
    "And if we look at the cavity wigner function we can see that after interacting dispersively with the qubit, the cavity is no longer in a coherent state, but in a superposition of coherent states."
   ]
  },
  {
   "cell_type": "code",
   "execution_count": null,
   "id": "2693d6b0",
   "metadata": {},
   "outputs": [],
   "source": [
    "fig, axes = plt.subplots(1, 1, figsize=(6, 6))\n",
    "\n",
    "xvec = np.linspace(-5, 5, 200)\n",
    "W = wigner(rho_cavity, xvec, xvec)\n",
    "wlim = abs(W).max()\n",
    "\n",
    "axes.contourf(\n",
    "    xvec,\n",
    "    xvec,\n",
    "    W,\n",
    "    100,\n",
    "    norm=mpl.colors.Normalize(-wlim, wlim),\n",
    "    cmap=plt.get_cmap(\"RdBu\"),\n",
    ")\n",
    "axes.set_xlabel(r\"Im $\\alpha$\", fontsize=18)\n",
    "axes.set_ylabel(r\"Re $\\alpha$\", fontsize=18);"
   ]
  },
  {
   "cell_type": "markdown",
   "id": "c389a80e",
   "metadata": {},
   "source": [
    "### Software versions"
   ]
  },
  {
   "cell_type": "code",
   "execution_count": null,
   "id": "a60e5a36",
   "metadata": {},
   "outputs": [],
   "source": [
    "about()"
   ]
  }
 ],
 "metadata": {
  "jupytext": {
   "cell_metadata_filter": "-all",
   "notebook_metadata_filter": "-jupytext.cell_metadata_filter,-jupytext.notebook_metadata_filter"
  },
  "kernelspec": {
   "display_name": "Python 3 (ipykernel)",
   "language": "python",
   "name": "python3"
  }
 },
 "nbformat": 4,
 "nbformat_minor": 5
}
