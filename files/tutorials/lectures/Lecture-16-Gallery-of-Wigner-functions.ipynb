{
 "cells": [
  {
   "cell_type": "markdown",
   "id": "a1b6284f",
   "metadata": {},
   "source": [
    "# Lecture 16 - Gallery of Wigner functions"
   ]
  },
  {
   "cell_type": "markdown",
   "id": "d951d225",
   "metadata": {},
   "source": [
    "Author: J. R. Johansson (robert@riken.jp), https://jrjohansson.github.io/\n",
    "\n",
    "This lecture series was developed by J.R. Johannson. The original lecture notebooks are available [here](https://github.com/jrjohansson/qutip-lectures).\n",
    "\n",
    "This is a slightly modified version of the lectures, to work with the current release of QuTiP. You can find these lectures as a part of the [qutip-tutorials repository](https://github.com/qutip/qutip-tutorials). This lecture and other tutorial notebooks are indexed at the [QuTiP Tutorial webpage](https://qutip.org/tutorials.html)."
   ]
  },
  {
   "cell_type": "code",
   "execution_count": null,
   "id": "75fec381",
   "metadata": {},
   "outputs": [],
   "source": [
    "import matplotlib.pyplot as plt\n",
    "import numpy as np\n",
    "from IPython.display import display\n",
    "from qutip import (about, basis, coherent, coherent_dm, displace, fock, ket2dm,\n",
    "                   plot_wigner, squeeze, thermal_dm)\n",
    "\n",
    "%matplotlib inline"
   ]
  },
  {
   "cell_type": "markdown",
   "id": "91b02d42",
   "metadata": {},
   "source": [
    "## Introduction"
   ]
  },
  {
   "cell_type": "markdown",
   "id": "46421088",
   "metadata": {},
   "source": [
    "## Parameters"
   ]
  },
  {
   "cell_type": "code",
   "execution_count": null,
   "id": "856738b8",
   "metadata": {},
   "outputs": [],
   "source": [
    "N = 20"
   ]
  },
  {
   "cell_type": "code",
   "execution_count": null,
   "id": "eefd0fdb",
   "metadata": {},
   "outputs": [],
   "source": [
    "def plot_wigner_2d_3d(psi):\n",
    "    xvec = np.linspace(-6, 6, 200)\n",
    "    yvec = np.linspace(-6, 6, 200)\n",
    "\n",
    "    fig = plt.figure(figsize=(17, 8))\n",
    "\n",
    "    ax = fig.add_subplot(1, 2, 1)\n",
    "    plot_wigner(psi, xvec=xvec, yvec=yvec, fig=fig, ax=ax)\n",
    "\n",
    "    ax = fig.add_subplot(1, 2, 2, projection=\"3d\")\n",
    "    plot_wigner(psi, xvec=xvec, yvec=yvec, projection=\"3d\", fig=fig, ax=ax)\n",
    "\n",
    "    plt.close(fig)\n",
    "    return fig"
   ]
  },
  {
   "cell_type": "markdown",
   "id": "ce1f2567",
   "metadata": {},
   "source": [
    "## Vacuum state: $\\left|0\\right>$"
   ]
  },
  {
   "cell_type": "code",
   "execution_count": null,
   "id": "6c120388",
   "metadata": {},
   "outputs": [],
   "source": [
    "psi = basis(N, 0)\n",
    "plot_wigner_2d_3d(psi)"
   ]
  },
  {
   "cell_type": "markdown",
   "id": "0db86b95",
   "metadata": {},
   "source": [
    "## Thermal states"
   ]
  },
  {
   "cell_type": "code",
   "execution_count": null,
   "id": "8213467f",
   "metadata": {},
   "outputs": [],
   "source": [
    "psi = thermal_dm(N, 2)\n",
    "plot_wigner_2d_3d(psi)"
   ]
  },
  {
   "cell_type": "markdown",
   "id": "bd01a768",
   "metadata": {},
   "source": [
    "## Coherent states: $\\left|\\alpha\\right>$"
   ]
  },
  {
   "cell_type": "code",
   "execution_count": null,
   "id": "06c700cd",
   "metadata": {},
   "outputs": [],
   "source": [
    "psi = coherent(N, 2.0)\n",
    "plot_wigner_2d_3d(psi)"
   ]
  },
  {
   "cell_type": "code",
   "execution_count": null,
   "id": "a4d804b9",
   "metadata": {},
   "outputs": [],
   "source": [
    "psi = coherent(N, -1.0)\n",
    "plot_wigner_2d_3d(psi)"
   ]
  },
  {
   "cell_type": "markdown",
   "id": "9522a3c4",
   "metadata": {},
   "source": [
    "## Superposition of coherent states"
   ]
  },
  {
   "cell_type": "code",
   "execution_count": null,
   "id": "3a7326a7",
   "metadata": {},
   "outputs": [],
   "source": [
    "psi = (coherent(N, -2.0) + coherent(N, 2.0)) / np.sqrt(2)\n",
    "plot_wigner_2d_3d(psi)"
   ]
  },
  {
   "cell_type": "code",
   "execution_count": null,
   "id": "6fe62289",
   "metadata": {},
   "outputs": [],
   "source": [
    "psi = (coherent(N, -2.0) - coherent(N, 2.0)) / np.sqrt(2)\n",
    "plot_wigner_2d_3d(psi)"
   ]
  },
  {
   "cell_type": "code",
   "execution_count": null,
   "id": "a8e9778a",
   "metadata": {},
   "outputs": [],
   "source": [
    "psi = (coherent(N, -2.0) + coherent(N, -2j) + coherent(N, 2j)\n",
    "       + coherent(N, 2.0)).unit()\n",
    "plot_wigner_2d_3d(psi)"
   ]
  },
  {
   "cell_type": "code",
   "execution_count": null,
   "id": "0e06822e",
   "metadata": {},
   "outputs": [],
   "source": [
    "psi = (coherent(N, -2.0) + coherent(N, -1j) + coherent(N, 1j)\n",
    "       + coherent(N, 2.0)).unit()\n",
    "plot_wigner_2d_3d(psi)"
   ]
  },
  {
   "cell_type": "code",
   "execution_count": null,
   "id": "7717f315",
   "metadata": {},
   "outputs": [],
   "source": [
    "NN = 8\n",
    "\n",
    "fig, axes = plt.subplots(NN, 1, figsize=(5, 5 * NN),\n",
    "                         sharex=True, sharey=True)\n",
    "for n in range(NN):\n",
    "    psi = sum(\n",
    "        [coherent(N, 2 * np.exp(2j * np.pi * m / (n + 2)))\n",
    "         for m in range(n + 2)]\n",
    "    ).unit()\n",
    "    plot_wigner(psi, fig=fig, ax=axes[n])\n",
    "\n",
    "    # if n < NN - 1:\n",
    "    #    axes[n].set_ylabel(\"\")"
   ]
  },
  {
   "cell_type": "markdown",
   "id": "d9da75bb",
   "metadata": {},
   "source": [
    "### Mixture of coherent states"
   ]
  },
  {
   "cell_type": "code",
   "execution_count": null,
   "id": "9f148f70",
   "metadata": {},
   "outputs": [],
   "source": [
    "psi = (coherent_dm(N, -2.0) + coherent_dm(N, 2.0)) / np.sqrt(2)\n",
    "plot_wigner_2d_3d(psi)"
   ]
  },
  {
   "cell_type": "markdown",
   "id": "8687ebf6",
   "metadata": {},
   "source": [
    "## Fock states: $\\left|n\\right>$"
   ]
  },
  {
   "cell_type": "code",
   "execution_count": null,
   "id": "70cf68c4",
   "metadata": {},
   "outputs": [],
   "source": []
  },
  {
   "cell_type": "code",
   "execution_count": null,
   "id": "33dc660e",
   "metadata": {},
   "outputs": [],
   "source": [
    "for n in range(6):\n",
    "    psi = basis(N, n)\n",
    "    display(plot_wigner_2d_3d(psi))"
   ]
  },
  {
   "cell_type": "markdown",
   "id": "e2ecf70f",
   "metadata": {},
   "source": [
    "## Superposition of Fock states"
   ]
  },
  {
   "cell_type": "code",
   "execution_count": null,
   "id": "a310c13b",
   "metadata": {},
   "outputs": [],
   "source": [
    "NN = MM = 5\n",
    "\n",
    "fig, axes = plt.subplots(NN, MM, figsize=(18, 18),\n",
    "                         sharex=True, sharey=True)\n",
    "for n in range(NN):\n",
    "    for m in range(MM):\n",
    "        psi = (fock(N, n) + fock(N, m)).unit()\n",
    "        plot_wigner(psi, fig=fig, ax=axes[n, m])\n",
    "        if n < NN - 1:\n",
    "            axes[n, m].set_xlabel(\"\")\n",
    "        if m > 0:\n",
    "            axes[n, m].set_ylabel(\"\")"
   ]
  },
  {
   "cell_type": "markdown",
   "id": "5e708611",
   "metadata": {},
   "source": [
    "## Squeezed vacuum states"
   ]
  },
  {
   "cell_type": "code",
   "execution_count": null,
   "id": "d12c9ba2",
   "metadata": {},
   "outputs": [],
   "source": [
    "psi = squeeze(N, 0.5) * basis(N, 0)\n",
    "display(plot_wigner_2d_3d(psi))\n",
    "\n",
    "psi = squeeze(N, 0.75j) * basis(N, 0)\n",
    "display(plot_wigner_2d_3d(psi))\n",
    "\n",
    "psi = squeeze(N, -1) * basis(N, 0)\n",
    "display(plot_wigner_2d_3d(psi))"
   ]
  },
  {
   "cell_type": "markdown",
   "id": "e78328e1",
   "metadata": {},
   "source": [
    "### Superposition of squeezed vacuum"
   ]
  },
  {
   "cell_type": "code",
   "execution_count": null,
   "id": "c6d80163",
   "metadata": {},
   "outputs": [],
   "source": [
    "psi = (squeeze(N, 0.75j) * basis(N, 0) - squeeze(N, -0.75j)\n",
    "       * basis(N, 0)).unit()\n",
    "display(plot_wigner_2d_3d(psi))"
   ]
  },
  {
   "cell_type": "markdown",
   "id": "2f209c34",
   "metadata": {},
   "source": [
    "### Mixture of squeezed vacuum"
   ]
  },
  {
   "cell_type": "code",
   "execution_count": null,
   "id": "b30732d1",
   "metadata": {},
   "outputs": [],
   "source": [
    "psi = (\n",
    "    ket2dm(squeeze(N, 0.75j) * basis(N, 0)) +\n",
    "    ket2dm(squeeze(N, -0.75j) * basis(N, 0))\n",
    ").unit()\n",
    "display(plot_wigner_2d_3d(psi))"
   ]
  },
  {
   "cell_type": "markdown",
   "id": "e95acb11",
   "metadata": {},
   "source": [
    "## Displaced squeezed vacuum"
   ]
  },
  {
   "cell_type": "code",
   "execution_count": null,
   "id": "f0572b06",
   "metadata": {},
   "outputs": [],
   "source": [
    "psi = displace(N, 2) * squeeze(N, 0.75) * basis(N, 0)\n",
    "display(plot_wigner_2d_3d(psi))"
   ]
  },
  {
   "cell_type": "markdown",
   "id": "a3ab3347",
   "metadata": {},
   "source": [
    "### Superposition of two displaced squeezed states"
   ]
  },
  {
   "cell_type": "code",
   "execution_count": null,
   "id": "cbea59cf",
   "metadata": {},
   "outputs": [],
   "source": [
    "psi = (\n",
    "    displace(N, -1) * squeeze(N, 0.75) * basis(N, 0)\n",
    "    - displace(N, 1) * squeeze(N, -0.75) * basis(N, 0)\n",
    ").unit()\n",
    "display(plot_wigner_2d_3d(psi))"
   ]
  },
  {
   "cell_type": "markdown",
   "id": "9a6ff3b6",
   "metadata": {},
   "source": [
    "## Versions"
   ]
  },
  {
   "cell_type": "code",
   "execution_count": null,
   "id": "1d92f818",
   "metadata": {},
   "outputs": [],
   "source": [
    "about()"
   ]
  }
 ],
 "metadata": {
  "jupytext": {
   "cell_metadata_filter": "-all",
   "notebook_metadata_filter": "-jupytext.cell_metadata_filter,-jupytext.notebook_metadata_filter"
  },
  "kernelspec": {
   "display_name": "Python 3 (ipykernel)",
   "language": "python",
   "name": "python3"
  }
 },
 "nbformat": 4,
 "nbformat_minor": 5
}
