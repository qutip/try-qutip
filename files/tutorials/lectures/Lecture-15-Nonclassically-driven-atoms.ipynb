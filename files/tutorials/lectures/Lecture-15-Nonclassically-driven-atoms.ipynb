{
 "cells": [
  {
   "cell_type": "markdown",
   "id": "a7cd83df",
   "metadata": {},
   "source": [
    "# Lecture 15 - Nonclassically driven atoms (cascaded quantum systems)"
   ]
  },
  {
   "cell_type": "markdown",
   "id": "513d166c",
   "metadata": {},
   "source": [
    "Author: J. R. Johansson (robert@riken.jp), https://jrjohansson.github.io/\n",
    "\n",
    "This lecture series was developed by J.R. Johannson. The original lecture notebooks are available [here](https://github.com/jrjohansson/qutip-lectures).\n",
    "\n",
    "This is a slightly modified version of the lectures, to work with the current release of QuTiP. You can find these lectures as a part of the [qutip-tutorials repository](https://github.com/qutip/qutip-tutorials). This lecture and other tutorial notebooks are indexed at the [QuTiP Tutorial webpage](https://qutip.org/tutorials.html)."
   ]
  },
  {
   "cell_type": "code",
   "execution_count": null,
   "id": "240ed64d",
   "metadata": {},
   "outputs": [],
   "source": [
    "import matplotlib.pyplot as plt\n",
    "import numpy as np\n",
    "from qutip import (about, correlation_2op_1t, correlation_3op_1t, destroy,\n",
    "                   expect, identity, liouvillian, plot_fock_distribution,\n",
    "                   plot_wigner, spectrum_correlation_fft,\n",
    "                   spost, spre, steadystate, tensor)\n",
    "\n",
    "%matplotlib inline"
   ]
  },
  {
   "cell_type": "markdown",
   "id": "b216f05b",
   "metadata": {},
   "source": [
    "## Introduction"
   ]
  },
  {
   "cell_type": "markdown",
   "id": "31423299",
   "metadata": {},
   "source": [
    "In Chapter 12 (Cascaded quantum systems) in Quantum Noise by Gardiner and Zoller (Springer, 3rd edition), a few examples of nonclassically driven atoms are given. In this notebook we solve for the dynamics of those systems using QuTiP."
   ]
  },
  {
   "cell_type": "markdown",
   "id": "c2607374",
   "metadata": {},
   "source": [
    "## Two-level atom driven by squeezed light"
   ]
  },
  {
   "cell_type": "markdown",
   "id": "488b5cea",
   "metadata": {},
   "source": [
    "The master equation for a two-level atom driven by a squeezed light can be written as (Ch. 12.2.2 in Quantum Noise)\n",
    "\n",
    "$$\n",
    "\\dot\\rho = -i[H, \\rho] + \\kappa\\mathcal{D}[a]\\rho + \\gamma\\mathcal{D}[\\sigma_-]\\rho\n",
    "-\\sqrt{\\eta\\kappa\\gamma}\\{[\\sigma_+, a\\rho] + [\\rho a^\\dagger, \\sigma_-]\\}\n",
    "$$\n",
    "\n",
    "where\n",
    "\n",
    "$$\n",
    "H = i\\frac{1}{2}(E {a^\\dagger}^2 - E^* a^2)\n",
    "$$\n",
    "\n",
    "and\n",
    "\n",
    "$$\n",
    "\\mathcal{D}[a]\\rho = a \\rho a^\\dagger - \\frac{1}{2}\\rho a^\\dagger a - \\frac{1}{2}a^\\dagger a\\rho\n",
    "$$"
   ]
  },
  {
   "cell_type": "markdown",
   "id": "88347efe",
   "metadata": {},
   "source": [
    "$$\n",
    "\\dot\\rho = -i[H, \\rho] + \\kappa\\mathcal{D}[a]\\rho + \\gamma\\mathcal{D}[\\sigma_-]\\rho\n",
    "-\\sqrt{\\eta\\kappa\\gamma}\\{\\sigma_+a\\rho - a\\rho\\sigma_+ + \\rho a^\\dagger\\sigma_- - \\sigma_-\\rho a^\\dagger\\}\n",
    "$$\n"
   ]
  },
  {
   "cell_type": "code",
   "execution_count": null,
   "id": "f3e385a4",
   "metadata": {},
   "outputs": [],
   "source": [
    "N = 10\n",
    "gamma = 1\n",
    "eta = 0.9"
   ]
  },
  {
   "cell_type": "code",
   "execution_count": null,
   "id": "0d46b7e3",
   "metadata": {},
   "outputs": [],
   "source": [
    "def solve(N, gamma, kappa, eta):\n",
    "\n",
    "    E = kappa * 0.25\n",
    "\n",
    "    # create operators\n",
    "    a = tensor(destroy(N), identity(2))\n",
    "    sm = tensor(identity(N), destroy(2))\n",
    "\n",
    "    # Hamiltonian\n",
    "    H = 0.5j * (E * a.dag() ** 2 - np.conjugate(E) * a**2)\n",
    "\n",
    "    # master equation superoperators\n",
    "    L0 = liouvillian(H, [np.sqrt(kappa) * a, np.sqrt(gamma) * sm])\n",
    "    L1 = -np.sqrt(kappa * gamma * eta) * (\n",
    "        spre(sm.dag() * a)\n",
    "        - spre(a) * spost(sm.dag())\n",
    "        + spost(a.dag() * sm)\n",
    "        - spre(sm) * spost(a.dag())\n",
    "    )\n",
    "\n",
    "    L = L0 + L1\n",
    "\n",
    "    # steady state\n",
    "    rhoss = steadystate(L)\n",
    "\n",
    "    # correlation function and spectrum\n",
    "    taulist = np.linspace(0, 500, 2500)\n",
    "    c = correlation_2op_1t(L, rhoss, taulist, [], sm.dag(), sm)\n",
    "    w, S = spectrum_correlation_fft(taulist, c)\n",
    "\n",
    "    ww = np.hstack([np.fliplr(-np.array([w])).squeeze(), w])\n",
    "    SS = np.hstack([np.fliplr(np.array([S])).squeeze(), S])\n",
    "\n",
    "    return rhoss, ww, SS"
   ]
  },
  {
   "cell_type": "code",
   "execution_count": null,
   "id": "24aff205",
   "metadata": {},
   "outputs": [],
   "source": [
    "rhoss2, w2, S2 = solve(N, gamma, 2, eta)\n",
    "rhoss4, w4, S4 = solve(N, gamma, 4, eta)\n",
    "rhoss8, w8, S8 = solve(N, gamma, 8, eta)"
   ]
  },
  {
   "cell_type": "code",
   "execution_count": null,
   "id": "006c7273",
   "metadata": {},
   "outputs": [],
   "source": [
    "fig, axes = plt.subplots(1, 2, figsize=(8, 4))\n",
    "plot_fock_distribution(rhoss2.ptrace(0), fig=fig, ax=axes[0])\n",
    "plot_wigner(rhoss2.ptrace(0), fig=fig, ax=axes[1])\n",
    "\n",
    "fig, axes = plt.subplots(1, 2, figsize=(8, 4))\n",
    "plot_fock_distribution(rhoss4.ptrace(0), fig=fig, ax=axes[0])\n",
    "plot_wigner(rhoss4.ptrace(0), fig=fig, ax=axes[1])\n",
    "\n",
    "fig, axes = plt.subplots(1, 2, figsize=(8, 4))\n",
    "plot_fock_distribution(rhoss8.ptrace(0), fig=fig, ax=axes[0])\n",
    "plot_wigner(rhoss8.ptrace(0), fig=fig, ax=axes[1]);"
   ]
  },
  {
   "cell_type": "code",
   "execution_count": null,
   "id": "e29e2189",
   "metadata": {},
   "outputs": [],
   "source": [
    "fig, ax = plt.subplots()\n",
    "ax.plot(w2, S2 / S2.max(), label=r\"$\\kappa = 2$\")\n",
    "ax.plot(w4, S4 / S4.max(), label=r\"$\\kappa = 4$\")\n",
    "ax.plot(w8, S8 / S8.max(), label=r\"$\\kappa = 8$\")\n",
    "ax.plot(w8, 0.25 / ((0.5 * gamma) ** 2 + w8**2), \"k:\", label=r\"Lorentian\")\n",
    "ax.legend()\n",
    "ax.set_ylabel(r\"Flouresence spectrum\", fontsize=16)\n",
    "ax.set_xlabel(r\"$\\omega$\", fontsize=18)\n",
    "ax.set_xlim(-2, 2);"
   ]
  },
  {
   "cell_type": "markdown",
   "id": "8e197297",
   "metadata": {},
   "source": [
    "Fig. 12.4 in Quantum Noise."
   ]
  },
  {
   "cell_type": "markdown",
   "id": "3f8c6973",
   "metadata": {},
   "source": [
    "## Two-level atom driven by antibunched light: coherent excitation of the source atom"
   ]
  },
  {
   "cell_type": "markdown",
   "id": "a71abe3d",
   "metadata": {},
   "source": [
    "The master equation given in Sec. 12.3.1 in Quantum Noise, for two coupled atoms where the first atom (source atom) is irradiated with coherent light, and the second atom is irradiated by the antibunched light emitted from the source atom, is:\n",
    "\n",
    "$$\n",
    "\\dot\\rho = -i[H, \\rho] + \\gamma_1\\mathcal{D}[\\sigma^-_{1}]\\rho + \\gamma_2\\mathcal{D}[\\sigma^-_{2}]\\rho\n",
    "-\\sqrt{(1-\\epsilon_1)(1-\\epsilon_2)\\gamma_1\\gamma_2}\n",
    "([\\sigma_2^+, \\sigma_1^-\\rho] + [\\rho\\sigma_1^+, \\sigma_2^-])\n",
    "$$\n",
    "\n",
    "where\n",
    "\n",
    "$$\n",
    "H = -i\\sqrt{\\epsilon_1\\gamma_1}(E\\sigma_1^+ - E^*\\sigma_1^-)\n",
    "$$"
   ]
  },
  {
   "cell_type": "code",
   "execution_count": null,
   "id": "2b2c27d2",
   "metadata": {},
   "outputs": [],
   "source": [
    "e1 = 0.5\n",
    "e2 = 0.5\n",
    "\n",
    "gamma1 = 2\n",
    "gamma2 = 2\n",
    "\n",
    "E = 2 / np.sqrt(e1 * gamma1)"
   ]
  },
  {
   "cell_type": "code",
   "execution_count": null,
   "id": "fffee0ee",
   "metadata": {},
   "outputs": [],
   "source": [
    "sm1 = tensor(destroy(2), identity(2))\n",
    "sp1 = sm1.dag()\n",
    "sm2 = tensor(identity(2), destroy(2))\n",
    "sp2 = sm2.dag()"
   ]
  },
  {
   "cell_type": "code",
   "execution_count": null,
   "id": "a73b8c32",
   "metadata": {},
   "outputs": [],
   "source": [
    "H = -1j * np.sqrt(e1 * gamma1) * (E * sp1 - np.conjugate(E) * sm1)"
   ]
  },
  {
   "cell_type": "code",
   "execution_count": null,
   "id": "9409196e",
   "metadata": {},
   "outputs": [],
   "source": [
    "L0 = liouvillian(H, [np.sqrt(gamma1) * sm1, np.sqrt(gamma2) * sm2])"
   ]
  },
  {
   "cell_type": "code",
   "execution_count": null,
   "id": "cd4477ca",
   "metadata": {},
   "outputs": [],
   "source": [
    "L1 = -np.sqrt((1 - e1) * (1 - e2) * gamma1 * gamma2) * (\n",
    "    spre(sp2 * sm1) - spre(sm1) * spost(sp2) +\n",
    "    spost(sp1 * sm2) - spre(sm2) * spost(sp1)\n",
    ")"
   ]
  },
  {
   "cell_type": "code",
   "execution_count": null,
   "id": "866dfed0",
   "metadata": {},
   "outputs": [],
   "source": [
    "L = L0 + L1"
   ]
  },
  {
   "cell_type": "code",
   "execution_count": null,
   "id": "24da2828",
   "metadata": {},
   "outputs": [],
   "source": [
    "# steady state\n",
    "rhoss = steadystate(L)"
   ]
  },
  {
   "cell_type": "code",
   "execution_count": null,
   "id": "9b290d65",
   "metadata": {},
   "outputs": [],
   "source": [
    "# correlation function and spectrum\n",
    "taulist = np.linspace(0, 4, 250)"
   ]
  },
  {
   "cell_type": "code",
   "execution_count": null,
   "id": "6657e8ed",
   "metadata": {},
   "outputs": [],
   "source": [
    "G2_11 = correlation_3op_1t(L, rhoss, taulist, [], sp1, sp1 * sm1, sm1)\n",
    "g2_11 = G2_11 / (expect(sp1 * sm1, rhoss) * expect(sp1 * sm1, rhoss))"
   ]
  },
  {
   "cell_type": "code",
   "execution_count": null,
   "id": "aaf82b9a",
   "metadata": {},
   "outputs": [],
   "source": [
    "G2_22 = correlation_3op_1t(L, rhoss, taulist, [], sp2, sp2 * sm2, sm2)\n",
    "g2_22 = G2_22 / (expect(sp2 * sm2, rhoss) * expect(sp2 * sm2, rhoss))"
   ]
  },
  {
   "cell_type": "code",
   "execution_count": null,
   "id": "bc2acc3d",
   "metadata": {},
   "outputs": [],
   "source": [
    "G2_12 = correlation_3op_1t(L, rhoss, taulist, [], sp2, sp1 * sm1, sm2)\n",
    "g2_12 = G2_12 / (expect(sp1 * sm1, rhoss) * expect(sp2 * sm2, rhoss))"
   ]
  },
  {
   "cell_type": "code",
   "execution_count": null,
   "id": "76c3c15e",
   "metadata": {},
   "outputs": [],
   "source": [
    "G2_21 = correlation_3op_1t(L, rhoss, taulist, [], sp1, sp2 * sm2, sm1)\n",
    "g2_21 = G2_21 / (expect(sp2 * sm2, rhoss) * expect(sp1 * sm1, rhoss))"
   ]
  },
  {
   "cell_type": "code",
   "execution_count": null,
   "id": "ffd81b28",
   "metadata": {},
   "outputs": [],
   "source": [
    "fig, ax = plt.subplots()\n",
    "\n",
    "ax.plot(taulist, np.real(g2_11), label=r\"$g^{(2)}_{11}(\\tau)$\")\n",
    "ax.plot(taulist, np.real(g2_22), label=r\"$g^{(2)}_{22}(\\tau)$\")\n",
    "ax.plot(taulist, np.real(g2_12), label=r\"$g^{(2)}_{12}(\\tau)$\")\n",
    "ax.plot(taulist, np.real(g2_21), label=r\"$g^{(2)}_{21}(\\tau)$\")\n",
    "\n",
    "ax.legend(loc=4)\n",
    "ax.set_xlabel(r\"$\\tau$\");"
   ]
  },
  {
   "cell_type": "markdown",
   "id": "7480f73c",
   "metadata": {},
   "source": [
    "Fig. 12.6 in Quantum Noise."
   ]
  },
  {
   "cell_type": "markdown",
   "id": "a93b9682",
   "metadata": {},
   "source": [
    "## Two-level atom driven by antibunched light: incoherent excitation of the source atom"
   ]
  },
  {
   "cell_type": "markdown",
   "id": "c52107a3",
   "metadata": {},
   "source": [
    "When the source atom is irradiated with incoherent light, the master equation becomes (Sec. 12.3.2 in Quantum Noise)\n",
    "\n",
    "$$\n",
    "\\dot\\rho =\n",
    "\\gamma_1\\mathcal{D}[\\sigma^-_{1}]\\rho +\n",
    "\\gamma_2\\mathcal{D}[\\sigma^-_{2}]\\rho +\n",
    "\\kappa(\\bar{N} + 1)\\mathcal{D}[a]\\rho +\n",
    "\\kappa\\bar{N}\\mathcal{D}[a^\\dagger]\\rho\n",
    "-\\sqrt{2\\kappa\\eta_1\\gamma_1} ([\\sigma_1^+, a\\rho] + [\\rho a^\\dagger, \\sigma_1^-])\n",
    "-\\sqrt{\\eta_2\\gamma1\\gamma_2} ([\\sigma_2^+, \\sigma_1^-\\rho] + [\\rho\\sigma_1^+, \\sigma_2^-])\n",
    "$$\n"
   ]
  },
  {
   "cell_type": "code",
   "execution_count": null,
   "id": "140759b0",
   "metadata": {},
   "outputs": [],
   "source": [
    "N = 10\n",
    "\n",
    "e1 = 0.5\n",
    "e2 = 0.5\n",
    "ek = 0.5\n",
    "\n",
    "n_th = 1\n",
    "kappa = 0.1\n",
    "gamma1 = 1\n",
    "gamma2 = 1\n",
    "\n",
    "E = 0.025\n",
    "\n",
    "taulist = np.linspace(0, 5, 250)"
   ]
  },
  {
   "cell_type": "code",
   "execution_count": null,
   "id": "de1f7edd",
   "metadata": {},
   "outputs": [],
   "source": [
    "a = tensor(destroy(N), identity(2), identity(2))\n",
    "sm1 = tensor(identity(N), destroy(2), identity(2))\n",
    "sp1 = sm1.dag()\n",
    "sm2 = tensor(identity(N), identity(2), destroy(2))\n",
    "sp2 = sm2.dag()"
   ]
  },
  {
   "cell_type": "code",
   "execution_count": null,
   "id": "561cb076",
   "metadata": {},
   "outputs": [],
   "source": [
    "def solve(ek, e1, e2, gamma1, gamma2, kappa, n_th, E):\n",
    "\n",
    "    eta1 = (1 - ek) * e1\n",
    "    eta2 = (1 - e1) * (1 - e2)\n",
    "\n",
    "    H = 1j * E * (a - a.dag())\n",
    "\n",
    "    L0 = liouvillian(\n",
    "        H,\n",
    "        [\n",
    "            np.sqrt(kappa * (1 + n_th)) * a,\n",
    "            np.sqrt(kappa * n_th) * a.dag(),\n",
    "            np.sqrt(gamma1) * sm1,\n",
    "            np.sqrt(gamma2) * sm2,\n",
    "        ],\n",
    "    )\n",
    "\n",
    "    L1 = -np.sqrt(2 * kappa * eta1 * gamma1) * (\n",
    "        spre(sp1 * a)\n",
    "        - spre(a) * spost(sp1)\n",
    "        + spost(a.dag() * sm1)\n",
    "        - spre(sm1) * spost(a.dag())\n",
    "    ) + -np.sqrt(eta2 * gamma1 * gamma2) * (\n",
    "        spre(sp2 * sm1)\n",
    "        - spre(sm1) * spost(sp2)\n",
    "        + spost(sp1 * sm2)\n",
    "        - spre(sm2) * spost(sp1)\n",
    "    )\n",
    "\n",
    "    L = L0 + L1\n",
    "\n",
    "    rhoss = steadystate(L)\n",
    "\n",
    "    G2_11 = correlation_3op_1t(L, rhoss, taulist, [], sp1, sp1 * sm1, sm1)\n",
    "    g2_11 = G2_11 / (expect(sp1 * sm1, rhoss) * expect(sp1 * sm1, rhoss))\n",
    "\n",
    "    G2_22 = correlation_3op_1t(L, rhoss, taulist, [], sp2, sp2 * sm2, sm2)\n",
    "    g2_22 = G2_22 / (expect(sp2 * sm2, rhoss) * expect(sp2 * sm2, rhoss))\n",
    "\n",
    "    G2_12 = correlation_3op_1t(L, rhoss, taulist, [], sp2, sp1 * sm1, sm2)\n",
    "    g2_12 = G2_12 / (expect(sp1 * sm1, rhoss) * expect(sp2 * sm2, rhoss))\n",
    "\n",
    "    G2_21 = correlation_3op_1t(L, rhoss, taulist, [], sp1, sp2 * sm2, sm1)\n",
    "    g2_21 = G2_21 / (expect(sp2 * sm2, rhoss) * expect(sp1 * sm1, rhoss))\n",
    "\n",
    "    return rhoss, g2_11, g2_12, g2_21, g2_22"
   ]
  },
  {
   "cell_type": "code",
   "execution_count": null,
   "id": "7b08d8d8",
   "metadata": {},
   "outputs": [],
   "source": [
    "# thermal\n",
    "rhoss_t, g2_11_t, g2_12_t, g2_21_t, g2_22_t = solve(\n",
    "    ek, e1, e2, gamma1, gamma2, kappa, n_th, 0.0\n",
    ")"
   ]
  },
  {
   "cell_type": "code",
   "execution_count": null,
   "id": "3298efd2",
   "metadata": {},
   "outputs": [],
   "source": [
    "# visualize the cavity state\n",
    "fig, axes = plt.subplots(1, 2, figsize=(8, 4))\n",
    "plot_fock_distribution(rhoss_t.ptrace(0), fig=fig, ax=axes[0])\n",
    "plot_wigner(rhoss_t.ptrace(0), fig=fig, ax=axes[1]);"
   ]
  },
  {
   "cell_type": "code",
   "execution_count": null,
   "id": "a5dbb11f",
   "metadata": {},
   "outputs": [],
   "source": [
    "fig, ax = plt.subplots(figsize=(8, 4))\n",
    "\n",
    "ax.plot(taulist, np.real(g2_11_t), label=r\"$g^{(2)}_{11}(\\tau)$\")\n",
    "ax.plot(taulist, np.real(g2_22_t), label=r\"$g^{(2)}_{22}(\\tau)$\")\n",
    "ax.plot(taulist, np.real(g2_12_t), label=r\"$g^{(2)}_{12}(\\tau)$\")\n",
    "ax.plot(taulist, np.real(g2_21_t), label=r\"$g^{(2)}_{21}(\\tau)$\")\n",
    "\n",
    "ax.legend(loc=4)\n",
    "ax.set_xlabel(r\"$\\tau$\", fontsize=16);"
   ]
  },
  {
   "cell_type": "markdown",
   "id": "d3bc40ed",
   "metadata": {},
   "source": [
    "Similar to Fig. 12.8 in Quantum Noise, although not exactly because of different parameters."
   ]
  },
  {
   "cell_type": "markdown",
   "id": "980f6279",
   "metadata": {},
   "source": [
    "## Versions"
   ]
  },
  {
   "cell_type": "code",
   "execution_count": null,
   "id": "7d061249",
   "metadata": {},
   "outputs": [],
   "source": [
    "about()"
   ]
  }
 ],
 "metadata": {
  "jupytext": {
   "cell_metadata_filter": "-all",
   "notebook_metadata_filter": "-jupytext.cell_metadata_filter,-jupytext.notebook_metadata_filter"
  },
  "kernelspec": {
   "display_name": "Python 3 (ipykernel)",
   "language": "python",
   "name": "python3"
  }
 },
 "nbformat": 4,
 "nbformat_minor": 5
}
