{
 "cells": [
  {
   "cell_type": "markdown",
   "id": "85681b97",
   "metadata": {},
   "source": [
    "# Lecture 9 - Squeezed states of a quantum harmonic oscillator\n",
    "\n",
    "Author: J. R. Johansson (robert@riken.jp), https://jrjohansson.github.io/\n",
    "\n",
    "This lecture series was developed by J.R. Johannson. The original lecture notebooks are available [here](https://github.com/jrjohansson/qutip-lectures).\n",
    "\n",
    "This is a slightly modified version of the lectures, to work with the current release of QuTiP. You can find these lectures as a part of the [qutip-tutorials repository](https://github.com/qutip/qutip-tutorials). This lecture and other tutorial notebooks are indexed at the [QuTiP Tutorial webpage](https://qutip.org/tutorials.html)."
   ]
  },
  {
   "cell_type": "code",
   "execution_count": null,
   "id": "7514e412",
   "metadata": {},
   "outputs": [],
   "source": [
    "from base64 import b64encode\n",
    "\n",
    "import matplotlib.pyplot as plt\n",
    "import numpy as np\n",
    "from IPython.display import HTML\n",
    "from matplotlib import animation\n",
    "from qutip import (about, basis, coherent, destroy, displace, expect, mesolve,\n",
    "                   num, plot_fock_distribution, plot_wigner, squeeze, variance)\n",
    "\n",
    "%matplotlib inline"
   ]
  },
  {
   "cell_type": "markdown",
   "id": "a530676c",
   "metadata": {},
   "source": [
    "## Introduction\n",
    "\n",
    "In quantum mechanics, each measurement of an observable (corresponding to an Hermitian operator) results in stochastic outcome that follows some probability distribution. The expectation value of the operator is the average of many measurement outcomes, and the standard deviation of the operator describes the uncertainty in the outcomes.\n",
    "\n",
    "This uncertainty is intrinsic in quantum mechanics, and cannot be eliminated. The Heisenberg uncertainty principle describes the minumum uncertainly for pairs of noncommuting operators. For example, the operators such $x$ and $p$, which satisfy the commutation relation $[x, p] = i\\hbar$, must always satisfy $(\\Delta x) (\\Delta p) >= \\hbar/2$ .\n",
    "\n",
    "A state that satisfies\n",
    "\n",
    "$(\\Delta x) (\\Delta p) = \\hbar/2$\n",
    "\n",
    "is called a minimum uncertainty state, and a state for which, for example,\n",
    "\n",
    "$(\\Delta x)^2 < \\hbar/2$\n",
    "\n",
    "is called a squeezed state. Note that in this case $(\\Delta p)^2$ must be larger than $\\hbar/2(\\Delta x)^2$ for the Heisenberg relation to hold. Squeezing a quantum state so that the variance of one operator $x$ is reduced below the minimum uncertainty limit therefore necessarily amplify the variance of operators that do not commute with $x$, such as $p$.\n",
    "\n",
    "For harmonic modes, squeezing of $x$ or $p$ is called quadrature squeezing, and it is probably the most common form of squeezing.\n",
    "\n",
    "In this QuTiP notebook we look at how expectation values and variances of the quadrature operators $x$ or $p$ of a single harmonic mode evolve in time when initially in different kinds of squeezed states."
   ]
  },
  {
   "cell_type": "markdown",
   "id": "1c89f48c",
   "metadata": {},
   "source": [
    "## Parameters"
   ]
  },
  {
   "cell_type": "code",
   "execution_count": null,
   "id": "a492ad20",
   "metadata": {},
   "outputs": [],
   "source": [
    "N = 35\n",
    "w = 1 * 2 * np.pi  # oscillator frequency\n",
    "tlist = np.linspace(0, 2, 31)  # periods"
   ]
  },
  {
   "cell_type": "code",
   "execution_count": null,
   "id": "99b8e6db",
   "metadata": {},
   "outputs": [],
   "source": [
    "# operators\n",
    "a = destroy(N)\n",
    "n = num(N)\n",
    "x = (a + a.dag()) / np.sqrt(2)\n",
    "p = -1j * (a - a.dag()) / np.sqrt(2)"
   ]
  },
  {
   "cell_type": "code",
   "execution_count": null,
   "id": "64ac9286",
   "metadata": {},
   "outputs": [],
   "source": [
    "# the quantum harmonic oscillator Hamiltonian\n",
    "H = w * a.dag() * a"
   ]
  },
  {
   "cell_type": "code",
   "execution_count": null,
   "id": "7850e72d",
   "metadata": {},
   "outputs": [],
   "source": [
    "c_ops = []\n",
    "\n",
    "# uncomment to see how things change when disspation is included\n",
    "# c_ops = [np.sqrt(0.25) * a]"
   ]
  },
  {
   "cell_type": "markdown",
   "id": "38ccefed",
   "metadata": {},
   "source": [
    "## Functions for plotting\n",
    "\n",
    "Since we want to repeat the same kind of calculation and visualization for several different states, we first define a few functions that we can reuse for each state later on."
   ]
  },
  {
   "cell_type": "code",
   "execution_count": null,
   "id": "f8972a46",
   "metadata": {},
   "outputs": [],
   "source": [
    "def plot_expect_with_variance(N, op_list, op_title, states):\n",
    "    \"\"\"\n",
    "    Plot the expectation value of an operator (list of operators)\n",
    "    with an envelope that describes the operators variance.\n",
    "    \"\"\"\n",
    "\n",
    "    fig, axes = plt.subplots(1, len(op_list), figsize=(14, 3))\n",
    "\n",
    "    for idx, op in enumerate(op_list):\n",
    "\n",
    "        e_op = expect(op, states)\n",
    "        v_op = variance(op, states)\n",
    "\n",
    "        axes[idx].fill_between(\n",
    "            tlist, e_op - np.sqrt(v_op), e_op + np.sqrt(v_op), color=\"green\",\n",
    "            alpha=0.5)\n",
    "        axes[idx].plot(tlist, e_op, label=\"expectation\")\n",
    "        axes[idx].set_xlabel(\"Time\")\n",
    "        axes[idx].set_title(op_title[idx])\n",
    "\n",
    "    return fig, axes"
   ]
  },
  {
   "cell_type": "code",
   "execution_count": null,
   "id": "d90e3802",
   "metadata": {},
   "outputs": [],
   "source": [
    "def display_embedded_video(filename):\n",
    "    video = open(filename, \"rb\").read()\n",
    "    video_encoded = b64encode(video).decode(\"ascii\")\n",
    "    video_tag = '<video controls alt=\"test\" \\\n",
    "                src=\"data:video/x-m4v;base64,{0}\">'.format(\n",
    "        video_encoded\n",
    "    )\n",
    "    return HTML(video_tag)"
   ]
  },
  {
   "cell_type": "markdown",
   "id": "ab132873",
   "metadata": {},
   "source": [
    "## Coherent state\n",
    "\n",
    "For reference, let's first look at the time evolution of a coherent state."
   ]
  },
  {
   "cell_type": "code",
   "execution_count": null,
   "id": "0805f10c",
   "metadata": {},
   "outputs": [],
   "source": [
    "psi0 = coherent(N, 2.0)"
   ]
  },
  {
   "cell_type": "code",
   "execution_count": null,
   "id": "3f1ed039",
   "metadata": {},
   "outputs": [],
   "source": [
    "result = mesolve(H, psi0, tlist, c_ops, [])"
   ]
  },
  {
   "cell_type": "code",
   "execution_count": null,
   "id": "10c4a31a",
   "metadata": {},
   "outputs": [],
   "source": [
    "plot_expect_with_variance(N, [n, x, p], [r\"$n$\", r\"$x$\", r\"$p$\"],\n",
    "                          result.states);"
   ]
  },
  {
   "cell_type": "code",
   "execution_count": null,
   "id": "97f06dc4",
   "metadata": {},
   "outputs": [],
   "source": [
    "fig, axes = plt.subplots(1, 2, figsize=(10, 5))\n",
    "\n",
    "\n",
    "def update(n):\n",
    "    axes[0].cla()\n",
    "    plot_fock_distribution(result.states[n], fig=fig, ax=axes[0])\n",
    "    plot_wigner(result.states[n], fig=fig, ax=axes[1])\n",
    "    return axes[0].artists + axes[1].artists\n",
    "\n",
    "\n",
    "anim = animation.FuncAnimation(fig, update, frames=len(result.states),\n",
    "                               blit=True)\n",
    "\n",
    "anim.save(\"/tmp/animation-coherent-state.mp4\", fps=10, writer=\"ffmpeg\")\n",
    "\n",
    "plt.close(fig)"
   ]
  },
  {
   "cell_type": "code",
   "execution_count": null,
   "id": "3fefd1d6",
   "metadata": {},
   "outputs": [],
   "source": [
    "display_embedded_video(\"/tmp/animation-coherent-state.mp4\")"
   ]
  },
  {
   "cell_type": "markdown",
   "id": "6f1095ed",
   "metadata": {},
   "source": [
    "## Squeezed vacuum"
   ]
  },
  {
   "cell_type": "code",
   "execution_count": null,
   "id": "cddc8b41",
   "metadata": {},
   "outputs": [],
   "source": [
    "psi0 = squeeze(N, 1.0) * basis(N, 0)"
   ]
  },
  {
   "cell_type": "code",
   "execution_count": null,
   "id": "64746807",
   "metadata": {},
   "outputs": [],
   "source": [
    "result = mesolve(H, psi0, tlist, c_ops, [])"
   ]
  },
  {
   "cell_type": "code",
   "execution_count": null,
   "id": "12da9855",
   "metadata": {},
   "outputs": [],
   "source": [
    "plot_expect_with_variance(N, [n, x, p], [r\"$n$\", r\"$x$\", r\"$p$\"],\n",
    "                          result.states);"
   ]
  },
  {
   "cell_type": "code",
   "execution_count": null,
   "id": "39401970",
   "metadata": {},
   "outputs": [],
   "source": [
    "fig, axes = plt.subplots(1, 2, figsize=(10, 5))\n",
    "\n",
    "\n",
    "def update(n):\n",
    "    axes[0].cla()\n",
    "    plot_fock_distribution(result.states[n], fig=fig, ax=axes[0])\n",
    "    plot_wigner(result.states[n], fig=fig, ax=axes[1])\n",
    "    return axes[0].artists + axes[1].artists\n",
    "\n",
    "\n",
    "anim = animation.FuncAnimation(fig, update, frames=len(result.states),\n",
    "                               blit=True)\n",
    "\n",
    "anim.save(\"/tmp/animation-squeezed-vacuum.mp4\", fps=10, writer=\"ffmpeg\")\n",
    "\n",
    "plt.close(fig)"
   ]
  },
  {
   "cell_type": "code",
   "execution_count": null,
   "id": "6490c4e4",
   "metadata": {},
   "outputs": [],
   "source": [
    "display_embedded_video(\"/tmp/animation-squeezed-vacuum.mp4\")"
   ]
  },
  {
   "cell_type": "markdown",
   "id": "89ce396a",
   "metadata": {},
   "source": [
    "## Squeezed coherent state"
   ]
  },
  {
   "cell_type": "code",
   "execution_count": null,
   "id": "8c662071",
   "metadata": {},
   "outputs": [],
   "source": [
    "psi0 = (\n",
    "    displace(N, 2) * squeeze(N, 1.0) * basis(N, 0)\n",
    ")  # first squeeze vacuum and then displace"
   ]
  },
  {
   "cell_type": "code",
   "execution_count": null,
   "id": "cef8b99d",
   "metadata": {},
   "outputs": [],
   "source": [
    "result = mesolve(H, psi0, tlist, c_ops, [])"
   ]
  },
  {
   "cell_type": "code",
   "execution_count": null,
   "id": "41f3f84b",
   "metadata": {},
   "outputs": [],
   "source": [
    "plot_expect_with_variance(N, [n, x, p], [r\"$n$\", r\"$x$\", r\"$p$\"],\n",
    "                          result.states);"
   ]
  },
  {
   "cell_type": "code",
   "execution_count": null,
   "id": "27a1efbc",
   "metadata": {},
   "outputs": [],
   "source": [
    "fig, axes = plt.subplots(1, 2, figsize=(10, 5))\n",
    "\n",
    "\n",
    "def update(n):\n",
    "    axes[0].cla()\n",
    "    plot_fock_distribution(result.states[n], fig=fig, ax=axes[0])\n",
    "    plot_wigner(result.states[n], fig=fig, ax=axes[1])\n",
    "    return axes[0].artists + axes[1].artists\n",
    "\n",
    "\n",
    "anim = animation.FuncAnimation(fig, update, frames=len(result.states),\n",
    "                               blit=True)\n",
    "\n",
    "anim.save(\"/tmp/animation-squeezed-coherent-state.mp4\", fps=10,\n",
    "          writer=\"ffmpeg\")\n",
    "\n",
    "plt.close(fig)"
   ]
  },
  {
   "cell_type": "code",
   "execution_count": null,
   "id": "7b42f901",
   "metadata": {},
   "outputs": [],
   "source": [
    "display_embedded_video(\"/tmp/animation-squeezed-coherent-state.mp4\")"
   ]
  },
  {
   "cell_type": "markdown",
   "id": "58e00891",
   "metadata": {},
   "source": [
    "### Software versions"
   ]
  },
  {
   "cell_type": "code",
   "execution_count": null,
   "id": "eaeca899",
   "metadata": {},
   "outputs": [],
   "source": [
    "about()"
   ]
  }
 ],
 "metadata": {
  "jupytext": {
   "cell_metadata_filter": "-all",
   "notebook_metadata_filter": "-jupytext.cell_metadata_filter,-jupytext.notebook_metadata_filter"
  },
  "kernelspec": {
   "display_name": "Python 3 (ipykernel)",
   "language": "python",
   "name": "python3"
  }
 },
 "nbformat": 4,
 "nbformat_minor": 5
}
