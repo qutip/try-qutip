{
 "cells": [
  {
   "cell_type": "markdown",
   "id": "28b5c560",
   "metadata": {},
   "source": [
    "# Lecture 11 - Superconducting Josephson charge qubits\n",
    "\n",
    "Author: J. R. Johansson (robert@riken.jp), https://jrjohansson.github.io/\n",
    "\n",
    "This lecture series was developed by J.R. Johannson. The original lecture notebooks are available [here](https://github.com/jrjohansson/qutip-lectures).\n",
    "\n",
    "This is a slightly modified version of the lectures, to work with the current release of QuTiP. You can find these lectures as a part of the [qutip-tutorials repository](https://github.com/qutip/qutip-tutorials). This lecture and other tutorial notebooks are indexed at the [QuTiP Tutorial webpage](https://qutip.org/tutorials.html)."
   ]
  },
  {
   "cell_type": "code",
   "execution_count": null,
   "id": "32692d13",
   "metadata": {},
   "outputs": [],
   "source": [
    "import matplotlib.pyplot as plt\n",
    "import numpy as np\n",
    "from qutip import Qobj, about, plot_energy_levels, ket2dm, mesolve\n",
    "\n",
    "%matplotlib inline"
   ]
  },
  {
   "cell_type": "markdown",
   "id": "65a1985b",
   "metadata": {},
   "source": [
    "### Introduction\n",
    "\n",
    "The Hamiltonian for a Josephson charge qubit is\n",
    "\n",
    "$\\displaystyle H = \\sum_n 4 E_C (n_g - n)^2 \\left|n\\right\\rangle\\left\\langle n\\right| - \\frac{1}{2}E_J\\sum_n\\left(\\left|n+1\\right\\rangle\\left\\langle n\\right| + \\left|n\\right\\rangle\\left\\langle n+1\\right| \\right)$\n",
    "\n",
    "where $E_C$ is the charge energy, $E_J$ is the Josephson energy, and $\\left| n\\right\\rangle$ is the charge state with $n$ Cooper-pairs on the island that makes up the charge qubit."
   ]
  },
  {
   "cell_type": "markdown",
   "id": "bf772eac",
   "metadata": {},
   "source": [
    "#### References\n",
    "\n",
    " * [J. Koch et al, Phys. Rec. A 76, 042319 (2007)](https://journals.aps.org/pra/abstract/10.1103/PhysRevA.76.042319)\n",
    " * [Y.A. Pashkin et al, Quantum Inf Process 8, 55 (2009)](http://dx.doi.org/10.1007/s11128-009-0101-5)"
   ]
  },
  {
   "cell_type": "markdown",
   "id": "e80ef0be",
   "metadata": {},
   "source": [
    "### Helper functions\n",
    "\n",
    "Below we will repeatedly need to obtain the charge qubit Hamiltonian for different parameters, and to plot the eigenenergies, so here we define two functions to do these tasks."
   ]
  },
  {
   "cell_type": "code",
   "execution_count": null,
   "id": "5cabfb31",
   "metadata": {},
   "outputs": [],
   "source": [
    "def hamiltonian(Ec, Ej, N, ng):\n",
    "    \"\"\"\n",
    "    Return the charge qubit hamiltonian as a Qobj instance.\n",
    "    \"\"\"\n",
    "    m = np.diag(4 * Ec * (np.arange(-N, N + 1) - ng) ** 2) + 0.5 * Ej * (\n",
    "        np.diag(-np.ones(2 * N), 1) + np.diag(-np.ones(2 * N), -1)\n",
    "    )\n",
    "    return Qobj(m)"
   ]
  },
  {
   "cell_type": "code",
   "execution_count": null,
   "id": "ffbe4387",
   "metadata": {},
   "outputs": [],
   "source": [
    "def plot_energies(ng_vec, energies, ymax=(20, 3)):\n",
    "    \"\"\"\n",
    "    Plot energy levels as a function of bias parameter ng_vec.\n",
    "    \"\"\"\n",
    "    fig, axes = plt.subplots(1, 2, figsize=(16, 6))\n",
    "\n",
    "    for n in range(len(energies[0, :])):\n",
    "        axes[0].plot(ng_vec, energies[:, n])\n",
    "    axes[0].set_ylim(-2, ymax[0])\n",
    "    axes[0].set_xlabel(r\"$n_g$\", fontsize=18)\n",
    "    axes[0].set_ylabel(r\"$E_n$\", fontsize=18)\n",
    "\n",
    "    for n in range(len(energies[0, :])):\n",
    "        axes[1].plot(\n",
    "            ng_vec,\n",
    "            (energies[:, n] - energies[:, 0]) /\n",
    "            (energies[:, 1] - energies[:, 0]),\n",
    "        )\n",
    "    axes[1].set_ylim(-0.1, ymax[1])\n",
    "    axes[1].set_xlabel(r\"$n_g$\", fontsize=18)\n",
    "    axes[1].set_ylabel(r\"$(E_n-E_0)/(E_1-E_0)$\", fontsize=18)\n",
    "    return fig, axes"
   ]
  },
  {
   "cell_type": "code",
   "execution_count": null,
   "id": "9a79e897",
   "metadata": {},
   "outputs": [],
   "source": [
    "def visualize_dynamics(result, ylabel):\n",
    "    \"\"\"\n",
    "    Plot the evolution of the expectation values stored in result.\n",
    "    \"\"\"\n",
    "    fig, ax = plt.subplots(figsize=(12, 5))\n",
    "\n",
    "    ax.plot(result.times, result.expect[0])\n",
    "\n",
    "    ax.set_ylabel(ylabel, fontsize=16)\n",
    "    ax.set_xlabel(r\"$t$\", fontsize=16);"
   ]
  },
  {
   "cell_type": "markdown",
   "id": "2730c429",
   "metadata": {},
   "source": [
    "### Charge qubit regime"
   ]
  },
  {
   "cell_type": "code",
   "execution_count": null,
   "id": "39bcb517",
   "metadata": {},
   "outputs": [],
   "source": [
    "N = 10\n",
    "Ec = 1.0\n",
    "Ej = 1.0"
   ]
  },
  {
   "cell_type": "code",
   "execution_count": null,
   "id": "28ee349e",
   "metadata": {},
   "outputs": [],
   "source": [
    "ng_vec = np.linspace(-4, 4, 200)\n",
    "\n",
    "energies = np.array([hamiltonian(Ec, Ej, N, ng).eigenenergies()\n",
    "                     for ng in ng_vec])"
   ]
  },
  {
   "cell_type": "code",
   "execution_count": null,
   "id": "eaae144a",
   "metadata": {},
   "outputs": [],
   "source": [
    "plot_energies(ng_vec, energies);"
   ]
  },
  {
   "cell_type": "code",
   "execution_count": null,
   "id": "4e694555",
   "metadata": {},
   "outputs": [],
   "source": [
    "ng_vec = np.linspace(-1, 1, 200)\n",
    "\n",
    "energies = np.array([hamiltonian(Ec, Ej, N, ng).eigenenergies()\n",
    "                     for ng in ng_vec])"
   ]
  },
  {
   "cell_type": "code",
   "execution_count": null,
   "id": "23fe7cb2",
   "metadata": {},
   "outputs": [],
   "source": [
    "plot_energies(ng_vec, energies, ymax=(7.5, 3.0));"
   ]
  },
  {
   "cell_type": "markdown",
   "id": "815536fb",
   "metadata": {},
   "source": [
    "### Intermediate regime"
   ]
  },
  {
   "cell_type": "code",
   "execution_count": null,
   "id": "35a32547",
   "metadata": {},
   "outputs": [],
   "source": [
    "ng_vec = np.linspace(-4, 4, 200)"
   ]
  },
  {
   "cell_type": "code",
   "execution_count": null,
   "id": "64f0c97b",
   "metadata": {},
   "outputs": [],
   "source": [
    "Ec = 1.0\n",
    "Ej = 5.0"
   ]
  },
  {
   "cell_type": "code",
   "execution_count": null,
   "id": "f6e7ea28",
   "metadata": {},
   "outputs": [],
   "source": [
    "energies = np.array([hamiltonian(Ec, Ej, N, ng).eigenenergies()\n",
    "                     for ng in ng_vec])"
   ]
  },
  {
   "cell_type": "code",
   "execution_count": null,
   "id": "bfeb78b9",
   "metadata": {},
   "outputs": [],
   "source": [
    "plot_energies(ng_vec, energies, ymax=(50, 3));"
   ]
  },
  {
   "cell_type": "code",
   "execution_count": null,
   "id": "1acbc760",
   "metadata": {},
   "outputs": [],
   "source": [
    "Ec = 1.0\n",
    "Ej = 10.0"
   ]
  },
  {
   "cell_type": "code",
   "execution_count": null,
   "id": "f0b0c966",
   "metadata": {},
   "outputs": [],
   "source": [
    "energies = np.array([hamiltonian(Ec, Ej, N, ng).eigenenergies()\n",
    "                     for ng in ng_vec])"
   ]
  },
  {
   "cell_type": "code",
   "execution_count": null,
   "id": "efc97be0",
   "metadata": {},
   "outputs": [],
   "source": [
    "plot_energies(ng_vec, energies, ymax=(50, 3));"
   ]
  },
  {
   "cell_type": "markdown",
   "id": "5b9facd1",
   "metadata": {},
   "source": [
    "### Transmon regime"
   ]
  },
  {
   "cell_type": "code",
   "execution_count": null,
   "id": "a6dbdc70",
   "metadata": {},
   "outputs": [],
   "source": [
    "Ec = 1.0\n",
    "Ej = 50.0"
   ]
  },
  {
   "cell_type": "code",
   "execution_count": null,
   "id": "3f28e979",
   "metadata": {},
   "outputs": [],
   "source": [
    "energies = np.array([hamiltonian(Ec, Ej, N, ng).eigenenergies()\n",
    "                     for ng in ng_vec])"
   ]
  },
  {
   "cell_type": "code",
   "execution_count": null,
   "id": "eec72906",
   "metadata": {},
   "outputs": [],
   "source": [
    "plot_energies(ng_vec, energies, ymax=(50, 3));"
   ]
  },
  {
   "cell_type": "markdown",
   "id": "44de76b1",
   "metadata": {},
   "source": [
    "Note that the energy-level splitting is essentially independent of the gate bias $n_g$, at least for the lowest few states. This device insensitive to charge noise. But at the same time the two lowest energy states are no longer well separated from higher states (it has become more like an harmonic oscillator). But some anharmonicity still remains, and it can still be used as a qubit if the leakage of occupation probability of the higher states can be kept under control."
   ]
  },
  {
   "cell_type": "markdown",
   "id": "f73a5a39",
   "metadata": {},
   "source": [
    "## Focus on the two lowest energy states\n",
    "\n",
    "Let's go back to the charge regime, and look at the lowest few energy levels again:"
   ]
  },
  {
   "cell_type": "code",
   "execution_count": null,
   "id": "9719a395",
   "metadata": {},
   "outputs": [],
   "source": [
    "N = 10\n",
    "Ec = 1.0\n",
    "Ej = 1.0"
   ]
  },
  {
   "cell_type": "code",
   "execution_count": null,
   "id": "ec075cbf",
   "metadata": {},
   "outputs": [],
   "source": [
    "ng_vec = np.linspace(-1, 1, 200)"
   ]
  },
  {
   "cell_type": "code",
   "execution_count": null,
   "id": "3560fc91",
   "metadata": {},
   "outputs": [],
   "source": [
    "energies = np.array([hamiltonian(Ec, Ej, N, ng).eigenenergies()\n",
    "                     for ng in ng_vec])"
   ]
  },
  {
   "cell_type": "code",
   "execution_count": null,
   "id": "73a0af4b",
   "metadata": {},
   "outputs": [],
   "source": [
    "plot_energies(ng_vec, energies, ymax=(10, 3));"
   ]
  },
  {
   "cell_type": "markdown",
   "id": "bedf3dc9",
   "metadata": {},
   "source": [
    "We can see that around $n_g = 0.5$ we have two lowest energy levels that are well separated for the higher energy levels:"
   ]
  },
  {
   "cell_type": "code",
   "execution_count": null,
   "id": "8c99c89b",
   "metadata": {},
   "outputs": [],
   "source": [
    "ng_vec = np.linspace(0.25, 0.75, 200)\n",
    "energies = np.array([hamiltonian(Ec, Ej, N, ng).eigenenergies()\n",
    "                     for ng in ng_vec])\n",
    "plot_energies(ng_vec, energies, ymax=(10, 1.1));"
   ]
  },
  {
   "cell_type": "markdown",
   "id": "e1e41fec",
   "metadata": {},
   "source": [
    "Let's tune the system to $n_g = 0.5$ and look at the Hamiltonian and its eigenstates in detail"
   ]
  },
  {
   "cell_type": "code",
   "execution_count": null,
   "id": "d40f4360",
   "metadata": {},
   "outputs": [],
   "source": [
    "H = hamiltonian(Ec, Ej, N, 0.5)"
   ]
  },
  {
   "cell_type": "code",
   "execution_count": null,
   "id": "0d141a59",
   "metadata": {},
   "outputs": [],
   "source": [
    "H"
   ]
  },
  {
   "cell_type": "code",
   "execution_count": null,
   "id": "75fc1d79",
   "metadata": {},
   "outputs": [],
   "source": [
    "evals, ekets = H.eigenstates()"
   ]
  },
  {
   "cell_type": "markdown",
   "id": "7feb2469",
   "metadata": {},
   "source": [
    "The eigenenergies are sorted:"
   ]
  },
  {
   "cell_type": "code",
   "execution_count": null,
   "id": "55bde60e",
   "metadata": {},
   "outputs": [],
   "source": [
    "evals"
   ]
  },
  {
   "cell_type": "markdown",
   "id": "ca6c2dd9",
   "metadata": {},
   "source": [
    "Only two states have a significant weight in the two lowest eigenstates:"
   ]
  },
  {
   "cell_type": "code",
   "execution_count": null,
   "id": "5779e047",
   "metadata": {},
   "outputs": [],
   "source": [
    "ekets[0].full() > 0.1"
   ]
  },
  {
   "cell_type": "code",
   "execution_count": null,
   "id": "a49e00ab",
   "metadata": {},
   "outputs": [],
   "source": [
    "abs(ekets[1].full()) > 0.1"
   ]
  },
  {
   "cell_type": "markdown",
   "id": "a0fad98f",
   "metadata": {},
   "source": [
    "We can use these two isolated eigenstates to define a qubit basis:"
   ]
  },
  {
   "cell_type": "code",
   "execution_count": null,
   "id": "4ed0c74a",
   "metadata": {},
   "outputs": [],
   "source": [
    "psi_g = ekets[0]  # basis(2, 0)\n",
    "psi_e = ekets[1]  # basis(2, 1)\n",
    "\n",
    "# psi_g = basis(2, 0)\n",
    "# psi_e = basis(2, 1)"
   ]
  },
  {
   "cell_type": "markdown",
   "id": "cb959156",
   "metadata": {},
   "source": [
    "and corresponding Pauli matrices:"
   ]
  },
  {
   "cell_type": "code",
   "execution_count": null,
   "id": "4531d0f2",
   "metadata": {},
   "outputs": [],
   "source": [
    "sx = psi_g * psi_e.dag() + psi_e * psi_g.dag()"
   ]
  },
  {
   "cell_type": "code",
   "execution_count": null,
   "id": "a29356bd",
   "metadata": {},
   "outputs": [],
   "source": [
    "sz = psi_g * psi_g.dag() - psi_e * psi_e.dag()"
   ]
  },
  {
   "cell_type": "markdown",
   "id": "66762fcf",
   "metadata": {},
   "source": [
    "and an effective qubit Hamiltonian"
   ]
  },
  {
   "cell_type": "code",
   "execution_count": null,
   "id": "c8ed7e44",
   "metadata": {},
   "outputs": [],
   "source": [
    "evals[1] - evals[0]"
   ]
  },
  {
   "cell_type": "code",
   "execution_count": null,
   "id": "14e5551c",
   "metadata": {},
   "outputs": [],
   "source": [
    "H0 = 0.5 * (evals[1] - evals[0]) * sz\n",
    "\n",
    "A = 0.25  # some driving amplitude\n",
    "Hd = 0.5 * A * sx  # obtained by driving ng(t),\n",
    "# but now H0 is in the eigenbasis so the drive becomes a sigma_x"
   ]
  },
  {
   "cell_type": "markdown",
   "id": "cdebed1e",
   "metadata": {},
   "source": [
    "Doing this we have a bunch of extra energy levels in the system that aren't involved in the dynamics, but so far they are still in the Hamiltonian."
   ]
  },
  {
   "cell_type": "code",
   "execution_count": null,
   "id": "2de304fa",
   "metadata": {},
   "outputs": [],
   "source": [
    "qubit_evals = H0.eigenenergies()\n",
    "\n",
    "qubit_evals - qubit_evals[0]"
   ]
  },
  {
   "cell_type": "code",
   "execution_count": null,
   "id": "893a16c9",
   "metadata": {},
   "outputs": [],
   "source": [
    "fig = plt.figure(figsize=(4, 2))\n",
    "plot_energy_levels([H0, Hd], fig=fig);"
   ]
  },
  {
   "cell_type": "markdown",
   "id": "151b8bcf",
   "metadata": {},
   "source": [
    "Imagine that we also can drive a $\\sigma_x$ type of interaction (e.g., external field):"
   ]
  },
  {
   "cell_type": "code",
   "execution_count": null,
   "id": "608f24c9",
   "metadata": {},
   "outputs": [],
   "source": [
    "Heff = [H0, [Hd, \"sin(wd*t)\"]]\n",
    "\n",
    "args = {\"wd\": (evals[1] - evals[0])}"
   ]
  },
  {
   "cell_type": "markdown",
   "id": "6d246f8b",
   "metadata": {},
   "source": [
    "Let's look at the Rabi oscillation dynamics of the qubit when initially placed in the ground state:"
   ]
  },
  {
   "cell_type": "code",
   "execution_count": null,
   "id": "9e86d348",
   "metadata": {},
   "outputs": [],
   "source": [
    "psi0 = psi_g"
   ]
  },
  {
   "cell_type": "code",
   "execution_count": null,
   "id": "d5da2e62",
   "metadata": {},
   "outputs": [],
   "source": [
    "tlist = np.linspace(0.0, 100.0, 500)\n",
    "result = mesolve(Heff, psi0, tlist, [], [ket2dm(psi_e)], args=args)"
   ]
  },
  {
   "cell_type": "code",
   "execution_count": null,
   "id": "21ea6ed1",
   "metadata": {},
   "outputs": [],
   "source": [
    "visualize_dynamics(result, r\"$\\rho_{ee}$\");"
   ]
  },
  {
   "cell_type": "markdown",
   "id": "5a75c7bc",
   "metadata": {},
   "source": [
    "We can see that only the two selected states are included in the dynamics, and very little leakage to other levels occur.\n",
    "\n",
    "Instead of keeping all the inactive quantum states in the calculation we can eliminate them, so that we obtain a true two-level system."
   ]
  },
  {
   "cell_type": "code",
   "execution_count": null,
   "id": "9c27dd8d",
   "metadata": {},
   "outputs": [],
   "source": [
    "np.where(abs(ekets[0].full().flatten()) > 0.1)[0]"
   ]
  },
  {
   "cell_type": "code",
   "execution_count": null,
   "id": "6b3aa4af",
   "metadata": {},
   "outputs": [],
   "source": [
    "np.where(abs(ekets[1].full().flatten()) > 0.1)[0]"
   ]
  },
  {
   "cell_type": "code",
   "execution_count": null,
   "id": "10e77f11",
   "metadata": {},
   "outputs": [],
   "source": [
    "keep_states = np.where(abs(ekets[1].full().flatten()) > 0.1)[0]"
   ]
  },
  {
   "cell_type": "code",
   "execution_count": null,
   "id": "749dd9b1",
   "metadata": {},
   "outputs": [],
   "source": [
    "H0 = Qobj(H0.full()[keep_states, :][:, keep_states])\n",
    "\n",
    "H0"
   ]
  },
  {
   "cell_type": "code",
   "execution_count": null,
   "id": "0ec263e9",
   "metadata": {},
   "outputs": [],
   "source": [
    "Hd = Qobj(Hd.full()[keep_states, :][:, keep_states])\n",
    "\n",
    "Hd"
   ]
  },
  {
   "cell_type": "markdown",
   "id": "e1de0438",
   "metadata": {},
   "source": [
    "And if we look at the energy level diagram now we see that we only have two states in the system, as desired."
   ]
  },
  {
   "cell_type": "code",
   "execution_count": null,
   "id": "7d2f5a45",
   "metadata": {},
   "outputs": [],
   "source": [
    "fig = plt.figure(figsize=(4, 2))\n",
    "plot_energy_levels([H0, Hd], fig=fig);"
   ]
  },
  {
   "cell_type": "code",
   "execution_count": null,
   "id": "6c4dd4b1",
   "metadata": {},
   "outputs": [],
   "source": [
    "Heff = [H0, [Hd, \"sin(wd*t)\"]]\n",
    "\n",
    "args = {\"wd\": (evals[1] - evals[0])}"
   ]
  },
  {
   "cell_type": "code",
   "execution_count": null,
   "id": "f9508514",
   "metadata": {},
   "outputs": [],
   "source": [
    "psi0 = Qobj(psi0.full()[keep_states, :])"
   ]
  },
  {
   "cell_type": "code",
   "execution_count": null,
   "id": "b82222fa",
   "metadata": {},
   "outputs": [],
   "source": [
    "psi_e = Qobj(psi_e.full()[keep_states, :])"
   ]
  },
  {
   "cell_type": "code",
   "execution_count": null,
   "id": "0ae9cb54",
   "metadata": {},
   "outputs": [],
   "source": [
    "tlist = np.linspace(0.0, 100.0, 500)\n",
    "result = mesolve(Heff, psi0, tlist, [], [ket2dm(psi_e)], args=args)"
   ]
  },
  {
   "cell_type": "code",
   "execution_count": null,
   "id": "5a964990",
   "metadata": {},
   "outputs": [],
   "source": [
    "visualize_dynamics(result, r\"$\\rho_{ee}$\");"
   ]
  },
  {
   "cell_type": "markdown",
   "id": "87523003",
   "metadata": {},
   "source": [
    "### Software versions"
   ]
  },
  {
   "cell_type": "code",
   "execution_count": null,
   "id": "d083d4e0",
   "metadata": {},
   "outputs": [],
   "source": [
    "about()"
   ]
  }
 ],
 "metadata": {
  "jupytext": {
   "cell_metadata_filter": "-all",
   "notebook_metadata_filter": "-jupytext.cell_metadata_filter,-jupytext.notebook_metadata_filter"
  },
  "kernelspec": {
   "display_name": "Python 3 (ipykernel)",
   "language": "python",
   "name": "python3"
  }
 },
 "nbformat": 4,
 "nbformat_minor": 5
}
