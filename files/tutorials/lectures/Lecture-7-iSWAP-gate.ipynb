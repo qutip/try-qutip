{
 "cells": [
  {
   "cell_type": "markdown",
   "id": "c92abdd0",
   "metadata": {},
   "source": [
    "# Lecture 7 - Two-qubit iSWAP gate and process tomography\n",
    "\n",
    "Author: J. R. Johansson (robert@riken.jp), https://jrjohansson.github.io/\n",
    "\n",
    "This lecture series was developed by J.R. Johannson. The original lecture notebooks are available [here](https://github.com/jrjohansson/qutip-lectures).\n",
    "\n",
    "This is a slightly modified version of the lectures, to work with the current release of QuTiP. You can find these lectures as a part of the [qutip-tutorials repository](https://github.com/qutip/qutip-tutorials). This lecture and other tutorial notebooks are indexed at the [QuTiP Tutorial webpage](https://qutip.org/tutorials.html)."
   ]
  },
  {
   "cell_type": "code",
   "execution_count": null,
   "id": "6dc97305",
   "metadata": {},
   "outputs": [],
   "source": [
    "import matplotlib.pyplot as plt\n",
    "import numpy as np\n",
    "from qutip import (about, basis, propagator, qeye, qpt, qpt_plot_combined,\n",
    "                   sigmam, sigmax, sigmay, sigmaz, spost, spre, tensor)\n",
    "\n",
    "%matplotlib inline"
   ]
  },
  {
   "cell_type": "markdown",
   "id": "c75418ab",
   "metadata": {},
   "source": [
    "### Introduction\n",
    "\n",
    "Let's consider a simple protocol for implementing the two-qubit iSWAP gate: During a time $T=\\pi/4g$, the qubits are subject to the coupling Hamiltonian \n",
    "\n",
    "$\\displaystyle H = g \\left(\\sigma_x\\otimes\\sigma_x + \\sigma_y\\otimes\\sigma_y\\right)$\n",
    "\n",
    "where $g$ is the coupling strength. Under ideal conditions this coupling realizes the $i$-SWAP gate between the two qubit states. \n",
    "\n",
    "Here we will solve for the dynamics of the two qubits subject to this Hamiltonian, and look at the deterioating effects of adding decoherence. We will use process tomography to visualize the gate."
   ]
  },
  {
   "cell_type": "markdown",
   "id": "f96374e0",
   "metadata": {},
   "source": [
    "### Parameters"
   ]
  },
  {
   "cell_type": "code",
   "execution_count": null,
   "id": "fe1478dd",
   "metadata": {},
   "outputs": [],
   "source": [
    "g = 1.0 * 2 * np.pi  # coupling strength\n",
    "g1 = 0.75  # relaxation rate\n",
    "g2 = 0.25  # dephasing rate\n",
    "n_th = 1.5  # bath temperature\n",
    "\n",
    "T = np.pi / (4 * g)"
   ]
  },
  {
   "cell_type": "markdown",
   "id": "aa038384",
   "metadata": {},
   "source": [
    "### Hamiltonian and initial state"
   ]
  },
  {
   "cell_type": "code",
   "execution_count": null,
   "id": "34500c34",
   "metadata": {},
   "outputs": [],
   "source": [
    "H = g * (tensor(sigmax(), sigmax()) + tensor(sigmay(), sigmay()))\n",
    "psi0 = tensor(basis(2, 1), basis(2, 0))"
   ]
  },
  {
   "cell_type": "markdown",
   "id": "36d2a78d",
   "metadata": {},
   "source": [
    "### Collapse operators\n",
    "\n",
    "Define a list of collapse operators that describe the coupling of the qubits to their environment (assumed to be uncorrelated)"
   ]
  },
  {
   "cell_type": "code",
   "execution_count": null,
   "id": "8eeea38f",
   "metadata": {},
   "outputs": [],
   "source": [
    "c_ops = []\n",
    "\n",
    "# qubit 1 collapse operators\n",
    "sm1 = tensor(sigmam(), qeye(2))\n",
    "sz1 = tensor(sigmaz(), qeye(2))\n",
    "c_ops.append(np.sqrt(g1 * (1 + n_th)) * sm1)\n",
    "c_ops.append(np.sqrt(g1 * n_th) * sm1.dag())\n",
    "c_ops.append(np.sqrt(g2) * sz1)\n",
    "\n",
    "# qubit 2 collapse operators\n",
    "sm2 = tensor(qeye(2), sigmam())\n",
    "sz2 = tensor(qeye(2), sigmaz())\n",
    "c_ops.append(np.sqrt(g1 * (1 + n_th)) * sm2)\n",
    "c_ops.append(np.sqrt(g1 * n_th) * sm2.dag())\n",
    "c_ops.append(np.sqrt(g2) * sz2)"
   ]
  },
  {
   "cell_type": "markdown",
   "id": "93d0145e",
   "metadata": {},
   "source": [
    "### Process tomography basis"
   ]
  },
  {
   "cell_type": "code",
   "execution_count": null,
   "id": "0346bd97",
   "metadata": {},
   "outputs": [],
   "source": [
    "op_basis = [[qeye(2), sigmax(), sigmay(), sigmaz()]] * 2\n",
    "op_label = [[\"i\", \"x\", \"y\", \"z\"]] * 2"
   ]
  },
  {
   "cell_type": "markdown",
   "id": "53f5aa87",
   "metadata": {},
   "source": [
    "### Ideal evolution (nondissipative, perfect timing, etc)"
   ]
  },
  {
   "cell_type": "code",
   "execution_count": null,
   "id": "fc32fbdf",
   "metadata": {},
   "outputs": [],
   "source": [
    "# calculate the propagator for the ideal gate\n",
    "U_psi = (-1j * H * T).expm()"
   ]
  },
  {
   "cell_type": "code",
   "execution_count": null,
   "id": "a3bd42a7",
   "metadata": {},
   "outputs": [],
   "source": [
    "# propagator in superoperator form\n",
    "U_ideal = spre(U_psi) * spost(U_psi.dag())"
   ]
  },
  {
   "cell_type": "code",
   "execution_count": null,
   "id": "a16e2b5e",
   "metadata": {},
   "outputs": [],
   "source": [
    "# calculate the process tomography chi matrix from the superoperator propagator\n",
    "chi = qpt(U_ideal, op_basis)"
   ]
  },
  {
   "cell_type": "code",
   "execution_count": null,
   "id": "dd2767f9",
   "metadata": {},
   "outputs": [],
   "source": [
    "fig = plt.figure(figsize=(8, 6))\n",
    "fig = qpt_plot_combined(chi, op_label, fig=fig)"
   ]
  },
  {
   "cell_type": "markdown",
   "id": "a00da8d5",
   "metadata": {},
   "source": [
    "### Dissipative evolution"
   ]
  },
  {
   "cell_type": "code",
   "execution_count": null,
   "id": "cf76f1ab",
   "metadata": {},
   "outputs": [],
   "source": [
    "# dissipative gate propagator\n",
    "U_diss = propagator(H, T, c_ops)"
   ]
  },
  {
   "cell_type": "code",
   "execution_count": null,
   "id": "16338650",
   "metadata": {},
   "outputs": [],
   "source": [
    "# calculate the process tomography chi matrix for the dissipative propagator\n",
    "chi = qpt(U_diss, op_basis)"
   ]
  },
  {
   "cell_type": "code",
   "execution_count": null,
   "id": "85c540ca",
   "metadata": {},
   "outputs": [],
   "source": [
    "fig = plt.figure(figsize=(8, 6))\n",
    "fig = qpt_plot_combined(chi, op_label, fig=fig)"
   ]
  },
  {
   "cell_type": "markdown",
   "id": "719c9955",
   "metadata": {},
   "source": [
    "### Software versions:"
   ]
  },
  {
   "cell_type": "code",
   "execution_count": null,
   "id": "36a9cc32",
   "metadata": {},
   "outputs": [],
   "source": [
    "about()"
   ]
  }
 ],
 "metadata": {
  "jupytext": {
   "cell_metadata_filter": "-all",
   "notebook_metadata_filter": "-jupytext.cell_metadata_filter,-jupytext.notebook_metadata_filter"
  },
  "kernelspec": {
   "display_name": "Python 3 (ipykernel)",
   "language": "python",
   "name": "python3"
  }
 },
 "nbformat": 4,
 "nbformat_minor": 5
}
