{
 "cells": [
  {
   "cell_type": "markdown",
   "id": "17870cda",
   "metadata": {},
   "source": [
    "# Lecture 13 - Resonance flourescence"
   ]
  },
  {
   "cell_type": "markdown",
   "id": "3746d7ab",
   "metadata": {},
   "source": [
    "Author: J. R. Johansson (robert@riken.jp), https://jrjohansson.github.io/\n",
    "\n",
    "This lecture series was developed by J.R. Johannson. The original lecture notebooks are available [here](https://github.com/jrjohansson/qutip-lectures).\n",
    "\n",
    "This is a slightly modified version of the lectures, to work with the current release of QuTiP. You can find these lectures as a part of the [qutip-tutorials repository](https://github.com/qutip/qutip-tutorials). This lecture and other tutorial notebooks are indexed at the [QuTiP Tutorial webpage](https://qutip.org/tutorials.html)."
   ]
  },
  {
   "cell_type": "code",
   "execution_count": null,
   "id": "f28ec9a3",
   "metadata": {},
   "outputs": [],
   "source": [
    "import matplotlib.pyplot as plt\n",
    "import numpy as np\n",
    "from qutip import (about, basis, correlation_2op_1t, mesolve, n_thermal, num,\n",
    "                   sigmam, sigmap, sigmax, sigmay, sigmaz,\n",
    "                   spectrum_correlation_fft)\n",
    "\n",
    "%matplotlib inline"
   ]
  },
  {
   "cell_type": "markdown",
   "id": "9ee60d91",
   "metadata": {},
   "source": [
    "## Introduction\n",
    "\n",
    "$\\displaystyle H_L = -\\frac{\\Omega}{2}(\\sigma_+ + \\sigma_-)$\n",
    "\n",
    "\n",
    "$\\displaystyle \\frac{d}{dt}\\rho = -i[H_L, \\rho] + \\gamma_0(N+1)\\left(\\sigma_-\\rho(t)\\sigma_+ - \\frac{1}{2}\\sigma_+\\sigma_-\\rho(t) - \\frac{1}{2}\\rho(t)\\sigma_+\\sigma_-\\right) + \\gamma_0 N \\left(\\sigma_+\\rho(t)\\sigma_- - \\frac{1}{2}\\sigma_-\\sigma_+\\rho(t) - \\frac{1}{2}\\rho(t)\\sigma_-\\sigma_+\\right)$\n"
   ]
  },
  {
   "cell_type": "markdown",
   "id": "b07891ea",
   "metadata": {},
   "source": [
    "### Problem definition in QuTiP"
   ]
  },
  {
   "cell_type": "code",
   "execution_count": null,
   "id": "750cebac",
   "metadata": {},
   "outputs": [],
   "source": [
    "Omega = 1.0 * 2 * np.pi"
   ]
  },
  {
   "cell_type": "code",
   "execution_count": null,
   "id": "f0ac794e",
   "metadata": {},
   "outputs": [],
   "source": [
    "gamma0 = 0.05\n",
    "w_th = 0.0\n",
    "N = n_thermal(Omega, w_th)"
   ]
  },
  {
   "cell_type": "code",
   "execution_count": null,
   "id": "102ea263",
   "metadata": {},
   "outputs": [],
   "source": [
    "def system_spec(Omega, gamma0, N):\n",
    "    HL = -0.5 * Omega * (sigmap() + sigmam())\n",
    "    c_ops = [np.sqrt(gamma0 * (N + 1)) * sigmam(),\n",
    "             np.sqrt(gamma0 * N) * sigmap()]\n",
    "    return HL, c_ops"
   ]
  },
  {
   "cell_type": "code",
   "execution_count": null,
   "id": "ee8bf552",
   "metadata": {},
   "outputs": [],
   "source": [
    "HL, c_ops = system_spec(Omega, gamma0, N)"
   ]
  },
  {
   "cell_type": "code",
   "execution_count": null,
   "id": "911bcac7",
   "metadata": {},
   "outputs": [],
   "source": [
    "e_ops = [sigmax(), sigmay(), sigmaz(), sigmam(), sigmap(), num(2)]"
   ]
  },
  {
   "cell_type": "code",
   "execution_count": null,
   "id": "4655b28d",
   "metadata": {},
   "outputs": [],
   "source": [
    "psi0 = basis(2, 0)"
   ]
  },
  {
   "cell_type": "code",
   "execution_count": null,
   "id": "b99ca2c5",
   "metadata": {},
   "outputs": [],
   "source": [
    "tlist = np.linspace(0, 20 / (2 * np.pi), 200)\n",
    "result = mesolve(HL, psi0, tlist, c_ops, e_ops)"
   ]
  },
  {
   "cell_type": "code",
   "execution_count": null,
   "id": "c81d9030",
   "metadata": {},
   "outputs": [],
   "source": [
    "fig, axes = plt.subplots(2, 1, figsize=(12, 6), sharex=True)\n",
    "\n",
    "axes[0].plot(result.times, result.expect[0], \"r\",\n",
    "             label=r\"$\\langle\\sigma_x\\rangle$\")\n",
    "axes[0].plot(result.times, result.expect[1], \"g\",\n",
    "             label=r\"$\\langle\\sigma_y\\rangle$\")\n",
    "axes[0].plot(result.times, result.expect[2], \"b\",\n",
    "             label=r\"$\\langle\\sigma_z\\rangle$\")\n",
    "axes[0].legend()\n",
    "axes[0].set_ylim(-1, 1)\n",
    "\n",
    "\n",
    "axes[1].plot(result.times, result.expect[5], \"b\", label=r\"$P_e$\")\n",
    "\n",
    "# axes[1].set_ylabel(r'$\\langle\\sigma_z\\rangle$', fontsize=16)\n",
    "axes[1].set_xlabel(\"time\", fontsize=16)\n",
    "axes[1].legend()\n",
    "axes[1].set_ylim(0, 1);"
   ]
  },
  {
   "cell_type": "code",
   "execution_count": null,
   "id": "3f42142b",
   "metadata": {},
   "outputs": [],
   "source": [
    "fig, ax = plt.subplots(1, 1, figsize=(12, 6), sharex=True)\n",
    "\n",
    "\n",
    "for idx, gamma0 in enumerate([0.1 * Omega, 0.5 * Omega, 1.0 * Omega]):\n",
    "\n",
    "    HL, c_ops = system_spec(Omega, gamma0, N)\n",
    "    result = mesolve(HL, psi0, tlist, c_ops, e_ops)\n",
    "\n",
    "    ax.plot(result.times, result.expect[5], \"b\",\n",
    "            label=r\"$\\langle\\sigma_z\\rangle$\")\n",
    "\n",
    "ax.set_ylim(0, 1);"
   ]
  },
  {
   "cell_type": "code",
   "execution_count": null,
   "id": "9ff5236e",
   "metadata": {},
   "outputs": [],
   "source": [
    "fig, ax = plt.subplots(1, 1, figsize=(12, 6), sharex=True)\n",
    "\n",
    "\n",
    "for idx, gamma0 in enumerate([0.1 * Omega, 0.5 * Omega, 1.0 * Omega]):\n",
    "\n",
    "    HL, c_ops = system_spec(Omega, gamma0, N)\n",
    "    result = mesolve(HL, psi0, tlist, c_ops, e_ops)\n",
    "\n",
    "    ax.plot(\n",
    "        result.times, np.imag(result.expect[4]),\n",
    "        label=r\"im $\\langle\\sigma_+\\rangle$\"\n",
    "    )\n",
    "\n",
    "ax.set_ylim(-0.5, 0.5);"
   ]
  },
  {
   "cell_type": "code",
   "execution_count": null,
   "id": "737dd2b9",
   "metadata": {},
   "outputs": [],
   "source": [
    "fig, axes = plt.subplots(1, 2, figsize=(12, 6))\n",
    "\n",
    "taulist = np.linspace(0, 100, 10000)\n",
    "\n",
    "for idx, gamma0 in enumerate([2 * Omega, 0.5 * Omega, 0.25 * Omega]):\n",
    "\n",
    "    HL, c_ops = system_spec(Omega, gamma0, N)\n",
    "    corr_vec = correlation_2op_1t(HL, None, taulist, c_ops, sigmap(), sigmam())\n",
    "    w, S = spectrum_correlation_fft(taulist, corr_vec)\n",
    "\n",
    "    axes[0].plot(taulist, corr_vec, label=r\"$<\\sigma_+(\\tau)\\sigma_-(0)>$\")\n",
    "    axes[1].plot(-w / (gamma0), S, \"b\", label=r\"$S(\\omega)$\")\n",
    "    axes[1].plot(w / (gamma0), S, \"b\", label=r\"$S(\\omega)$\")\n",
    "\n",
    "axes[0].set_xlim(0, 10)\n",
    "axes[1].set_xlim(-5, 5);"
   ]
  },
  {
   "cell_type": "markdown",
   "id": "d2e84174",
   "metadata": {},
   "source": [
    "### Software versions"
   ]
  },
  {
   "cell_type": "code",
   "execution_count": null,
   "id": "2697afe4",
   "metadata": {},
   "outputs": [],
   "source": [
    "about()"
   ]
  }
 ],
 "metadata": {
  "jupytext": {
   "cell_metadata_filter": "-all",
   "notebook_metadata_filter": "-jupytext.cell_metadata_filter,-jupytext.notebook_metadata_filter"
  },
  "kernelspec": {
   "display_name": "Python 3 (ipykernel)",
   "language": "python",
   "name": "python3"
  }
 },
 "nbformat": 4,
 "nbformat_minor": 5
}
