{
 "cells": [
  {
   "cell_type": "markdown",
   "id": "b0fe0ab3",
   "metadata": {},
   "source": [
    "# Lecture 12 - Decay into a squeezed vacuum field"
   ]
  },
  {
   "cell_type": "markdown",
   "id": "95e105a7",
   "metadata": {},
   "source": [
    "Author: J. R. Johansson (robert@riken.jp), https://jrjohansson.github.io/\n",
    "\n",
    "This lecture series was developed by J.R. Johannson. The original lecture notebooks are available [here](https://github.com/jrjohansson/qutip-lectures).\n",
    "\n",
    "This is a slightly modified version of the lectures, to work with the current release of QuTiP. You can find these lectures as a part of the [qutip-tutorials repository](https://github.com/qutip/qutip-tutorials). This lecture and other tutorial notebooks are indexed at the [QuTiP Tutorial webpage](https://qutip.org/tutorials.html)."
   ]
  },
  {
   "cell_type": "code",
   "execution_count": null,
   "id": "08c47f0e",
   "metadata": {},
   "outputs": [],
   "source": [
    "import matplotlib.pyplot as plt\n",
    "import numpy as np\n",
    "from qutip import (Bloch, about, basis, liouvillian, mesolve, n_thermal,\n",
    "                   sigmam, sigmap, sigmax, sigmay, sigmaz, spost, spre)\n",
    "\n",
    "%matplotlib inline"
   ]
  },
  {
   "cell_type": "markdown",
   "id": "a12f93c5",
   "metadata": {},
   "source": [
    "## Introduction\n",
    "\n",
    "We follow *The theory of open quantum systems*, by Breuer and Pretruccione, section 3.4.3 - 3.4.4, which gives the master equation for a two-level system that decays into an environment that is in a squeezed vacuum state:\n",
    "\n",
    "$\\frac{d}{dt}\\rho = \\gamma_0(N+1)\\left(\\sigma_-\\rho(t)\\sigma_+ - \\frac{1}{2}\\sigma_+\\sigma_-\\rho(t) - \\frac{1}{2}\\rho(t)\\sigma_+\\sigma_-\\right)$\n",
    "\n",
    "$ + \\gamma_0 N \\left(\\sigma_+\\rho(t)\\sigma_- - \\frac{1}{2}\\sigma_-\\sigma_+\\rho(t) - \\frac{1}{2}\\rho(t)\\sigma_-\\sigma_+\\right)$\n",
    "\n",
    "$ -\\gamma_0 M \\sigma_+\\rho(t)\\sigma_+ -\\gamma_0 M^* \\sigma_-\\rho(t)\\sigma_-$\n",
    "\n",
    "where the parameters $N$ and $M$ describes the temperature and squeezing of the environmental modes:\n",
    "\n",
    "$\\displaystyle N = N_{\\rm th} ({\\cosh}^2 r + {\\sinh}^2 r) + \\sinh^2 r$\n",
    "\n",
    "$\\displaystyle M = - \\cosh r \\sinh r e^{i\\theta} (2 N_{\\rm th} + 1)$\n",
    "\n",
    "Alternatively, this master equation can be written in standard Lindblad form,\n",
    "\n",
    "$\\frac{d}{dt}\\rho = \\gamma_0\\left(C\\rho(t)C^\\dagger - \\frac{1}{2}C^\\dagger C\\rho(t) - \\frac{1}{2}\\rho(t)C^\\dagger C\\right)$\n",
    "\n",
    "where $C = \\sigma_-\\cosh r + \\sigma_+ \\sinh r e^{i\\theta}$.\n",
    "\n",
    "Below we will solve these master equations numerically using QuTiP, and visualize at the resulting dynamics.\n"
   ]
  },
  {
   "cell_type": "markdown",
   "id": "5addef2e",
   "metadata": {},
   "source": [
    "### Problem parameters"
   ]
  },
  {
   "cell_type": "code",
   "execution_count": null,
   "id": "ced962fd",
   "metadata": {},
   "outputs": [],
   "source": [
    "w0 = 1.0 * 2 * np.pi\n",
    "gamma0 = 0.05"
   ]
  },
  {
   "cell_type": "code",
   "execution_count": null,
   "id": "6c624d79",
   "metadata": {},
   "outputs": [],
   "source": [
    "# the temperature of the environment in frequency units\n",
    "w_th = 0.0 * 2 * np.pi"
   ]
  },
  {
   "cell_type": "code",
   "execution_count": null,
   "id": "fc6416b2",
   "metadata": {},
   "outputs": [],
   "source": [
    "# the number of average excitations in the\n",
    "# environment mode w0 at temperture w_th\n",
    "Nth = n_thermal(w0, w_th)\n",
    "\n",
    "Nth"
   ]
  },
  {
   "cell_type": "markdown",
   "id": "ea9babe8",
   "metadata": {},
   "source": [
    "#### Parameters that describes the squeezing of the bath"
   ]
  },
  {
   "cell_type": "code",
   "execution_count": null,
   "id": "4dd6e6c6",
   "metadata": {},
   "outputs": [],
   "source": [
    "# squeezing parameter for the environment\n",
    "r = 1.0\n",
    "theta = 0.1 * np.pi"
   ]
  },
  {
   "cell_type": "code",
   "execution_count": null,
   "id": "2d1ea3f5",
   "metadata": {},
   "outputs": [],
   "source": [
    "N = Nth * (np.cosh(r) ** 2 + np.sinh(r) ** 2) + np.sinh(r) ** 2\n",
    "\n",
    "N"
   ]
  },
  {
   "cell_type": "code",
   "execution_count": null,
   "id": "2d1163c9",
   "metadata": {},
   "outputs": [],
   "source": [
    "M = -np.cosh(r) * np.sinh(r) * np.exp(-1j * theta) * (2 * Nth + 1)\n",
    "\n",
    "M"
   ]
  },
  {
   "cell_type": "code",
   "execution_count": null,
   "id": "3f1c7ad8",
   "metadata": {},
   "outputs": [],
   "source": [
    "# Check, should be zero according to Eq. 3.261 in Breuer and Petruccione\n",
    "abs(M) ** 2 - (N * (N + 1) - Nth * (Nth + 1))"
   ]
  },
  {
   "cell_type": "markdown",
   "id": "ecbb60e0",
   "metadata": {},
   "source": [
    "### Operators, Hamiltonian and initial state"
   ]
  },
  {
   "cell_type": "code",
   "execution_count": null,
   "id": "0291a4b5",
   "metadata": {},
   "outputs": [],
   "source": [
    "sm = sigmam()\n",
    "sp = sigmap()"
   ]
  },
  {
   "cell_type": "code",
   "execution_count": null,
   "id": "e6e13038",
   "metadata": {},
   "outputs": [],
   "source": [
    "H = (\n",
    "    -0.5 * w0 * sigmaz()\n",
    ")  # by adding the hamiltonian here, so we move back to the schrodinger picture"
   ]
  },
  {
   "cell_type": "code",
   "execution_count": null,
   "id": "e9346b4a",
   "metadata": {},
   "outputs": [],
   "source": [
    "c_ops = [np.sqrt(gamma0 * (N + 1)) * sm, np.sqrt(gamma0 * N) * sp]"
   ]
  },
  {
   "cell_type": "markdown",
   "id": "b37ce841",
   "metadata": {},
   "source": [
    "Let's first construct the standard part of the Liouvillian, corresponding the unitary contribution and the first two terms in the first master equation given above:"
   ]
  },
  {
   "cell_type": "code",
   "execution_count": null,
   "id": "d79e87b1",
   "metadata": {},
   "outputs": [],
   "source": [
    "L0 = liouvillian(H, c_ops)\n",
    "\n",
    "L0"
   ]
  },
  {
   "cell_type": "markdown",
   "id": "9341fa80",
   "metadata": {},
   "source": [
    "Next we manually construct the Liouvillian for the effect of the squeeing in the environment, which is not on standard form we can therefore not use the `liouvillian` function in QuTiP"
   ]
  },
  {
   "cell_type": "code",
   "execution_count": null,
   "id": "b2c9e964",
   "metadata": {},
   "outputs": [],
   "source": [
    "Lsq = -gamma0 * M * spre(sp) * spost(sp) - gamma0 * \\\n",
    "      M.conj() * spre(sm) * spost(sm)\n",
    "\n",
    "Lsq"
   ]
  },
  {
   "cell_type": "markdown",
   "id": "3d42ddb1",
   "metadata": {},
   "source": [
    "The total Liouvillian for the master equation is now"
   ]
  },
  {
   "cell_type": "code",
   "execution_count": null,
   "id": "36169416",
   "metadata": {},
   "outputs": [],
   "source": [
    "L = L0 + Lsq\n",
    "\n",
    "L"
   ]
  },
  {
   "cell_type": "markdown",
   "id": "8020a1e9",
   "metadata": {},
   "source": [
    "### Evolution\n",
    "\n",
    "We can now solve the master equation numerically using QuTiP's `mesolve` function:"
   ]
  },
  {
   "cell_type": "code",
   "execution_count": null,
   "id": "99a900b3",
   "metadata": {},
   "outputs": [],
   "source": [
    "tlist = np.linspace(0, 50, 1000)"
   ]
  },
  {
   "cell_type": "code",
   "execution_count": null,
   "id": "00988cfc",
   "metadata": {},
   "outputs": [],
   "source": [
    "# start in the qubit superposition state\n",
    "psi0 = (2j * basis(2, 0) + 1 * basis(2, 1)).unit()"
   ]
  },
  {
   "cell_type": "code",
   "execution_count": null,
   "id": "caecb78b",
   "metadata": {},
   "outputs": [],
   "source": [
    "e_ops = [sigmax(), sigmay(), sigmaz()]"
   ]
  },
  {
   "cell_type": "code",
   "execution_count": null,
   "id": "c613f53f",
   "metadata": {},
   "outputs": [],
   "source": [
    "result1 = mesolve(L, psi0, tlist, [], e_ops)"
   ]
  },
  {
   "cell_type": "code",
   "execution_count": null,
   "id": "9dde8697",
   "metadata": {},
   "outputs": [],
   "source": [
    "fig, ax = plt.subplots(figsize=(12, 6))\n",
    "\n",
    "ax.plot(result1.times, result1.expect[0], \"r\",\n",
    "        label=r\"$\\langle\\sigma_x\\rangle$\")\n",
    "ax.plot(result1.times, result1.expect[1], \"g\",\n",
    "        label=r\"$\\langle\\sigma_y\\rangle$\")\n",
    "ax.plot(result1.times, result1.expect[2], \"b\",\n",
    "        label=r\"$\\langle\\sigma_z\\rangle$\")\n",
    "\n",
    "sz_ss_analytical = -1 / (2 * N + 1)\n",
    "ax.plot(\n",
    "    result1.times,\n",
    "    sz_ss_analytical * np.ones(len(result1.times)),\n",
    "    \"k--\",\n",
    "    label=r\"$\\langle\\sigma_z\\rangle_s$ analytical\",\n",
    ")\n",
    "\n",
    "\n",
    "ax.set_ylabel(r\"$\\langle\\sigma_z\\rangle$\", fontsize=16)\n",
    "ax.set_xlabel(\"time\", fontsize=16)\n",
    "ax.legend()\n",
    "ax.set_ylim(-1, 1);"
   ]
  },
  {
   "cell_type": "code",
   "execution_count": null,
   "id": "d31f5840",
   "metadata": {},
   "outputs": [],
   "source": [
    "b = Bloch()\n",
    "b.add_points(result1.expect, meth=\"l\")\n",
    "b.show()"
   ]
  },
  {
   "cell_type": "markdown",
   "id": "f31f6234",
   "metadata": {},
   "source": [
    "### Alternative master equation on Lindblad form\n",
    "\n",
    "We can solve the alternative master equation, which is on the standard Lindblad form, directly using the QuTiP `mesolve` function:"
   ]
  },
  {
   "cell_type": "code",
   "execution_count": null,
   "id": "1b2adbbe",
   "metadata": {},
   "outputs": [],
   "source": [
    "c_ops = [np.sqrt(gamma0) *\n",
    "         (sm * np.cosh(r) + sp * np.sinh(r) * np.exp(1j * theta))]"
   ]
  },
  {
   "cell_type": "code",
   "execution_count": null,
   "id": "d450059f",
   "metadata": {},
   "outputs": [],
   "source": [
    "result2 = mesolve(H, psi0, tlist, c_ops, e_ops)"
   ]
  },
  {
   "cell_type": "markdown",
   "id": "a79b08ce",
   "metadata": {},
   "source": [
    "And we can verify that it indeed gives the same results:"
   ]
  },
  {
   "cell_type": "code",
   "execution_count": null,
   "id": "2d45e037",
   "metadata": {},
   "outputs": [],
   "source": [
    "fig, ax = plt.subplots(figsize=(12, 6))\n",
    "\n",
    "ax.plot(result2.times, result2.expect[0], \"r\",\n",
    "        label=r\"$\\langle\\sigma_x\\rangle$\")\n",
    "ax.plot(result2.times, result2.expect[1], \"g\",\n",
    "        label=r\"$\\langle\\sigma_y\\rangle$\")\n",
    "ax.plot(result2.times, result2.expect[2], \"b\",\n",
    "        label=r\"$\\langle\\sigma_z\\rangle$\")\n",
    "\n",
    "sz_ss_analytical = -1 / (2 * N + 1)\n",
    "ax.plot(\n",
    "    result2.times,\n",
    "    sz_ss_analytical * np.ones(len(result2.times)),\n",
    "    \"k--\",\n",
    "    label=r\"$\\langle\\sigma_z\\rangle_s$ analytical\",\n",
    ")\n",
    "\n",
    "\n",
    "ax.set_ylabel(r\"$\\langle\\sigma_z\\rangle$\", fontsize=16)\n",
    "ax.set_xlabel(\"time\", fontsize=16)\n",
    "ax.legend()\n",
    "ax.set_ylim(-1, 1);"
   ]
  },
  {
   "cell_type": "markdown",
   "id": "06ffbdd5",
   "metadata": {},
   "source": [
    "### Compare the two forms of master equations"
   ]
  },
  {
   "cell_type": "code",
   "execution_count": null,
   "id": "0b3acd92",
   "metadata": {},
   "outputs": [],
   "source": [
    "fig, axes = plt.subplots(3, 1, sharex=True, figsize=(12, 9))\n",
    "\n",
    "axes[0].plot(\n",
    "    result1.times, result1.expect[0], \"r\",\n",
    "    label=r\"$\\langle\\sigma_x\\rangle$ - me\"\n",
    ")\n",
    "axes[0].plot(\n",
    "    result2.times,\n",
    "    result2.expect[0],\n",
    "    \"b--\",\n",
    "    label=r\"$\\langle\\sigma_x\\rangle$ - me lindblad\",\n",
    ")\n",
    "axes[0].legend()\n",
    "axes[0].set_ylim(-1, 1)\n",
    "\n",
    "axes[1].plot(\n",
    "    result1.times, result1.expect[1], \"r\",\n",
    "    label=r\"$\\langle\\sigma_y\\rangle$ - me\"\n",
    ")\n",
    "axes[1].plot(\n",
    "    result2.times,\n",
    "    result2.expect[1],\n",
    "    \"b--\",\n",
    "    label=r\"$\\langle\\sigma_y\\rangle$ - me lindblad\",\n",
    ")\n",
    "axes[1].legend()\n",
    "axes[1].set_ylim(-1, 1)\n",
    "\n",
    "axes[2].plot(\n",
    "    result1.times, result1.expect[2], \"r\",\n",
    "    label=r\"$\\langle\\sigma_y\\rangle$ - me\"\n",
    ")\n",
    "axes[2].plot(\n",
    "    result2.times,\n",
    "    result2.expect[2],\n",
    "    \"b--\",\n",
    "    label=r\"$\\langle\\sigma_y\\rangle$ - me lindblad\",\n",
    ")\n",
    "axes[2].legend()\n",
    "axes[2].set_ylim(-1, 1)\n",
    "axes[2].set_xlabel(\"time\", fontsize=16);"
   ]
  },
  {
   "cell_type": "markdown",
   "id": "f9ad3e16",
   "metadata": {},
   "source": [
    "### Compare dissipation into vacuum and squeezed vacuum"
   ]
  },
  {
   "cell_type": "code",
   "execution_count": null,
   "id": "ec914ee2",
   "metadata": {},
   "outputs": [],
   "source": [
    "# for vacuum:\n",
    "r = 0\n",
    "theta = 0.0\n",
    "c_ops = [np.sqrt(gamma0) *\n",
    "         (sm * np.cosh(r) + sp * np.sinh(r) * np.exp(1j * theta))]"
   ]
  },
  {
   "cell_type": "code",
   "execution_count": null,
   "id": "ede448c6",
   "metadata": {},
   "outputs": [],
   "source": [
    "result1 = mesolve(H, psi0, tlist, c_ops, e_ops)"
   ]
  },
  {
   "cell_type": "code",
   "execution_count": null,
   "id": "4b5e953d",
   "metadata": {},
   "outputs": [],
   "source": [
    "# for squeezed vacuum:\n",
    "r = 1.0\n",
    "theta = 0.0\n",
    "c_ops = [np.sqrt(gamma0) *\n",
    "         (sm * np.cosh(r) + sp * np.sinh(r) * np.exp(1j * theta))]"
   ]
  },
  {
   "cell_type": "code",
   "execution_count": null,
   "id": "eea66f78",
   "metadata": {},
   "outputs": [],
   "source": [
    "result2 = mesolve(H, psi0, tlist, c_ops, e_ops)"
   ]
  },
  {
   "cell_type": "code",
   "execution_count": null,
   "id": "601a2847",
   "metadata": {},
   "outputs": [],
   "source": [
    "fig, axes = plt.subplots(3, 1, sharex=True, figsize=(12, 9))\n",
    "\n",
    "axes[0].plot(\n",
    "    result1.times, result1.expect[0], \"r\",\n",
    "    label=r\"$\\langle\\sigma_x\\rangle$ - vacuum\"\n",
    ")\n",
    "axes[0].plot(\n",
    "    result2.times,\n",
    "    result2.expect[0],\n",
    "    \"b\",\n",
    "    label=r\"$\\langle\\sigma_x\\rangle$ - squeezed vacuum\",\n",
    ")\n",
    "axes[0].legend()\n",
    "axes[0].set_ylim(-1, 1)\n",
    "\n",
    "axes[1].plot(\n",
    "    result1.times, result1.expect[1], \"r\",\n",
    "    label=r\"$\\langle\\sigma_y\\rangle$ - vacuum\"\n",
    ")\n",
    "axes[1].plot(\n",
    "    result2.times,\n",
    "    result2.expect[1],\n",
    "    \"b\",\n",
    "    label=r\"$\\langle\\sigma_y\\rangle$ - squeezed vacuum\",\n",
    ")\n",
    "axes[1].legend()\n",
    "axes[1].set_ylim(-1, 1)\n",
    "\n",
    "axes[2].plot(\n",
    "    result1.times, result1.expect[2], \"r\",\n",
    "    label=r\"$\\langle\\sigma_z\\rangle$ - vacuum\"\n",
    ")\n",
    "axes[2].plot(\n",
    "    result2.times,\n",
    "    result2.expect[2],\n",
    "    \"b\",\n",
    "    label=r\"$\\langle\\sigma_z\\rangle$ - squeezed vacuum\",\n",
    ")\n",
    "axes[2].legend()\n",
    "axes[2].set_ylim(-1, 1)\n",
    "axes[2].set_xlabel(\"time\", fontsize=16);"
   ]
  },
  {
   "cell_type": "markdown",
   "id": "3c5d99a0",
   "metadata": {},
   "source": [
    "From this comparison it's clear that dissipation into a squeezed vacuum is faster than dissipation into vacuum."
   ]
  },
  {
   "cell_type": "markdown",
   "id": "b92f9449",
   "metadata": {},
   "source": [
    "### Software versions"
   ]
  },
  {
   "cell_type": "code",
   "execution_count": null,
   "id": "2b5bef60",
   "metadata": {},
   "outputs": [],
   "source": [
    "about()"
   ]
  }
 ],
 "metadata": {
  "jupytext": {
   "cell_metadata_filter": "-all",
   "notebook_metadata_filter": "-jupytext.cell_metadata_filter,-jupytext.notebook_metadata_filter"
  },
  "kernelspec": {
   "display_name": "Python 3 (ipykernel)",
   "language": "python",
   "name": "python3"
  }
 },
 "nbformat": 4,
 "nbformat_minor": 5
}
