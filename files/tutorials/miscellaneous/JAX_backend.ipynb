{
 "cells": [
  {
   "cell_type": "markdown",
   "id": "99373573",
   "metadata": {},
   "source": [
    "# qutip-jax JAX backend for qutip\n",
    "\n",
    "JAX is a numpy like library that can run on a CPU, GPU and TPU and supports automatic differentiation.\n",
    "qutip-jax allows JAX array to be used to store `Qobj`'s data allowing qutip to run on GPU.\n",
    "\n",
    "This backend will work with all qutip functions, but some may convert data to other format without warning. For example using scipy ODE will convert the state to a numpy array.\n",
    "\n",
    "Support for `jit` and `grad` with qutip's functions is experimental. When using the right options, it is possible to run `mesolve` and `sesolve` on GPU with both compilation and auto-differentiation working. Many `Qobj` operations are also supported."
   ]
  },
  {
   "cell_type": "code",
   "execution_count": null,
   "id": "f5b7add0",
   "metadata": {},
   "outputs": [],
   "source": [
    "import jax\n",
    "import qutip\n",
    "import qutip_jax  # noqa: F401"
   ]
  },
  {
   "cell_type": "markdown",
   "id": "5908fda4",
   "metadata": {},
   "source": [
    "The JAX backend is activated by importing the `qutip_jax` module. \n",
    "Then the formats `jax` and `jaxdia` are added to know qutip data types.\n",
    "- `\"jax\"` stores the data as a dense Jax Array.\n",
    "- `\"jaxdia\"` represents sparse arrays in DIAgonal format."
   ]
  },
  {
   "cell_type": "code",
   "execution_count": null,
   "id": "201bb2c5",
   "metadata": {},
   "outputs": [],
   "source": [
    "# Creating jax Qobj using the dtype argument\n",
    "id_jax = qutip.qeye(3, dtype=\"jax\")\n",
    "id_jax.data_as(\"JaxArray\")"
   ]
  },
  {
   "cell_type": "code",
   "execution_count": null,
   "id": "0695a799",
   "metadata": {},
   "outputs": [],
   "source": [
    "# Creating jax Qobj using a context manager\n",
    "with qutip.CoreOptions(default_dtype=\"jaxdia\"):\n",
    "    id = qutip.qeye(3)\n",
    "    a = qutip.destroy(3)\n",
    "\n",
    "# Creating jax Qobj using manual conversion\n",
    "sz = qutip.sigmaz().to(\"jaxdia\")\n",
    "sx = qutip.sigmax().to(\"jaxdia\")\n",
    "\n",
    "# Once created, most operations will conserve the data format\n",
    "op = (sz & a) + (sx & id)\n",
    "op"
   ]
  },
  {
   "cell_type": "code",
   "execution_count": null,
   "id": "1a70ab8c",
   "metadata": {},
   "outputs": [],
   "source": [
    "# Many functions will do operations without converting its output to numpy\n",
    "qutip.expect(op, qutip.rand_dm([2, 3], dtype=\"jax\"))"
   ]
  },
  {
   "cell_type": "markdown",
   "id": "f5d7f57f",
   "metadata": {},
   "source": [
    "`jit` can be used with most linear algebra functions:"
   ]
  },
  {
   "cell_type": "code",
   "execution_count": null,
   "id": "b4766d49",
   "metadata": {},
   "outputs": [],
   "source": [
    "op = qutip.num(3, dtype=\"jaxdia\")\n",
    "state = qutip.rand_dm(3, dtype=\"jax\")\n",
    "\n",
    "\n",
    "@jax.jit\n",
    "def f(op, state):\n",
    "    return op @ state @ op.dag()\n",
    "\n",
    "\n",
    "print(f(op, state))\n",
    "%timeit op @ state @ op.dag()\n",
    "%timeit f(op, state)"
   ]
  },
  {
   "cell_type": "markdown",
   "id": "3833ba6c",
   "metadata": {},
   "source": [
    "JAX can be used with `mesolve` and `sesolve` in a way that supports `jax.jit` and `jax.grad`, but specific options must be used:\n",
    "- The ODE solver from diffrax must be used instead of those provided by scipy.\n",
    "- `normalize_output` must be false\n",
    "- Coefficient for QobjEvo must be `jitted` function.\n",
    "- The isherm flag of e_ops must be pre-set.\n",
    "- The class interface must be used for `jit`\n",
    "- `e_data` must be used instead of expect for auto-differentiation.\n",
    "- All operators and states must use `jax` or `jaxdia` format."
   ]
  },
  {
   "cell_type": "code",
   "execution_count": null,
   "id": "3afc7960",
   "metadata": {
    "lines_to_next_cell": 2
   },
   "outputs": [],
   "source": [
    "@jax.jit\n",
    "def fp(t, w):\n",
    "    return jax.numpy.exp(1j * t * w)\n",
    "\n",
    "\n",
    "@jax.jit\n",
    "def fm(t, w):\n",
    "    return jax.numpy.exp(-1j * t * w)\n",
    "\n",
    "\n",
    "@jax.jit\n",
    "def cte(t, A):\n",
    "    return A\n",
    "\n",
    "\n",
    "with qutip.CoreOptions(default_dtype=\"jax\"):\n",
    "    H = qutip.num(10)\n",
    "    c_ops = [qutip.QobjEvo([qutip.destroy(10), fm], args={\"w\": 1.0})]\n",
    "\n",
    "H.isherm  # Precomputing the `isherm` flag\n",
    "\n",
    "solver = qutip.MESolver(\n",
    "    H, c_ops, options={\"method\": \"diffrax\", \"normalize_output\": False}\n",
    ")\n",
    "\n",
    "\n",
    "def final_expect(solver, rho0, t, w):\n",
    "    result = solver.run(rho0, [0, t], args={\"w\": w}, e_ops=H)\n",
    "    return result.e_data[0][-1].real\n",
    "\n",
    "\n",
    "dfinal_expect_dt = jax.jit(\n",
    "    jax.grad(final_expect, argnums=[2]), static_argnames=[\"solver\"]\n",
    ")\n",
    "\n",
    "# TODO: use dfinal_expect_dt instead of final_expect when qutip-jax bug-fix\n",
    "# dfinal_expect_dt(solver, qutip.basis(10, 8, dtype=\"jax\"), 0.1, 1.0)\n",
    "jax.grad(final_expect, argnums=[2])(solver, qutip.basis(10, 8, dtype=\"jax\"), 0.1, 1.0)"
   ]
  },
  {
   "cell_type": "code",
   "execution_count": null,
   "id": "5c3baab9",
   "metadata": {
    "lines_to_next_cell": 0
   },
   "outputs": [],
   "source": [
    "qutip.about()"
   ]
  },
  {
   "cell_type": "markdown",
   "id": "130ce585",
   "metadata": {},
   "source": []
  }
 ],
 "metadata": {
  "jupytext": {
   "cell_metadata_filter": "-all",
   "notebook_metadata_filter": "-jupytext.cell_metadata_filter,-jupytext.notebook_metadata_filter"
  },
  "kernelspec": {
   "display_name": "Python 3 (ipykernel)",
   "language": "python",
   "name": "python3"
  }
 },
 "nbformat": 4,
 "nbformat_minor": 5
}
