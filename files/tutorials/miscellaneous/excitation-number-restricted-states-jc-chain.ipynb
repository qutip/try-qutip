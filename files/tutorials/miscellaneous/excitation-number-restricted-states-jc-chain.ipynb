{
 "cells": [
  {
   "cell_type": "markdown",
   "id": "3663c647",
   "metadata": {},
   "source": [
    "# Excitation-number-restricted states: Jaynes-Cummings Chain\n",
    "\n",
    "Authors: Robert Johansson (jrjohansson@gmail.com), Neill Lambert (nwlambert@gmail.com), Maximilian Meyer-Mölleringhof (m.meyermoelleringhof@gmail.com)\n",
    "\n",
    "## Introduction\n",
    "\n",
    "The ENR functions construct a basis set for multipartite systems which contains only states that have an overall number of excitations.\n",
    "This is particularly useful for systems where the model conserves excitation number, as in the JC-chain example below.\n",
    "\n",
    "We can see this by considering a system consisting of 4 modes, each with 5 states.\n",
    "The total hilbert space size is $5^4 = 625$.\n",
    "If we are only interested in states that contain up to 2 excitations, we only need to include states such as\n",
    "\n",
    "\n",
    "    (0, 0, 0, 0)\n",
    "    (0, 0, 0, 1)\n",
    "    (0, 0, 0, 2)\n",
    "    (0, 0, 1, 0)\n",
    "    (0, 0, 1, 1)\n",
    "    (0, 0, 2, 0)\n",
    "    ...\n",
    "\n",
    "The ENR fucntions create operators and states for the 4 modes that act within this state space.\n",
    "For example,\n",
    "\n",
    "```python\n",
    "a1, a2, a3, a4 = enr_destroy([5, 5, 5, 5], excitations=2)\n",
    "```\n",
    "\n",
    "creates destruction operators for each mode.\n",
    "From this point onwards, the annihiltion operators a1, ..., a4 can be used to setup a Hamiltonian, collapse operators and expectation-value operators, etc., following the usual pattern.\n",
    "\n",
    "In this example we outline the advantage of ENR states by comparing them with the regular qutip implementation.\n",
    "For this we calculate the time evolution and the partial trace for each and see consistent results with notable performance improvements.\n",
    "\n",
    "#### Be aware!\n",
    "\n",
    "Many default functions in QuTiP will fail on states and operators constructed with this method.\n",
    "Additionally, using this formalism, annihilation and creation operators of different sub-systems no longer commute.\n",
    "Therefore, when constructing Hamiltonians, annihilation operators must be on the right and creation operators on the left (see the offical publication for QuTiP v5 for more info). \n",
    "To find all available functions to work with ENR states see [Energy Restricted Operators in the official documentation](https://qutip.readthedocs.io/en/qutip-5.0.x/apidoc/functions.html#module-qutip.core.energy_restricted)."
   ]
  },
  {
   "cell_type": "code",
   "execution_count": null,
   "id": "ebf9666a",
   "metadata": {},
   "outputs": [],
   "source": [
    "import numpy as np\n",
    "from qutip import (Qobj, about, basis, destroy, enr_destroy, enr_fock,\n",
    "                   enr_state_dictionaries, identity, liouvillian, mesolve,\n",
    "                   plot_expectation_values, tensor)\n",
    "from qutip.core.energy_restricted import EnrSpace\n",
    "\n",
    "%matplotlib inline"
   ]
  },
  {
   "cell_type": "markdown",
   "id": "b2b0ed76",
   "metadata": {},
   "source": [
    "## The Jaynes-Cumming Chain\n",
    "\n",
    "The general Jaynes-Cumming model describes a single two-level atom interacting with a single electromagnetic cavity mode.\n",
    "For this example, we put multiple of these systems in a chain and let them interact with neighbouring systems via their cavities.\n",
    "We use $a_i$ ($a^\\dag_i$) as annihilation (creation) operators for the cavity $i$ and $s_i$ ($s^\\dag_i$) for the atoms.\n",
    "We then model the complete Hamiltonian by splitting it into the individual systems:\n",
    "\n",
    "$H_0 = \\sum_{i=0}^{N} a_i^\\dag a_i + s_i^\\dag s_i$,\n",
    "\n",
    "the atom-cavity interactions:\n",
    "\n",
    "$H_{int,AC} = \\sum_{i=0}^{N} = \\frac{1}{2} (a_i^\\dag s_i + s_i^\\dag a_i)$,\n",
    "\n",
    "and the cavity-cavity interactions:\n",
    "\n",
    "$H_{int,CC} = \\sum_{i=0}^{N-1} 0.9 \\cdot (a_i^\\dag a_{i+1} + a_{i+1}^\\dag a_{i})$,\n",
    "\n",
    "where the interaction strength of $0.9$ was chosen arbitrarily."
   ]
  },
  {
   "cell_type": "markdown",
   "id": "b3e9676c",
   "metadata": {},
   "source": [
    "### Problem paramters"
   ]
  },
  {
   "cell_type": "code",
   "execution_count": null,
   "id": "c0fd57c0",
   "metadata": {},
   "outputs": [],
   "source": [
    "N = 4  # number of systems\n",
    "M = 2  # number of cavity states\n",
    "dims = [M, 2] * N  # dimensions of JC spin chain\n",
    "excite = 1  # total number of excitations\n",
    "init_excite = 1  # initial number of excitations"
   ]
  },
  {
   "cell_type": "markdown",
   "id": "57e76d61",
   "metadata": {},
   "source": [
    "### Setup to Calculate Time Evolution"
   ]
  },
  {
   "cell_type": "code",
   "execution_count": null,
   "id": "985cb1ba",
   "metadata": {},
   "outputs": [],
   "source": [
    "def solve(d, psi0):\n",
    "    # annihilation operators for cavity modes\n",
    "    a = d[::2]\n",
    "    # atomic annihilation operators\n",
    "    sm = d[1::2]\n",
    "\n",
    "    # notice the ordering of annihilation and creation operators\n",
    "    H0 = sum([aa.dag() * aa for aa in a]) + sum([s.dag() * s for s in sm])\n",
    "\n",
    "    # atom-cavity couplings\n",
    "    Hint_ac = 0\n",
    "    for n in range(N):\n",
    "        Hint_ac += 0.5 * (a[n].dag() * sm[n] + sm[n].dag() * a[n])\n",
    "\n",
    "    # cavity-cavity couplings\n",
    "    Hint_cc = 0\n",
    "    for n in range(N - 1):\n",
    "        Hint_cc += 0.9 * (a[n].dag() * a[n + 1] + a[n + 1].dag() * a[n])\n",
    "\n",
    "    H = H0 + Hint_ac + Hint_cc\n",
    "\n",
    "    e_ops = [x.dag() * x for x in d]\n",
    "    c_ops = [0.01 * x for x in a]\n",
    "\n",
    "    times = np.linspace(0, 250, 1000)\n",
    "    L = liouvillian(H, c_ops)\n",
    "    opt = {\"nsteps\": 5000, \"store_states\": True}\n",
    "    result = mesolve(H, psi0, times, c_ops, e_ops, options=opt)\n",
    "    return result, H, L"
   ]
  },
  {
   "cell_type": "markdown",
   "id": "d558d9f6",
   "metadata": {},
   "source": [
    "### Regular QuTiP States and Operators"
   ]
  },
  {
   "cell_type": "code",
   "execution_count": null,
   "id": "926c9a76",
   "metadata": {},
   "outputs": [],
   "source": [
    "d = [\n",
    "    tensor(\n",
    "        [\n",
    "            destroy(dim1) if idx1 == idx2 else identity(dim1)\n",
    "            for idx1, dim1 in enumerate(dims)\n",
    "        ]\n",
    "    )\n",
    "    for idx2, _ in enumerate(dims)\n",
    "]\n",
    "psi0 = tensor(\n",
    "    [\n",
    "        basis(dim, init_excite) if idx == 1 else basis(dim, 0)\n",
    "        for idx, dim in enumerate(dims)\n",
    "    ]\n",
    ")"
   ]
  },
  {
   "cell_type": "markdown",
   "id": "6636b7b1",
   "metadata": {},
   "source": [
    "Regular operators of different systems commute as they belong to different Hilbert spaces.\n",
    "Example:"
   ]
  },
  {
   "cell_type": "code",
   "execution_count": null,
   "id": "bfc16d39",
   "metadata": {},
   "outputs": [],
   "source": [
    "d[0].dag() * d[1] == d[1] * d[0].dag()"
   ]
  },
  {
   "cell_type": "markdown",
   "id": "3cabe823",
   "metadata": {},
   "source": [
    "Solving the time evolution:"
   ]
  },
  {
   "cell_type": "code",
   "execution_count": null,
   "id": "34861cc6",
   "metadata": {},
   "outputs": [],
   "source": [
    "res1, H1, L1 = solve(d, psi0)\n",
    "print(f\"Run time: {res1.stats['run time']}s\")"
   ]
  },
  {
   "cell_type": "markdown",
   "id": "bbe52f3d",
   "metadata": {},
   "source": [
    "### Using ENR States and Operators"
   ]
  },
  {
   "cell_type": "code",
   "execution_count": null,
   "id": "763a0565",
   "metadata": {},
   "outputs": [],
   "source": [
    "d_enr = enr_destroy(dims, excite)\n",
    "init_enr = [init_excite if n == 1 else 0 for n in range(2 * N)]\n",
    "psi0_enr = enr_fock(dims, excite, init_enr)"
   ]
  },
  {
   "cell_type": "markdown",
   "id": "9e907d94",
   "metadata": {},
   "source": [
    "Using ENR states forces us to give up on the standard tensor structure of multiple Hilbert spaces.\n",
    "Operators for different systems therefore generally no longer commute:"
   ]
  },
  {
   "cell_type": "code",
   "execution_count": null,
   "id": "e5a264b1",
   "metadata": {},
   "outputs": [],
   "source": [
    "d_enr[0].dag() * d_enr[1] == d_enr[1] * d_enr[0].dag()"
   ]
  },
  {
   "cell_type": "markdown",
   "id": "8017de65",
   "metadata": {},
   "source": [
    "Solving the time evolution:"
   ]
  },
  {
   "cell_type": "code",
   "execution_count": null,
   "id": "681602b0",
   "metadata": {},
   "outputs": [],
   "source": [
    "res2, H2, L2 = solve(d_enr, psi0_enr)\n",
    "print(f\"Run time: {res2.stats['run time']}s\")"
   ]
  },
  {
   "cell_type": "markdown",
   "id": "c49da22b",
   "metadata": {},
   "source": [
    "### Comparison of Expectation Values"
   ]
  },
  {
   "cell_type": "code",
   "execution_count": null,
   "id": "4c7df221",
   "metadata": {},
   "outputs": [],
   "source": [
    "fig, axes = plot_expectation_values([res1, res2])\n",
    "fig.set_figwidth(10)\n",
    "fig.set_figheight(8)\n",
    "for idx, ax in enumerate(axes):\n",
    "    if idx % 2:\n",
    "        ax.set_ylabel(f\"Atom {idx//2}\")\n",
    "    else:\n",
    "        ax.set_ylabel(f\"Cavity {idx//2}\")\n",
    "    ax.set_ylim(-0.1, 1.1)\n",
    "    ax.grid()\n",
    "fig.tight_layout()"
   ]
  },
  {
   "cell_type": "markdown",
   "id": "336d4150",
   "metadata": {},
   "source": [
    "### Calculation of Partial Trace\n",
    "\n",
    "The usage of ENR states makes many standard QuTiP features fail.\n",
    "*ptrace* is one of those.\n",
    "Below we demonstrate how the partial trace for ENR states can be calculated and show the corresponding result together with the standrad QuTiP approach."
   ]
  },
  {
   "cell_type": "code",
   "execution_count": null,
   "id": "6fe08299",
   "metadata": {},
   "outputs": [],
   "source": [
    "def ENR_ptrace(rho, sel, excitations):\n",
    "    if isinstance(sel, int):\n",
    "        sel = np.array([sel])\n",
    "    else:\n",
    "        sel = np.asarray(sel)\n",
    "\n",
    "    if (sel < 0).any() or (sel >= len(rho.dims[0])).any():\n",
    "        raise TypeError(\"Invalid selection index in ptrace.\")\n",
    "\n",
    "    drho = rho.dims[0]\n",
    "    _, state2idx, _ = enr_state_dictionaries(drho, excitations)\n",
    "\n",
    "    dims_short = np.asarray(drho).take(sel).tolist()\n",
    "    nstates2, state2idx2, _ = enr_state_dictionaries(dims_short, excitations)\n",
    "\n",
    "    # construct new density matrix\n",
    "    rhout = np.zeros((nstates2, nstates2), dtype=np.complex64)\n",
    "    # dimensions of traced out system\n",
    "    rest = np.setdiff1d(np.arange(len(drho)), sel)\n",
    "    for state in state2idx:\n",
    "        for state2 in state2idx:\n",
    "            # add diagonal elements to the new density matrix\n",
    "            state_red = np.asarray(state).take(rest)\n",
    "            state2_red = np.asarray(state2).take(rest)\n",
    "            if np.all(state_red == state2_red):\n",
    "                rhout[\n",
    "                    state2idx2[tuple(np.asarray(state).take(sel))],\n",
    "                    state2idx2[tuple(np.asarray(state2).take(sel))],\n",
    "                ] += rho[state2idx[state], state2idx[state2]]\n",
    "\n",
    "    new_dims = np.asarray(drho).take(sel).tolist()\n",
    "    return Qobj(rhout, dims=[EnrSpace(new_dims, excite)] * 2)"
   ]
  },
  {
   "cell_type": "code",
   "execution_count": null,
   "id": "7eba15ec",
   "metadata": {},
   "outputs": [],
   "source": [
    "res1.states[10].ptrace(1)"
   ]
  },
  {
   "cell_type": "code",
   "execution_count": null,
   "id": "68ef6f9b",
   "metadata": {},
   "outputs": [],
   "source": [
    "ENR_ptrace(res2.states[10], 1, excite)"
   ]
  },
  {
   "cell_type": "code",
   "execution_count": null,
   "id": "868b2df4",
   "metadata": {},
   "outputs": [],
   "source": [
    "res1.states[10].ptrace([0, 1, 4])"
   ]
  },
  {
   "cell_type": "code",
   "execution_count": null,
   "id": "27b19695",
   "metadata": {},
   "outputs": [],
   "source": [
    "ENR_ptrace(res2.states[10], [0, 1, 4], excite)"
   ]
  },
  {
   "cell_type": "markdown",
   "id": "deb0bea7",
   "metadata": {},
   "source": [
    "## About"
   ]
  },
  {
   "cell_type": "code",
   "execution_count": null,
   "id": "7eb9d044",
   "metadata": {},
   "outputs": [],
   "source": [
    "about()"
   ]
  },
  {
   "cell_type": "markdown",
   "id": "2803c0b0",
   "metadata": {},
   "source": [
    "## Testing"
   ]
  },
  {
   "cell_type": "code",
   "execution_count": null,
   "id": "3bf40395",
   "metadata": {},
   "outputs": [],
   "source": [
    "assert np.allclose(\n",
    "    res1.states[10].ptrace([1]).full(),\n",
    "    ENR_ptrace(res2.states[10], [1], excite).full(),\n",
    "), \"The approaches do not yield the same result.\""
   ]
  }
 ],
 "metadata": {
  "jupytext": {
   "cell_metadata_filter": "-all",
   "notebook_metadata_filter": "-jupytext.cell_metadata_filter,-jupytext.notebook_metadata_filter"
  },
  "kernelspec": {
   "display_name": "qutip-tutorials-v5",
   "language": "python",
   "name": "python3"
  }
 },
 "nbformat": 4,
 "nbformat_minor": 5
}
