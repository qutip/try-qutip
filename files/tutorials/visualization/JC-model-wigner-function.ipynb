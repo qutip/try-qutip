{
 "cells": [
  {
   "cell_type": "markdown",
   "id": "0efef630",
   "metadata": {},
   "source": [
    "# Wigner functions"
   ]
  },
  {
   "cell_type": "markdown",
   "id": "fbaef3d2",
   "metadata": {},
   "source": [
    "J.R. Johansson and P.D. Nation\n",
    "\n",
    "For more information about QuTiP see [http://qutip.org](http://qutip.org)"
   ]
  },
  {
   "cell_type": "code",
   "execution_count": null,
   "id": "477924ba",
   "metadata": {},
   "outputs": [],
   "source": [
    "import matplotlib.pyplot as plt\n",
    "import numpy as np\n",
    "from matplotlib import cm\n",
    "from qutip import about, basis, destroy, mesolve, ptrace, qeye, tensor, wigner\n",
    "from qutip.ipynbtools import plot_animation\n",
    "\n",
    "%matplotlib inline"
   ]
  },
  {
   "cell_type": "code",
   "execution_count": null,
   "id": "fb175de3",
   "metadata": {},
   "outputs": [],
   "source": [
    "def jc_integrate(N, wc, wa, g, kappa, gamma, psi0, use_rwa, tlist):\n",
    "\n",
    "    # Hamiltonian\n",
    "    idc = qeye(N)\n",
    "    ida = qeye(2)\n",
    "\n",
    "    a = tensor(destroy(N), ida)\n",
    "    sm = tensor(idc, destroy(2))\n",
    "\n",
    "    if use_rwa:\n",
    "        # use the rotating wave approxiation\n",
    "        H = wc * a.dag() * a + wa * sm.dag() * sm + \\\n",
    "            g * (a.dag() * sm + a * sm.dag())\n",
    "    else:\n",
    "        H = wc * a.dag() * a + wa * sm.dag() * sm + \\\n",
    "            g * (a.dag() + a) * (sm + sm.dag())\n",
    "\n",
    "    # collapse operators\n",
    "    c_op_list = []\n",
    "\n",
    "    n_th_a = 0.0  # zero temperature\n",
    "\n",
    "    rate = kappa * (1 + n_th_a)\n",
    "    if rate > 0.0:\n",
    "        c_op_list.append(np.sqrt(rate) * a)\n",
    "\n",
    "    rate = kappa * n_th_a\n",
    "    if rate > 0.0:\n",
    "        c_op_list.append(np.sqrt(rate) * a.dag())\n",
    "\n",
    "    rate = gamma\n",
    "    if rate > 0.0:\n",
    "        c_op_list.append(np.sqrt(rate) * sm)\n",
    "\n",
    "    # evolve and calculate return state vectors\n",
    "    result = mesolve(H, psi0, tlist, c_op_list, [])\n",
    "\n",
    "    return result"
   ]
  },
  {
   "cell_type": "code",
   "execution_count": null,
   "id": "a76bb0d4",
   "metadata": {},
   "outputs": [],
   "source": [
    "# parameters\n",
    "wc = 1.0 * 2 * np.pi  # cavity frequency\n",
    "wa = 1.0 * 2 * np.pi  # atom frequency\n",
    "g = 0.05 * 2 * np.pi  # coupling strength\n",
    "kappa = 0.05  # cavity dissipation rate\n",
    "gamma = 0.15  # atom dissipation rate\n",
    "N = 10  # number of cavity fock states\n",
    "\n",
    "use_rwa = True\n",
    "\n",
    "# start with an excited atom\n",
    "psi0 = tensor(basis(N, 0), basis(2, 1))\n",
    "# or a coherent state the in cavity\n",
    "# psi0 = tensor(coherent(N,1.5), basis(2,0))\n",
    "# or a superposition of coherent states\n",
    "# psi0 = tensor((coherent(N,2.0)+coherent(N,-2.0)).unit(), basis(2,0))\n",
    "\n",
    "tlist = np.linspace(0, 30, 150)"
   ]
  },
  {
   "cell_type": "code",
   "execution_count": null,
   "id": "d1b7d98d",
   "metadata": {},
   "outputs": [],
   "source": [
    "result = jc_integrate(N, wc, wa, g, kappa, gamma, psi0, use_rwa, tlist)"
   ]
  },
  {
   "cell_type": "code",
   "execution_count": null,
   "id": "a9b3efd8",
   "metadata": {},
   "outputs": [],
   "source": [
    "xvec = np.linspace(-5.0, 5.0, 100)\n",
    "X, Y = np.meshgrid(xvec, xvec)"
   ]
  },
  {
   "cell_type": "code",
   "execution_count": null,
   "id": "7184d230",
   "metadata": {},
   "outputs": [],
   "source": [
    "def plot_setup(result):\n",
    "\n",
    "    fig = plt.figure(figsize=(12, 6))\n",
    "    ax = fig.add_subplot(111, projection=\"3d\", elev=49, azim=-107)\n",
    "\n",
    "    return fig, ax"
   ]
  },
  {
   "cell_type": "code",
   "execution_count": null,
   "id": "0d83938d",
   "metadata": {},
   "outputs": [],
   "source": [
    "cb = None\n",
    "\n",
    "\n",
    "def plot_result(result, n, fig=None, axes=None):\n",
    "\n",
    "    global cb\n",
    "\n",
    "    if fig is None or axes is None:\n",
    "        fig, ax = plot_setup(result)\n",
    "\n",
    "    axes.cla()\n",
    "\n",
    "    # trace out the atom\n",
    "    rho_cavity = ptrace(result.states[n], 0)\n",
    "\n",
    "    W = wigner(rho_cavity, xvec, xvec)\n",
    "\n",
    "    surf = axes.plot_surface(\n",
    "        X,\n",
    "        Y,\n",
    "        W,\n",
    "        rstride=1,\n",
    "        cstride=1,\n",
    "        cmap=cm.jet,\n",
    "        alpha=1.0,\n",
    "        linewidth=0.05,\n",
    "        vmax=0.25,\n",
    "        vmin=-0.25,\n",
    "    )\n",
    "    axes.set_xlim3d(-5, 5)\n",
    "    axes.set_ylim3d(-5, 5)\n",
    "    axes.set_zlim3d(-0.25, 0.25)\n",
    "\n",
    "    if not cb:\n",
    "        cb = plt.colorbar(surf, shrink=0.65, aspect=20)\n",
    "\n",
    "    return axes.artists"
   ]
  },
  {
   "cell_type": "code",
   "execution_count": null,
   "id": "10bee54a",
   "metadata": {},
   "outputs": [],
   "source": [
    "plot_animation(plot_setup, plot_result, result, writer=\"ffmpeg\", codec=None)"
   ]
  },
  {
   "cell_type": "markdown",
   "id": "3be7993f",
   "metadata": {},
   "source": [
    "# Versions"
   ]
  },
  {
   "cell_type": "code",
   "execution_count": null,
   "id": "4459f5f8",
   "metadata": {},
   "outputs": [],
   "source": [
    "about()"
   ]
  }
 ],
 "metadata": {
  "jupytext": {
   "cell_metadata_filter": "-all",
   "notebook_metadata_filter": "-jupytext.cell_metadata_filter,-jupytext.notebook_metadata_filter"
  },
  "kernel_info": {
   "name": "python3"
  },
  "kernelspec": {
   "display_name": "Python 3 (ipykernel)",
   "language": "python",
   "name": "python3"
  }
 },
 "nbformat": 4,
 "nbformat_minor": 5
}
