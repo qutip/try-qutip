{
 "cells": [
  {
   "cell_type": "markdown",
   "id": "8a10359f",
   "metadata": {},
   "source": [
    "# Quantum Process Tomography"
   ]
  },
  {
   "cell_type": "markdown",
   "id": "3065abad",
   "metadata": {},
   "source": [
    "J.R. Johansson and P.D. Nation\n",
    "\n",
    "For more information about QuTiP see [http://qutip.org](http://qutip.org)"
   ]
  },
  {
   "cell_type": "code",
   "execution_count": null,
   "id": "21462c60",
   "metadata": {},
   "outputs": [],
   "source": [
    "import numpy as np\n",
    "from qutip import (about, qeye, qpt, qpt_plot_combined, sigmax, sigmay, sigmaz,\n",
    "                   spost, spre)\n",
    "from qutip_qip.operations import (cnot, fredkin, iswap, phasegate, snot,\n",
    "                                  sqrtiswap, swap, toffoli)\n",
    "\n",
    "%matplotlib inline"
   ]
  },
  {
   "cell_type": "code",
   "execution_count": null,
   "id": "720d56d4",
   "metadata": {},
   "outputs": [],
   "source": [
    "\"\"\"\n",
    "Plot the process tomography matrices for some 1, 2, and 3-qubit qubit gates.\n",
    "\"\"\"\n",
    "gates = [\n",
    "    [\"C-NOT\", cnot()],\n",
    "    [\"SWAP\", swap()],\n",
    "    [\"$i$SWAP\", iswap()],\n",
    "    [r\"$\\sqrt{i\\mathrm{SWAP}}$\", sqrtiswap()],\n",
    "    [\"S-NOT\", snot()],\n",
    "    [r\"$\\pi/2$ phase gate\", phasegate(np.pi / 2)],\n",
    "    [\"Toffoli\", toffoli()],\n",
    "    [\"Fredkin\", fredkin()],\n",
    "]"
   ]
  },
  {
   "cell_type": "code",
   "execution_count": null,
   "id": "3dfcdc87",
   "metadata": {},
   "outputs": [],
   "source": [
    "def plt_qpt_gate(gate, figsize=(8, 6)):\n",
    "\n",
    "    name = gate[0]\n",
    "    U_psi = gate[1]\n",
    "\n",
    "    N = len(U_psi.dims[0])  # number of qubits\n",
    "\n",
    "    # create a superoperator for the density matrix\n",
    "    # transformation rho = U_psi * rho_0 * U_psi.dag()\n",
    "    U_rho = spre(U_psi) * spost(U_psi.dag())\n",
    "\n",
    "    # operator basis for the process tomography\n",
    "    op_basis = [[qeye(2), sigmax(), sigmay(), sigmaz()] for i in range(N)]\n",
    "\n",
    "    # labels for operator basis\n",
    "    op_label = [[\"$i$\", \"$x$\", \"$y$\", \"$z$\"] for i in range(N)]\n",
    "\n",
    "    # calculate the chi matrix\n",
    "    chi = qpt(U_rho, op_basis)\n",
    "\n",
    "    # visualize the chi matrix\n",
    "    fig, ax = qpt_plot_combined(chi, op_label, name, figsize=figsize)\n",
    "\n",
    "    ax.set_title(name)\n",
    "\n",
    "    return fig, ax"
   ]
  },
  {
   "cell_type": "code",
   "execution_count": null,
   "id": "68243bd1",
   "metadata": {},
   "outputs": [],
   "source": [
    "plt_qpt_gate(gates[0]);"
   ]
  },
  {
   "cell_type": "code",
   "execution_count": null,
   "id": "25a803bf",
   "metadata": {},
   "outputs": [],
   "source": [
    "plt_qpt_gate(gates[1]);"
   ]
  },
  {
   "cell_type": "code",
   "execution_count": null,
   "id": "07f9abb4",
   "metadata": {},
   "outputs": [],
   "source": [
    "plt_qpt_gate(gates[2]);"
   ]
  },
  {
   "cell_type": "code",
   "execution_count": null,
   "id": "7b64e3f6",
   "metadata": {},
   "outputs": [],
   "source": [
    "plt_qpt_gate(gates[3]);"
   ]
  },
  {
   "cell_type": "code",
   "execution_count": null,
   "id": "4e7a8fa1",
   "metadata": {},
   "outputs": [],
   "source": [
    "plt_qpt_gate(gates[4]);"
   ]
  },
  {
   "cell_type": "code",
   "execution_count": null,
   "id": "6e6de5a6",
   "metadata": {},
   "outputs": [],
   "source": [
    "plt_qpt_gate(gates[5]);"
   ]
  },
  {
   "cell_type": "code",
   "execution_count": null,
   "id": "566b3315",
   "metadata": {},
   "outputs": [],
   "source": [
    "fig, ax = plt_qpt_gate(gates[6], figsize=(16, 12))\n",
    "ax.axis(\"tight\");"
   ]
  },
  {
   "cell_type": "code",
   "execution_count": null,
   "id": "ed250381",
   "metadata": {},
   "outputs": [],
   "source": [
    "fig, ax = plt_qpt_gate(gates[7], figsize=(16, 12))\n",
    "ax.axis(\"tight\");"
   ]
  },
  {
   "cell_type": "markdown",
   "id": "0006efbc",
   "metadata": {},
   "source": [
    "## Versions"
   ]
  },
  {
   "cell_type": "code",
   "execution_count": null,
   "id": "b22fe920",
   "metadata": {},
   "outputs": [],
   "source": [
    "about()"
   ]
  }
 ],
 "metadata": {
  "jupytext": {
   "cell_metadata_filter": "-all",
   "notebook_metadata_filter": "-jupytext.cell_metadata_filter,-jupytext.notebook_metadata_filter"
  },
  "kernelspec": {
   "display_name": "Python 3 (ipykernel)",
   "language": "python",
   "name": "python3"
  }
 },
 "nbformat": 4,
 "nbformat_minor": 5
}
