{
 "cells": [
  {
   "cell_type": "markdown",
   "id": "30435e0a",
   "metadata": {},
   "source": [
    "# Using qutip.distributions\n",
    "\n",
    "Author: Mathis Beaudoin (2025)\n",
    "\n",
    "### Introduction\n",
    "\n",
    "This notebook shows how to use probability distributions inside QuTiP. We begin by importing the necessary packages."
   ]
  },
  {
   "cell_type": "code",
   "execution_count": null,
   "id": "38bfa619",
   "metadata": {},
   "outputs": [],
   "source": [
    "from qutip import fock, about\n",
    "from qutip.distributions import HarmonicOscillatorWaveFunction\n",
    "from qutip.distributions import HarmonicOscillatorProbabilityFunction\n",
    "import matplotlib.pyplot as plt"
   ]
  },
  {
   "cell_type": "markdown",
   "id": "91a0f7f3",
   "metadata": {},
   "source": [
    "### Harmonic Oscillator Wave Function\n",
    "\n",
    "Here, we display the spatial distribution of the wave function for the harmonic oscillator (n=0 to n=7) with the `HarmonicOscillatorWaveFunction()` class.\n",
    "\n",
    "Optionally, define a range of values for each coordinate with the parameter called `extent`. Also, define a number of data points inside the given range with the optional parameter called `steps`. From this information, the distribution is generated and can be visualized with the `.visualize()` method."
   ]
  },
  {
   "cell_type": "code",
   "execution_count": null,
   "id": "a7782679",
   "metadata": {},
   "outputs": [],
   "source": [
    "M = 8\n",
    "N = 20\n",
    "\n",
    "fig, ax = plt.subplots(M, 1, figsize=(10, 12), sharex=True)\n",
    "\n",
    "for n in range(M):\n",
    "    psi = fock(N, n)\n",
    "    wf = HarmonicOscillatorWaveFunction(psi, 1.0, extent=[-10, 10])\n",
    "    wf.visualize(fig=fig, ax=ax[M-n-1], show_ylabel=False, show_xlabel=(n == 0))"
   ]
  },
  {
   "cell_type": "markdown",
   "id": "476fa7b6",
   "metadata": {},
   "source": [
    "### Harmonic Oscillator Probability Function\n",
    "\n",
    "The class `HarmonicOscillatorProbabilityFunction()` is the squared magnitude of the data that would normally be in `HarmonicOscillatorWaveFunction()`. We use the same example as before."
   ]
  },
  {
   "cell_type": "code",
   "execution_count": null,
   "id": "6145e2ee",
   "metadata": {},
   "outputs": [],
   "source": [
    "M = 8\n",
    "N = 20\n",
    "\n",
    "fig, ax = plt.subplots(M, 1, figsize=(10, 12), sharex=True)\n",
    "\n",
    "for n in range(M):\n",
    "    psi = fock(N, n)\n",
    "    wf = HarmonicOscillatorProbabilityFunction(psi, 1.0, extent=[-10, 10])\n",
    "    wf.visualize(fig=fig, ax=ax[M-n-1], show_ylabel=False, show_xlabel=(n == 0))"
   ]
  },
  {
   "cell_type": "markdown",
   "id": "288384bb",
   "metadata": {},
   "source": [
    "### About"
   ]
  },
  {
   "cell_type": "code",
   "execution_count": null,
   "id": "fed146f9",
   "metadata": {},
   "outputs": [],
   "source": [
    "about()"
   ]
  }
 ],
 "metadata": {
  "jupytext": {
   "cell_metadata_filter": "-all",
   "notebook_metadata_filter": "-jupytext.cell_metadata_filter,-jupytext.notebook_metadata_filter"
  },
  "kernelspec": {
   "display_name": "Python 3 (ipykernel)",
   "language": "python",
   "name": "python3"
  }
 },
 "nbformat": 4,
 "nbformat_minor": 5
}
