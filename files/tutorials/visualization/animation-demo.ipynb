{
 "cells": [
  {
   "cell_type": "markdown",
   "id": "544790bc",
   "metadata": {},
   "source": [
    "# Animation demos\n",
    "For more information about QuTiP see [http://qutip.org](http://qutip.org)"
   ]
  },
  {
   "cell_type": "markdown",
   "id": "e56b2df0",
   "metadata": {},
   "source": [
    "## Overview\n",
    "QuTiP has animation functions to visualize the time evolution of quantum dynamics.\n"
   ]
  },
  {
   "cell_type": "code",
   "execution_count": null,
   "id": "ba6ab8e8",
   "metadata": {
    "lines_to_next_cell": 2
   },
   "outputs": [],
   "source": [
    "import numpy as np\n",
    "import matplotlib.pyplot as plt\n",
    "from IPython.display import HTML\n",
    "from qutip import (ket, basis, tensor, sigmaz, qeye, mesolve, anim_schmidt,\n",
    "                   complex_array_to_rgb, spin_q_function,\n",
    "                   anim_spin_distribution, about)"
   ]
  },
  {
   "cell_type": "code",
   "execution_count": null,
   "id": "8eae8391",
   "metadata": {
    "lines_to_next_cell": 2
   },
   "outputs": [],
   "source": [
    "# a magic command enabling you to see animations in your jupyter notebook\n",
    "%matplotlib notebook"
   ]
  },
  {
   "cell_type": "markdown",
   "id": "0a8bdbba",
   "metadata": {},
   "source": [
    "## Time evolution of a qubit\n",
    "Consider a system composed of two qubits. Its hamiltonian is $\\sigma_z \\otimes \\mathbf{1}$ and the initial state is an entangled state ($\\left|10\\right>$+$\\left|01\\right>$)/$\\sqrt2$.\n",
    "This operator acts on the first qubit and leaves the second qubit unaffected.\n"
   ]
  },
  {
   "cell_type": "code",
   "execution_count": null,
   "id": "4b93a4d0",
   "metadata": {
    "lines_to_next_cell": 2
   },
   "outputs": [],
   "source": [
    "# Hamiltonian\n",
    "H = tensor(sigmaz(), qeye(2))\n",
    "\n",
    "# initial state\n",
    "psi0 = (ket('10')+ket('01')).unit()\n",
    "\n",
    "# list of times for which the solver should store the state vector\n",
    "tlist = np.linspace(0, 3*np.pi, 100)\n",
    "\n",
    "results = mesolve(H, psi0, tlist, [], [])\n",
    "\n",
    "fig, ani = anim_schmidt(results)"
   ]
  },
  {
   "cell_type": "markdown",
   "id": "4156ad96",
   "metadata": {},
   "source": [
    "The magic code may not work in your environments. This may happen if you run jupyter on Linux or use Google Colab. The code below will help you.\n"
   ]
  },
  {
   "cell_type": "code",
   "execution_count": null,
   "id": "d74b8250",
   "metadata": {},
   "outputs": [],
   "source": [
    "HTML(ani.to_jshtml())"
   ]
  },
  {
   "cell_type": "markdown",
   "id": "b514c709",
   "metadata": {},
   "source": [
    "## Animation with plots\n",
    "You can make an animation with accompanying plots. Note that you cannot have it with additional accompanying animations.\n"
   ]
  },
  {
   "cell_type": "code",
   "execution_count": null,
   "id": "c379c3ff",
   "metadata": {
    "lines_to_next_cell": 2
   },
   "outputs": [],
   "source": [
    "compl_circ = np.array([[(x + 1j*y) if x**2 + y**2 <= 1 else 0j\n",
    "                        for x in np.arange(-1, 1, 0.005)]\n",
    "                       for y in np.arange(-1, 1, 0.005)])\n",
    "\n",
    "fig = plt.figure(figsize=(7, 3))\n",
    "ax0 = plt.subplot(1, 2, 1)\n",
    "ax1 = plt.subplot(1, 2, 2)\n",
    "ax1.set_xlabel(\"x\", fontsize=14)\n",
    "ax1.set_ylabel(\"y\", fontsize=14)\n",
    "ax1.imshow(complex_array_to_rgb(compl_circ, rmax=1, theme='light'),\n",
    "           extent=(-1, 1, -1, 1))\n",
    "plt.tight_layout()\n",
    "fig, ani = anim_schmidt(results, fig=fig, ax=ax0)"
   ]
  },
  {
   "cell_type": "markdown",
   "id": "58657e91",
   "metadata": {},
   "source": [
    "## Customize axes objects\n",
    "You may want to add a title and labels to the animation. You can do it as you do to a normal plot.\n"
   ]
  },
  {
   "cell_type": "code",
   "execution_count": null,
   "id": "4e980561",
   "metadata": {
    "lines_to_next_cell": 2
   },
   "outputs": [],
   "source": [
    "compl_circ = np.array([[(x + 1j*y) if x**2 + y**2 <= 1 else 0j\n",
    "                        for x in np.arange(-1, 1, 0.005)]\n",
    "                       for y in np.arange(-1, 1, 0.005)])\n",
    "\n",
    "fig = plt.figure(figsize=(7, 3))\n",
    "ax0 = plt.subplot(1, 2, 1)\n",
    "ax1 = plt.subplot(1, 2, 2)\n",
    "ax1.set_xlabel(\"x\", fontsize=14)\n",
    "ax1.set_ylabel(\"y\", fontsize=14)\n",
    "ax1.imshow(complex_array_to_rgb(compl_circ, rmax=1, theme='light'),\n",
    "           extent=(-1, 1, -1, 1))\n",
    "plt.tight_layout()\n",
    "fig, ani = anim_schmidt(results, fig=fig, ax=ax0)\n",
    "# add title\n",
    "ax0.set_title('schmidt')\n",
    "ax1.set_title('color circle')"
   ]
  },
  {
   "cell_type": "markdown",
   "id": "f24d17d7",
   "metadata": {},
   "source": [
    "## Save\n",
    "You can share your animations by saving them to your environment. Available file extensions (gif, mp4, etc.) depends on your environment. More details in [the official doc](https://matplotlib.org/stable/api/_as_gen/matplotlib.animation.Animation.html)\n"
   ]
  },
  {
   "cell_type": "code",
   "execution_count": null,
   "id": "0c842d46",
   "metadata": {
    "lines_to_next_cell": 2
   },
   "outputs": [],
   "source": [
    "# ani.save(\"schmidt.gif\")"
   ]
  },
  {
   "cell_type": "markdown",
   "id": "57c8e88f",
   "metadata": {},
   "source": [
    "## Other animations\n",
    "QuTiP has `qutip.Qobj` to store quantum states, but it also uses `np.array` to store data for some other functions. For example, `qutip.spin_q_function` returns a matrix of values representing the spin Husimi Q function at the values specified by $\\theta$ and $\\phi$. Some animation functions are useful to visualize them. Here is one simple animation.\n"
   ]
  },
  {
   "cell_type": "code",
   "execution_count": null,
   "id": "08df84c6",
   "metadata": {
    "lines_to_next_cell": 2
   },
   "outputs": [],
   "source": [
    "theta = np.linspace(0, np.pi, 90)\n",
    "phi = np.linspace(0, 2 * np.pi, 90)\n",
    "Ps = list()\n",
    "for i in range(0, 121, 2):\n",
    "    spin = np.cos(np.pi/2*i/60)*basis(2, 0)+np.sin(np.pi/2*i/60)*basis(2, 1)\n",
    "    # output np.array matrix\n",
    "    Q, THETA, PHI = spin_q_function(spin, theta, phi)\n",
    "    Ps.append(Q)\n",
    "\n",
    "fig, ani = anim_spin_distribution(Ps, THETA, PHI, projection='3d',\n",
    "                                  colorbar=True)"
   ]
  },
  {
   "cell_type": "markdown",
   "id": "bb96cc1e",
   "metadata": {},
   "source": [
    "# Versions"
   ]
  },
  {
   "cell_type": "code",
   "execution_count": null,
   "id": "8eeda600",
   "metadata": {},
   "outputs": [],
   "source": [
    "about()"
   ]
  }
 ],
 "metadata": {
  "jupytext": {
   "cell_metadata_filter": "-all",
   "notebook_metadata_filter": "-jupytext.cell_metadata_filter,-jupytext.notebook_metadata_filter"
  },
  "kernelspec": {
   "display_name": "Python 3 (ipykernel)",
   "language": "python",
   "name": "python3"
  }
 },
 "nbformat": 4,
 "nbformat_minor": 5
}
