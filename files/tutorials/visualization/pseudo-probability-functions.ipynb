{
 "cells": [
  {
   "cell_type": "markdown",
   "id": "4c2a2d64",
   "metadata": {},
   "source": [
    "# Pseudo-probability functions"
   ]
  },
  {
   "cell_type": "markdown",
   "id": "27c60067",
   "metadata": {},
   "source": [
    "J.R. Johansson and P.D. Nation\n",
    "\n",
    "For more information about QuTiP see [http://qutip.org](http://qutip.org)"
   ]
  },
  {
   "cell_type": "code",
   "execution_count": null,
   "id": "6c11e4b4",
   "metadata": {},
   "outputs": [],
   "source": [
    "import matplotlib as mpl\n",
    "import matplotlib.pylab as plt\n",
    "import numpy as np\n",
    "from matplotlib import cm\n",
    "from qutip import about, basis, destroy, qfunc, wigner, wigner_cmap\n",
    "\n",
    "%matplotlib inline"
   ]
  },
  {
   "cell_type": "markdown",
   "id": "e7639ad6",
   "metadata": {},
   "source": [
    "## Wigner function for superposition of fock states"
   ]
  },
  {
   "cell_type": "code",
   "execution_count": null,
   "id": "c6aa0ecb",
   "metadata": {},
   "outputs": [],
   "source": [
    "x = 1.0 / np.sqrt(2) * (basis(10, 4) + basis(10, 2))\n",
    "xvec = np.arange(-5, 5, 10.0 / 100)\n",
    "yvec = xvec\n",
    "W = wigner(x, xvec, yvec)\n",
    "cmap = wigner_cmap(W)\n",
    "X, Y = np.meshgrid(xvec, yvec)"
   ]
  },
  {
   "cell_type": "code",
   "execution_count": null,
   "id": "b753bddc",
   "metadata": {},
   "outputs": [],
   "source": [
    "fig = plt.figure(figsize=(8, 6))\n",
    "plt.contourf(X, Y, W, 50, cmap=cmap)\n",
    "plt.colorbar();"
   ]
  },
  {
   "cell_type": "code",
   "execution_count": null,
   "id": "d07af4ac",
   "metadata": {},
   "outputs": [],
   "source": [
    "fig = plt.figure(figsize=(10, 8))\n",
    "ax = fig.add_subplot(111, projection='3d', azim=-30, elev=73)\n",
    "ax.plot_surface(X, Y, W, cmap=cmap, rstride=1, cstride=1, alpha=1, linewidth=0)\n",
    "ax.set_zlim3d(-0.25, 0.25)\n",
    "for a in ax.zaxis.get_ticklines() + ax.zaxis.get_ticklabels():\n",
    "    a.set_visible(False)\n",
    "nrm = mpl.colors.Normalize(W.min(), W.max())\n",
    "cax, kw = mpl.colorbar.make_axes(ax, shrink=0.66, pad=0.02)\n",
    "cb1 = mpl.colorbar.ColorbarBase(cax, cmap=cmap, norm=nrm)\n",
    "cb1.set_label(\"Pseudoprobability\")"
   ]
  },
  {
   "cell_type": "markdown",
   "id": "a47c028c",
   "metadata": {},
   "source": [
    "## Winger and Q-function for squeezed states"
   ]
  },
  {
   "cell_type": "code",
   "execution_count": null,
   "id": "43ec2c3c",
   "metadata": {},
   "outputs": [],
   "source": [
    "N = 20\n",
    "alpha = -1.0  # Coherent amplitude of field\n",
    "epsilon = 0.5j  # Squeezing parameter\n",
    "a = destroy(N)\n",
    "\n",
    "D = (alpha * a.dag() - np.conj(alpha) * a).expm()  # Displacement\n",
    "S = (\n",
    "    0.5 * np.conj(epsilon) * a * a - 0.5 * epsilon * a.dag() * a.dag()\n",
    ").expm()  # Squeezing\n",
    "psi = D * S * basis(N, 0)  # Apply to vacuum state\n",
    "g = 2"
   ]
  },
  {
   "cell_type": "markdown",
   "id": "f89612dc",
   "metadata": {},
   "source": [
    "### Wigner function"
   ]
  },
  {
   "cell_type": "code",
   "execution_count": null,
   "id": "e077060c",
   "metadata": {},
   "outputs": [],
   "source": [
    "xvec = np.arange(-40.0, 40.0) * 5.0 / 40\n",
    "X, Y = np.meshgrid(xvec, xvec)\n",
    "\n",
    "W = wigner(psi, xvec, xvec)\n",
    "\n",
    "fig1 = plt.figure(figsize=(8, 6))\n",
    "ax = fig1.add_subplot(111, projection='3d')\n",
    "ax.plot_surface(X, Y, W, rstride=2, cstride=2, cmap=cm.jet, alpha=0.7)\n",
    "ax.contour(X, Y, W, 15, zdir=\"x\", offset=-6)\n",
    "ax.contour(X, Y, W, 15, zdir=\"y\", offset=6)\n",
    "ax.contour(X, Y, W, 15, zdir=\"z\", offset=-0.3)\n",
    "ax.set_xlim3d(-6, 6)\n",
    "ax.set_xlim3d(-6, 6)\n",
    "ax.set_zlim3d(-0.3, 0.4)\n",
    "plt.title(\"Wigner function of squeezed state\");"
   ]
  },
  {
   "cell_type": "markdown",
   "id": "1344cff1",
   "metadata": {},
   "source": [
    "### Q-function"
   ]
  },
  {
   "cell_type": "code",
   "execution_count": null,
   "id": "98d3f5e8",
   "metadata": {},
   "outputs": [],
   "source": [
    "Q = qfunc(psi, xvec, xvec, g)\n",
    "\n",
    "fig2 = plt.figure(figsize=(8, 6))\n",
    "ax = fig2.add_subplot(111, projection='3d')\n",
    "ax.plot_surface(X, Y, Q, rstride=2, cstride=2, cmap=cm.jet, alpha=0.7)\n",
    "ax.contour(X, Y, Q, zdir=\"x\", offset=-6)\n",
    "ax.contour(X, Y, Q, zdir=\"y\", offset=6)\n",
    "ax.contour(X, Y, Q, 15, zdir=\"z\", offset=-0.4)\n",
    "ax.set_xlim3d(-6, 6)\n",
    "ax.set_xlim3d(-6, 6)\n",
    "ax.set_zlim3d(-0.3, 0.4)\n",
    "plt.title(\"Q function of squeezed state\");"
   ]
  },
  {
   "cell_type": "markdown",
   "id": "9cfecbf7",
   "metadata": {},
   "source": [
    "## Schrodinger cat state"
   ]
  },
  {
   "cell_type": "code",
   "execution_count": null,
   "id": "83cc5c03",
   "metadata": {},
   "outputs": [],
   "source": [
    "N = 20\n",
    "# amplitudes of coherent states\n",
    "alpha1 = -2.0 - 2j\n",
    "alpha2 = 2.0 + 2j\n",
    "# define ladder oeprators\n",
    "a = destroy(N)\n",
    "# define displacement oeprators\n",
    "D1 = (alpha1 * a.dag() - np.conj(alpha1) * a).expm()\n",
    "D2 = (alpha2 * a.dag() - np.conj(alpha2) * a).expm()\n",
    "# sum of coherent states\n",
    "psi = np.sqrt(2) ** -1 * (D1 + D2) * basis(N, 0);  # Apply to vacuum state"
   ]
  },
  {
   "cell_type": "code",
   "execution_count": null,
   "id": "0d44a9b6",
   "metadata": {},
   "outputs": [],
   "source": [
    "# calculate Wigner function\n",
    "yvec = xvec = np.arange(-100.0, 100.0) * 5.0 / 100\n",
    "g = 2.0\n",
    "W = wigner(psi, xvec, yvec)\n",
    "fig = plt.figure(figsize=(8, 6))\n",
    "c = plt.contourf(xvec, yvec, np.real(W), 100)\n",
    "plt.xlim([-5, 5])\n",
    "plt.ylim([-5, 5])\n",
    "plt.title(\"Wigner function of Schrodinger cat\")\n",
    "cbar = plt.colorbar(c)\n",
    "cbar.ax.set_ylabel(\"Pseudoprobability\");"
   ]
  },
  {
   "cell_type": "code",
   "execution_count": null,
   "id": "69f50863",
   "metadata": {},
   "outputs": [],
   "source": [
    "# calculate Q function\n",
    "Q = qfunc(psi, xvec, yvec)\n",
    "fig = plt.figure(figsize=(8, 6))\n",
    "qplt = plt.contourf(xvec, yvec, np.real(Q), 100)\n",
    "plt.xlim([-5, 5])\n",
    "plt.ylim([-5, 5])\n",
    "plt.title(\"Q function of Schrodinger cat\")\n",
    "cbar = plt.colorbar(qplt)\n",
    "cbar.ax.set_ylabel(\"Probability\");"
   ]
  },
  {
   "cell_type": "markdown",
   "id": "1efedd5f",
   "metadata": {},
   "source": [
    "## Software version:"
   ]
  },
  {
   "cell_type": "code",
   "execution_count": null,
   "id": "34a79c79",
   "metadata": {},
   "outputs": [],
   "source": [
    "about()"
   ]
  }
 ],
 "metadata": {
  "jupytext": {
   "cell_metadata_filter": "-all",
   "notebook_metadata_filter": "-jupytext.cell_metadata_filter,-jupytext.notebook_metadata_filter"
  },
  "kernelspec": {
   "display_name": "Python 3 (ipykernel)",
   "language": "python",
   "name": "python3"
  }
 },
 "nbformat": 4,
 "nbformat_minor": 5
}
