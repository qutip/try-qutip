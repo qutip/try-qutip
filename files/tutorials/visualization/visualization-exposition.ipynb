{
 "cells": [
  {
   "cell_type": "markdown",
   "id": "45d4eb53",
   "metadata": {},
   "source": [
    "# Visualization demos"
   ]
  },
  {
   "cell_type": "code",
   "execution_count": null,
   "id": "3dc773b5",
   "metadata": {},
   "outputs": [],
   "source": [
    "import matplotlib.pyplot as plt\n",
    "import numpy as np\n",
    "import qutip as qt\n",
    "from qutip import about, basis, identity, sigmax, sigmay, sigmaz\n",
    "from scipy.special import sph_harm\n",
    "\n",
    "%matplotlib inline"
   ]
  },
  {
   "cell_type": "markdown",
   "id": "6de7240c",
   "metadata": {},
   "source": [
    "## Hinton"
   ]
  },
  {
   "cell_type": "code",
   "execution_count": null,
   "id": "01902301",
   "metadata": {},
   "outputs": [],
   "source": [
    "rho = qt.rand_dm(5)"
   ]
  },
  {
   "cell_type": "code",
   "execution_count": null,
   "id": "8165fe08",
   "metadata": {},
   "outputs": [],
   "source": [
    "fig, ax = qt.hinton(rho)\n",
    "ax.set_title('hinton');"
   ]
  },
  {
   "cell_type": "markdown",
   "id": "9f0a0ad3",
   "metadata": {},
   "source": [
    "## Sphereplot"
   ]
  },
  {
   "cell_type": "code",
   "execution_count": null,
   "id": "02239cdc",
   "metadata": {},
   "outputs": [],
   "source": [
    "theta = np.linspace(0, np.pi, 90)\n",
    "phi = np.linspace(0, 2 * np.pi, 60)"
   ]
  },
  {
   "cell_type": "code",
   "execution_count": null,
   "id": "4f1b4a79",
   "metadata": {},
   "outputs": [],
   "source": [
    "phi_mesh, theta_mesh = np.meshgrid(phi, theta)\n",
    "orbital = sph_harm(-1, 2, phi_mesh, theta_mesh).T\n",
    "qt.sphereplot(orbital, theta, phi);"
   ]
  },
  {
   "cell_type": "code",
   "execution_count": null,
   "id": "1bdf2c36",
   "metadata": {},
   "outputs": [],
   "source": [
    "fig = plt.figure(figsize=(16, 4))\n",
    "\n",
    "ax = fig.add_subplot(1, 3, 1, projection=\"3d\")\n",
    "orbital = sph_harm(-1, 1, phi_mesh, theta_mesh).T\n",
    "qt.sphereplot(orbital, theta, phi, ax=ax)\n",
    "\n",
    "ax = fig.add_subplot(1, 3, 2, projection=\"3d\")\n",
    "orbital = sph_harm(0, 1, phi_mesh, theta_mesh).T\n",
    "qt.sphereplot(orbital, theta, phi, ax=ax)\n",
    "\n",
    "ax = fig.add_subplot(1, 3, 3, projection=\"3d\")\n",
    "orbital = sph_harm(1, 1, phi_mesh, theta_mesh).T\n",
    "qt.sphereplot(orbital, theta, phi, ax=ax);"
   ]
  },
  {
   "cell_type": "markdown",
   "id": "6ff102b3",
   "metadata": {},
   "source": [
    "# Matrix histogram"
   ]
  },
  {
   "cell_type": "code",
   "execution_count": null,
   "id": "4108319b",
   "metadata": {},
   "outputs": [],
   "source": [
    "qt.matrix_histogram(rho.full().real);"
   ]
  },
  {
   "cell_type": "code",
   "execution_count": null,
   "id": "b7866940",
   "metadata": {},
   "outputs": [],
   "source": [
    "qt.matrix_histogram(rho.full(), limits=[0, 1],\n",
    "                    bar_style='abs', color_style='phase');"
   ]
  },
  {
   "cell_type": "markdown",
   "id": "231bf434",
   "metadata": {},
   "source": [
    "# Plot energy levels"
   ]
  },
  {
   "cell_type": "code",
   "execution_count": null,
   "id": "c07b7a7a",
   "metadata": {},
   "outputs": [],
   "source": [
    "H0 = qt.tensor(sigmaz(), identity(2)) + qt.tensor(identity(2), sigmaz())\n",
    "Hint = 0.1 * qt.tensor(sigmax(), sigmax())\n",
    "fig = plt.figure(figsize=(8, 4))\n",
    "qt.plot_energy_levels([H0, Hint], h_labels=['H0', 'H0+Hint'], fig=fig);"
   ]
  },
  {
   "cell_type": "markdown",
   "id": "7d203d0d",
   "metadata": {},
   "source": [
    "# Plot Fock distribution"
   ]
  },
  {
   "cell_type": "code",
   "execution_count": null,
   "id": "dd45d240",
   "metadata": {},
   "outputs": [],
   "source": [
    "rho = (qt.coherent(15, 1.5) + qt.coherent(15, -1.5)).unit()"
   ]
  },
  {
   "cell_type": "code",
   "execution_count": null,
   "id": "95fcc996",
   "metadata": {},
   "outputs": [],
   "source": [
    "qt.plot_fock_distribution(rho);"
   ]
  },
  {
   "cell_type": "markdown",
   "id": "dda3def7",
   "metadata": {},
   "source": [
    "# Plot Wigner function and Fock distribution"
   ]
  },
  {
   "cell_type": "code",
   "execution_count": null,
   "id": "a718dc52",
   "metadata": {},
   "outputs": [],
   "source": [
    "fig, axes = plt.subplots(1, 2, figsize=(8, 4))\n",
    "qt.plot_fock_distribution(rho, fig=fig, ax=axes[0])\n",
    "qt.plot_wigner(rho, fig=fig, ax=axes[1]);"
   ]
  },
  {
   "cell_type": "markdown",
   "id": "fef93398",
   "metadata": {},
   "source": [
    "# Plot winger function"
   ]
  },
  {
   "cell_type": "code",
   "execution_count": null,
   "id": "610d40d5",
   "metadata": {},
   "outputs": [],
   "source": [
    "qt.plot_wigner(rho);"
   ]
  },
  {
   "cell_type": "markdown",
   "id": "f140ab26",
   "metadata": {},
   "source": [
    "# Plot expectation values"
   ]
  },
  {
   "cell_type": "code",
   "execution_count": null,
   "id": "0bf1f26e",
   "metadata": {},
   "outputs": [],
   "source": [
    "H = sigmaz() + 0.3 * sigmay()\n",
    "e_ops = [sigmax(), sigmay(), sigmaz()]\n",
    "times = np.linspace(0, 10, 100)\n",
    "psi0 = (basis(2, 0) + basis(2, 1)).unit()\n",
    "result = qt.mesolve(H, psi0, times, [], e_ops)"
   ]
  },
  {
   "cell_type": "code",
   "execution_count": null,
   "id": "6aba16d6",
   "metadata": {},
   "outputs": [],
   "source": [
    "qt.plot_expectation_values(result);"
   ]
  },
  {
   "cell_type": "markdown",
   "id": "a8eaa239",
   "metadata": {},
   "source": [
    "# Bloch sphere"
   ]
  },
  {
   "cell_type": "code",
   "execution_count": null,
   "id": "432b109b",
   "metadata": {},
   "outputs": [],
   "source": [
    "b = qt.Bloch()\n",
    "b.add_vectors(qt.expect(H.unit(), e_ops))\n",
    "b.add_points(result.expect, meth=\"l\")\n",
    "b.make_sphere()"
   ]
  },
  {
   "cell_type": "markdown",
   "id": "33a2851b",
   "metadata": {},
   "source": [
    "# Plot spin Q-functions"
   ]
  },
  {
   "cell_type": "code",
   "execution_count": null,
   "id": "e14d00f3",
   "metadata": {},
   "outputs": [],
   "source": [
    "j = 5\n",
    "psi = qt.spin_state(j, -j)\n",
    "psi = qt.spin_coherent(j, np.random.rand() * np.pi,\n",
    "                       np.random.rand() * 2 * np.pi)\n",
    "rho = qt.ket2dm(psi)"
   ]
  },
  {
   "cell_type": "code",
   "execution_count": null,
   "id": "c96ab675",
   "metadata": {},
   "outputs": [],
   "source": [
    "theta = np.linspace(0, np.pi, 50)\n",
    "phi = np.linspace(0, 2 * np.pi, 50)"
   ]
  },
  {
   "cell_type": "code",
   "execution_count": null,
   "id": "3d63ca6f",
   "metadata": {},
   "outputs": [],
   "source": [
    "Q, THETA, PHI = qt.spin_q_function(psi, theta, phi)"
   ]
  },
  {
   "cell_type": "markdown",
   "id": "0dea8ab2",
   "metadata": {},
   "source": [
    "## 2D"
   ]
  },
  {
   "cell_type": "code",
   "execution_count": null,
   "id": "f6ca81f7",
   "metadata": {},
   "outputs": [],
   "source": [
    "qt.plot_spin_distribution(Q, THETA, PHI);"
   ]
  },
  {
   "cell_type": "markdown",
   "id": "0b1c38e3",
   "metadata": {},
   "source": [
    "## 3D"
   ]
  },
  {
   "cell_type": "code",
   "execution_count": null,
   "id": "506596ca",
   "metadata": {},
   "outputs": [],
   "source": [
    "fig, ax = qt.plot_spin_distribution(Q, THETA, PHI, projection='3d')\n",
    "\n",
    "ax.view_init(15, 30);"
   ]
  },
  {
   "cell_type": "markdown",
   "id": "445c64bf",
   "metadata": {},
   "source": [
    "## Combined 2D and 3D"
   ]
  },
  {
   "cell_type": "code",
   "execution_count": null,
   "id": "e51adaf6",
   "metadata": {},
   "outputs": [],
   "source": [
    "fig = plt.figure(figsize=(14, 6))\n",
    "\n",
    "ax = fig.add_subplot(1, 2, 1)\n",
    "f1, a1 = qt.plot_spin_distribution(Q, THETA, PHI, fig=fig, ax=ax)\n",
    "\n",
    "ax = fig.add_subplot(1, 2, 2, projection=\"3d\")\n",
    "f2, a2 = qt.plot_spin_distribution(Q, THETA, PHI, projection='3d', ax=ax);"
   ]
  },
  {
   "cell_type": "markdown",
   "id": "85087e08",
   "metadata": {},
   "source": [
    "# Plot spin-Wigner functions"
   ]
  },
  {
   "cell_type": "code",
   "execution_count": null,
   "id": "6263701d",
   "metadata": {},
   "outputs": [],
   "source": [
    "W, THETA, PHI = qt.spin_wigner(psi, theta, phi)"
   ]
  },
  {
   "cell_type": "code",
   "execution_count": null,
   "id": "ab224843",
   "metadata": {},
   "outputs": [],
   "source": [
    "fig = plt.figure(figsize=(14, 6))\n",
    "\n",
    "ax = fig.add_subplot(1, 2, 1)\n",
    "f1, a1 = qt.plot_spin_distribution(W.real, THETA, PHI, fig=fig, ax=ax)\n",
    "\n",
    "ax = fig.add_subplot(1, 2, 2, projection=\"3d\")\n",
    "f2, a2 = qt.plot_spin_distribution(W.real, THETA, PHI, projection='3d', ax=ax);"
   ]
  },
  {
   "cell_type": "markdown",
   "id": "6023d529",
   "metadata": {},
   "source": [
    "# Versions"
   ]
  },
  {
   "cell_type": "code",
   "execution_count": null,
   "id": "65b1ecff",
   "metadata": {},
   "outputs": [],
   "source": [
    "about()"
   ]
  }
 ],
 "metadata": {
  "jupytext": {
   "cell_metadata_filter": "-all",
   "notebook_metadata_filter": "-jupytext.cell_metadata_filter,-jupytext.notebook_metadata_filter"
  },
  "kernelspec": {
   "display_name": "Python 3 (ipykernel)",
   "language": "python",
   "name": "python3"
  }
 },
 "nbformat": 4,
 "nbformat_minor": 5
}
