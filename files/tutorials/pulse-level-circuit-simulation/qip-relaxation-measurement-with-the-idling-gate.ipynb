{
 "cells": [
  {
   "cell_type": "markdown",
   "id": "da744af8",
   "metadata": {},
   "source": [
    "# measuring the relaxation time with the idling gate\n",
    "In order to demonstrate the simulation of decoherence noise, we build an example that simulates a Ramsey experiment as a quantum circuit run on a noisy `Processor`.\n",
    "The Ramsey experiment consists of a qubit that is initialized in the excited state, undergoes a $\\pi/2$ rotation around the $x$ axis, idles for a time $t$, and is finally measured after another $\\pi/2$ rotation:"
   ]
  },
  {
   "cell_type": "code",
   "execution_count": null,
   "id": "3561a269",
   "metadata": {},
   "outputs": [],
   "source": [
    "import matplotlib.pyplot as plt\n",
    "import numpy as np\n",
    "import scipy\n",
    "from qutip import basis, sigmax, sigmaz\n",
    "from qutip_qip.circuit import QubitCircuit\n",
    "from qutip_qip.device import LinearSpinChain\n",
    "import qutip_qip\n",
    "from qutip.ipynbtools import version_table\n",
    "\n",
    "pi = np.pi\n",
    "num_samples = 500\n",
    "amp = 0.1\n",
    "f = 0.5\n",
    "t2 = 10 / f\n",
    "\n",
    "# Define a processor.\n",
    "proc = LinearSpinChain(num_qubits=1, sx=amp / 2, t2=t2)\n",
    "ham_idle = 2 * pi * sigmaz() / 2 * f\n",
    "resonant_sx = 2 * pi * sigmax() - ham_idle / (amp / 2)\n",
    "proc.add_drift(ham_idle, targets=0)\n",
    "proc.add_control(resonant_sx, targets=0, label=\"sx0\")\n",
    "\n",
    "\n",
    "# Define a Ramsey experiment.\n",
    "def ramsey(t, proc):\n",
    "    qc = QubitCircuit(1)\n",
    "    qc.add_gate(\"RX\", 0, arg_value=pi / 2)\n",
    "    qc.add_gate(\"IDLE\", 0, arg_value=t)\n",
    "    qc.add_gate(\"RX\", 0, arg_value=pi / 2)\n",
    "    proc.load_circuit(qc)\n",
    "    result = proc.run_state(init_state=basis(2, 0), e_ops=sigmaz())\n",
    "    return result.expect[0][-1]\n",
    "\n",
    "\n",
    "idle_tlist = np.linspace(0.0, 30.0, num_samples)\n",
    "measurements = np.asarray([ramsey(t, proc) for t in idle_tlist])\n",
    "\n",
    "rx_gate_time = 1 / 4 / amp  # pi/2\n",
    "total_time = 2 * rx_gate_time + idle_tlist[-1]\n",
    "tlist = np.linspace(0.0, total_time, num_samples)\n",
    "\n",
    "peak_ind = scipy.signal.find_peaks(measurements)[0]\n",
    "\n",
    "\n",
    "def decay_func(t, t2, f0):\n",
    "    return f0 * np.exp(-1.0 / t2 * t)\n",
    "\n",
    "\n",
    "(t2_fit, f0_fit), _ = scipy.optimize.curve_fit(\n",
    "    decay_func, idle_tlist[peak_ind], measurements[peak_ind]\n",
    ")\n",
    "print(\"T2:\", t2)\n",
    "print(\"Fitted T2:\", t2_fit)\n",
    "\n",
    "fig, ax = plt.subplots(figsize=(5, 3), dpi=100)\n",
    "ax.plot(idle_tlist[:], measurements[:], \"-\", label=\"Simulation\",\n",
    "        color=\"slategray\")\n",
    "ax.plot(\n",
    "    idle_tlist,\n",
    "    decay_func(idle_tlist, t2_fit, f0_fit),\n",
    "    \"--\",\n",
    "    label=\"Theory\",\n",
    "    color=\"slategray\",\n",
    ")\n",
    "ax.set_xlabel(r\"Idling time $t$ [$\\mu$s]\")\n",
    "ax.set_ylabel(\"Ramsey signal\", labelpad=2)\n",
    "ax.set_ylim((ax.get_ylim()[0], ax.get_ylim()[1]))\n",
    "ax.set_position([0.18, 0.2, 0.75, 0.75])\n",
    "ax.grid()"
   ]
  },
  {
   "cell_type": "markdown",
   "id": "b7273de3",
   "metadata": {},
   "source": [
    "In the above block, we use the linear spin chain processor just for its compiler and do not use any of its default Hamiltonians.\n",
    "Instead, we define an always-on drift Hamiltonian $\\sigma^z$ with frequency $f=0.5$MHz, an on-resonant $\\sigma^x$ drive with an amplitude of $0.1/2$MHz and the coherence time $T_2=10/f$.\n",
    "For different idling time $t$, we record the expectation value with respect to the observable $\\sigma^z$ as the solid curve.\n",
    "As expected, the envelope follows an exponential decay characterized by $T_2$ (dashed curve).\n",
    "Notice that, because $\\pi/2$-pulses are simulated as a physical process, the fitted decay does not start from 1.\n",
    "This demonstrates a way to include state preparation error into the simulation."
   ]
  },
  {
   "cell_type": "code",
   "execution_count": null,
   "id": "2a419b6f",
   "metadata": {},
   "outputs": [],
   "source": [
    "print(\"qutip-qip version:\", qutip_qip.version.version)\n",
    "version_table()"
   ]
  }
 ],
 "metadata": {
  "jupytext": {
   "cell_metadata_filter": "-all",
   "notebook_metadata_filter": "-jupytext.cell_metadata_filter,-jupytext.notebook_metadata_filter"
  },
  "kernelspec": {
   "display_name": "Python 3 (ipykernel)",
   "language": "python",
   "name": "python3"
  }
 },
 "nbformat": 4,
 "nbformat_minor": 5
}
