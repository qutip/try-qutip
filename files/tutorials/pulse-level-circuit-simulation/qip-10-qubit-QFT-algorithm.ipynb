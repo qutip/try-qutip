{
 "cells": [
  {
   "cell_type": "markdown",
   "id": "806c9bb2",
   "metadata": {},
   "source": [
    "# Compiling and simulating a 10-qubit Quantum Fourier Transform (QFT) algorithm\n",
    "\n",
    "In this notebook, we simulate a 10-qubit Quantum Fourier Transform (QFT) algorithm.\n",
    "The QFT algorithm is one of the most important quantum algorithms in quantum computing.\n",
    "It is, for instance, part of the Shor algorithm for integer factorization.\n",
    "The following code defines a 10-qubit QFT algorithm using CNOT and single qubit rotations and runs the simulation both at the gate level and at the pulse level."
   ]
  },
  {
   "cell_type": "code",
   "execution_count": null,
   "id": "0759ecc1",
   "metadata": {},
   "outputs": [],
   "source": [
    "from qutip import basis, fidelity\n",
    "from qutip_qip.algorithms import qft_gate_sequence\n",
    "from qutip_qip.device import LinearSpinChain\n",
    "from qutip.ipynbtools import version_table\n",
    "import qutip_qip\n",
    "\n",
    "num_qubits = 10\n",
    "# The QFT circuit\n",
    "qc = qft_gate_sequence(num_qubits, swapping=False, to_cnot=True)\n",
    "# Gate-level simulation\n",
    "state1 = qc.run(basis([2] * num_qubits, [0] * num_qubits))\n",
    "# Pulse-level simulation\n",
    "processor = LinearSpinChain(num_qubits)\n",
    "processor.load_circuit(qc)\n",
    "state2 = processor.run_state(basis([2] * num_qubits,\n",
    "                                   [0] * num_qubits)).states[-1]\n",
    "fidelity(state1, state2)"
   ]
  },
  {
   "cell_type": "markdown",
   "id": "1f3eaf28",
   "metadata": {},
   "source": [
    "We plot the compiled pulses in the cell below.\n",
    "The pulses plotted implement the QFT algorithm represented in the native gates of the spin chain model, with single-qubit gates marked by rotations over the $x$- and $z$-axes and the iSWAP gate implemented through the spin-spin exchange interaction, marked by $g_i$.\n",
    "While the sign for single-qubit drive denotes the phase of the control pulse, the negative sign in the coupling strengths $g_i$ is only a result of the convention used in the definition of the interaction, defined in \\cref{eq:ham spin chain}."
   ]
  },
  {
   "cell_type": "code",
   "execution_count": null,
   "id": "749f1d07",
   "metadata": {},
   "outputs": [],
   "source": [
    "def get_control_latex(model):\n",
    "    \"\"\"\n",
    "    Get the labels for each Hamiltonian.\n",
    "    It is used in the method method :meth:`.Processor.plot_pulses`.\n",
    "    It is a 2-d nested list, in the plot,\n",
    "    a different color will be used for each sublist.\n",
    "    \"\"\"\n",
    "    num_qubits = model.num_qubits\n",
    "    num_coupling = model._get_num_coupling()\n",
    "    return [\n",
    "        {f\"sx{m}\": r\"$\\sigma_x^{}$\".format(m) for m in range(num_qubits)},\n",
    "        {f\"sz{m}\": r\"$\\sigma_z^{}$\".format(m) for m in range(num_qubits)},\n",
    "        {f\"g{m}\": r\"$g_{}$\".format(m) for m in range(num_coupling)},\n",
    "    ]\n",
    "\n",
    "\n",
    "fig, axes = processor.plot_pulses(\n",
    "    figsize=(5, 7), dpi=150, pulse_labels=get_control_latex(processor.model)\n",
    ")\n",
    "axes[-1].set_xlabel(\"$t$\");"
   ]
  },
  {
   "cell_type": "code",
   "execution_count": null,
   "id": "6e70e525",
   "metadata": {},
   "outputs": [],
   "source": [
    "print(\"qutip-qip version:\", qutip_qip.version.version)\n",
    "version_table()"
   ]
  }
 ],
 "metadata": {
  "jupytext": {
   "cell_metadata_filter": "-all",
   "notebook_metadata_filter": "-jupytext.cell_metadata_filter,-jupytext.notebook_metadata_filter"
  },
  "kernelspec": {
   "display_name": "Python 3 (ipykernel)",
   "language": "python",
   "name": "python3"
  }
 },
 "nbformat": 4,
 "nbformat_minor": 5
}
