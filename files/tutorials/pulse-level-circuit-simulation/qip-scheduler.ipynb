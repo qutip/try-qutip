{
 "cells": [
  {
   "cell_type": "markdown",
   "id": "2ae7f82d",
   "metadata": {},
   "source": [
    "# Scheduler for quantum gates and instructions\n",
    "\n",
    "Author: Boxi Li (etamin1201@gmail.com)\n",
    "\n",
    "The finite coherence time of physical qubits is one of the major factors that limits the performance of quantum computation. In principle, the execution time of the circuit has to be much shorter than the coherence time. One way to reduce this execution time is to run several gates in the circuit parallelly. This can spare a lot of time if e.g. the same single-qubit gate is applied to all qubits, as in the [Grover algorithm](https://en.wikipedia.org/wiki/Grover%27s_algorithm).\n",
    "\n",
    "A scheduler for a quantum computer, similar to its classical counterpart, schedules a quantum circuit to minimize the execution time. It determines the order in which the gates are executed. As a simple rule, the scheduler allows gates to be executed in parallel if they do not address the same qubits. Further hardware constraints can be included, but here we only focus on this simple criterion by considering gates that do not address the same qubits. The non-trivial part of a scheduler is that it has to consider the possible permutations of commuting quantum gates. Hence, exploring various possibilities for permutation while following physical constraints of the hardware is the main challenging task for the scheduler.\n",
    "\n",
    "We first show how we can schedule gate execution in quantum circuits using the built-in tools in `qutip_qip` and then the scheduling of compiled control pulses. In the end, we also show a simple example where the permutation of commuting gates matters in the scheduling and how to handle such situations."
   ]
  },
  {
   "cell_type": "code",
   "execution_count": null,
   "id": "0242120e",
   "metadata": {},
   "outputs": [],
   "source": [
    "# imports\n",
    "from qutip import about\n",
    "from qutip_qip.circuit import QubitCircuit\n",
    "from qutip_qip.compiler import Instruction, Scheduler\n",
    "from qutip_qip.device import LinearSpinChain"
   ]
  },
  {
   "cell_type": "markdown",
   "id": "a993ea48",
   "metadata": {},
   "source": [
    "## Gate schedule\n",
    "Let's first define a quantum circuit"
   ]
  },
  {
   "cell_type": "code",
   "execution_count": null,
   "id": "e23cbf30",
   "metadata": {},
   "outputs": [],
   "source": [
    "circuit = QubitCircuit(3)\n",
    "circuit.add_gate(\"X\", 0)\n",
    "circuit.add_gate(\"ISWAP\", targets=[1, 2])\n",
    "circuit.add_gate(\"X\", 2)\n",
    "circuit.add_gate(\"Y\", 0)\n",
    "circuit.add_gate(\"X\", 0)\n",
    "circuit"
   ]
  },
  {
   "cell_type": "markdown",
   "id": "7368f9fc",
   "metadata": {},
   "source": [
    "This is a rather boring circuit, but it is useful as a demonstration for the scheduler. We now define a scheduler and schedule the execution of gates in the circuit"
   ]
  },
  {
   "cell_type": "code",
   "execution_count": null,
   "id": "733beb20",
   "metadata": {},
   "outputs": [],
   "source": [
    "scheduler = Scheduler(\"ASAP\")  # schedule as soon as possible\n",
    "scheduled_time = scheduler.schedule(circuit)\n",
    "scheduled_time"
   ]
  },
  {
   "cell_type": "markdown",
   "id": "5c19f1a7",
   "metadata": {},
   "source": [
    "This result shows the scheduled starting time for each gate.\n",
    "In the first cycle we execute an iSWAP on qubit 0 and 1 and an X gate on qubit 0; In the second cycle we execute one X gate on qubit 2 and one Y gate on qubit 0; In the last cycle, we execute a single X gate on qubit 0. As printed bellow:"
   ]
  },
  {
   "cell_type": "code",
   "execution_count": null,
   "id": "caa67aa0",
   "metadata": {},
   "outputs": [],
   "source": [
    "cycle_list = [[] for i in range(max(scheduled_time) + 1)]\n",
    "\n",
    "for i, time in enumerate(scheduled_time):\n",
    "    gate = circuit.gates[i]\n",
    "    cycle_list[time].append(gate.name + str(gate.targets))\n",
    "for cycle in cycle_list:\n",
    "    print(cycle)"
   ]
  },
  {
   "cell_type": "markdown",
   "id": "e6d3939a",
   "metadata": {},
   "source": [
    "We can also schedule the gate follows the rule \"as late as possible\""
   ]
  },
  {
   "cell_type": "code",
   "execution_count": null,
   "id": "ded51c62",
   "metadata": {},
   "outputs": [],
   "source": [
    "scheduler = Scheduler(\"ALAP\")  # schedule as late as possible\n",
    "scheduled_time = scheduler.schedule(circuit)\n",
    "cycle_list = [[] for i in range(max(scheduled_time) + 1)]\n",
    "for i, time in enumerate(scheduled_time):\n",
    "    gate = circuit.gates[i]\n",
    "    cycle_list[time].append(gate.name + str(gate.targets))\n",
    "for cycle in cycle_list:\n",
    "    print(cycle)"
   ]
  },
  {
   "cell_type": "markdown",
   "id": "d366a48f",
   "metadata": {},
   "source": [
    "The only difference is that the \"iSWAP\" gate and the X gate on qubit 2 are shifted by one cycle. "
   ]
  },
  {
   "cell_type": "markdown",
   "id": "d0f65cad",
   "metadata": {},
   "source": [
    "## Instruction/Pulse schedule\n",
    "Often different quantum gates will have different execution time. To consider this, we define a list of quantum instructions, where X gate has the execution time 1 while the iSWAP gate takes the time 3.5"
   ]
  },
  {
   "cell_type": "code",
   "execution_count": null,
   "id": "b6b11ca6",
   "metadata": {},
   "outputs": [],
   "source": [
    "scheduler = Scheduler(\"ASAP\")\n",
    "instructions = []\n",
    "\n",
    "for gate in circuit.gates:\n",
    "    if gate.name in (\"X\"):\n",
    "        duration = 1\n",
    "    elif gate.name == \"ISWAP\":\n",
    "        duration = 3.5\n",
    "    instruction = Instruction(gate, duration=duration)\n",
    "    instructions.append(instruction)\n",
    "scheduler.schedule(instructions)"
   ]
  },
  {
   "cell_type": "markdown",
   "id": "4a5aeed4",
   "metadata": {},
   "source": [
    "The scheduled execution time for each gate can no longer be assigned to gate cycles. But we can see this through the [noisy circuit simulator](https://qutip-qip.readthedocs.io/en/stable/qip-processor.html) of qutip, where the circuit is compiled to control signals: (Notice that the execution time follows the hardware parameter of spin chain and the Y gate is decomposed into a Z-X-Z rotation)."
   ]
  },
  {
   "cell_type": "code",
   "execution_count": null,
   "id": "3c729169",
   "metadata": {},
   "outputs": [],
   "source": [
    "device = LinearSpinChain(3)\n",
    "device.load_circuit(\n",
    "    circuit, \"ASAP\"\n",
    ")  # The circuit are compiled to instructions and scheduled.\n",
    "device.plot_pulses();"
   ]
  },
  {
   "cell_type": "markdown",
   "id": "5a66b835",
   "metadata": {},
   "source": [
    "The green and orange pulses represent rotations along the X and Z axis. The green pulse is the iSWAP gate, which is executed simultaneously with a few other single-qubit rotations on qubit 0."
   ]
  },
  {
   "cell_type": "markdown",
   "id": "d8c9e756",
   "metadata": {},
   "source": [
    "## Considering commuting gates\n",
    "We consider the following circuit:"
   ]
  },
  {
   "cell_type": "code",
   "execution_count": null,
   "id": "92816e9e",
   "metadata": {},
   "outputs": [],
   "source": [
    "circuit = QubitCircuit(3)\n",
    "circuit.add_gate(\"SNOT\", 0)\n",
    "circuit.add_gate(\"CNOT\", 1, 0)\n",
    "circuit.add_gate(\"CNOT\", 2, 0)\n",
    "circuit.add_gate(\"SNOT\", 2)\n",
    "circuit"
   ]
  },
  {
   "cell_type": "markdown",
   "id": "5b737106",
   "metadata": {},
   "source": [
    "At first sight, it might look like no gates can be run in parallel. However, the two CNOT gates actually commute and if we permute them, we can run one CNOT together with the last Hadamard gate."
   ]
  },
  {
   "cell_type": "code",
   "execution_count": null,
   "id": "fc158729",
   "metadata": {},
   "outputs": [],
   "source": [
    "scheduler = Scheduler(\"ALAP\")\n",
    "scheduled_time = scheduler.schedule(circuit)\n",
    "\n",
    "cycle_list = [[] for i in range(max(scheduled_time) + 1)]\n",
    "for i, time in enumerate(scheduled_time):\n",
    "    gate = circuit.gates[i]\n",
    "    cycle_list[time].append(gate.name + str(gate.targets))\n",
    "for cycle in cycle_list:\n",
    "    print(cycle)"
   ]
  },
  {
   "cell_type": "markdown",
   "id": "8f4f0670",
   "metadata": {},
   "source": [
    "## Random shuffle\n",
    "The scheduling algorithm is heuristic and hence cannot always find the optimal result. Therefore randomness can be added to the scheduling process by the parameters `random_shuffle` and `repeat_num`."
   ]
  },
  {
   "cell_type": "code",
   "execution_count": null,
   "id": "69b1b11a",
   "metadata": {},
   "outputs": [],
   "source": [
    "about()"
   ]
  }
 ],
 "metadata": {
  "jupytext": {
   "cell_metadata_filter": "-all",
   "notebook_metadata_filter": "-jupytext.cell_metadata_filter,-jupytext.notebook_metadata_filter"
  },
  "kernelspec": {
   "display_name": "Python 3 (ipykernel)",
   "language": "python",
   "name": "python3"
  }
 },
 "nbformat": 4,
 "nbformat_minor": 5
}
