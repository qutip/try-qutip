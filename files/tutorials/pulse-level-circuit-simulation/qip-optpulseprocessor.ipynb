{
 "cells": [
  {
   "cell_type": "markdown",
   "id": "17c4149d",
   "metadata": {},
   "source": [
    "# Examples for OptPulseProcessor"
   ]
  },
  {
   "cell_type": "markdown",
   "id": "cc2e2aca",
   "metadata": {},
   "source": [
    "Author: Boxi Li (etamin1201@gmail.com)"
   ]
  },
  {
   "cell_type": "code",
   "execution_count": null,
   "id": "56c8c64c",
   "metadata": {},
   "outputs": [],
   "source": [
    "from numpy import pi\n",
    "from qutip import basis, fidelity, identity, sigmax, sigmaz, tensor\n",
    "from qutip_qip.circuit import QubitCircuit\n",
    "from qutip_qip.device import OptPulseProcessor\n",
    "from qutip_qip.operations import expand_operator, toffoli\n",
    "from qutip.ipynbtools import version_table\n",
    "import qutip_qip"
   ]
  },
  {
   "cell_type": "markdown",
   "id": "cf4cc899",
   "metadata": {},
   "source": [
    "The `qutip.OptPulseProcessor` is a noisy quantum device simulator integrated with the optimal pulse algorithm from the `qutip.control` module. It is a subclass of `qutip.Processor` and is equipped with a method to find the optimal pulse sequence (hence the name `OptPulseProcessor`) for a `qutip.QubitCircuit` or a list of `qutip.Qobj`. For the user guide of `qutip.Processor`, please refer to [the introductory guide](https://qutip-qip.readthedocs.io/en/stable/qip-processor.html).\n",
    "\n",
    "## Single-qubit gate\n",
    "Like in the parent class `Processor`, we need to first define the available Hamiltonians in the system. The `OptPulseProcessor` has one more parameter, the drift Hamiltonian, which has no time-dependent coefficients and thus won't be optimized."
   ]
  },
  {
   "cell_type": "code",
   "execution_count": null,
   "id": "ff3d5325",
   "metadata": {},
   "outputs": [],
   "source": [
    "num_qubits = 1\n",
    "# Drift Hamiltonian\n",
    "H_d = sigmaz()\n",
    "# The (single) control Hamiltonian\n",
    "H_c = sigmax()\n",
    "processor = OptPulseProcessor(num_qubits, drift=H_d)\n",
    "processor.add_control(H_c, 0)"
   ]
  },
  {
   "cell_type": "markdown",
   "id": "52fa43f1",
   "metadata": {},
   "source": [
    "The method `load_circuit` calls `qutip.control.optimize_pulse_unitary` and returns the pulse coefficients."
   ]
  },
  {
   "cell_type": "code",
   "execution_count": null,
   "id": "2f5909f7",
   "metadata": {},
   "outputs": [],
   "source": [
    "qc = QubitCircuit(num_qubits)\n",
    "qc.add_gate(\"SNOT\", 0)\n",
    "\n",
    "# This method calls optimize_pulse_unitary\n",
    "tlist, coeffs = processor.load_circuit(\n",
    "    qc, min_grad=1e-20, init_pulse_type=\"RND\", num_tslots=6,\n",
    "    evo_time=1, verbose=True\n",
    ")\n",
    "processor.plot_pulses(\n",
    "    title=\"Control pulse for the Hadamard gate\", use_control_latex=False\n",
    ");"
   ]
  },
  {
   "cell_type": "markdown",
   "id": "49b0f707",
   "metadata": {},
   "source": [
    "Like the `Processor`, the simulation is calculated with a QuTiP solver. The method `run_state` calls `mesolve` and returns the result. One can also add noise to observe the change in the fidelity, e.g. the t1 decoherence time."
   ]
  },
  {
   "cell_type": "code",
   "execution_count": null,
   "id": "00d98227",
   "metadata": {},
   "outputs": [],
   "source": [
    "rho0 = basis(2, 1)\n",
    "plus = (basis(2, 0) + basis(2, 1)).unit()\n",
    "minus = (basis(2, 0) - basis(2, 1)).unit()\n",
    "result = processor.run_state(init_state=rho0)\n",
    "print(\"Fidelity:\", fidelity(result.states[-1], minus))\n",
    "\n",
    "# add noise\n",
    "processor.t1 = 40.0\n",
    "result = processor.run_state(init_state=rho0)\n",
    "print(\"Fidelity with qubit relaxation:\", fidelity(result.states[-1], minus))"
   ]
  },
  {
   "cell_type": "markdown",
   "id": "29c24873",
   "metadata": {},
   "source": [
    "## Multi-qubit gate"
   ]
  },
  {
   "cell_type": "markdown",
   "id": "4083e2f4",
   "metadata": {},
   "source": [
    "In the following example, we use `OptPulseProcessor` to find the optimal control pulse of a multi-qubit circuit. For simplicity, the circuit contains only one Toffoli gate."
   ]
  },
  {
   "cell_type": "code",
   "execution_count": null,
   "id": "1d0a49be",
   "metadata": {},
   "outputs": [],
   "source": [
    "toffoli()"
   ]
  },
  {
   "cell_type": "markdown",
   "id": "5b544a4f",
   "metadata": {},
   "source": [
    "We have single-qubit control $\\sigma_x$ and $\\sigma_z$, with the argument `cyclic_permutation=True`, it creates 3 operators each targeted on one qubit."
   ]
  },
  {
   "cell_type": "code",
   "execution_count": null,
   "id": "39074f3c",
   "metadata": {},
   "outputs": [],
   "source": [
    "N = 3\n",
    "H_d = tensor([identity(2)] * 3)\n",
    "test_processor = OptPulseProcessor(N, H_d)\n",
    "test_processor.add_control(sigmaz(), cyclic_permutation=True)\n",
    "test_processor.add_control(sigmax(), cyclic_permutation=True)"
   ]
  },
  {
   "cell_type": "markdown",
   "id": "03d9c1f1",
   "metadata": {},
   "source": [
    "The interaction is generated by $\\sigma_x\\sigma_x$ between the qubit 0 & 1 and qubit 1 & 2. `expand_operator` can be used to expand the operator to a larger dimension with given target qubits."
   ]
  },
  {
   "cell_type": "code",
   "execution_count": null,
   "id": "d8f26d60",
   "metadata": {},
   "outputs": [],
   "source": [
    "sxsx = tensor([sigmax(), sigmax()])\n",
    "sxsx01 = expand_operator(sxsx, 3, targets=[0, 1])\n",
    "sxsx12 = expand_operator(sxsx, 3, targets=[1, 2])\n",
    "test_processor.add_control(sxsx01)\n",
    "test_processor.add_control(sxsx12)"
   ]
  },
  {
   "cell_type": "markdown",
   "id": "7113fdd4",
   "metadata": {},
   "source": [
    "Use the above defined control Hamiltonians, we now find the optimal pulse for the Toffoli gate with 6 time slots. Instead of a `QubitCircuit`, a list of operators can also be given as an input."
   ]
  },
  {
   "cell_type": "code",
   "execution_count": null,
   "id": "8bf7c108",
   "metadata": {},
   "outputs": [],
   "source": [
    "def get_control_latex():\n",
    "    \"\"\"\n",
    "    Get the labels for each Hamiltonian.\n",
    "    It is used in the method``plot_pulses``.\n",
    "    It is a 2-d nested list, in the plot,\n",
    "    a different color will be used for each sublist.\n",
    "    \"\"\"\n",
    "    return [\n",
    "        [r\"$\\sigma_z^%d$\" % n for n in range(test_processor.num_qubits)],\n",
    "        [r\"$\\sigma_x^%d$\" % n for n in range(test_processor.num_qubits)],\n",
    "        [r\"$g_01$\", r\"$g_12$\"],\n",
    "    ]\n",
    "\n",
    "\n",
    "test_processor.model.get_control_latex = get_control_latex"
   ]
  },
  {
   "cell_type": "code",
   "execution_count": null,
   "id": "0924a9ef",
   "metadata": {},
   "outputs": [],
   "source": [
    "test_processor.dims = [2, 2, 2]"
   ]
  },
  {
   "cell_type": "code",
   "execution_count": null,
   "id": "af682311",
   "metadata": {},
   "outputs": [],
   "source": [
    "test_processor.load_circuit([toffoli()], num_tslots=6,\n",
    "                            evo_time=1, verbose=True)\n",
    "\n",
    "test_processor.plot_pulses(title=\"Contorl pulse for toffoli gate\");"
   ]
  },
  {
   "cell_type": "markdown",
   "id": "8dabc8b9",
   "metadata": {},
   "source": [
    "## Merging a quantum circuit\n",
    "If there are multiple gates in the circuit, we can choose if we want to first merge them and then find the pulse for the merged unitary."
   ]
  },
  {
   "cell_type": "code",
   "execution_count": null,
   "id": "3e25c710",
   "metadata": {},
   "outputs": [],
   "source": [
    "qc = QubitCircuit(3)\n",
    "qc.add_gate(\"CNOT\", controls=0, targets=2)\n",
    "qc.add_gate(\"RX\", targets=2, arg_value=pi / 4)\n",
    "qc.add_gate(\"RY\", targets=1, arg_value=pi / 8)"
   ]
  },
  {
   "cell_type": "code",
   "execution_count": null,
   "id": "310c84cf",
   "metadata": {},
   "outputs": [],
   "source": [
    "setting_args = {\n",
    "    \"CNOT\": {\"num_tslots\": 20, \"evo_time\": 3},\n",
    "    \"RX\": {\"num_tslots\": 2, \"evo_time\": 1},\n",
    "    \"RY\": {\"num_tslots\": 2, \"evo_time\": 1},\n",
    "}\n",
    "\n",
    "test_processor.load_circuit(\n",
    "    qc, merge_gates=False, setting_args=setting_args, verbose=True\n",
    ")\n",
    "fig, axes = test_processor.plot_pulses(\n",
    "    title=\"Control pulse for a each gate in the circuit\", show_axis=True\n",
    ")\n",
    "axes[-1].set_xlabel(\"time\");"
   ]
  },
  {
   "cell_type": "markdown",
   "id": "3e55cb63",
   "metadata": {},
   "source": [
    "In the above figure, the pulses from $t=0$ to $t=3$ are for the CNOT gate while the rest for are the two single qubits gates. The difference in the frequency of change is merely a result of our choice of `evo_time`. Here we can see that the three gates are carried out in sequence."
   ]
  },
  {
   "cell_type": "code",
   "execution_count": null,
   "id": "26337704",
   "metadata": {},
   "outputs": [],
   "source": [
    "qc = QubitCircuit(3)\n",
    "qc.add_gate(\"CNOT\", controls=0, targets=2)\n",
    "qc.add_gate(\"RX\", targets=2, arg_value=pi / 4)\n",
    "qc.add_gate(\"RY\", targets=1, arg_value=pi / 8)\n",
    "test_processor.load_circuit(\n",
    "    qc, merge_gates=True, verbose=True, num_tslots=20, evo_time=5\n",
    ")\n",
    "test_processor.plot_pulses(title=\"Control pulse for a \\\n",
    "                           merged unitary evolution\");"
   ]
  },
  {
   "cell_type": "markdown",
   "id": "0ea2bdae",
   "metadata": {},
   "source": [
    "In this figure there are no different stages, the three gates are first merged and then the algorithm finds the optimal pulse for the resulting unitary evolution."
   ]
  },
  {
   "cell_type": "code",
   "execution_count": null,
   "id": "7236d0b3",
   "metadata": {},
   "outputs": [],
   "source": [
    "print(\"qutip-qip version:\", qutip_qip.version.version)\n",
    "version_table()"
   ]
  }
 ],
 "metadata": {
  "jupytext": {
   "cell_metadata_filter": "-all",
   "notebook_metadata_filter": "-jupytext.cell_metadata_filter,-jupytext.notebook_metadata_filter"
  },
  "kernelspec": {
   "display_name": "Python 3 (ipykernel)",
   "language": "python",
   "name": "python3"
  }
 },
 "nbformat": 4,
 "nbformat_minor": 5
}
